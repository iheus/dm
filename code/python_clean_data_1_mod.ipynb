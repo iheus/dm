{
 "cells": [
  {
   "cell_type": "markdown",
   "metadata": {
    "slideshow": {
     "slide_type": "slide"
    }
   },
   "source": [
    "# Cleaning Data using Python\n",
    "By Shuhei Kitamura"
   ]
  },
  {
   "cell_type": "markdown",
   "metadata": {
    "slideshow": {
     "slide_type": "slide"
    }
   },
   "source": [
    "**Research Question**: Is there any relationship between Election-Day temperature and electoral outcomes?\n",
    "\n",
    "- To examine the question, we need to:\n",
    "    - Obtain data or create data by yourself\n",
    "    - Clean data\n",
    "- In this course, we use two datasets\n",
    "    - [Senate election results](https://transition.fec.gov/pubrec/electionresults.shtml) in the United States\n",
    "    - [Daily temperature](https://aqs.epa.gov/aqsweb/airdata/download_files.html)\n",
    "- We start by cleaning the datasets."
   ]
  },
  {
   "cell_type": "markdown",
   "metadata": {
    "slideshow": {
     "slide_type": "slide"
    }
   },
   "source": [
    "### Outline<a id='top'></a>\n",
    "1. [Importing Data](#sec1)\n",
    "2. [Treating Missing Values](#sec2)\n",
    "3. [Selecting Columns](#sec3)\n",
    "4. [Selecting Rows](#sec4)\n",
    "5. [Treating Other Values](#sec5)\n",
    "6. [Saving Data](#sec6)"
   ]
  },
  {
   "cell_type": "code",
   "execution_count": 2,
   "metadata": {
    "slideshow": {
     "slide_type": "subslide"
    }
   },
   "outputs": [],
   "source": [
    "# import packages and modules\n",
    "import os\n",
    "import pandas as pd\n",
    "import numpy as np"
   ]
  },
  {
   "cell_type": "code",
   "execution_count": 3,
   "metadata": {
    "slideshow": {
     "slide_type": "-"
    }
   },
   "outputs": [],
   "source": [
    "# set the display options (not necessary)\n",
    "pd.options.display.max_rows = 200 # set the max number of rows to display \n",
    "pd.options.display.max_columns = 100 # set the max number of columns to display "
   ]
  },
  {
   "cell_type": "code",
   "execution_count": 4,
   "metadata": {
    "slideshow": {
     "slide_type": "-"
    }
   },
   "outputs": [],
   "source": [
    "# set the working directory (if necessary)\n",
    "os.chdir('D:\\Dropbox\\Git repo\\dm2020\\data') # replace '...' with the location of the working directory"
   ]
  },
  {
   "cell_type": "markdown",
   "metadata": {
    "slideshow": {
     "slide_type": "slide"
    }
   },
   "source": [
    "## 1. Importing Data<a id='sec1'></a>\n",
    "- Data are saved in different formats. Typical file extensions are: tsv, csv, and xlsx (xls).\n",
    "- The way you import data depends on the format of the data file.\n",
    "- For tsv (tab separated data) files, use `pd.read_table()` or `pd.read_csv()`.\n",
    "    - Make sure to include `delimiter='\\t'` optin if you use `pd.read_csv()`. \n",
    "- For csv (comma separated data) files, use `pd.read_table()` or `pd.read_csv()`.\n",
    "    - Make sure to include `sep=','` option if you use `pd.read_table()`.\n",
    "- For excel files, use `pd.read_excel()`.\n",
    "- Datasets\n",
    "    - `elec_senate.xlsx`: US Senate general election results 2008-2014\n",
    "    - `daily_TEMP_XXXX.csv`: US temperature 2008-2014\n",
    "\n",
    "[back to top](#top)"
   ]
  },
  {
   "cell_type": "code",
   "execution_count": 5,
   "metadata": {
    "slideshow": {
     "slide_type": "subslide"
    }
   },
   "outputs": [],
   "source": [
    "elec_data = {} # make an empty dictionary\n",
    "temp_data = {}\n",
    "for year in range(2008,2016,2):\n",
    "    elec_data[str(year)] = pd.read_excel('elec_senate.xlsx', sheet_name=str(year)) # add each dataset to the dictionary\n",
    "    temp_data[str(year)] = pd.read_csv('daily_TEMP_'+str(year)+'.csv')"
   ]
  },
  {
   "cell_type": "markdown",
   "metadata": {
    "slideshow": {
     "slide_type": "subslide"
    }
   },
   "source": [
    "### Checking data entries\n",
    "- The very first thing to do after importing data is to check the content of the data.\n",
    "- To see data entries, use `object.head(#)` or `object.tail(#)`.\n",
    "    - To print the list of columns, use `object.columns`.\n",
    "    - To print the list of indices, use `object.index`. To print them, convert the outcome into a list using `list()`."
   ]
  },
  {
   "cell_type": "code",
   "execution_count": null,
   "metadata": {
    "slideshow": {
     "slide_type": "-"
    }
   },
   "outputs": [],
   "source": [
    "elec_data['2008']"
   ]
  },
  {
   "cell_type": "markdown",
   "metadata": {
    "slideshow": {
     "slide_type": "subslide"
    }
   },
   "source": [
    "- Next, check column names and indices are unique and non-missing.\n",
    "    - To check the uniqueness, use `object.is_unique`.\n",
    "    - To check the non-missingness, use `object.isna().any()`.\n",
    "        - `isna()` returns `True` if an item is missing. `any()` applies this method to all items.\n",
    "- Check that columns and indices are unique and non-missing in `elec_data['2008']`."
   ]
  },
  {
   "cell_type": "code",
   "execution_count": null,
   "metadata": {
    "slideshow": {
     "slide_type": "-"
    }
   },
   "outputs": [],
   "source": [
    "elec_data['2008']"
   ]
  },
  {
   "cell_type": "markdown",
   "metadata": {
    "slideshow": {
     "slide_type": "subslide"
    }
   },
   "source": [
    "- To check the types of each items, use `object.dtypes`.\n",
    "    - If you want to specify the type while importing data, write like `dtype={'column1':np.float64, 'column2':str}`, etc.\n",
    "- Run the following code. Then, add `dtype={'elec_year':str}` in `pd.read_excel()` above and run the same code. What did you find?"
   ]
  },
  {
   "cell_type": "code",
   "execution_count": null,
   "metadata": {
    "slideshow": {
     "slide_type": "-"
    }
   },
   "outputs": [],
   "source": [
    "print(type(elec_data['2008'].elec_year)) # type of a column (variable)\n",
    "print(type(elec_data['2008'].elec_year[0])) # type of an item in the same column\n",
    "print(type(elec_data['2008'].gelec_dem[0]))"
   ]
  },
  {
   "cell_type": "markdown",
   "metadata": {
    "slideshow": {
     "slide_type": "subslide"
    }
   },
   "source": [
    "- To get the summary statistics of the data, use `object.describe()`."
   ]
  },
  {
   "cell_type": "code",
   "execution_count": null,
   "metadata": {
    "slideshow": {
     "slide_type": "-"
    }
   },
   "outputs": [],
   "source": [
    "elec_data['2008'].describe()"
   ]
  },
  {
   "cell_type": "markdown",
   "metadata": {
    "slideshow": {
     "slide_type": "slide"
    }
   },
   "source": [
    "## 2. Treating Missing Values<a id='sec2'></a>\n",
    "- Print `elec_data['2008']`. Why some values are missing?\n",
    "- There are several strategies to handle missing data:\n",
    "    - 1. Drop them\n",
    "    - 2. Replace it with a sentinel value (e.g., -999)\n",
    "    - 3. Do nothing (decide later)\n",
    "\n",
    "[back to top](#top)"
   ]
  },
  {
   "cell_type": "code",
   "execution_count": null,
   "metadata": {
    "slideshow": {
     "slide_type": "-"
    }
   },
   "outputs": [],
   "source": [
    "elec_data['2008']"
   ]
  },
  {
   "cell_type": "markdown",
   "metadata": {
    "slideshow": {
     "slide_type": "subslide"
    }
   },
   "source": [
    "### What are missing values in Python? \n",
    "- There are two (three) types.\n",
    "    - `None`: The absence of a value.\n",
    "    - `NaN` (Not a Number): A missing floating-point number.\n",
    "    - (`inf`: an infinite number.)\n",
    "- Print series in the below example.\n",
    "    - Observe that `None` appears as either `None` or `NaN`.\n",
    "- `series1` and `series3` look the same, but check if they actually are using `is` and `==`.\n",
    "- What happens if you aggregate all items in each series?\n",
    "    - Try all serieses. Also, try both `np.sum()` and `sum()`. What did you get?"
   ]
  },
  {
   "cell_type": "code",
   "execution_count": null,
   "metadata": {
    "slideshow": {
     "slide_type": "subslide"
    }
   },
   "outputs": [],
   "source": [
    "series1 = pd.Series([1, 2, 3, None])\n",
    "series2 = pd.Series([1, 2, 3, None], dtype=object) \n",
    "series3 = pd.Series([1, 2, 3, np.nan])\n",
    "series4 = pd.Series([1, 2, 3, np.inf])\n",
    "print(series1); print(series2); print(series3); print(series4)"
   ]
  },
  {
   "cell_type": "markdown",
   "metadata": {
    "slideshow": {
     "slide_type": "subslide"
    }
   },
   "source": [
    "### Handling missing values\n",
    "- Useful methods:\n",
    "    - For checking: `object.isna()`, `object.notna()`\n",
    "        - You can combine them with `.any()` or `.all()`, e.g. `object.isna().any()`.\n",
    "    - For deleting: `object.dropna()`. You need to define a new object to reflect the changes.\n",
    "    - For replacing: `object.fillna()`.  You need to define a new object to reflect the changes.\n",
    "- Check and replace all missing values with zeros in `series1`.\n",
    "- Drop missing values in `df1`.\n",
    "    - Try `object.dropna(how='all', axis='columns')`, `object.dropna(how='all', axis='rows')`, and `object.dropna(how='any', axis='rows')`. What did you find?"
   ]
  },
  {
   "cell_type": "code",
   "execution_count": null,
   "metadata": {
    "slideshow": {
     "slide_type": "subslide"
    }
   },
   "outputs": [],
   "source": [
    "series1 = pd.Series([1.0, np.nan, 3.0, None])\n",
    "df1 = pd.DataFrame([[1.0, np.nan, 3.0],[4.0, 5.0, None],[7.0, 8.0, 9.0],[np.nan, np.nan, np.nan]])\n",
    "print(series1); print(df1)"
   ]
  },
  {
   "cell_type": "markdown",
   "metadata": {
    "slideshow": {
     "slide_type": "subslide"
    }
   },
   "source": [
    "- Alternatively, you can use `object.notna()` instead of `object.dropna()` for subsetting.\n",
    "    - However, this technique does not always work.\n",
    "- Run the following code. Try the same thing for `df1`. What did you find?"
   ]
  },
  {
   "cell_type": "code",
   "execution_count": null,
   "metadata": {
    "slideshow": {
     "slide_type": "-"
    }
   },
   "outputs": [],
   "source": [
    "series1 = pd.Series([1.0, np.nan, 3.0, None])\n",
    "df1 = pd.DataFrame([[1.0, np.nan, 3.0],[4.0, 5.0, None],[7.0, 8.0, 9.0],[np.nan, np.nan, np.nan]])\n",
    "print(series1)\n",
    "series1 = series1[series1.notna()]\n",
    "print(series1)"
   ]
  },
  {
   "cell_type": "markdown",
   "metadata": {
    "slideshow": {
     "slide_type": "slide"
    }
   },
   "source": [
    "## 3. Selecting Columns<a id='sec3'></a>\n",
    "- Data may contain some redundant columns that will never be used in any analysis. We will drop such columns to reduce the data size.\n",
    "- Candidates:\n",
    "    1. A column whose values are all missing\n",
    "    2. A column whose information is not important\n",
    "- You should be very careful about selecting columns.\n",
    "    - You may not use those columns in the current project but may use them in another project.\n",
    "- Let's check `elec_data['2008']`.\n",
    "\n",
    "[back to top](#top)"
   ]
  },
  {
   "cell_type": "code",
   "execution_count": null,
   "metadata": {
    "slideshow": {
     "slide_type": "-"
    }
   },
   "outputs": [],
   "source": [
    "elec_data['2008']"
   ]
  },
  {
   "cell_type": "markdown",
   "metadata": {
    "slideshow": {
     "slide_type": "subslide"
    }
   },
   "source": [
    "- All columns look good. What about `temp_data['2008']`?"
   ]
  },
  {
   "cell_type": "code",
   "execution_count": null,
   "metadata": {
    "slideshow": {
     "slide_type": "subslide"
    }
   },
   "outputs": [],
   "source": [
    "temp_data['2010']"
   ]
  },
  {
   "cell_type": "markdown",
   "metadata": {
    "slideshow": {
     "slide_type": "subslide"
    }
   },
   "source": [
    "- Let's drop `'Parameter Name'`, `'Sample Duration'`, `'Pollutant Standard'`, `'Units of Measure'`, and `'AQI'`.\n",
    "- First, remove columns that are all missing."
   ]
  },
  {
   "cell_type": "code",
   "execution_count": null,
   "metadata": {
    "slideshow": {
     "slide_type": "-"
    }
   },
   "outputs": [],
   "source": [
    "for year in range(2008,2016,2):\n",
    "    temp_data[str(year)+'_keep'] = temp_data[str(year)].dropna(how='all', axis='columns')"
   ]
  },
  {
   "cell_type": "markdown",
   "metadata": {
    "slideshow": {
     "slide_type": "subslide"
    }
   },
   "source": [
    "- Next, drop the remaining columns."
   ]
  },
  {
   "cell_type": "code",
   "execution_count": null,
   "metadata": {
    "slideshow": {
     "slide_type": "-"
    }
   },
   "outputs": [],
   "source": [
    "for year in range(2008,2016,2):\n",
    "    temp_data[str(year)+'_keep'] = temp_data[str(year)+'_keep'].drop(['Parameter Name', 'Sample Duration', 'Units of Measure'], axis=1)"
   ]
  },
  {
   "cell_type": "markdown",
   "metadata": {
    "slideshow": {
     "slide_type": "subslide"
    }
   },
   "source": [
    "### Changing column names\n",
    "- If column names use uppercases and space(s), are very long, or are written in any other non-generic format, we need to change them.\n",
    "- Check the column names in `temp_data['2008_keep']`."
   ]
  },
  {
   "cell_type": "code",
   "execution_count": null,
   "metadata": {
    "slideshow": {
     "slide_type": "-"
    }
   },
   "outputs": [],
   "source": [
    "temp_data['2008_keep'].columns"
   ]
  },
  {
   "cell_type": "markdown",
   "metadata": {
    "slideshow": {
     "slide_type": "subslide"
    }
   },
   "source": [
    "- I suggest that we (a) replace spaces with underscores and (b) change uppercases to lowercases.\n",
    "    - To replace spaces with underscores, you can use `str.replace(' ', '_')`.\n",
    "    - To change to lowercases, you can use `object.lower()`. If you want to use uppercases, use `object.upper()`. If you want to capitalize column names, use `object.capitalize()`.\n",
    "- Run the following code and check the column names in `temp_data['2008_keep']`."
   ]
  },
  {
   "cell_type": "code",
   "execution_count": null,
   "metadata": {
    "slideshow": {
     "slide_type": "-"
    }
   },
   "outputs": [],
   "source": [
    "for year in range(2008,2016,2):\n",
    "    temp_data[str(year)+'_keep'].columns = temp_data[str(year)+'_keep'].columns.str.replace(' ', '_') # .str returns strings. replace(a, b) changes a to b\n",
    "    temp_data[str(year)+'_keep'].columns = [x.lower() for x in temp_data[str(year)+'_keep'].columns] # x.lower changes x to lowercases\n",
    "print(temp_data['2008_keep'].columns)"
   ]
  },
  {
   "cell_type": "markdown",
   "metadata": {
    "slideshow": {
     "slide_type": "slide"
    }
   },
   "source": [
    "## 4. Selecting Rows<a id='sec4'></a>\n",
    "- Next, let's move on to rows.\n",
    "- We need to decide which rows to keep in the final data.\n",
    "- Candidates:\n",
    "    - Rows that have missing values for important variables such as id\n",
    "    - Multiple rows per unit of observation\n",
    "\n",
    "[back to top](#top)"
   ]
  },
  {
   "cell_type": "markdown",
   "metadata": {
    "slideshow": {
     "slide_type": "subslide"
    }
   },
   "source": [
    "- First, let's look at `elec_data['2008']` again. Recall that all election results are missing for some rows."
   ]
  },
  {
   "cell_type": "code",
   "execution_count": null,
   "metadata": {
    "slideshow": {
     "slide_type": "-"
    }
   },
   "outputs": [],
   "source": [
    "elec_data['2008']"
   ]
  },
  {
   "cell_type": "markdown",
   "metadata": {
    "slideshow": {
     "slide_type": "subslide"
    }
   },
   "source": [
    "- Let's drop such rows.\n",
    "- Run the following code.\n",
    "    - The `subset` option implies that you apply `object.dropna()` only for those columns."
   ]
  },
  {
   "cell_type": "code",
   "execution_count": null,
   "metadata": {
    "slideshow": {
     "slide_type": "-"
    }
   },
   "outputs": [],
   "source": [
    "for year in range(2008,2016,2):\n",
    "    elec_data[str(year)+'_keep'] = elec_data[str(year)].dropna(how='all', subset=['gelec_dem', 'gelec_rep', 'gelec_oth'])\n",
    "elec_data['2008_keep']"
   ]
  },
  {
   "cell_type": "markdown",
   "metadata": {
    "slideshow": {
     "slide_type": "subslide"
    }
   },
   "source": [
    "- Next, print `'date_local'` column for `\"New York\"` using `'state_name'` in `temp_data['2008_keep']`.\n",
    "    - What does this column mean?\n",
    "    - Should we drop all the dates that are not needed for the analysis? Election Days are:\n",
    "        - November 4th, 2008, November 2nd, 2010, November 6th, 2012, November 8th, 2014"
   ]
  },
  {
   "cell_type": "code",
   "execution_count": null,
   "metadata": {
    "slideshow": {
     "slide_type": "-"
    }
   },
   "outputs": [],
   "source": [
    "temp_data['2008_keep'].loc[temp_data['2008_keep'].state_name == \"New York\", 'date_local'] "
   ]
  },
  {
   "cell_type": "markdown",
   "metadata": {
    "slideshow": {
     "slide_type": "subslide"
    }
   },
   "source": [
    "- I suggest we keep all dates. \n",
    "    - The reason: We may use daily temperature on non-election days as well.\n",
    "- Next, print `temp_data['2008_keep']` for `\"New York\"` and `\"2008-11-04\"`, i.e., Election Day.\n",
    "    - Why are there multiple entries?"
   ]
  },
  {
   "cell_type": "code",
   "execution_count": null,
   "metadata": {
    "slideshow": {
     "slide_type": "-"
    }
   },
   "outputs": [],
   "source": [
    "temp_data['2008_keep'].loc[(temp_data['2008_keep'].state_name == \"New York\") & (temp_data['2008_keep'].date_local == \"2008-11-04\"), ]"
   ]
  },
  {
   "cell_type": "markdown",
   "metadata": {
    "slideshow": {
     "slide_type": "subslide"
    }
   },
   "source": [
    "- What should we do? There are several options. What are the pros and cons of each method?\n",
    "    - 1. Aggregate data\n",
    "    - 2. Reshape data\n",
    "    - 3. Delete some observations\n",
    "    - 4. Do nothing (decide later)"
   ]
  },
  {
   "cell_type": "markdown",
   "metadata": {
    "slideshow": {
     "slide_type": "subslide"
    }
   },
   "source": [
    "- There is no right answer!\n",
    "- Let's take the fourth option for now. Two reasons: \n",
    "    - There is no point of losing rich information in data (regarding 1 and 3). \n",
    "    - There will be many missing values if we reshape them (regarding 2)."
   ]
  },
  {
   "cell_type": "markdown",
   "metadata": {
    "slideshow": {
     "slide_type": "slide"
    }
   },
   "source": [
    "## 5. Treating Other Values<a id='sec5'></a>\n",
    "- It could often be the case that you need to modify entries in a dataset \"by hand\".\n",
    "    - Example: Some data entries are incorrect.\n",
    "- The bottom line: Save code for whatever you did for original data, if possible.\n",
    "\n",
    "[back to top](#top)"
   ]
  },
  {
   "cell_type": "markdown",
   "metadata": {
    "slideshow": {
     "slide_type": "slide"
    }
   },
   "source": [
    "## 6. Saving Data<a id='sec6'></a>\n",
    "- You can save data in any format. However, the most preferred one is csv. Why?\n",
    "    - Since csv is just a text file, it can be read in any text editor. Easy to share.\n",
    "    - By contrast, if you do not want to lose information about formatting, macros, etc., it may be better to save it in excel format.\n",
    "- To save data as a csv file, use `mydata.to_csv`.\n",
    "    - Use `mydata.to_excel` for saving in excel format.\n",
    "    \n",
    "[back to top](#top)"
   ]
  },
  {
   "cell_type": "code",
   "execution_count": null,
   "metadata": {
    "slideshow": {
     "slide_type": "-"
    }
   },
   "outputs": [],
   "source": [
    "for year in range(2008,2016,2):\n",
    "    elec_data[str(year)+'_keep'].to_csv('us_senate_'+str(year)+'.csv', index=False)\n",
    "    temp_data[str(year)+'_keep'].to_csv('us_daily_temp_'+str(year)+'.csv', index=False)"
   ]
  }
 ],
 "metadata": {
  "celltoolbar": "Slideshow",
  "kernelspec": {
   "display_name": "Python 3",
   "language": "python",
   "name": "python3"
  },
  "language_info": {
   "codemirror_mode": {
    "name": "ipython",
    "version": 3
   },
   "file_extension": ".py",
   "mimetype": "text/x-python",
   "name": "python",
   "nbconvert_exporter": "python",
   "pygments_lexer": "ipython3",
   "version": "3.8.3"
  }
 },
 "nbformat": 4,
 "nbformat_minor": 2
}
