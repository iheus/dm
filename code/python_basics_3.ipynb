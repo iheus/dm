{
 "cells": [
  {
   "cell_type": "markdown",
   "metadata": {
    "slideshow": {
     "slide_type": "slide"
    }
   },
   "source": [
    "### Outline\n",
    "7. Functions\n",
    "8. Methods\n",
    "9. Modules and Packages"
   ]
  },
  {
   "cell_type": "markdown",
   "metadata": {
    "slideshow": {
     "slide_type": "slide"
    }
   },
   "source": [
    "## 7. Functions\n",
    "- A function returns outputs given inputs. It also accepts options, if available.\n",
    "- Useful built-in functions include: `print()`, `float()`, `int()`, `str()`, `len()`, `max()`, `min()`, `round()`, `sorted()`, etc. \n",
    "    - (Strictly speaking, operators like `float()`, `int()`, and `str()` are not functions. They are called class constructors.)\n",
    "- Some functions are used only for specific types."
   ]
  },
  {
   "cell_type": "markdown",
   "metadata": {
    "slideshow": {
     "slide_type": "subslide"
    }
   },
   "source": [
    "- Compute the lengths of the following objects. Hint: `len()`.\n",
    "- Can you apply the same function for floats and integers? Try it."
   ]
  },
  {
   "cell_type": "code",
   "execution_count": null,
   "metadata": {
    "slideshow": {
     "slide_type": "-"
    }
   },
   "outputs": [],
   "source": [
    "'abc'\n",
    "['a', 'b']\n",
    "{1:'a', 2:'b'}"
   ]
  },
  {
   "cell_type": "markdown",
   "metadata": {
    "slideshow": {
     "slide_type": "subslide"
    }
   },
   "source": [
    "- To see a help file, type `?` before or after a function, or use `help()`.\n",
    "- Try `?round`, `round?`, and `help(round)`."
   ]
  },
  {
   "cell_type": "code",
   "execution_count": null,
   "metadata": {
    "slideshow": {
     "slide_type": "-"
    }
   },
   "outputs": [],
   "source": []
  },
  {
   "cell_type": "markdown",
   "metadata": {
    "slideshow": {
     "slide_type": "subslide"
    }
   },
   "source": [
    "- It returns `round(number[, ndigits]) -> number` and an explanation about the function. \n",
    "    - This means that the input is a number and the output is a rounded number. \n",
    "    - `ndigits` is an option by which you can specify a precision in decimal digits.\n",
    "- For example, `round(1.85,1)` returns the closest float number with one decimal digit, i.e., 1.9. \n",
    "- What about `round(1.84,1)`? Try it."
   ]
  },
  {
   "cell_type": "code",
   "execution_count": null,
   "metadata": {
    "slideshow": {
     "slide_type": "-"
    }
   },
   "outputs": [],
   "source": []
  },
  {
   "cell_type": "markdown",
   "metadata": {
    "slideshow": {
     "slide_type": "subslide"
    }
   },
   "source": [
    "- You can check the source code using `??`, if available.\n",
    "    - Or use `getsource` in the `inspect` package.\n",
    "    - However, both methods do not work for built-in functions.\n",
    "- Check the source code of `square`. Also check the source code of `len`."
   ]
  },
  {
   "cell_type": "code",
   "execution_count": 9,
   "metadata": {
    "slideshow": {
     "slide_type": "-"
    }
   },
   "outputs": [],
   "source": [
    "def square(x):\n",
    "    return x ** 2"
   ]
  },
  {
   "cell_type": "markdown",
   "metadata": {
    "slideshow": {
     "slide_type": "subslide"
    }
   },
   "source": [
    "- You can make a function by yourself.\n",
    "- Print `square(2)` in the below example."
   ]
  },
  {
   "cell_type": "code",
   "execution_count": 64,
   "metadata": {
    "slideshow": {
     "slide_type": "-"
    }
   },
   "outputs": [],
   "source": [
    "def square(x):\n",
    "    print(\"compute the square of\", x)\n",
    "    return x ** 2"
   ]
  },
  {
   "cell_type": "markdown",
   "metadata": {
    "slideshow": {
     "slide_type": "subslide"
    }
   },
   "source": [
    "- You should always include `return`. What happens if you do not include it? Print `square(2)` again."
   ]
  },
  {
   "cell_type": "code",
   "execution_count": 63,
   "metadata": {
    "slideshow": {
     "slide_type": "-"
    }
   },
   "outputs": [],
   "source": [
    "def square(x):\n",
    "    print(\"compute the square of\", x)\n",
    "    x ** 2"
   ]
  },
  {
   "cell_type": "markdown",
   "metadata": {
    "slideshow": {
     "slide_type": "subslide"
    }
   },
   "source": [
    "- Inputs and outputs can be more than one.\n",
    "- Print `mysum(1, 2)`. How can we access each outcome?"
   ]
  },
  {
   "cell_type": "code",
   "execution_count": 62,
   "metadata": {
    "slideshow": {
     "slide_type": "-"
    }
   },
   "outputs": [],
   "source": [
    "def mysum(x, y): # two inputs\n",
    "    print(\"compute the sum of\", x, \"and\", y)\n",
    "    return (x, y, x + y) # three outputs"
   ]
  },
  {
   "cell_type": "markdown",
   "metadata": {
    "slideshow": {
     "slide_type": "subslide"
    }
   },
   "source": [
    "- Alternatively, you can also use a **lambda function**.\n",
    "- Print `mysum(1, 2)`."
   ]
  },
  {
   "cell_type": "code",
   "execution_count": 61,
   "metadata": {
    "slideshow": {
     "slide_type": "-"
    }
   },
   "outputs": [],
   "source": [
    "mysum = lambda x, y: (x, y, x + y)"
   ]
  },
  {
   "cell_type": "markdown",
   "metadata": {
    "slideshow": {
     "slide_type": "subslide"
    }
   },
   "source": [
    "**Exercise (functions)**\n",
    "- 1. Make a function that prints \"Two items are equal.\" if inputs of a list of length two are the same, and \"Two items are not equal.\" otherwise.\n",
    "- 2. Test it using `list1`."
   ]
  },
  {
   "cell_type": "code",
   "execution_count": 66,
   "metadata": {
    "slideshow": {
     "slide_type": "-"
    }
   },
   "outputs": [],
   "source": [
    "list1 = [1, 1.0]"
   ]
  },
  {
   "cell_type": "markdown",
   "metadata": {
    "slideshow": {
     "slide_type": "slide"
    }
   },
   "source": [
    "## 8. Methods\n",
    "- A method is like a function attached to an object. \n",
    "- You write like `object.method()` and it works like a function.\n",
    "- Useful methods include: `index()`, `count()`, `append()`, `remove()`, `reverse()`, `sort()`, `capitalize()`, `upper()`, `replace()`, etc.\n",
    "- Some methods are used only for specific types."
   ]
  },
  {
   "cell_type": "markdown",
   "metadata": {
    "slideshow": {
     "slide_type": "subslide"
    }
   },
   "source": [
    "- Find the index of `'tom'` in `list1`. Hint: `index(item)`.\n",
    "- Reverse the order of `list1`. Hint: `reverse()`.\n",
    "- Sort `list2`. Hint: `sort()`. Can you sort `list1` too?"
   ]
  },
  {
   "cell_type": "code",
   "execution_count": 60,
   "metadata": {
    "slideshow": {
     "slide_type": "-"
    }
   },
   "outputs": [],
   "source": [
    "list1 = ['tom', 1.75, 'jerry', 1.82]\n",
    "list2 = [1, 5, 4, 3, 2]"
   ]
  },
  {
   "cell_type": "markdown",
   "metadata": {
    "slideshow": {
     "slide_type": "subslide"
    }
   },
   "source": [
    "- You can check available methods using `dir()`.\n",
    "- Check available methods for `list1`."
   ]
  },
  {
   "cell_type": "code",
   "execution_count": 59,
   "metadata": {
    "slideshow": {
     "slide_type": "-"
    }
   },
   "outputs": [],
   "source": [
    "list1 = ['tom', 1.75, 'jerry', 1.82]"
   ]
  },
  {
   "cell_type": "markdown",
   "metadata": {
    "slideshow": {
     "slide_type": "subslide"
    }
   },
   "source": [
    "- Alternatively, press the TAB key after writing `object.`."
   ]
  },
  {
   "cell_type": "code",
   "execution_count": null,
   "metadata": {
    "slideshow": {
     "slide_type": "-"
    }
   },
   "outputs": [],
   "source": [
    "'tom'."
   ]
  },
  {
   "cell_type": "markdown",
   "metadata": {
    "slideshow": {
     "slide_type": "subslide"
    }
   },
   "source": [
    "- To see a help file, write `help(object.method)`.\n",
    "    - `?` does not always work.\n",
    "- Try `help('tom'.count)`. How about `?'tom'.count`?"
   ]
  },
  {
   "cell_type": "code",
   "execution_count": null,
   "metadata": {
    "slideshow": {
     "slide_type": "-"
    }
   },
   "outputs": [],
   "source": []
  },
  {
   "cell_type": "markdown",
   "metadata": {
    "slideshow": {
     "slide_type": "slide"
    }
   },
   "source": [
    "## 9. Modules and Packages\n",
    "- You can import useful modules and packages using `import`. \n",
    "    - A module can contain functions, classes, etc.\n",
    "    - A package can contain submodules and subpackages. There are 2,134,644 packages (as of 2019/09/06) in [PyPI](https://pypi.org/).\n",
    "<!-- 1,274,332 packages (as of 2018/04/29) -->\n",
    "- A `,` operator can be used to import multiple modules and packages."
   ]
  },
  {
   "cell_type": "code",
   "execution_count": null,
   "metadata": {
    "slideshow": {
     "slide_type": "-"
    }
   },
   "outputs": [],
   "source": [
    "import math, numpy\n",
    "print(math.radians(45)) # convert degrees to radians\n",
    "print(numpy.radians(45))\n",
    "# Note that math is a module and NumPy is a package."
   ]
  },
  {
   "cell_type": "markdown",
   "metadata": {
    "slideshow": {
     "slide_type": "subslide"
    }
   },
   "source": [
    "- Use `import module/package as myname` to define the name of the module/package as `myname`."
   ]
  },
  {
   "cell_type": "code",
   "execution_count": null,
   "metadata": {
    "slideshow": {
     "slide_type": "-"
    }
   },
   "outputs": [],
   "source": [
    "import math as m, numpy as np\n",
    "print(m.radians(45))\n",
    "print(np.radians(45))"
   ]
  },
  {
   "cell_type": "markdown",
   "metadata": {
    "slideshow": {
     "slide_type": "subslide"
    }
   },
   "source": [
    "- Alternatively, use \n",
    "    - `from module/package import function` to import a specific function\n",
    "    - `from package import module` to import a specific module\n",
    "    - `from module/package import *` to import all entries from a module/package"
   ]
  },
  {
   "cell_type": "markdown",
   "metadata": {
    "slideshow": {
     "slide_type": "subslide"
    }
   },
   "source": [
    "- The last option with a `*` sign is not always recommended. Try:\n",
    "```python\n",
    "from math import *\n",
    "from numpy import *\n",
    "deg = arange(12.) * 30.\n",
    "print(radians(deg))\n",
    "```\n",
    "vs.\n",
    "```python\n",
    "from numpy import *\n",
    "from math import *\n",
    "deg = arange(12.) * 30.\n",
    "print(radians(deg))\n",
    "```\n",
    "- You will get an error in the second case because `radians` in that case is `math.radians`, which does not accept a NumPy array as an input. Try both."
   ]
  },
  {
   "cell_type": "code",
   "execution_count": null,
   "metadata": {
    "slideshow": {
     "slide_type": "-"
    }
   },
   "outputs": [],
   "source": []
  },
  {
   "cell_type": "markdown",
   "metadata": {
    "slideshow": {
     "slide_type": "subslide"
    }
   },
   "source": [
    "- A `,` operator can be used to import multiple entries from a module/package."
   ]
  },
  {
   "cell_type": "code",
   "execution_count": 5,
   "metadata": {
    "slideshow": {
     "slide_type": "-"
    }
   },
   "outputs": [],
   "source": [
    "from math import radians, sin, cos"
   ]
  },
  {
   "cell_type": "markdown",
   "metadata": {
    "slideshow": {
     "slide_type": "subslide"
    }
   },
   "source": [
    "- To get the documentation of a package, use `?`.\n",
    "    - `help()` does not always work."
   ]
  },
  {
   "cell_type": "code",
   "execution_count": 6,
   "metadata": {
    "slideshow": {
     "slide_type": "-"
    }
   },
   "outputs": [],
   "source": [
    "import numpy as np\n",
    "?np"
   ]
  },
  {
   "cell_type": "markdown",
   "metadata": {
    "slideshow": {
     "slide_type": "subslide"
    }
   },
   "source": [
    "- To check entries in a package/module, use `dir()`."
   ]
  },
  {
   "cell_type": "code",
   "execution_count": null,
   "metadata": {
    "slideshow": {
     "slide_type": "-"
    }
   },
   "outputs": [],
   "source": [
    "import math, numpy\n",
    "dir(math)\n",
    "#dir(numpy)"
   ]
  },
  {
   "cell_type": "markdown",
   "metadata": {
    "slideshow": {
     "slide_type": "subslide"
    }
   },
   "source": [
    "- Or more simply, press TAB."
   ]
  },
  {
   "cell_type": "code",
   "execution_count": null,
   "metadata": {
    "slideshow": {
     "slide_type": "-"
    }
   },
   "outputs": [],
   "source": [
    "math."
   ]
  },
  {
   "cell_type": "markdown",
   "metadata": {
    "slideshow": {
     "slide_type": "subslide"
    }
   },
   "source": [
    "- You can make a list of all imported modules using `modules.keys()` in the `sys` package."
   ]
  },
  {
   "cell_type": "code",
   "execution_count": null,
   "metadata": {
    "slideshow": {
     "slide_type": "-"
    }
   },
   "outputs": [],
   "source": [
    "import sys\n",
    "sys.modules.keys()"
   ]
  }
 ],
 "metadata": {
  "celltoolbar": "Slideshow",
  "kernelspec": {
   "display_name": "Python 3",
   "language": "python",
   "name": "python3"
  },
  "language_info": {
   "codemirror_mode": {
    "name": "ipython",
    "version": 3
   },
   "file_extension": ".py",
   "mimetype": "text/x-python",
   "name": "python",
   "nbconvert_exporter": "python",
   "pygments_lexer": "ipython3",
   "version": "3.7.1"
  }
 },
 "nbformat": 4,
 "nbformat_minor": 2
}
