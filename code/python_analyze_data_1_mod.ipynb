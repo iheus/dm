{
 "cells": [
  {
   "cell_type": "markdown",
   "metadata": {
    "slideshow": {
     "slide_type": "slide"
    }
   },
   "source": [
    "# Analyzing Data using Python\n",
    "By Shuhei Kitamura"
   ]
  },
  {
   "cell_type": "markdown",
   "metadata": {
    "slideshow": {
     "slide_type": "slide"
    }
   },
   "source": [
    "### Outline<a id='top'></a>\n",
    "1. [Summary Tables](#sec1)\n",
    "2. [Figures](#sec2)\n",
    "3. [Regression Tables](#sec3)"
   ]
  },
  {
   "cell_type": "code",
   "execution_count": null,
   "metadata": {
    "slideshow": {
     "slide_type": "subslide"
    }
   },
   "outputs": [],
   "source": [
    "# import packages and modules\n",
    "import os\n",
    "import pandas as pd\n",
    "import numpy as np\n",
    "import seaborn as sns\n",
    "import matplotlib.pyplot as plt\n",
    "import statsmodels.api as sm\n",
    "from statsmodels.iolib.summary2 import summary_col\n",
    "import statsmodels.formula.api as smf"
   ]
  },
  {
   "cell_type": "code",
   "execution_count": null,
   "metadata": {
    "slideshow": {
     "slide_type": "-"
    }
   },
   "outputs": [],
   "source": [
    "# set some options (not necessary)\n",
    "pd.options.display.max_rows = 200 # set the max number of rows to display \n",
    "pd.options.display.max_columns = 100 # set the max number of columns to display \n",
    "plt.style.use('seaborn-white') # set a plot style"
   ]
  },
  {
   "cell_type": "code",
   "execution_count": null,
   "metadata": {
    "slideshow": {
     "slide_type": "-"
    }
   },
   "outputs": [],
   "source": [
    "# set the working directory (if necessary)\n",
    "# os.chdir('...') # replace '...' with the location of the working directory"
   ]
  },
  {
   "cell_type": "code",
   "execution_count": null,
   "metadata": {
    "slideshow": {
     "slide_type": "subslide"
    }
   },
   "outputs": [],
   "source": [
    "data = pd.read_csv('data_use.csv') # import data\n",
    "print(len(data))\n",
    "data = data.loc[data['gelec_total']!=0, ] # drop all missing rows\n",
    "print(len(data))"
   ]
  },
  {
   "cell_type": "markdown",
   "metadata": {
    "slideshow": {
     "slide_type": "slide"
    }
   },
   "source": [
    "## 1. Summary Tables<a id='sec1'></a>\n",
    "- A summary table contains the statistics of your data such as mean, std, and the number of observation.\n",
    "- Summary tables are very useful because people can understand the details of your data.\n",
    "- To make a summary table, use `object.agg()`.\n",
    "- You can produce an output table in several format. I suggest the LaTeX format.\n",
    "    - The reason: You can compile the table easily when you write a paper.\n",
    "- For the moment, we produce files with the `txt` file extension.\n",
    "    - If you already have TeX in your computer, change the file extension from `txt` to `tex`.\n",
    "            \n",
    "[back to top](#top)"
   ]
  },
  {
   "cell_type": "code",
   "execution_count": null,
   "metadata": {
    "slideshow": {
     "slide_type": "subslide"
    }
   },
   "outputs": [],
   "source": [
    "data1 = data.loc[:, ['gelec_dem', 'gelec_rep', 'gelec_oth', 'gelec_total', 'rep_share', 'dem_share', 'elec_year', 'temp_mean', 'temp_max_max', 'temp_max_mean']] # select columns\n",
    "data1.agg(['mean', 'std', 'min', 'max', 'count']).T.to_latex(\"sum_stat.txt\", float_format=\"%.2f\")"
   ]
  },
  {
   "cell_type": "markdown",
   "metadata": {
    "slideshow": {
     "slide_type": "slide"
    }
   },
   "source": [
    "## 2. Figures<a id='sec2'></a>\n",
    "- Good papers always have figures that summarize results well.\n",
    "    - You should not write a paper only with boring tables!\n",
    "- A very useful package for plotting figures is `matplotlib`.\n",
    "- There are several types of figures: histograms, density plots, scatter plots, bar plots, line plots...\n",
    "    - Each type has different purposes.\n",
    "- Regarding the format, I suggest either `png` or `jpg`.\n",
    "        \n",
    "[back to top](#top)"
   ]
  },
  {
   "cell_type": "markdown",
   "metadata": {
    "slideshow": {
     "slide_type": "subslide"
    }
   },
   "source": [
    "### Histograms\n",
    "- Histograms are often used to show the distributions of your data.\n",
    "- Use `plt.hist` to plot a histogram. There are several options:\n",
    "    - `bins`: # of bins\n",
    "    - `align`: alignment\n",
    "    - `range`: domain\n",
    "    - `alpha`: transparency\n",
    "    - `color`: color\n",
    "    - `label`: label"
   ]
  },
  {
   "cell_type": "code",
   "execution_count": null,
   "metadata": {
    "slideshow": {
     "slide_type": "subslide"
    }
   },
   "outputs": [],
   "source": [
    "plt.hist(data['rep_share'][data['rep_share'].notna()], bins=[0, 0.1, 0.2, 0.3, 0.4, 0.5, 0.6, 0.7, 0.8, 0.9, 1.0], align='mid', alpha=0.3, color='r', label='rep') # make a histogram\n",
    "plt.hist(data['dem_share'][data['dem_share'].notna()], bins=[0, 0.1, 0.2, 0.3, 0.4, 0.5, 0.6, 0.7, 0.8, 0.9, 1.0], align='mid', alpha=0.3, color='b', label='dem')\n",
    "plt.title('Vote share, 2008-2014') # add a title\n",
    "plt.legend(loc='best') # add a legend\n",
    "plt.savefig('hist_rep_share.png', dpi=100) # save the file\n",
    "plt.show() # plot"
   ]
  },
  {
   "cell_type": "markdown",
   "metadata": {
    "slideshow": {
     "slide_type": "subslide"
    }
   },
   "source": [
    "### Density Plots\n",
    "- Density plots are a variation of histograms.\n",
    "    - For density plots, you employ a specific method to smooth the distribution.\n",
    "    - It is not affected by, e.g., how you choose bins.\n",
    "- Use `object.plot.kde()` to plot a kernel density.    "
   ]
  },
  {
   "cell_type": "code",
   "execution_count": null,
   "metadata": {
    "slideshow": {
     "slide_type": "-"
    }
   },
   "outputs": [],
   "source": [
    "r = np.random.RandomState(123456789) # set a seed\n",
    "rdm = pd.Series(r.randn(1000)) # generate random values\n",
    "plt.hist(rdm, bins=100, alpha=0.3, color='b', density=True) # make a histogram\n",
    "#rdm.hist(bins=100, alpha=0.3, color='b', density=True) # an alternative way of making a histogram\n",
    "rdm.plot.kde(style='k--') # plot a kernel density"
   ]
  },
  {
   "cell_type": "markdown",
   "metadata": {
    "slideshow": {
     "slide_type": "subslide"
    }
   },
   "source": [
    "### Bar Plots\n",
    "- Bar plots are often used to compare statistics (e.g., mean) for different groups.\n",
    "- Use `plt.bar` to plot a histogram."
   ]
  },
  {
   "cell_type": "code",
   "execution_count": null,
   "metadata": {
    "slideshow": {
     "slide_type": "-"
    }
   },
   "outputs": [],
   "source": [
    "dict1 = {'tom':1.75, 'jerry':1.82, 'spike':1.65, 'tyke':1.4}\n",
    "dict2 = {'tom':1, 'jerry':1, 'spike':0, 'tyke':0}\n",
    "df1 = pd.DataFrame({'height': dict1, 'treatment': dict2})\n",
    "print(df1)\n",
    "plt.bar('treatment', 'height', linewidth=0, data=df1)\n",
    "plt.xticks([0,1]) # set xticks\n",
    "plt.xlabel(\"treatment\") # add a xlabel\n",
    "plt.ylabel(\"average height\") # add a ylabel\n",
    "plt.show()"
   ]
  },
  {
   "cell_type": "markdown",
   "metadata": {
    "slideshow": {
     "slide_type": "subslide"
    }
   },
   "source": [
    "### Scatter Plots\n",
    "- Scatter plots are often used to show a relationship between two samples.\n",
    "- Use `plt.scatter` to plot a scatter plot."
   ]
  },
  {
   "cell_type": "code",
   "execution_count": null,
   "metadata": {
    "slideshow": {
     "slide_type": "-"
    }
   },
   "outputs": [],
   "source": [
    "plt.scatter(y=data['rep_share'], x=data['temp_max_mean'])\n",
    "plt.ylabel(\"Republican vote share\")\n",
    "plt.xlabel(\"Mean temperature\")\n",
    "plt.show()"
   ]
  },
  {
   "cell_type": "markdown",
   "metadata": {
    "slideshow": {
     "slide_type": "subslide"
    }
   },
   "source": [
    "### Line Plots\n",
    "- Line plots are often used to show time trends.\n",
    "- Use `plt.plot` to plot a line plot."
   ]
  },
  {
   "cell_type": "code",
   "execution_count": null,
   "metadata": {
    "slideshow": {
     "slide_type": "-"
    }
   },
   "outputs": [],
   "source": [
    "r = np.random.RandomState(123456789) # set a seed\n",
    "plt.plot(r.randn(1000).cumsum(), color='b', label='one') \n",
    "plt.plot(r.randn(1000).cumsum(), color='r', label='two')\n",
    "plt.plot(r.randn(1000).cumsum(), color='y', label='three')\n",
    "plt.legend(loc='best')"
   ]
  },
  {
   "cell_type": "markdown",
   "metadata": {
    "slideshow": {
     "slide_type": "subslide"
    }
   },
   "source": [
    "- Another useful package to make figures is `seaborn`.\n",
    "- A [cheat sheet](https://www.datacamp.com/community/blog/seaborn-cheat-sheet-python) is also available."
   ]
  },
  {
   "cell_type": "code",
   "execution_count": null,
   "metadata": {
    "slideshow": {
     "slide_type": "subslide"
    }
   },
   "outputs": [],
   "source": [
    "titanic = sns.load_dataset('titanic') # import titanic data\n",
    "#print(titanic)\n",
    "sns.barplot(x='sex', y='survived', data=titanic) # make a bar plot. also add \"hue}='class'\" option"
   ]
  },
  {
   "cell_type": "code",
   "execution_count": null,
   "metadata": {
    "slideshow": {
     "slide_type": "subslide"
    }
   },
   "outputs": [],
   "source": [
    "sns.distplot(titanic['age'], bins=50) # histogram with a density plot (set \"kde=False\" if you do not want a density plot)"
   ]
  },
  {
   "cell_type": "code",
   "execution_count": null,
   "metadata": {
    "slideshow": {
     "slide_type": "subslide"
    }
   },
   "outputs": [],
   "source": [
    "g = sns.lmplot(x='temp_max_mean', y='rep_share', data=data) # scatter plot with a regression line\n",
    "g.set_axis_labels(\"Mean temperature\", \"Republican vote share\")"
   ]
  },
  {
   "cell_type": "markdown",
   "metadata": {
    "slideshow": {
     "slide_type": "slide"
    }
   },
   "source": [
    "## 3. Regression Tables<a id='sec3'></a>\n",
    "- The `statsmodels` package is useful for making regression tables.\n",
    "    - To run a regression, use `smf` or `sm`.\n",
    "    - To produce a table of the regression results, use `summary_col`.\n",
    "- How can you interpret the regression results?\n",
    "        \n",
    "[back to top](#top)"
   ]
  },
  {
   "cell_type": "code",
   "execution_count": null,
   "metadata": {
    "slideshow": {
     "slide_type": "subslide"
    }
   },
   "outputs": [],
   "source": [
    "data1 = data.dropna(subset=['rep_share', 'ln_temp_max_mean']) # remove missing values\n",
    "reg1 = smf.ols('rep_share ~ ln_temp_max_max', data=data1).fit() # OLS\n",
    "reg2 = smf.ols('rep_share ~ ln_temp_max_max + C(state_short) + C(elec_year)', data=data1).fit() # FE\n",
    "reg3 = smf.ols('rep_share ~ ln_temp_max_max + C(state_short) + C(elec_year)', data=data1).fit(cov_type='cluster', cov_kwds={'groups':data1['state_short']}) # FE + clustering\n",
    "\n",
    "results_table = summary_col(results=[reg1, reg2, reg3],\n",
    "                            float_format='%0.3f', # set how many decimals you want to report\n",
    "                            stars=True, # add stars\n",
    "                            model_names=['OLS', 'FE', 'FE+cluster'], # add model names\n",
    "                            info_dict={'R-squared' : lambda x: \"{:.3f}\".format(x.rsquared), # add R-squared and observations\n",
    "                                       'Observations' : lambda x: \"{0:d}\".format(int(x.nobs))},\n",
    "                            regressor_order=['ln_temp_max_max'],\n",
    "                            drop_omitted=True) \n",
    "\n",
    "results_table.add_title(\"Table 1: Correlation between Election Day temperature and Senate Republican vote share\") # add a title\n",
    "\n",
    "print(results_table)\n",
    "\n",
    "file = open('estimates.txt','w') # open a file\n",
    "file.write(results_table.as_latex()) # save the table\n",
    "file.close() # close the file"
   ]
  }
 ],
 "metadata": {
  "celltoolbar": "Slideshow",
  "kernelspec": {
   "display_name": "Python 3",
   "language": "python",
   "name": "python3"
  },
  "language_info": {
   "codemirror_mode": {
    "name": "ipython",
    "version": 3
   },
   "file_extension": ".py",
   "mimetype": "text/x-python",
   "name": "python",
   "nbconvert_exporter": "python",
   "pygments_lexer": "ipython3",
   "version": "3.8.3"
  }
 },
 "nbformat": 4,
 "nbformat_minor": 4
}
