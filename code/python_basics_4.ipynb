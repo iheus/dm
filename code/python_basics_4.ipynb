{
 "cells": [
  {
   "cell_type": "markdown",
   "metadata": {
    "slideshow": {
     "slide_type": "slide"
    }
   },
   "source": [
    "### Outline \n",
    "10. NumPy\n",
    "11. Pandas"
   ]
  },
  {
   "cell_type": "markdown",
   "metadata": {
    "slideshow": {
     "slide_type": "slide"
    }
   },
   "source": [
    "## 10. NumPy\n",
    "- NumPy (numeric python) is one of the foundamental packages for numerical computation and data handling in Python."
   ]
  },
  {
   "cell_type": "code",
   "execution_count": 3,
   "metadata": {
    "slideshow": {
     "slide_type": "-"
    }
   },
   "outputs": [],
   "source": [
    "import numpy as np\n",
    "# np? # check documentation\n",
    "# np. # press TAB to see available entries"
   ]
  },
  {
   "cell_type": "markdown",
   "metadata": {
    "slideshow": {
     "slide_type": "subslide"
    }
   },
   "source": [
    "### Making a NumPy array\n",
    "- A NumPy array is the multidimensional container of items.\n",
    "- One can make an array in the following way."
   ]
  },
  {
   "cell_type": "code",
   "execution_count": 103,
   "metadata": {
    "slideshow": {
     "slide_type": "-"
    }
   },
   "outputs": [],
   "source": [
    "array1 = np.array([1, 2, 3])"
   ]
  },
  {
   "cell_type": "markdown",
   "metadata": {
    "slideshow": {
     "slide_type": "subslide"
    }
   },
   "source": [
    "- There are some other ways to make an array."
   ]
  },
  {
   "cell_type": "code",
   "execution_count": 102,
   "metadata": {
    "slideshow": {
     "slide_type": "-"
    }
   },
   "outputs": [],
   "source": [
    "array2 = np.array(list(range(10)))\n",
    "array3 = np.zeros(10)\n",
    "array4 = np.ones(10)\n",
    "array5 = np.full((2,3),1.0)\n",
    "array6 = np.arange(0,10,3)\n",
    "array7 = np.linspace(0,1,10) \n",
    "array8 = np.random.randn(2,2)"
   ]
  },
  {
   "cell_type": "markdown",
   "metadata": {
    "slideshow": {
     "slide_type": "subslide"
    }
   },
   "source": [
    "### Types\n",
    "- An array can contain only one type. If there are multiple types, they are converted to a single type.\n",
    "    - The order of the types: strings > floats > integers > booleans.\n",
    "- Check the type of the first item in each array. Hint: Use `myarray[index]`."
   ]
  },
  {
   "cell_type": "code",
   "execution_count": 101,
   "metadata": {
    "slideshow": {
     "slide_type": "-"
    }
   },
   "outputs": [],
   "source": [
    "array1 = np.array([1, 1.0, \"1\", True])\n",
    "array2 = np.array([1, 1.0, True])\n",
    "array3 = np.array([1, True])"
   ]
  },
  {
   "cell_type": "markdown",
   "metadata": {
    "slideshow": {
     "slide_type": "subslide"
    }
   },
   "source": [
    "- You can also explicity set the type of an array, if possible.\n",
    "- Check the type of the third item of `array1`.\n",
    "    - NumPy has more types than Python's built-in types such as `int8` and `float64`.\n",
    "- Change the third item to `\"abc\"` and execute it again."
   ]
  },
  {
   "cell_type": "code",
   "execution_count": 24,
   "metadata": {
    "slideshow": {
     "slide_type": "-"
    }
   },
   "outputs": [],
   "source": [
    "array1 = np.array([1, 1.0, \"1\", True], dtype='float64')"
   ]
  },
  {
   "cell_type": "markdown",
   "metadata": {
    "slideshow": {
     "slide_type": "subslide"
    }
   },
   "source": [
    "### Checking Dimension, Shape, Size, and Length\n",
    "- You can check the dimension of an array using `np.ndim(myarray)`, the shape of an array using `np.shape(myarray)`, the size (= the number of items) of an array using `np.size(myarray)`, and the length of an array using `len(myarray)`.\n",
    "    - You can also use `ndim`, `shape`, and `size` as a method like `myarray.ndim`, `myarray.shape`, and `myarray.size`. (They are called attributes to instances.)\n",
    "- A two dimensional NumPy array is also called a 2D NumPy array.\n",
    "- Check the dimension, shape, and size of `array1` and `array2`."
   ]
  },
  {
   "cell_type": "code",
   "execution_count": 7,
   "metadata": {
    "slideshow": {
     "slide_type": "-"
    }
   },
   "outputs": [],
   "source": [
    "array1 = np.array([[1, 2 ,3], [4, 5, 6]])\n",
    "array2 = np.array([range(i,i + 3) for i in [2, 4, 6]])"
   ]
  },
  {
   "cell_type": "markdown",
   "metadata": {
    "slideshow": {
     "slide_type": "subslide"
    }
   },
   "source": [
    "### Getting items\n",
    "- To get the items of an array, use `myarray[index]`, `myarray[index1][index2]`, etc.\n",
    "    - You can also write like `myarray[index1, index2]`, which is perhaps more common.\n",
    "- You can use **slicing** as well (see `python_basics1_ipynb`).\n",
    "    - Use `myarray[:, index]` to select all rows of a specific column and `myarray[index, :]` to select all columns of a specific row.\n",
    "- Get the first row and the second column of `array1`.\n",
    "- Get the all columns of the first row of `array1`."
   ]
  },
  {
   "cell_type": "code",
   "execution_count": 99,
   "metadata": {
    "slideshow": {
     "slide_type": "-"
    }
   },
   "outputs": [],
   "source": [
    "array1 = np.array([[1, 2, 3], [4, 5, 6]])"
   ]
  },
  {
   "cell_type": "markdown",
   "metadata": {
    "slideshow": {
     "slide_type": "subslide"
    }
   },
   "source": [
    "#### - Masking\n",
    "- You can use operators like `==`, `>`, and `!=` to get items of an array.\n",
    "- For example, when you write `myarray > 0`, this returns a boolean array where `True` means that the associated item satisfies the condition `> 0`.\n",
    "- You can use `&` and `|`, but cannot use `and` and `or`.\n",
    "    - The reason: The former operators perform multiple Boolean evaluations, while the latter operators only do a single Boolean evaluation."
   ]
  },
  {
   "cell_type": "code",
   "execution_count": null,
   "metadata": {
    "slideshow": {
     "slide_type": "-"
    }
   },
   "outputs": [],
   "source": [
    "array1 = np.array([[1, -1, -5], [2, -4, -3]])\n",
    "print(array1)\n",
    "print(array1 > 0)\n",
    "print((array1 > -3) & (array1 < 2))\n",
    "# print((array1 > -3) and (array1 < 2)) # this returns an error"
   ]
  },
  {
   "cell_type": "markdown",
   "metadata": {
    "slideshow": {
     "slide_type": "subslide"
    }
   },
   "source": [
    "- A boolean array can be cleverly used."
   ]
  },
  {
   "cell_type": "code",
   "execution_count": null,
   "metadata": {
    "slideshow": {
     "slide_type": "-"
    }
   },
   "outputs": [],
   "source": [
    "array1 = np.array([[1, -1, -5], [2, -4, -3]])\n",
    "print(np.sum(array1 > 0)) # count the number of positive items \n",
    "print(np.any(array1 > 0)) # check whether any item in array1 is positive\n",
    "print(np.all(array1 > 0)) # check whether all items in array1 are positive"
   ]
  },
  {
   "cell_type": "markdown",
   "metadata": {
    "slideshow": {
     "slide_type": "subslide"
    }
   },
   "source": [
    "- If you apply a boolean array to the original `myarray`, you can get the items that satisfy the condition.\n",
    "- This is called a **masking** operation where the condition (e.g. `myarray > 0`) is called a **mask**.\n",
    "- Get all the items that satisfy `array1 > 0` in `array1`. \n",
    "- Calculate the sum of them."
   ]
  },
  {
   "cell_type": "code",
   "execution_count": 50,
   "metadata": {
    "slideshow": {
     "slide_type": "-"
    }
   },
   "outputs": [],
   "source": [
    "array1 = np.array([[1, -1, -5], [2, -4, -3]])"
   ]
  },
  {
   "cell_type": "markdown",
   "metadata": {
    "slideshow": {
     "slide_type": "subslide"
    }
   },
   "source": [
    "#### - Fancy Indexing\n",
    "- You can apply a list or an array of indices to get items of an array.\n",
    "- This style of selection is called **fancy indexing**.\n",
    "- You write like `myarray[list/array]`.\n",
    "- Apply `ind` and `ind_array` to `array1`, respectively."
   ]
  },
  {
   "cell_type": "code",
   "execution_count": 97,
   "metadata": {
    "slideshow": {
     "slide_type": "-"
    }
   },
   "outputs": [],
   "source": [
    "array1 = np.array([i + 1 for i in range(6)])\n",
    "ind = [0, 3] # a list of indices\n",
    "ind_array = np.array([[0, 3], [1, 2]]) # an array of indices"
   ]
  },
  {
   "cell_type": "markdown",
   "metadata": {
    "slideshow": {
     "slide_type": "subslide"
    }
   },
   "source": [
    "### Changing items\n",
    "- Similar to a list, you can change an item of an array using `myarray[index1, index2] = new_item`.\n",
    "- Change `1` to `10` in `array1`."
   ]
  },
  {
   "cell_type": "code",
   "execution_count": 96,
   "metadata": {
    "slideshow": {
     "slide_type": "-"
    }
   },
   "outputs": [],
   "source": [
    "array1 = np.array([[1, 2, 3], [4, 5, 6]])"
   ]
  },
  {
   "cell_type": "markdown",
   "metadata": {
    "slideshow": {
     "slide_type": "subslide"
    }
   },
   "source": [
    "#### - Reshaping an array\n",
    "- To reshape an array, use `reshape()`."
   ]
  },
  {
   "cell_type": "code",
   "execution_count": 95,
   "metadata": {
    "slideshow": {
     "slide_type": "-"
    }
   },
   "outputs": [],
   "source": [
    "array1 = np.array([[1, 2, 3], [4, 5, 6]])\n",
    "array1.reshape(3,2)"
   ]
  },
  {
   "cell_type": "markdown",
   "metadata": {
    "slideshow": {
     "slide_type": "subslide"
    }
   },
   "source": [
    "#### - Concatenating arrays\n",
    "- To combine multiple arrays, use `concatenate()`, `hstack()`, or `vstack()`."
   ]
  },
  {
   "cell_type": "code",
   "execution_count": 93,
   "metadata": {
    "slideshow": {
     "slide_type": "-"
    }
   },
   "outputs": [],
   "source": [
    "array1 = np.array([[1, 2], [3, 4]])\n",
    "array2 = np.array([[5, 6], [7, 8]])\n",
    "array3 = np.concatenate([array1, array2], axis=0)\n",
    "array4 = np.hstack([array1, array2])\n",
    "array5 = np.vstack([array1, array2])"
   ]
  },
  {
   "cell_type": "markdown",
   "metadata": {
    "slideshow": {
     "slide_type": "subslide"
    }
   },
   "source": [
    "#### - Splitting an array\n",
    "- To split an array, use `split()`, `hsplit()`, or `vsplit()`."
   ]
  },
  {
   "cell_type": "code",
   "execution_count": 92,
   "metadata": {
    "slideshow": {
     "slide_type": "-"
    }
   },
   "outputs": [],
   "source": [
    "array1 = np.array([[1, 2, 3], [4, 5, 6]])\n",
    "array2, array3 = np.split(array1, [1], axis=0)\n",
    "array4, array5, array6 = np.hsplit(array1, [1, 2])\n",
    "array7, array8 = np.vsplit(array1, [1])"
   ]
  },
  {
   "cell_type": "markdown",
   "metadata": {
    "slideshow": {
     "slide_type": "subslide"
    }
   },
   "source": [
    "### Vectorized computation\n",
    "- A list does not accept any item-by-item calculation but a NumPy array does!\n",
    "- When you try to make a loop for an item-by-item calculation, check whether it is possible to rewrite it using a vectorized expression."
   ]
  },
  {
   "cell_type": "code",
   "execution_count": 104,
   "metadata": {
    "slideshow": {
     "slide_type": "-"
    }
   },
   "outputs": [],
   "source": [
    "height = [1.80, 1.76, 1.64]\n",
    "weight = [80, 75, 60]\n",
    "np_height = np.array(height) # convert a list to a NumPy array\n",
    "np_weight = np.array(weight)\n",
    "#bmi = weight / height ** 2 # this returns an error\n",
    "bmi = np_weight / np_height ** 2"
   ]
  },
  {
   "cell_type": "markdown",
   "metadata": {
    "slideshow": {
     "slide_type": "subslide"
    }
   },
   "source": [
    "#### - UFuncs\n",
    "- A Ufunc (universal function) is made to quickly make an item-by-item calculation.\n",
    "- One writes like `np.abs(myarray)`.\n",
    "- Useful Ufuncs include: `abs()`, `log()`, and `round()`."
   ]
  },
  {
   "cell_type": "code",
   "execution_count": null,
   "metadata": {
    "slideshow": {
     "slide_type": "-"
    }
   },
   "outputs": [],
   "source": [
    "array1 = np.array([-1, 2, -5, 1])\n",
    "print(np.abs(array1))\n",
    "\n",
    "array2 = np.random.normal(1.75,0.20,50)\n",
    "print(np.round(array2, 2))"
   ]
  },
  {
   "cell_type": "markdown",
   "metadata": {
    "slideshow": {
     "slide_type": "subslide"
    }
   },
   "source": [
    "### Summarizing items\n",
    "- Useful functions for summarizing items include: `min()`, `max()`, `mean()`, `median()`, `std()`, `sum()`, and `corrcoef()`.\n",
    "- One writes like `np.min(myarray)`.\n",
    "    - One can also write like `myarray.min()` for some operations. Try it with `corrcoef()`."
   ]
  },
  {
   "cell_type": "code",
   "execution_count": null,
   "metadata": {
    "slideshow": {
     "slide_type": "-"
    }
   },
   "outputs": [],
   "source": [
    "array1 = np.array([[1, 2, 3], [-1, -2, -3]])\n",
    "print(np.min(array1)) # min of all items\n",
    "#print(array1.min()) # alternative way of writing it\n",
    "print(np.min(array1[:, 2])) # min of column 2\n",
    "print(np.min(array1, axis=1)) # min of each row\n",
    "print(np.min(array1, axis=0)) # min of each column"
   ]
  },
  {
   "cell_type": "markdown",
   "metadata": {
    "slideshow": {
     "slide_type": "slide"
    }
   },
   "source": [
    "## 11. Pandas\n",
    "- Pandas is a very useful Python package made for handling data. It's built on NumPy."
   ]
  },
  {
   "cell_type": "code",
   "execution_count": 1,
   "metadata": {
    "slideshow": {
     "slide_type": "-"
    }
   },
   "outputs": [],
   "source": [
    "import pandas as pd\n",
    "# pd? # check documentation\n",
    "# pd. # press TAB to see available entries"
   ]
  },
  {
   "cell_type": "markdown",
   "metadata": {
    "slideshow": {
     "slide_type": "subslide"
    }
   },
   "source": [
    "- There are several objects in Pandas. They are `Series`, `DataFrame`, and `Index`.\n",
    "    - `Series`: A **one-dimensional array** of indexed data\n",
    "    - `DataFrame`: A **two-dimensional array** with indices (for row) and (column) names (for column)\n",
    "    - `Index`: An index object itself"
   ]
  },
  {
   "cell_type": "markdown",
   "metadata": {
    "slideshow": {
     "slide_type": "subslide"
    }
   },
   "source": [
    "### Series\n",
    "- A Pandas Series is like a generalized one-dimensional NumPy array.\n",
    "    - It is generalized in the sense that it can have explicit indices."
   ]
  },
  {
   "cell_type": "code",
   "execution_count": null,
   "metadata": {
    "slideshow": {
     "slide_type": "-"
    }
   },
   "outputs": [],
   "source": [
    "series1 = pd.Series([0.1, 0.2, 0.3], index=['a', 'b', 'c'])\n",
    "print(series1.values)\n",
    "print(series1.index)\n",
    "print(series1.head(2)) # get first two items \n",
    "print(series1.tail(2)) # get last two items\n",
    "print(series1[0:2])"
   ]
  },
  {
   "cell_type": "markdown",
   "metadata": {
    "slideshow": {
     "slide_type": "subslide"
    }
   },
   "source": [
    "- It is also like a generalized Python's dictionary type.\n",
    "    - It is generalized in the sense that array-style item selection such as slicing and fancy indexing is possible."
   ]
  },
  {
   "cell_type": "code",
   "execution_count": null,
   "metadata": {
    "slideshow": {
     "slide_type": "-"
    }
   },
   "outputs": [],
   "source": [
    "dic1 = {'tom':1.75, 'jerry':1.82, 'spike':1.65}\n",
    "series1 = pd.Series(dic1)\n",
    "print(series1)\n",
    "print(series1['tom']) # indexing\n",
    "print(series1[['tom','jerry']]) # fancy indexing\n",
    "print(series1['tom':'jerry']) # slicing"
   ]
  },
  {
   "cell_type": "markdown",
   "metadata": {
    "slideshow": {
     "slide_type": "subslide"
    }
   },
   "source": [
    "### DataFrame\n",
    "- A Pandas DataFrame is like a generalized two-dimensional NumPy array.\n",
    "    - It is generalized in the sense that it can have explicit indices and column names.    "
   ]
  },
  {
   "cell_type": "code",
   "execution_count": null,
   "metadata": {
    "slideshow": {
     "slide_type": "-"
    }
   },
   "outputs": [],
   "source": [
    "dic1 = {'tom':1.75, 'jerry':1.82, 'spike':1.65}\n",
    "dic2 = {'tom':65, 'jerry':72, 'spike':58}\n",
    "data1 = pd.DataFrame({'height': dic1, 'weight':dic2})\n",
    "print(data1)\n",
    "print(data1.values) # get values\n",
    "print(data1.index) # get indices\n",
    "print(data1.columns) # get column names\n",
    "print(data1.head(2)) # get two items from top\n",
    "print(data1.tail(2)) # get two items from bottom\n",
    "print(data1.T) # transpose data"
   ]
  },
  {
   "cell_type": "markdown",
   "metadata": {
    "slideshow": {
     "slide_type": "subslide"
    }
   },
   "source": [
    "- It is also like a generalized Python's dictionary type.\n",
    "    - It is generalized in the sense that array-style item selection such as slicing and fancy indexing is possible.\n",
    "- You write like: \n",
    "    - `mydata[col]` for indexing (not `mydata[row]`).\n",
    "    - `mydata[[col,col]]` for fancy indexing (not `mydata[[row,row]]`).\n",
    "    - `mydata[row:row]` for slicing (not `mydata[col:col]`).\n",
    "    - In other words, (fancy) indexing refers to columns, while slicing refers to rows."
   ]
  },
  {
   "cell_type": "code",
   "execution_count": null,
   "metadata": {
    "slideshow": {
     "slide_type": "-"
    }
   },
   "outputs": [],
   "source": [
    "list1 = [{'var1':x, 'var2':x + 1, 'var3':x + 2} for x in range(3)]\n",
    "data1 = pd.DataFrame(list1, index=['a', 'b', 'c'])\n",
    "print(data1['var1']) # (dictionary-style) indexing\n",
    "# print(data1.var1) # attribute-style access\n",
    "print(data1[['var1','var2']]) # fancy indexing\n",
    "print(data1['a':'b']) # slicing"
   ]
  },
  {
   "cell_type": "markdown",
   "metadata": {
    "slideshow": {
     "slide_type": "subslide"
    }
   },
   "source": [
    "- You can make a DataFrame from (a list of) dictionaries, Pandas Series, and NumPy arrays."
   ]
  },
  {
   "cell_type": "code",
   "execution_count": 91,
   "metadata": {
    "slideshow": {
     "slide_type": "-"
    }
   },
   "outputs": [],
   "source": [
    "array1 = np.random.rand(3,3)\n",
    "data1 = pd.DataFrame(array1, columns=['var1', 'var2', 'var3'], index=['a', 'b', 'c'])"
   ]
  },
  {
   "cell_type": "markdown",
   "metadata": {
    "slideshow": {
     "slide_type": "subslide"
    }
   },
   "source": [
    "### Checking Dimension, Shape, Size, and Length\n",
    "- Similar to NumPy, you can use `ndim`, `shape`, `size`, and `len()` for DataFrames.\n",
    "    - To get the number of rows, use `len(mydata)` or `len(mydata.index)`. For columns, use `len(mydata.columns)`.\n",
    "- You can also use `mydata.info()` to get more detailed information.\n",
    "- Check the dimension, shape, size, and length of `data1`.\n",
    "- Also, check the detailed information of `data1` using `info()`."
   ]
  },
  {
   "cell_type": "code",
   "execution_count": 36,
   "metadata": {
    "slideshow": {
     "slide_type": "-"
    }
   },
   "outputs": [],
   "source": [
    "data1 = pd.DataFrame(np.random.rand(3,3), columns=['var1', 'var2', 'var3'], index=['a', 'b', 'c'])"
   ]
  },
  {
   "cell_type": "markdown",
   "metadata": {
    "slideshow": {
     "slide_type": "subslide"
    }
   },
   "source": [
    "### Getting items\n",
    "- You can use indexing, slicing, masking, and fancy indexing for Pandas DataFrames."
   ]
  },
  {
   "cell_type": "code",
   "execution_count": null,
   "metadata": {
    "slideshow": {
     "slide_type": "-"
    }
   },
   "outputs": [],
   "source": [
    "series1 = pd.Series(np.random.rand(3), index=['a', 'b', 'c'])\n",
    "data1 = pd.DataFrame(np.random.rand(3,3), columns=['var1', 'var2', 'var3'], index=['a', 'b', 'c'])\n",
    "print(data1)\n",
    "print(series1[series1 > 0.5]) \n",
    "print(data1[data1 > 0.5])"
   ]
  },
  {
   "cell_type": "markdown",
   "metadata": {
    "slideshow": {
     "slide_type": "subslide"
    }
   },
   "source": [
    "- You can also use **indexers** for selecting items: `loc` and `iloc`.\n",
    "    - `loc` refers to explicit indices, while `iloc` refers to implicit indices.\n",
    "    - You write like `mydata.loc[inclusive:INCLUSIVE]` and `mydata.iloc[inclusive:EXCLUSIVE]` .\n",
    "    - There is another option `ix`, but is deprecated."
   ]
  },
  {
   "cell_type": "code",
   "execution_count": null,
   "metadata": {
    "slideshow": {
     "slide_type": "-"
    }
   },
   "outputs": [],
   "source": [
    "data1 = pd.DataFrame(np.random.rand(3,3), columns=['var1', 'var2', 'var3'], index=['a', 'b', 'c'])\n",
    "print(data1)\n",
    "print(data1.loc['a':'b'])\n",
    "print(data1.iloc[0:2])"
   ]
  },
  {
   "cell_type": "markdown",
   "metadata": {
    "slideshow": {
     "slide_type": "subslide"
    }
   },
   "source": [
    "- Array-style access becomes possible if you use `loc` or `iloc`.\n",
    "- Try the following example with/without `loc` or `iloc`."
   ]
  },
  {
   "cell_type": "code",
   "execution_count": null,
   "metadata": {
    "slideshow": {
     "slide_type": "-"
    }
   },
   "outputs": [],
   "source": [
    "data1 = pd.DataFrame(np.random.rand(3,3), columns=['var1', 'var2', 'var3'], index=['a', 'b', 'c'])\n",
    "print(data1.loc[:, 'var1':'var2'])\n",
    "print(data1.loc['a':'b', :])\n",
    "print(data1.iloc[:, 0:2])\n",
    "print(data1.iloc[0:2, :])"
   ]
  },
  {
   "cell_type": "markdown",
   "metadata": {
    "slideshow": {
     "slide_type": "subslide"
    }
   },
   "source": [
    "- Combining masking with fancy indexing? Of course."
   ]
  },
  {
   "cell_type": "code",
   "execution_count": null,
   "metadata": {
    "slideshow": {
     "slide_type": "-"
    }
   },
   "outputs": [],
   "source": [
    "data1 = pd.DataFrame(np.random.rand(3,3), columns=['var1', 'var2', 'var3'], index=['a', 'b', 'c'])\n",
    "print(data1)\n",
    "print(data1.loc[data1['var2'] > 0.2, ['var1', 'var3']])\n",
    "print(data1.loc[(data1['var2'] > 0.2) & (data1['var3'] < 0.6), :])"
   ]
  },
  {
   "cell_type": "markdown",
   "metadata": {
    "slideshow": {
     "slide_type": "subslide"
    }
   },
   "source": [
    "### Sorting items\n",
    "- To sort, use `mydata.sort_values[by=row/col]`.\n",
    "    - Available options: `axis`, `ascending`, etc.\n",
    "- You can also use `mydata.sort_index` to sort by index."
   ]
  },
  {
   "cell_type": "code",
   "execution_count": null,
   "metadata": {
    "slideshow": {
     "slide_type": "-"
    }
   },
   "outputs": [],
   "source": [
    "data1 = pd.DataFrame(np.random.rand(3,3), columns=['var1', 'var2', 'var3'], index=['a', 'b', 'c'])\n",
    "print(data1)\n",
    "print(data1.sort_values(by='var3'))\n",
    "print(data1.sort_values(by='var3', ascending=False))\n",
    "print(data1.sort_values(by=['var1', 'var2']))\n",
    "print(data1.sort_values(by='a', axis=1))"
   ]
  },
  {
   "cell_type": "markdown",
   "metadata": {
    "slideshow": {
     "slide_type": "subslide"
    }
   },
   "source": [
    "### Changing and adding items\n",
    "- You can change and add items by specifying columns and/or rows."
   ]
  },
  {
   "cell_type": "code",
   "execution_count": null,
   "metadata": {
    "slideshow": {
     "slide_type": "-"
    }
   },
   "outputs": [],
   "source": [
    "data1 = pd.DataFrame(np.random.rand(3,3), columns=['var1', 'var2', 'var3'], index=['a', 'b', 'c'])\n",
    "data1.loc[data1['var2'] > 0.2, ['var1','var3']] = -1/3\n",
    "print(data1)\n",
    "data1['var4'] = 1/9\n",
    "data1.loc['d'] = -1/2\n",
    "print(data1)"
   ]
  },
  {
   "cell_type": "markdown",
   "metadata": {
    "slideshow": {
     "slide_type": "subslide"
    }
   },
   "source": [
    "- To rename column names/indices, write `mydata.rename(columns={old1: new1, ...}, index={old1: new1, ...})`.\n",
    "    - You need to define a new object to reflect the change.\n",
    "- Change `'varA'` to `'var1'` and `'d'` to `'a'` in `data1`."
   ]
  },
  {
   "cell_type": "code",
   "execution_count": 37,
   "metadata": {
    "slideshow": {
     "slide_type": "-"
    }
   },
   "outputs": [],
   "source": [
    "data1 = pd.DataFrame(np.random.rand(3,3), columns=['varA', 'var2', 'var3'], index=['d', 'b', 'c'])"
   ]
  },
  {
   "cell_type": "markdown",
   "metadata": {
    "slideshow": {
     "slide_type": "subslide"
    }
   },
   "source": [
    "### Deleting items\n",
    "- Deleting items is like subsetting.\n",
    "    - You can either take a subset or use `mydata.drop(row)` or `mydata.drop(col, axis=1)`.\n",
    "    - You need to define a new object to reflect the change.\n",
    "- You can also permanently delete columns using `del`."
   ]
  },
  {
   "cell_type": "code",
   "execution_count": null,
   "metadata": {
    "slideshow": {
     "slide_type": "-"
    }
   },
   "outputs": [],
   "source": [
    "data1 = pd.DataFrame(np.random.rand(4,4), columns=['var1', 'var2', 'var3', 'var4'], index=['a', 'b', 'c', 'd'])\n",
    "data1 = data1.loc[:, 'var1':'var3']\n",
    "print(data1)\n",
    "data1 = data1.drop('var3', axis=1)\n",
    "print(data1)\n",
    "del data1['var2']\n",
    "print(data1)"
   ]
  },
  {
   "cell_type": "markdown",
   "metadata": {
    "slideshow": {
     "slide_type": "subslide"
    }
   },
   "source": [
    "### Vectorized computation\n",
    "- Similar to NumPy, an item-by-item calculation is possible."
   ]
  },
  {
   "cell_type": "code",
   "execution_count": null,
   "metadata": {
    "slideshow": {
     "slide_type": "-"
    }
   },
   "outputs": [],
   "source": [
    "data1 = pd.DataFrame(np.random.rand(3,3), columns=['var1', 'var2', 'var3'], index=['a', 'b', 'c'])\n",
    "data1['var4'] = data1['var1'] / data1['var2']\n",
    "print(data1)"
   ]
  },
  {
   "cell_type": "markdown",
   "metadata": {
    "slideshow": {
     "slide_type": "subslide"
    }
   },
   "source": [
    "### Summarizing items\n",
    "- Similar to NumPy, you can summarize items using `min`, `max`, `mean`, `std`, `sum`, etc.\n",
    "    - You write like `mydata.sum()`."
   ]
  },
  {
   "cell_type": "code",
   "execution_count": null,
   "metadata": {
    "slideshow": {
     "slide_type": "-"
    }
   },
   "outputs": [],
   "source": [
    "data1 = pd.DataFrame(np.random.rand(3,3), columns=['var1', 'var2', 'var3'], index=['a', 'b', 'c'])\n",
    "print(data1.sum()) # for each column, or print(data1.sum(axis=0))\n",
    "print(data1.sum(axis=1)) # for each row"
   ]
  },
  {
   "cell_type": "markdown",
   "metadata": {
    "slideshow": {
     "slide_type": "subslide"
    }
   },
   "source": [
    "- You can also use `describe()` to get a summary table.\n",
    "- Get the summary table of `data1`."
   ]
  },
  {
   "cell_type": "code",
   "execution_count": 38,
   "metadata": {
    "slideshow": {
     "slide_type": "-"
    }
   },
   "outputs": [],
   "source": [
    "data1 = pd.DataFrame(np.random.rand(3,3), columns=['var1', 'var2', 'var3'], index=['a', 'b', 'c'])"
   ]
  }
 ],
 "metadata": {
  "celltoolbar": "Slideshow",
  "kernelspec": {
   "display_name": "Python 3",
   "language": "python",
   "name": "python3"
  },
  "language_info": {
   "codemirror_mode": {
    "name": "ipython",
    "version": 3
   },
   "file_extension": ".py",
   "mimetype": "text/x-python",
   "name": "python",
   "nbconvert_exporter": "python",
   "pygments_lexer": "ipython3",
   "version": "3.7.1"
  }
 },
 "nbformat": 4,
 "nbformat_minor": 2
}
