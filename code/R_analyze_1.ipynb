{
 "cells": [
  {
   "cell_type": "markdown",
   "metadata": {
    "slideshow": {
     "slide_type": "slide"
    }
   },
   "source": [
    "# Analyzing Data using R\n",
    "By Shuhei Kitamura"
   ]
  },
  {
   "cell_type": "markdown",
   "metadata": {
    "slideshow": {
     "slide_type": "slide"
    }
   },
   "source": [
    "### Outline\n",
    "1. Preparing Data for Analysis\n",
    "    - Importing Data\n",
    "    - Combining Data\n",
    "    - Reshaping Data  \n",
    "    - Making Variables\n",
    "    - Saving Data"
   ]
  },
  {
   "cell_type": "code",
   "execution_count": 17,
   "metadata": {
    "slideshow": {
     "slide_type": "subslide"
    }
   },
   "outputs": [],
   "source": [
    "library(plyr)\n",
    "library(tidyverse)"
   ]
  },
  {
   "cell_type": "code",
   "execution_count": 18,
   "metadata": {
    "slideshow": {
     "slide_type": "-"
    }
   },
   "outputs": [],
   "source": [
    "options(repr.matrix.max.rows=200, repr.matrix.max.cols=100) # set # of rows and columns to display "
   ]
  },
  {
   "cell_type": "code",
   "execution_count": 19,
   "metadata": {
    "slideshow": {
     "slide_type": "-"
    }
   },
   "outputs": [],
   "source": [
    "setwd('...') # set the working directory"
   ]
  },
  {
   "cell_type": "markdown",
   "metadata": {
    "slideshow": {
     "slide_type": "slide"
    }
   },
   "source": [
    "## 1. Preparing Data for Analysis\n",
    "- We already have cleaned data. The next step is to make final data for analysis.\n",
    "- In this exercise, we will put eight files together. How?\n",
    "    1. Append US Senate election data\n",
    "    2. Append daily temperature data\n",
    "    3. Merge them\n",
    "- Our goal is to make the data that have a panel structure."
   ]
  },
  {
   "cell_type": "markdown",
   "metadata": {
    "slideshow": {
     "slide_type": "subslide"
    }
   },
   "source": [
    "### Importing Data\n",
    "- Import data as usual. Recall that all files are saved in csv format."
   ]
  },
  {
   "cell_type": "code",
   "execution_count": 20,
   "metadata": {
    "slideshow": {
     "slide_type": "-"
    }
   },
   "outputs": [],
   "source": [
    "elec_data <- list()\n",
    "temp_data <- list()\n",
    "for (year in seq(2008,2014,by=2)) {\n",
    "    elec_data[[paste0('elec_',year)]] <- as.data.frame(read.table(paste0('data/elec_senate_R_', year, '.csv'), sep=\",\", header = TRUE, stringsAsFactors=FALSE))\n",
    "    temp_data[[paste0('elec_',year)]] <- as.data.frame(read.table(paste0('data/daily_temp_R_', year, '.csv'), sep=\",\", header = TRUE, stringsAsFactors=FALSE))\n",
    "}"
   ]
  },
  {
   "cell_type": "markdown",
   "metadata": {
    "slideshow": {
     "slide_type": "subslide"
    }
   },
   "source": [
    "- Check data entries and their types, if you do not know them yet."
   ]
  },
  {
   "cell_type": "code",
   "execution_count": null,
   "metadata": {
    "slideshow": {
     "slide_type": "-"
    }
   },
   "outputs": [],
   "source": []
  },
  {
   "cell_type": "markdown",
   "metadata": {
    "slideshow": {
     "slide_type": "slide"
    }
   },
   "source": [
    "### Combining Data\n",
    "#### - Appending\n",
    "- To append data in R, you can use `rbind()`.\n",
    "- Append `data2` to `data1`."
   ]
  },
  {
   "cell_type": "code",
   "execution_count": 16,
   "metadata": {
    "slideshow": {
     "slide_type": "subslide"
    }
   },
   "outputs": [],
   "source": [
    "data1 <- as.data.frame(matrix(1:4, nrow=2, ncol=2, byrow=TRUE), col.name=c('v1', 'v2'))\n",
    "data2 <- as.data.frame(matrix(5:8, nrow=2, ncol=2, byrow=TRUE), col.name=c('v1', 'v2'))"
   ]
  },
  {
   "cell_type": "markdown",
   "metadata": {
    "slideshow": {
     "slide_type": "subslide"
    }
   },
   "source": [
    "- However, this function is not quite as usuful as pandas' `concat`. For example, outer join is not supported.\n",
    "    - In that case, use `rbind.fill()` in `plyr` package.\n",
    "    - Alternatively, use `bind_rows()` in `dplyr` package.\n",
    "- Append `data1` to `data2` using `rbind.fill()`."
   ]
  },
  {
   "cell_type": "code",
   "execution_count": 10,
   "metadata": {
    "slideshow": {
     "slide_type": "subslide"
    }
   },
   "outputs": [],
   "source": [
    "data1 <- as.data.frame(matrix(c(1, NaN, 10L, 'abc'), nrow=2, ncol=2), col.name=c('v1', 'v2'))\n",
    "data2 <- as.data.frame(matrix(1:9, nrow=3, ncol=3, byrow=TRUE), col.name=c('v1', 'v2', 'v3'))"
   ]
  },
  {
   "cell_type": "markdown",
   "metadata": {
    "slideshow": {
     "slide_type": "subslide"
    }
   },
   "source": [
    "- Let's combine all years for election data and temperature data, respectively.\n",
    "- Wait... but temperature data are already very long (> 250,000 observations).\n",
    "- Let's reduce the sizes of the datasets before appending them."
   ]
  },
  {
   "cell_type": "markdown",
   "metadata": {
    "slideshow": {
     "slide_type": "subslide"
    }
   },
   "source": [
    "#### - Group Aggregation\n",
    "- Our goal is to keep a single observation for each state and year. \n",
    "- How? There are several strategies.\n",
    "    - Take the mean/max/min/std, etc.\n",
    "    - Keep some of the observations\n",
    "    - Reshape data\n",
    "- I suggest the following procedure:\n",
    "    1. Keep the Election Day temperature\n",
    "    2. Take the mean of `'arithmetic_mean'` (daily average) and the max and mean of `'1st_max_value'` (daily max) for each state.\n",
    "- Does it make sense to you?"
   ]
  },
  {
   "cell_type": "markdown",
   "metadata": {
    "slideshow": {
     "slide_type": "subslide"
    }
   },
   "source": [
    "- Let's keep the Election Day temperature for each year.\n",
    "    - Election Day: November 4th, 2008, November 2nd, 2010, November 6th, 2012, November 8th, 2014"
   ]
  },
  {
   "cell_type": "code",
   "execution_count": 21,
   "metadata": {
    "slideshow": {
     "slide_type": "-"
    }
   },
   "outputs": [],
   "source": [
    "temp_data[['elec_2008']] <- temp_data[['elec_2008']][temp_data[['elec_2008']]['date_local'] == '2008-11-04',]\n",
    "temp_data[['elec_2010']] <- temp_data[['elec_2010']][temp_data[['elec_2010']]['date_local'] == '2010-11-02',]\n",
    "temp_data[['elec_2012']] <- temp_data[['elec_2012']][temp_data[['elec_2012']]['date_local'] == '2012-11-06',]\n",
    "temp_data[['elec_2014']] <- temp_data[['elec_2014']][temp_data[['elec_2014']]['date_local'] == '2014-11-08',]"
   ]
  },
  {
   "cell_type": "markdown",
   "metadata": {
    "slideshow": {
     "slide_type": "subslide"
    }
   },
   "source": [
    "- Next, check whether `arithmetic_mean` and `x1st_max_value` have missing values before aggregating their values.\n",
    "    - Recall that some computation methods do not igore missing values."
   ]
  },
  {
   "cell_type": "code",
   "execution_count": null,
   "metadata": {
    "slideshow": {
     "slide_type": "-"
    }
   },
   "outputs": [],
   "source": []
  },
  {
   "cell_type": "markdown",
   "metadata": {
    "slideshow": {
     "slide_type": "subslide"
    }
   },
   "source": [
    "- A powerful method for aggregation is `group_by()` and `summarize()` in `dplyr` package.\n",
    "- In this example, we use a useful pipe operator `%>%`.\n",
    "    - Starting from initial inputs, apply several functions in a sequential way.\n",
    "    - For example: `x %>% f(y)` for `f(x, y)`, `x %>% f(y) %>% g(z)` for `g(f(x, y), z)`.  \n",
    "    - See also [this site](https://www.datacamp.com/community/tutorials/pipe-r-tutorial) for an explanation about pipes.\n",
    "    - If you want to see the outcome for each step, install an [addin](https://github.com/daranzolin/ViewPipeSteps) for RStudio."
   ]
  },
  {
   "cell_type": "code",
   "execution_count": null,
   "metadata": {
    "slideshow": {
     "slide_type": "subslide"
    }
   },
   "outputs": [],
   "source": [
    "head(mtcars)\n",
    "mtcars %>%\n",
    "    filter(hp > 100) %>% # or subset(), keep samples gross horsepower > 100\n",
    "    group_by(cyl) %>% # group by the number of cylinders\n",
    "    summarize(mpg_mean=mean(mpg), mpg_sd=sd(mpg), n=n()) # summary statistics of mpg (miles per gallon)"
   ]
  },
  {
   "cell_type": "markdown",
   "metadata": {
    "slideshow": {
     "slide_type": "subslide"
    }
   },
   "source": [
    "- Compute the mean of `'arithmetic_mean'` (daily average) and the max and mean of `'1st_max_value'` (daily max) for each state.\n",
    "    - Also, add a new column `elec_year`."
   ]
  },
  {
   "cell_type": "code",
   "execution_count": 22,
   "metadata": {
    "slideshow": {
     "slide_type": "-"
    }
   },
   "outputs": [],
   "source": [
    "for (year in seq(2008,2014,by=2)) {\n",
    "    temp_data[[paste0('elec_', year, '_agg')]] <- \n",
    "        temp_data[[paste0('elec_', year)]] %>%\n",
    "        group_by(state_name) %>%\n",
    "        summarize(\n",
    "            temp_mean = mean(arithmetic_mean, na.rm=TRUE),\n",
    "            temp_max_max = max(x1st_max_value, na.rm=TRUE),\n",
    "            temp_max_mean = mean(x1st_max_value, na.rm=TRUE)\n",
    "        )    \n",
    "    temp_data[[paste0('elec_', year, '_agg')]]['elec_year'] <- as.integer(year)\n",
    "}"
   ]
  },
  {
   "cell_type": "markdown",
   "metadata": {
    "slideshow": {
     "slide_type": "subslide"
    }
   },
   "source": [
    "- Finally, it's time to append the data!"
   ]
  },
  {
   "cell_type": "code",
   "execution_count": 23,
   "metadata": {
    "slideshow": {
     "slide_type": "-"
    }
   },
   "outputs": [],
   "source": [
    "elec_all <- elec_data[['elec_2008']] \n",
    "temp_all <- temp_data[['elec_2008_agg']] \n",
    "for (year in seq(2010,2014,by=2)){\n",
    "    elec_all <- rbind(elec_all, elec_data[[paste0('elec_',year)]])\n",
    "    temp_all <- rbind(temp_all, temp_data[[paste0('elec_',year,'_agg')]])\n",
    "}"
   ]
  },
  {
   "cell_type": "markdown",
   "metadata": {
    "slideshow": {
     "slide_type": "subslide"
    }
   },
   "source": [
    "- Check that each dataset contains state names and election years."
   ]
  },
  {
   "cell_type": "code",
   "execution_count": null,
   "metadata": {
    "slideshow": {
     "slide_type": "-"
    }
   },
   "outputs": [],
   "source": [
    "print(c(unique(elec_all[['state_long']]), unique(elec_all[['elec_year']])))\n",
    "print(c(unique(temp_all[['state_name']]), unique(temp_all[['elec_year']])))"
   ]
  },
  {
   "cell_type": "markdown",
   "metadata": {
    "slideshow": {
     "slide_type": "subslide"
    }
   },
   "source": [
    "#### - Removing spaces\n",
    "- Though not in this case, strings often contain strange spaces.\n",
    "- In that case, we have to remove them. Otherwise, we will not be able to merge data properly.\n",
    "- To remove spaces, use `str_trim(, side = c('right','both','left'))`, where `side` refers to the side that has whitespaces."
   ]
  },
  {
   "cell_type": "markdown",
   "metadata": {
    "slideshow": {
     "slide_type": "subslide"
    }
   },
   "source": [
    "#### - Merging\n",
    "- Merging means that you append data horizontally.\n",
    "- To merge R's objects, use `inner_join` or `full_join` in `dplyr` package.\n",
    "    - You can also use `right_join` and `left_join`.\n",
    "    - Alternatively, use `merge` instead.\n",
    "- Merge `data1` and `data2`."
   ]
  },
  {
   "cell_type": "code",
   "execution_count": null,
   "metadata": {
    "slideshow": {
     "slide_type": "subslide"
    }
   },
   "outputs": [],
   "source": [
    "data1 <- data.frame(name=c('tom', 'jerry'), educ=c(9, 12), stringsAsFactors=FALSE)\n",
    "data2 <- data.frame(name=c('tom', 'jerry', 'spike'), height=c(185, 170, 165), weight=c(70, 62, 60), stringsAsFactors=FALSE)\n",
    "print(inner_join(data1, data2, by='name')) # inner join (intersection)\n",
    "print(full_join(data1, data2, by='name')) # outer join (union)\n",
    "print(right_join(data1, data2, by='name'))  # right join (keep right data)\n",
    "print(left_join(data1, data2, by='name')) # left join (keep left data)\n",
    "# print(merge(data1, data2, by='name')) # inner join (intersection)\n",
    "# print(merge(data1, data2, by='name', all=TRUE)) # outer join (union)\n",
    "# print(merge(data1, data2, by='name', all.y=TRUE))  # right join (keep right data)\n",
    "# print(merge(data1, data2, by='name', all.x=TRUE)) # left join (keep left data)"
   ]
  },
  {
   "cell_type": "markdown",
   "metadata": {
    "slideshow": {
     "slide_type": "subslide"
    }
   },
   "source": [
    "- Key names can be different."
   ]
  },
  {
   "cell_type": "code",
   "execution_count": null,
   "metadata": {
    "slideshow": {
     "slide_type": "-"
    }
   },
   "outputs": [],
   "source": [
    "data1 <- data.frame(name1=c('tom', 'jerry'), educ=c(9, 12), stringsAsFactors=FALSE)\n",
    "data2 <- data.frame(name2=c('tom', 'jerry', 'spike'), height=c(185, 170, 165), weight=c(70, 62, 60), stringsAsFactors=FALSE)\n",
    "print(full_join(data1, data2, by=c('name1' = 'name2')))\n",
    "#print(merge(data1, data2, by.x='name1', by.y='name2', all=TRUE))"
   ]
  },
  {
   "cell_type": "markdown",
   "metadata": {
    "slideshow": {
     "slide_type": "subslide"
    }
   },
   "source": [
    "- You can use more than one key."
   ]
  },
  {
   "cell_type": "code",
   "execution_count": null,
   "metadata": {
    "slideshow": {
     "slide_type": "-"
    }
   },
   "outputs": [],
   "source": [
    "data1 <- data.frame(name=c('tom', 'jerry'), educ=c(9, 12), year=c(2000, 2000))\n",
    "data2 <- data.frame(name=c('tom', 'jerry'), height=c(185, 170, 187, 171), weight=c(70, 62, 75, 63), year=c(2000, 2000, 2001, 2001))\n",
    "print(full_join(data1, data2, by=c('name','year')))\n",
    "#print(merge(data1, data2, by=c('name','year'), all=TRUE))"
   ]
  },
  {
   "cell_type": "markdown",
   "metadata": {
    "slideshow": {
     "slide_type": "subslide"
    }
   },
   "source": [
    "- What happens if two datasets have the same column name with different values?"
   ]
  },
  {
   "cell_type": "code",
   "execution_count": null,
   "metadata": {
    "slideshow": {
     "slide_type": "-"
    }
   },
   "outputs": [],
   "source": [
    "data1 <- data.frame(name=c('tom', 'jerry'), height=c(185, 170))\n",
    "data2 <- data.frame(name=c('tom', 'jerry'), height=c(185, 172))\n",
    "print(full_join(data1, data2, by='name'))\n",
    "#print(merge(data1, data2, by='name', all=TRUE))"
   ]
  },
  {
   "cell_type": "markdown",
   "metadata": {
    "slideshow": {
     "slide_type": "subslide"
    }
   },
   "source": [
    "- Let's merge election and temperature data.\n",
    "    - What are the keys?"
   ]
  },
  {
   "cell_type": "code",
   "execution_count": 24,
   "metadata": {
    "slideshow": {
     "slide_type": "-"
    }
   },
   "outputs": [],
   "source": [
    "data_use <- full_join(elec_all, temp_all, by=c('state_long' = 'state_name', 'elec_year' = 'elec_year'))"
   ]
  },
  {
   "cell_type": "markdown",
   "metadata": {
    "slideshow": {
     "slide_type": "subslide"
    }
   },
   "source": [
    "- Print `data_use`, which should be in long format. You will often use this type of data structure for the panel data analysis."
   ]
  },
  {
   "cell_type": "code",
   "execution_count": null,
   "metadata": {
    "slideshow": {
     "slide_type": "-"
    }
   },
   "outputs": [],
   "source": [
    "data_use"
   ]
  },
  {
   "cell_type": "markdown",
   "metadata": {
    "slideshow": {
     "slide_type": "slide"
    }
   },
   "source": [
    "### Reshaping Data\n",
    "- If necessary, reshape data for analysis. In that case, use `reshape`.\n",
    "    - In our exercise, we don't need to reshape the data."
   ]
  },
  {
   "cell_type": "code",
   "execution_count": null,
   "metadata": {
    "slideshow": {
     "slide_type": "subslide"
    }
   },
   "outputs": [],
   "source": [
    "data1 <- reshape(data_use, idvar=\"state_long\", timevar=\"elec_year\", direction=\"wide\") # from long to wide\n",
    "rownames(data1) <- NULL # delete old rownames\n",
    "data1"
   ]
  },
  {
   "cell_type": "code",
   "execution_count": null,
   "metadata": {
    "slideshow": {
     "slide_type": "subslide"
    }
   },
   "outputs": [],
   "source": [
    "data2 <- reshape(data1, idvar=\"state_long\", timevar=\"elec_year\", direction=\"long\") # back to long\n",
    "rownames(data2) <- NULL # delete old rownames\n",
    "data2"
   ]
  },
  {
   "cell_type": "markdown",
   "metadata": {
    "slideshow": {
     "slide_type": "slide"
    }
   },
   "source": [
    "### Making Variables\n",
    "- You may need more variables for analysis. For example:\n",
    "    - Logarithm\n",
    "    - Total, mean, min, max...\n",
    "    - Share, ratio...\n",
    "- Let's make \n",
    "    - Vote share of Republican and Democratic candicates\n",
    "    - Natural logarithm of temperature    "
   ]
  },
  {
   "cell_type": "code",
   "execution_count": 25,
   "metadata": {
    "slideshow": {
     "slide_type": "subslide"
    }
   },
   "outputs": [],
   "source": [
    "# make vote shares\n",
    "data_use['gelec_total'] <- rowSums(data_use[c('gelec_dem','gelec_rep','gelec_oth')], na.rm=TRUE)\n",
    "data_use[data_use['gelec_total'] == 0, 'gelec_total'] <- NA\n",
    "data_use['rep_share'] = data_use['gelec_rep'] / data_use['gelec_total'] # republican vote share\n",
    "data_use['dem_share'] = data_use['gelec_dem'] / data_use['gelec_total'] # democrat vote share"
   ]
  },
  {
   "cell_type": "code",
   "execution_count": null,
   "metadata": {
    "slideshow": {
     "slide_type": "subslide"
    }
   },
   "outputs": [],
   "source": [
    "# take natural logs\n",
    "data_use['ln_temp_mean'] <- log(data_use['temp_mean'])\n",
    "data_use['ln_temp_max_max'] <- log(data_use['temp_max_max'])\n",
    "data_use['ln_temp_max_mean'] <- log(data_use['temp_max_mean'])"
   ]
  },
  {
   "cell_type": "markdown",
   "metadata": {
    "slideshow": {
     "slide_type": "slide"
    }
   },
   "source": [
    "### Saving Data"
   ]
  },
  {
   "cell_type": "code",
   "execution_count": 27,
   "metadata": {
    "slideshow": {
     "slide_type": "-"
    }
   },
   "outputs": [],
   "source": [
    "write.table(data_use, file='data/data_use_R.csv', sep=\",\", na=\"\", row.names=FALSE)"
   ]
  }
 ],
 "metadata": {
  "celltoolbar": "Slideshow",
  "kernelspec": {
   "display_name": "R",
   "language": "R",
   "name": "ir"
  },
  "language_info": {
   "codemirror_mode": "r",
   "file_extension": ".r",
   "mimetype": "text/x-r-source",
   "name": "R",
   "pygments_lexer": "r",
   "version": "3.6.2"
  }
 },
 "nbformat": 4,
 "nbformat_minor": 2
}
