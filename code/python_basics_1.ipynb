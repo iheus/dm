{
 "cells": [
  {
   "cell_type": "markdown",
   "metadata": {
    "slideshow": {
     "slide_type": "slide"
    }
   },
   "source": [
    "# Python Basics\n",
    "By Shuhei Kitamura"
   ]
  },
  {
   "cell_type": "markdown",
   "metadata": {
    "slideshow": {
     "slide_type": "subslide"
    }
   },
   "source": [
    "### Outline\n",
    "1. Hello World\n",
    "2. Arithmetic Operation\n",
    "3. Variables and Objects\n",
    "4. Types\n",
    "    - (i) Basics\n",
    "    - (ii) Lists\n",
    "    - (iii) Dictionaries\n",
    "    - (iv) Tuples"
   ]
  },
  {
   "cell_type": "markdown",
   "metadata": {
    "slideshow": {
     "slide_type": "slide"
    }
   },
   "source": [
    "## 1. Hello World\n",
    "- Programming is fun. We start the tutorial with a famous example of `\"Hello World\"`.\n",
    "- Type `\"Hello World\"` and execute (Shift + Enter or push \"Run Cells\" button above).\n",
    "- Next, do the same for `print(\"Hello World\")`.\n",
    "- Does `Hello World` (without quotation marks) work?"
   ]
  },
  {
   "cell_type": "code",
   "execution_count": null,
   "metadata": {
    "slideshow": {
     "slide_type": "-"
    }
   },
   "outputs": [],
   "source": []
  },
  {
   "cell_type": "markdown",
   "metadata": {
    "slideshow": {
     "slide_type": "subslide"
    }
   },
   "source": [
    "- If you want to write a comment, rather than code to execute, use `#`.\n",
    "- Try `print(1 + 2)` with and without `#` mark."
   ]
  },
  {
   "cell_type": "code",
   "execution_count": null,
   "metadata": {
    "slideshow": {
     "slide_type": "-"
    }
   },
   "outputs": [],
   "source": []
  },
  {
   "cell_type": "markdown",
   "metadata": {
    "slideshow": {
     "slide_type": "slide"
    }
   },
   "source": [
    "## 2. Arithmetic Operation\n",
    "- Any arithmetic operation is possible with Python.\n",
    "- Main operators are `+`, `-`, `*`, and `/`.\n",
    "- Write `1 + 2` and execute. \n",
    "- Next, do the same for `print(1 + 2)`. Any difference?"
   ]
  },
  {
   "cell_type": "code",
   "execution_count": null,
   "metadata": {
    "slideshow": {
     "slide_type": "-"
    }
   },
   "outputs": [],
   "source": []
  },
  {
   "cell_type": "markdown",
   "metadata": {
    "slideshow": {
     "slide_type": "subslide"
    }
   },
   "source": [
    "- Calculate: 3 divided by 2 times 1 minus 4 plus 5. (Answer: 2.5)"
   ]
  },
  {
   "cell_type": "code",
   "execution_count": null,
   "metadata": {
    "slideshow": {
     "slide_type": "-"
    }
   },
   "outputs": [],
   "source": []
  },
  {
   "cell_type": "markdown",
   "metadata": {
    "slideshow": {
     "slide_type": "subslide"
    }
   },
   "source": [
    "- `**` for (mathematical) power. Power is right associative. \n",
    "- Compare `-2 ** 4` and `(-2) ** 4`.\n",
    "- Compare `3 ** 3 ** 3` and `(3 ** 3) ** 3`."
   ]
  },
  {
   "cell_type": "code",
   "execution_count": null,
   "metadata": {
    "slideshow": {
     "slide_type": "-"
    }
   },
   "outputs": [],
   "source": []
  },
  {
   "cell_type": "markdown",
   "metadata": {
    "slideshow": {
     "slide_type": "subslide"
    }
   },
   "source": [
    "- `%` for modulus (the remainder from the division) and `//` for floor division (integer division).\n",
    "- Calculate `7 % 2`. \n",
    "- Calculate `7 // 2`. Compare it with `7 / 2`."
   ]
  },
  {
   "cell_type": "code",
   "execution_count": null,
   "metadata": {
    "slideshow": {
     "slide_type": "-"
    }
   },
   "outputs": [],
   "source": []
  },
  {
   "cell_type": "markdown",
   "metadata": {
    "slideshow": {
     "slide_type": "slide"
    }
   },
   "source": [
    "## 3. Variables and Objects\n",
    "- You make a variable and assign data to it. The data are called **objects** in Python.\n",
    "- A (built-in) object has an identity, a type, a value, and methods.\n",
    "- For example, `x = 1` creates a variable with a name `x`, and assigns object `1` to that variable using an identity.\n",
    "- Type `y`. You should get an error. Why?"
   ]
  },
  {
   "cell_type": "code",
   "execution_count": null,
   "metadata": {
    "slideshow": {
     "slide_type": "-"
    }
   },
   "outputs": [],
   "source": []
  },
  {
   "cell_type": "markdown",
   "metadata": {
    "slideshow": {
     "slide_type": "subslide"
    }
   },
   "source": [
    "- To assign an object to a variable, type like this:\n",
    "```python\n",
    "mysum = 1 + 2\n",
    "print(mysum)\n",
    "```\n",
    "- If you do not need to define a variable, just type:\n",
    "```python\n",
    "print(1 + 2)\n",
    "```\n",
    "- You define a variable when you will use it later. \n",
    "- Add `3` to `mysum`."
   ]
  },
  {
   "cell_type": "code",
   "execution_count": null,
   "metadata": {
    "slideshow": {
     "slide_type": "-"
    }
   },
   "outputs": [],
   "source": []
  },
  {
   "cell_type": "markdown",
   "metadata": {
    "slideshow": {
     "slide_type": "subslide"
    }
   },
   "source": [
    "- You can make more than one variable at once. Two ways."
   ]
  },
  {
   "cell_type": "code",
   "execution_count": 42,
   "metadata": {
    "slideshow": {
     "slide_type": "-"
    }
   },
   "outputs": [],
   "source": [
    "a, b = 1, 2\n",
    "c = d = 1"
   ]
  },
  {
   "cell_type": "markdown",
   "metadata": {
    "slideshow": {
     "slide_type": "subslide"
    }
   },
   "source": [
    "- Similarly, you can also print several values at once. This is one of the nice features of Python."
   ]
  },
  {
   "cell_type": "code",
   "execution_count": null,
   "metadata": {
    "slideshow": {
     "slide_type": "-"
    }
   },
   "outputs": [],
   "source": [
    "print(a, b)\n",
    "print(a); print(b)\n",
    "print(c, d)"
   ]
  },
  {
   "cell_type": "markdown",
   "metadata": {
    "slideshow": {
     "slide_type": "slide"
    }
   },
   "source": [
    "## 4. Types\n",
    "### (i) Basics\n",
    "- An object has a unique type. Major types are: **floats**, **integers**, **strings**, **booleans**, **lists**, **tuples**, and **dictionaries**.\n",
    "- Let's first focus on first four types: floats, integers, strings, and booleans.\n",
    "- Use `type()` to check the types of the following objects."
   ]
  },
  {
   "cell_type": "code",
   "execution_count": null,
   "metadata": {
    "slideshow": {
     "slide_type": "-"
    }
   },
   "outputs": [],
   "source": [
    "1\n",
    "1.0\n",
    "\"True\"\n",
    "True"
   ]
  },
  {
   "cell_type": "markdown",
   "metadata": {
    "slideshow": {
     "slide_type": "subslide"
    }
   },
   "source": [
    "- A string is a sequence of characters.\n",
    "- If a string includes a quote like `\"This is a \"quote\"\"`, it returns an error. Use `'This is a \"quote\"'` instead.\n",
    "- Try both."
   ]
  },
  {
   "cell_type": "code",
   "execution_count": null,
   "metadata": {
    "slideshow": {
     "slide_type": "-"
    }
   },
   "outputs": [],
   "source": []
  },
  {
   "cell_type": "markdown",
   "metadata": {
    "slideshow": {
     "slide_type": "subslide"
    }
   },
   "source": [
    "- What is a boolean? Check the outcomes of `1 + 2` and `1 + 2 == 3`. Also check their types.\n",
    "    - `==` is a relational operator, which means \"equal to\" and returns `True` or `False` (You will learn about relational operators later)."
   ]
  },
  {
   "cell_type": "code",
   "execution_count": null,
   "metadata": {
    "slideshow": {
     "slide_type": "-"
    }
   },
   "outputs": [],
   "source": []
  },
  {
   "cell_type": "markdown",
   "metadata": {
    "slideshow": {
     "slide_type": "subslide"
    }
   },
   "source": [
    "- It is possible to change the type of an object for some objects.\n",
    "- To change the type of an object, use, e.g., `float()`, `int()`, `str()`, and `bool()`.\n",
    "- For some objects, you cannot change their values themselves.\n",
    "    - Immutable objects: **float**, **int**, **str**, **bool**, and **tuple**.\n",
    "    - Mutable objects: **list**, **dict**."
   ]
  },
  {
   "cell_type": "markdown",
   "metadata": {
    "slideshow": {
     "slide_type": "subslide"
    }
   },
   "source": [
    "- For example, if you apply one of those functions to an immutable object, a new value will be assigned, rather than changing the object itself.\n",
    "- Convert `1` to float. Also check the type.\n",
    "- Convert `\"abc\"` to float.\n",
    "- Make `list1 = [1, 2]`, then convert `list1` to float. \n",
    "    - Try `float(list1[0])` and `list(map(float, [1,2]))`."
   ]
  },
  {
   "cell_type": "code",
   "execution_count": null,
   "metadata": {
    "slideshow": {
     "slide_type": "-"
    }
   },
   "outputs": [],
   "source": []
  },
  {
   "cell_type": "markdown",
   "metadata": {
    "slideshow": {
     "slide_type": "subslide"
    }
   },
   "source": [
    "- There are relationships between booleans and numeric numbers.\n",
    "- `False` (boolean) is `0` (integer) or `0.0` (float) and `0` (integer) or `0.0` (float) is `False` (boolean).\n",
    "    - `True` is `1` or `1.0` and `1` or `1.0` is `True`. \n",
    "- All other objects are mostly `True`.\n",
    "- Convert `0` to boolean.\n",
    "- What is the boolean of `\"Hello\"`?"
   ]
  },
  {
   "cell_type": "code",
   "execution_count": null,
   "metadata": {
    "slideshow": {
     "slide_type": "-"
    }
   },
   "outputs": [],
   "source": []
  },
  {
   "cell_type": "markdown",
   "metadata": {
    "slideshow": {
     "slide_type": "subslide"
    }
   },
   "source": [
    "- `None` means non-existence.\n",
    "- The type of `None` is `NoneType`. `None` is `False` (boolean).\n",
    "- The type of NumPy's `NaN` (`np.nan`) is float.\n",
    "    - You will learn about NumPy later.\n",
    "- Check them."
   ]
  },
  {
   "cell_type": "code",
   "execution_count": null,
   "metadata": {
    "slideshow": {
     "slide_type": "-"
    }
   },
   "outputs": [],
   "source": [
    "import numpy as np # import NumPy"
   ]
  },
  {
   "cell_type": "markdown",
   "metadata": {
    "slideshow": {
     "slide_type": "subslide"
    }
   },
   "source": [
    "- You can apply `+` and `*` for strings and booleans. This is another nice feature of Python.\n",
    "- Compute `2 * False + True`.\n",
    "- What about `'Ha' * 4 + 'Ha'`?"
   ]
  },
  {
   "cell_type": "code",
   "execution_count": null,
   "metadata": {
    "slideshow": {
     "slide_type": "-"
    }
   },
   "outputs": [],
   "source": []
  },
  {
   "cell_type": "markdown",
   "metadata": {
    "slideshow": {
     "slide_type": "subslide"
    }
   },
   "source": [
    "- However, you cannot include both numbers and strings at once with a `+` operator.\n",
    "- Try:\n",
    "```python\n",
    "print(\"I have \" + 10 + \" bucks.\")\n",
    "```\n",
    "-Next, try:\n",
    "```python\n",
    "print(\"I have \" + str(10) + \" bucks.\")  \n",
    "```\n",
    "- You can use the above form or the following form, whichever you like.\n",
    "```python\n",
    "print(\"I have \", 10 ,\" bucks.\")\n",
    "```"
   ]
  },
  {
   "cell_type": "code",
   "execution_count": null,
   "metadata": {
    "slideshow": {
     "slide_type": "-"
    }
   },
   "outputs": [],
   "source": []
  },
  {
   "cell_type": "markdown",
   "metadata": {
    "slideshow": {
     "slide_type": "subslide"
    }
   },
   "source": [
    "### (ii) Lists\n",
    "- Next, let's move on to lists.\n",
    "- A list is made of brackets `[]`.\n",
    "- A list can contain any type of objects including a list.\n",
    "\n",
    "**Making lists**\n",
    "- You can make a list in the following way.\n",
    "- Check the types of the following lists. Any difference?"
   ]
  },
  {
   "cell_type": "code",
   "execution_count": null,
   "metadata": {
    "slideshow": {
     "slide_type": "-"
    }
   },
   "outputs": [],
   "source": [
    "list1 = ['tom', 1.75, 'jerry', 1.82] \n",
    "list2 = [['tom', 1.75], ['jerry', 1.82]]"
   ]
  },
  {
   "cell_type": "markdown",
   "metadata": {
    "slideshow": {
     "slide_type": "subslide"
    }
   },
   "source": [
    "- There are some clever ways to make a list. For example:"
   ]
  },
  {
   "cell_type": "code",
   "execution_count": null,
   "metadata": {
    "slideshow": {
     "slide_type": "-"
    }
   },
   "outputs": [],
   "source": [
    "list1 = list(range(10)) # range() is a function that produces integers"
   ]
  },
  {
   "cell_type": "markdown",
   "metadata": {
    "slideshow": {
     "slide_type": "-"
    }
   },
   "source": [
    "- Yes. `list()` converts an object to a list."
   ]
  },
  {
   "cell_type": "markdown",
   "metadata": {
    "slideshow": {
     "slide_type": "subslide"
    }
   },
   "source": [
    "- An empty list can be made by writing, e.g., `mylist=[]`."
   ]
  },
  {
   "cell_type": "code",
   "execution_count": null,
   "metadata": {
    "slideshow": {
     "slide_type": "-"
    }
   },
   "outputs": [],
   "source": []
  },
  {
   "cell_type": "markdown",
   "metadata": {
    "slideshow": {
     "slide_type": "subslide"
    }
   },
   "source": [
    "- You can make more than one variable at once for lists as well."
   ]
  },
  {
   "cell_type": "code",
   "execution_count": null,
   "metadata": {
    "slideshow": {
     "slide_type": "-"
    }
   },
   "outputs": [],
   "source": [
    "list3, list4 = [1, 2], [3, 4]"
   ]
  },
  {
   "cell_type": "markdown",
   "metadata": {
    "slideshow": {
     "slide_type": "subslide"
    }
   },
   "source": [
    "- `*` operator can be used for making lists (!)\n",
    "- What are the outcomes of `[1] * 4` and `[\"a\"] * 4`?\n",
    "- Also try `[1 * 4]` and `[\"a\" * 4]`."
   ]
  },
  {
   "cell_type": "code",
   "execution_count": null,
   "metadata": {
    "slideshow": {
     "slide_type": "-"
    }
   },
   "outputs": [],
   "source": []
  },
  {
   "cell_type": "markdown",
   "metadata": {
    "slideshow": {
     "slide_type": "subslide"
    }
   },
   "source": [
    "**Getting items**\n",
    "- Print only the first item of `list1`. Hint: `print(mylist[0])`.\n",
    "    - Python uses \"zero-based indexing.\" Indices start from zero, not one.\n",
    "- What is the type of the first item of `list1`? Check it.\n",
    "- What is the type of the first item of `list2`? Check it.\n",
    "- Get `'sam'` from `list2` ."
   ]
  },
  {
   "cell_type": "code",
   "execution_count": 69,
   "metadata": {
    "slideshow": {
     "slide_type": "-"
    }
   },
   "outputs": [],
   "source": [
    "list1 = ['tom', 1.75, 'jerry', 1.82] \n",
    "list2 = [['tom', 1.75], ['jerry', 1.82]]"
   ]
  },
  {
   "cell_type": "markdown",
   "metadata": {
    "slideshow": {
     "slide_type": "subslide"
    }
   },
   "source": [
    "- You can also use a method called **slicing** to get a subset of a list.\n",
    "- You write like `mylist[start:end]`. The rule is `mylist[inclusive:exclusive]`.\n",
    "    - You do not always need to write `start` or `end`.\n",
    "- Get `'tom'`, `1.75`, and `'jerry'` , i.e., first three items from `list1`."
   ]
  },
  {
   "cell_type": "code",
   "execution_count": 68,
   "metadata": {
    "slideshow": {
     "slide_type": "-"
    }
   },
   "outputs": [],
   "source": [
    "list1 = ['tom', 1.75, 'jerry', 1.82]"
   ]
  },
  {
   "cell_type": "markdown",
   "metadata": {
    "slideshow": {
     "slide_type": "subslide"
    }
   },
   "source": [
    "- You can also use a negative index, which means the index from the end of a list.\n",
    "- What does `list1[-1]` return? Try it."
   ]
  },
  {
   "cell_type": "code",
   "execution_count": 67,
   "metadata": {
    "slideshow": {
     "slide_type": "-"
    }
   },
   "outputs": [],
   "source": [
    "list1 = ['tom', 1.75, 'jerry', 1.82] "
   ]
  },
  {
   "cell_type": "markdown",
   "metadata": {
    "slideshow": {
     "slide_type": "-"
    }
   },
   "source": [
    "- Get `1.75` and `'jerry'` from `list1` using a negative index and slicing."
   ]
  },
  {
   "cell_type": "code",
   "execution_count": 66,
   "metadata": {
    "slideshow": {
     "slide_type": "-"
    }
   },
   "outputs": [],
   "source": [
    "list1 = ['tom', 1.75, 'jerry', 1.82] "
   ]
  },
  {
   "cell_type": "markdown",
   "metadata": {
    "slideshow": {
     "slide_type": "subslide"
    }
   },
   "source": [
    "- You can also get a subset of a string using the same methods.\n",
    "- Get `'er'` from `'jerry'`."
   ]
  },
  {
   "cell_type": "code",
   "execution_count": null,
   "metadata": {
    "slideshow": {
     "slide_type": "-"
    }
   },
   "outputs": [],
   "source": []
  },
  {
   "cell_type": "markdown",
   "metadata": {
    "slideshow": {
     "slide_type": "subslide"
    }
   },
   "source": [
    "- There is a fanky way of getting every items in a list. Use `mylist[start_index::number]`.\n",
    "- Get `'tom'` and `'jerry'` from `list1`."
   ]
  },
  {
   "cell_type": "code",
   "execution_count": 65,
   "metadata": {
    "slideshow": {
     "slide_type": "-"
    }
   },
   "outputs": [],
   "source": [
    "list1 = ['tom', 1.75, 'jerry', 1.82] "
   ]
  },
  {
   "cell_type": "markdown",
   "metadata": {
    "slideshow": {
     "slide_type": "subslide"
    }
   },
   "source": [
    "**Checking items**\n",
    "- You can check if an item is in a list using `in` e.g. `'x' in mylist`, which returns `True` or `False`.\n",
    "- You can apply the same method for strings.\n",
    "- Check if `list1` contains `'jerry'`.\n",
    "- Also check if `'jerry'` contains `'r'`."
   ]
  },
  {
   "cell_type": "code",
   "execution_count": 64,
   "metadata": {
    "slideshow": {
     "slide_type": "-"
    }
   },
   "outputs": [],
   "source": [
    "list1 = ['tom', 1.75, 'jerry', 1.82]"
   ]
  },
  {
   "cell_type": "markdown",
   "metadata": {
    "slideshow": {
     "slide_type": "subslide"
    }
   },
   "source": [
    "**Adding items**\n",
    "- To add an item to a list, use `mylist.append(item)`.\n",
    "- Add `spike` to `list1`."
   ]
  },
  {
   "cell_type": "code",
   "execution_count": 63,
   "metadata": {
    "slideshow": {
     "slide_type": "-"
    }
   },
   "outputs": [],
   "source": [
    "list1 = ['tom', 1.75, 'jerry', 1.82]"
   ]
  },
  {
   "cell_type": "markdown",
   "metadata": {
    "slideshow": {
     "slide_type": "subslide"
    }
   },
   "source": [
    "- You can do the same thing using a `+` operator.\n",
    "- Add `spike` to `list1` using a `+` operator."
   ]
  },
  {
   "cell_type": "code",
   "execution_count": 62,
   "metadata": {
    "slideshow": {
     "slide_type": "-"
    }
   },
   "outputs": [],
   "source": [
    "list1 = ['tom', 1.75, 'jerry', 1.82]"
   ]
  },
  {
   "cell_type": "markdown",
   "metadata": {
    "slideshow": {
     "slide_type": "subslide"
    }
   },
   "source": [
    "**Changing items**\n",
    "- A list is a mutable object. You can change the value of an object if you like.\n",
    "- You can change items in a list by writing `mylist[index] = new_item`.\n",
    "- Change `tom` to `spike` in `list1`."
   ]
  },
  {
   "cell_type": "code",
   "execution_count": 61,
   "metadata": {
    "slideshow": {
     "slide_type": "-"
    }
   },
   "outputs": [],
   "source": [
    "list1 = ['tom', 1.75, 'jerry', 1.82]"
   ]
  },
  {
   "cell_type": "markdown",
   "metadata": {
    "slideshow": {
     "slide_type": "subslide"
    }
   },
   "source": [
    "- To see the difference between mutable and immutable objects, try the following:\n",
    "    - Recall: Strings are immutable objects."
   ]
  },
  {
   "cell_type": "code",
   "execution_count": null,
   "metadata": {
    "slideshow": {
     "slide_type": "-"
    }
   },
   "outputs": [],
   "source": [
    "'tom'[2] = 'l'"
   ]
  },
  {
   "cell_type": "markdown",
   "metadata": {
    "slideshow": {
     "slide_type": "subslide"
    }
   },
   "source": [
    "- For immutable types, once you declare that two objects are identical, you can change a list by changing the identical list.\n",
    "- Print `list3` and check the entries."
   ]
  },
  {
   "cell_type": "code",
   "execution_count": 71,
   "metadata": {
    "slideshow": {
     "slide_type": "-"
    }
   },
   "outputs": [],
   "source": [
    "list3 = ['a', 'b', 'c']\n",
    "list4 = list3\n",
    "list4[1] = 'd'"
   ]
  },
  {
   "cell_type": "markdown",
   "metadata": {
    "slideshow": {
     "slide_type": "subslide"
    }
   },
   "source": [
    "- If you want to avoid such automatic replacement, write instead `mylist2 = mylist1[:]`.\n",
    "- Try the same example, but using this alternative method."
   ]
  },
  {
   "cell_type": "code",
   "execution_count": 70,
   "metadata": {
    "slideshow": {
     "slide_type": "-"
    }
   },
   "outputs": [],
   "source": [
    "list3 = ['a', 'b', 'c']"
   ]
  },
  {
   "cell_type": "markdown",
   "metadata": {
    "slideshow": {
     "slide_type": "subslide"
    }
   },
   "source": [
    "**Deleting items**\n",
    "- To delete an item in the list, use `del mylist[index]`.\n",
    "- Delete `'tom'` from `list1`.\n",
    "- You can also use slicing. Delete `'jerry'` and `'1.82'` from `list1`."
   ]
  },
  {
   "cell_type": "code",
   "execution_count": 72,
   "metadata": {
    "slideshow": {
     "slide_type": "-"
    }
   },
   "outputs": [],
   "source": [
    "list1 = ['tom', 1.75, 'jerry', 1.82]"
   ]
  },
  {
   "cell_type": "markdown",
   "metadata": {
    "slideshow": {
     "slide_type": "subslide"
    }
   },
   "source": [
    "**Exercise (lists)**\n",
    "- 1. Make a list of integers from 1 to 20.\n",
    "- 2. Check the type of the fifth element of the list.\n",
    "- 3. Convert `10` to `'10'` and print the list."
   ]
  },
  {
   "cell_type": "code",
   "execution_count": null,
   "metadata": {
    "slideshow": {
     "slide_type": "-"
    }
   },
   "outputs": [],
   "source": []
  },
  {
   "cell_type": "markdown",
   "metadata": {
    "slideshow": {
     "slide_type": "subslide"
    }
   },
   "source": [
    "### (iii) Dictionaries\n",
    "- The remaining types are dictionaries and tuples.\n",
    "- A dictionary is made of braces `{}`.\n",
    "- A dictionary contains a set of key-value pairs. You can access a value using the associated key.\n",
    "- Keys have to be immutable objects, i.e., numbers (floats, integers), strings, booleans, etc.\n",
    "    - For example, a list cannot be a key.\n",
    "- A dictionary can contain dictionaries.\n",
    "- **There is no concept of order or index for dictionaries!!**\n",
    "    - Recall: You are able to access items in a list using indices."
   ]
  },
  {
   "cell_type": "markdown",
   "metadata": {
    "slideshow": {
     "slide_type": "subslide"
    }
   },
   "source": [
    "**Making dictionaries**\n",
    "- You can make a dictionary in the following way.\n",
    "- Check the types of these dictionaries. Any difference?"
   ]
  },
  {
   "cell_type": "code",
   "execution_count": 1,
   "metadata": {
    "slideshow": {
     "slide_type": "-"
    }
   },
   "outputs": [],
   "source": [
    "dict1 = {'tom':1.75, 'jerry':1.82}\n",
    "dict2 = {'tom':{'height':1.75, 'weight':80.0}, 'jerry':{'height':1.82, 'weight':85.0}}"
   ]
  },
  {
   "cell_type": "markdown",
   "metadata": {
    "slideshow": {
     "slide_type": "subslide"
    }
   },
   "source": [
    "**Getting items**\n",
    "- To access an item in a dictionary, use `mydict[key]`.\n",
    "- Get the height of `'tom'` in `dict1`.\n",
    "- Get the weight of `'jerry'` in `dict2`. Hint: Use `mydict[key1][key2]`."
   ]
  },
  {
   "cell_type": "code",
   "execution_count": 2,
   "metadata": {
    "slideshow": {
     "slide_type": "-"
    }
   },
   "outputs": [],
   "source": [
    "dict1 = {'tom':1.75, 'jerry':1.82}\n",
    "dict2 = {'tom':{'height':1.75, 'weight':80.0}, 'jerry':{'height':1.82, 'weight':85.0}}"
   ]
  },
  {
   "cell_type": "markdown",
   "metadata": {
    "slideshow": {
     "slide_type": "subslide"
    }
   },
   "source": [
    "**Checking keys**\n",
    "- You can get all keys of a dictionary using `mydict.keys()`.\n",
    "    - `.keys()` is called a method. You will learn about it later.\n",
    "- Use `key1 in mydict` to check if `mydict` contains `key1`.\n",
    "- Check all keys of `dict2`.\n",
    "- Check if `height` is included as a key in `dict2` and `dict2['tom']`."
   ]
  },
  {
   "cell_type": "code",
   "execution_count": 3,
   "metadata": {
    "slideshow": {
     "slide_type": "-"
    }
   },
   "outputs": [],
   "source": [
    "dict2 = {'tom':{'height':1.75, 'weight':80.0}, 'jerry':{'height':1.82, 'weight':85.0}}"
   ]
  },
  {
   "cell_type": "markdown",
   "metadata": {
    "slideshow": {
     "slide_type": "subslide"
    }
   },
   "source": [
    "- If a key is not unique, the right most value of the same keys shows up.\n",
    "    - Of course, this should not happen in your data!! The key should be unique, always."
   ]
  },
  {
   "cell_type": "code",
   "execution_count": 4,
   "metadata": {
    "slideshow": {
     "slide_type": "-"
    }
   },
   "outputs": [],
   "source": [
    "dict3 = {'tom':1.75, 'jerry':1.82, 'tom':1.95}"
   ]
  },
  {
   "cell_type": "markdown",
   "metadata": {
    "slideshow": {
     "slide_type": "subslide"
    }
   },
   "source": [
    "**Adding and changing values**\n",
    "- Similar to lists, dictionaries are also mutable objects.\n",
    "- You can add a key-value to a dictionary using `mydict[key]=value` or `mydict.update({key:value})`.\n",
    "- You can change a value by using the same method.\n",
    "- Add a `'spike':1.65` pair to `dict1`.\n",
    "- Change `spike`'s height to `1.58`."
   ]
  },
  {
   "cell_type": "code",
   "execution_count": 5,
   "metadata": {
    "slideshow": {
     "slide_type": "-"
    }
   },
   "outputs": [],
   "source": [
    "dict1 = {'tom':1.75, 'jerry':1.82}"
   ]
  },
  {
   "cell_type": "markdown",
   "metadata": {
    "slideshow": {
     "slide_type": "subslide"
    }
   },
   "source": [
    "**Deleting items**\n",
    "- To delete a pair, use `del mydict[key]`.\n",
    "- Delete `'tom'` and an associated value from `dict1`."
   ]
  },
  {
   "cell_type": "code",
   "execution_count": 9,
   "metadata": {
    "slideshow": {
     "slide_type": "-"
    }
   },
   "outputs": [],
   "source": [
    "dict1 = {'tom':1.75, 'jerry':1.82}"
   ]
  },
  {
   "cell_type": "markdown",
   "metadata": {
    "slideshow": {
     "slide_type": "subslide"
    }
   },
   "source": [
    "**Exercise (dictionaries)**\n",
    "- 1. Make a dictionary of `165` and `180` whose keys are `'tom'` and `'jerry'`, respectively. Name it `dict1`.\n",
    "- 2. Make a dictionary of `58` and `70` whose keys are `'tom'` and `'jerry'`, respectively. Name it `dict2`.\n",
    "- 3. Make a dictionary of `dict1` and `dict2` whose keys are `'height'` and `'weight'`. Name it `dict3`.\n",
    "- 4. Replace the weight of `'tom'` to `60`."
   ]
  },
  {
   "cell_type": "code",
   "execution_count": null,
   "metadata": {
    "slideshow": {
     "slide_type": "subslide"
    }
   },
   "outputs": [],
   "source": []
  },
  {
   "cell_type": "markdown",
   "metadata": {
    "slideshow": {
     "slide_type": "subslide"
    }
   },
   "source": [
    "### (iv) Tuples\n",
    "- A tuple is made of parentheses `()`.\n",
    "- A tuple is similar to a list except that you cannot change the items.\n",
    "    - Recall: Tuples are immutable objects, while lists are mutable objects.\n",
    "- Try changing `2` to `4` in `tuple1`."
   ]
  },
  {
   "cell_type": "code",
   "execution_count": 14,
   "metadata": {
    "slideshow": {
     "slide_type": "-"
    }
   },
   "outputs": [],
   "source": [
    "tuple1 = (1.0, 2, ['tom', 'jerry'])"
   ]
  }
 ],
 "metadata": {
  "celltoolbar": "Slideshow",
  "kernelspec": {
   "display_name": "Python 3",
   "language": "python",
   "name": "python3"
  },
  "language_info": {
   "codemirror_mode": {
    "name": "ipython",
    "version": 3
   },
   "file_extension": ".py",
   "mimetype": "text/x-python",
   "name": "python",
   "nbconvert_exporter": "python",
   "pygments_lexer": "ipython3",
   "version": "3.7.1"
  }
 },
 "nbformat": 4,
 "nbformat_minor": 2
}
