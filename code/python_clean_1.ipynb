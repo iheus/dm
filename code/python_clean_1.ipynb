{
 "cells": [
  {
   "cell_type": "markdown",
   "metadata": {
    "slideshow": {
     "slide_type": "slide"
    }
   },
   "source": [
    "# Cleaning Data using Python\n",
    "By Shuhei Kitamura"
   ]
  },
  {
   "cell_type": "markdown",
   "metadata": {
    "slideshow": {
     "slide_type": "slide"
    }
   },
   "source": [
    "### Outline\n",
    "Research Question: Is there any relationship between Election-Day temperature and electoral outcomes?\n",
    "\n",
    "Let's clean two types of datasets (Senate [election results](https://transition.fec.gov/pubrec/electionresults.shtml) and [daily temperature](https://aqs.epa.gov/aqsweb/airdata/download_files.html)).\n",
    "\n",
    "1. Importing Data\n",
    "2. Treating Missing Values\n",
    "3. Keeping Columns\n",
    "4. Keeping Rows\n",
    "5. Treating Other Values\n",
    "6. Saving Data"
   ]
  },
  {
   "cell_type": "code",
   "execution_count": 1,
   "metadata": {
    "slideshow": {
     "slide_type": "subslide"
    }
   },
   "outputs": [],
   "source": [
    "import os\n",
    "import pandas as pd\n",
    "import numpy as np"
   ]
  },
  {
   "cell_type": "code",
   "execution_count": 2,
   "metadata": {
    "slideshow": {
     "slide_type": "-"
    }
   },
   "outputs": [],
   "source": [
    "pd.options.display.max_rows = 200 # set # of rows to display \n",
    "pd.options.display.max_columns = 100 # set # of columns to display "
   ]
  },
  {
   "cell_type": "code",
   "execution_count": 3,
   "metadata": {
    "slideshow": {
     "slide_type": "-"
    }
   },
   "outputs": [],
   "source": [
    "os.chdir('...') # set the working directory"
   ]
  },
  {
   "cell_type": "markdown",
   "metadata": {
    "slideshow": {
     "slide_type": "slide"
    }
   },
   "source": [
    "## 1. Importing Data\n",
    "- Data are saved in different formats. Typical file extensions are: csv, tsv, and xlsx.\n",
    "    - The way you import data depends on the format of a data file.\n",
    "- For csv (comma separated data) files, use `pd.read_table()` or `pd.read_csv()`.\n",
    "    - Be sure to include `sep=','` option if you use `pd.read_table()`.\n",
    "    - If you add `index_col=0` option, Pandas recognizes that the first column contains column names.\n",
    "- For tsv (tab separated data) files, use `pd.read_table()` or `pd.read_csv()`.\n",
    "- For excel files, use `pd.read_excel()`.\n",
    "- Datasets\n",
    "    - `elec_senate.xlsx`: US Senate general election results 2008-2014\n",
    "    - `daily_TEMP_XXXX.csv`: US temperature 2008-2014"
   ]
  },
  {
   "cell_type": "code",
   "execution_count": 4,
   "metadata": {
    "slideshow": {
     "slide_type": "subslide"
    }
   },
   "outputs": [],
   "source": [
    "elec_data = {}\n",
    "temp_data = {}\n",
    "for year in range(2008,2016,2):\n",
    "    elec_data['elec_'+str(year)] = pd.read_excel('data/elec_senate.xlsx', sheet_name=str(year), dtype=object)\n",
    "    temp_data['elec_'+str(year)] = pd.read_csv('data/daily_TEMP_'+str(year)+'.csv', dtype=object)    "
   ]
  },
  {
   "cell_type": "markdown",
   "metadata": {
    "slideshow": {
     "slide_type": "subslide"
    }
   },
   "source": [
    "### Checking column names and data entries\n",
    "- The very first thing to do after importing data is to check the column names (variables) of the data.\n",
    "- What is the type of `elec_data` and `elec_data['elec_2008']`?\n",
    "- Print the list of columns in `elec_data['elec_2008']`. Hint: Use `.columns`.\n",
    "- To see some samples of the data, use `.head(#)` or `.tail(#)`, where `#` means the number of rows.\n",
    "- What are the types of columns?\n",
    "    - Hint: Use `.dtypes`."
   ]
  },
  {
   "cell_type": "code",
   "execution_count": null,
   "metadata": {
    "slideshow": {
     "slide_type": "-"
    }
   },
   "outputs": [],
   "source": []
  },
  {
   "cell_type": "markdown",
   "metadata": {
    "slideshow": {
     "slide_type": "subslide"
    }
   },
   "source": [
    "### Checking keys\n",
    "- Next, check whether the data have a unique and non-missing key.\n",
    "- Does `elec_data['elec_2008']` have such a key?\n",
    "    - To get the index, use `.index`.\n",
    "    - To check the uniqueness, use `.is_unique`.\n",
    "    - To check the non-missingness, use `.isna().any()`."
   ]
  },
  {
   "cell_type": "code",
   "execution_count": null,
   "metadata": {
    "slideshow": {
     "slide_type": "-"
    }
   },
   "outputs": [],
   "source": []
  },
  {
   "cell_type": "markdown",
   "metadata": {
    "slideshow": {
     "slide_type": "slide"
    }
   },
   "source": [
    "## 2. Treating Missing Values\n",
    "- Print `elec_data['elec_2008']`. Why some values are missing?\n",
    "- There are several strategies to handle missing data:\n",
    "    - 1. Drop them\n",
    "    - 2. Replace it with a sentinel value (e.g., -999)\n",
    "    - 3. Do nothing (decide later)"
   ]
  },
  {
   "cell_type": "code",
   "execution_count": null,
   "metadata": {
    "slideshow": {
     "slide_type": "-"
    }
   },
   "outputs": [],
   "source": [
    "elec_data['elec_2008']"
   ]
  },
  {
   "cell_type": "markdown",
   "metadata": {
    "slideshow": {
     "slide_type": "subslide"
    }
   },
   "source": [
    "### What are missing values in Python? \n",
    "- There are two types.\n",
    "    - `None`: The absence of a value.\n",
    "    - `NaN` (Not a Number): A missing floating-point value.\n",
    "    - (`inf`: an infinite number.)\n",
    "- Print arrays in the below example.\n",
    "    - `array1` and `array2` look the same, but check whether they actually are using `is` and `==`.\n",
    "    - `None` appears as either `None` (for `object`, `bool`, and `str`) or `NaN` (for most other types).\n",
    "- What happens if you aggregate all items in each array?\n",
    "    - Try both `np.sum()` and `sum()`."
   ]
  },
  {
   "cell_type": "code",
   "execution_count": 7,
   "metadata": {
    "slideshow": {
     "slide_type": "subslide"
    }
   },
   "outputs": [],
   "source": [
    "array1 = pd.Series([1, 2, 3, None])\n",
    "array2 = pd.Series([1, 2, 3, np.nan])\n",
    "array3 = pd.Series([1, 2, 3, None], dtype=object) \n",
    "array4 = pd.Series([1, 2, 3, np.inf])"
   ]
  },
  {
   "cell_type": "markdown",
   "metadata": {
    "slideshow": {
     "slide_type": "subslide"
    }
   },
   "source": [
    "### Handling Missing Values\n",
    "- Useful methods\n",
    "    - For checking: `.isna()`, `.notna()`\n",
    "    - For deleting: `.dropna()`\n",
    "    - For replacing: `.fillna()`\n",
    "- Also, you may combine them with `.any()` or `.all()`.\n",
    "- Check and replace missing values with zeros in `array1`.\n",
    "- Drop missing values in `data1`.\n",
    "    - Try `dropna(how='all',axis='columns')`, `dropna(how='all',axis='rows')`, and `dropna(how='any',axis='rows')`."
   ]
  },
  {
   "cell_type": "code",
   "execution_count": 8,
   "metadata": {
    "slideshow": {
     "slide_type": "subslide"
    }
   },
   "outputs": [],
   "source": [
    "array1 = pd.Series([1.0, np.nan, 3.0, None])\n",
    "data1 = pd.DataFrame([[1.0, np.nan, 3.0],[4.0, 5.0, None],[7.0, 8.0, 9.0],[np.nan, np.nan, np.nan]])"
   ]
  },
  {
   "cell_type": "markdown",
   "metadata": {
    "slideshow": {
     "slide_type": "subslide"
    }
   },
   "source": [
    "- You can also use `.notna()` instead of `dropna()` for subsetting."
   ]
  },
  {
   "cell_type": "code",
   "execution_count": 9,
   "metadata": {
    "slideshow": {
     "slide_type": "-"
    }
   },
   "outputs": [],
   "source": [
    "array1 = pd.Series([1.0, np.nan, 3.0, None])\n",
    "array1 = array1[array1.notna()]"
   ]
  },
  {
   "cell_type": "markdown",
   "metadata": {
    "slideshow": {
     "slide_type": "slide"
    }
   },
   "source": [
    "## 3. Keeping Columns\n",
    "- Data may contain some redundant columns that will never be used in analysis. We will drop such columns to reduce the data size.\n",
    "    1. A column whose values are all missing\n",
    "    2. A column whose information is not important\n",
    "- You should be very careful about deciding which columns to keep/drop.\n",
    "    - You may not use those columns in the current project but may use them in another project.\n",
    "- Let's check `elec_data['elec_2008']`."
   ]
  },
  {
   "cell_type": "code",
   "execution_count": null,
   "metadata": {
    "slideshow": {
     "slide_type": "-"
    }
   },
   "outputs": [],
   "source": [
    "elec_data['elec_2008']"
   ]
  },
  {
   "cell_type": "markdown",
   "metadata": {
    "slideshow": {
     "slide_type": "subslide"
    }
   },
   "source": [
    "- All columns look good. What about `temp_data['elec_2008']`?"
   ]
  },
  {
   "cell_type": "code",
   "execution_count": null,
   "metadata": {
    "slideshow": {
     "slide_type": "subslide"
    }
   },
   "outputs": [],
   "source": [
    "temp_data['elec_2008']['Parameter Name'].unique()"
   ]
  },
  {
   "cell_type": "markdown",
   "metadata": {
    "slideshow": {
     "slide_type": "subslide"
    }
   },
   "source": [
    "- Let's drop `Parameter Name`, `Sample Duration`, `Pollutant Standard`, `Units of Measure`, and `AQI`.\n",
    "- There are several ways to remove columns that are all missing. For example:"
   ]
  },
  {
   "cell_type": "code",
   "execution_count": 5,
   "metadata": {
    "slideshow": {
     "slide_type": "-"
    }
   },
   "outputs": [],
   "source": [
    "for year in range(2008,2016,2):\n",
    "    temp_data['elec_'+str(year)+'_keep'] = temp_data['elec_'+str(year)].dropna(how='all',axis='columns')\n",
    "#temp_data['elec_2008_keep']\n",
    "#temp_data.keys()"
   ]
  },
  {
   "cell_type": "markdown",
   "metadata": {
    "slideshow": {
     "slide_type": "subslide"
    }
   },
   "source": [
    "- Next, drop remaining columns."
   ]
  },
  {
   "cell_type": "code",
   "execution_count": 6,
   "metadata": {
    "slideshow": {
     "slide_type": "-"
    }
   },
   "outputs": [],
   "source": [
    "for year in range(2008,2016,2):\n",
    "    temp_data['elec_'+str(year)+'_keep'] = temp_data['elec_'+str(year)+'_keep'].drop(['Parameter Name', 'Sample Duration', 'Units of Measure'],axis=1)"
   ]
  },
  {
   "cell_type": "markdown",
   "metadata": {
    "slideshow": {
     "slide_type": "subslide"
    }
   },
   "source": [
    "### Changing Column Names\n",
    "- Once we have all columns we need, it is time to modify column names. \n",
    "- If column names are very long, use uppercase, have space(s), or written in any other non-generic format, we need to change them.\n",
    "- To simplify the process, we just replace spaces with underscores and change uppercase to lowercase.\n",
    "    - Some column names may still be too long."
   ]
  },
  {
   "cell_type": "code",
   "execution_count": null,
   "metadata": {
    "slideshow": {
     "slide_type": "subslide"
    }
   },
   "outputs": [],
   "source": [
    "temp_data['elec_2008_keep'].columns"
   ]
  },
  {
   "cell_type": "code",
   "execution_count": null,
   "metadata": {
    "slideshow": {
     "slide_type": "-"
    }
   },
   "outputs": [],
   "source": [
    "for year in range(2008,2016,2):\n",
    "    temp_data['elec_'+str(year)+'_keep'].columns = temp_data['elec_'+str(year)+'_keep'].columns.str.replace(' ', '_')\n",
    "    temp_data['elec_'+str(year)+'_keep'].columns = [x.lower() for x in temp_data['elec_'+str(year)+'_keep'].columns]\n",
    "temp_data['elec_2008_keep'].columns"
   ]
  },
  {
   "cell_type": "markdown",
   "metadata": {
    "slideshow": {
     "slide_type": "slide"
    }
   },
   "source": [
    "## 4. Keeping Rows\n",
    "- Since columns are all good by now, we move on to rows.\n",
    "- We need to decide how much rows to keep in the final data.\n",
    "- Things to consider:\n",
    "    - Should we keep rows that are all missing?\n",
    "    - If there are multiple entries per unit of observation, should we keep all of them?"
   ]
  },
  {
   "cell_type": "markdown",
   "metadata": {
    "slideshow": {
     "slide_type": "subslide"
    }
   },
   "source": [
    "- First, let's look at `elec_data['elec_2008']` again. Recall that all election results are missing for some rows."
   ]
  },
  {
   "cell_type": "code",
   "execution_count": null,
   "metadata": {
    "slideshow": {
     "slide_type": "-"
    }
   },
   "outputs": [],
   "source": [
    "elec_data['elec_2008']"
   ]
  },
  {
   "cell_type": "markdown",
   "metadata": {
    "slideshow": {
     "slide_type": "subslide"
    }
   },
   "source": [
    "- Let's drop such rows."
   ]
  },
  {
   "cell_type": "code",
   "execution_count": null,
   "metadata": {
    "slideshow": {
     "slide_type": "-"
    }
   },
   "outputs": [],
   "source": [
    "for year in range(2008,2016,2):\n",
    "    elec_data['elec_'+str(year)+'_keep'] = elec_data['elec_'+str(year)].dropna(how='all',subset=['gelec_dem', 'gelec_rep', 'gelec_oth'])\n",
    "elec_data['elec_2008_keep']"
   ]
  },
  {
   "cell_type": "markdown",
   "metadata": {
    "slideshow": {
     "slide_type": "subslide"
    }
   },
   "source": [
    "- Next, print `temp_data['elec_2008_keep']['date_local']` for New York using `'state_name'`.\n",
    "    - What does the column `'date_local'` mean?\n",
    "    - Should we drop all dates that are not needed for the analysis? Election Days are:\n",
    "        - November 4th, 2008, November 2nd, 2010, November 6th, 2012, November 8th, 2014"
   ]
  },
  {
   "cell_type": "code",
   "execution_count": null,
   "metadata": {
    "slideshow": {
     "slide_type": "-"
    }
   },
   "outputs": [],
   "source": [
    "temp_data['elec_2008_keep']['date_local'].loc[temp_data['elec_2008_keep']['state_name'] == 'New York',]"
   ]
  },
  {
   "cell_type": "markdown",
   "metadata": {
    "slideshow": {
     "slide_type": "subslide"
    }
   },
   "source": [
    "- I suggest we keep all dates. \n",
    "    - The reason: We may use daily temperature on non-election days as well.\n",
    "- Next, print `temp_data['elec_2008_keep']` for New York and `2008-11-04`, i.e., Election Day.\n",
    "    - Are there multiple entries? Why so?"
   ]
  },
  {
   "cell_type": "code",
   "execution_count": null,
   "metadata": {
    "slideshow": {
     "slide_type": "-"
    }
   },
   "outputs": [],
   "source": [
    "temp_data['elec_2008_keep'].loc[(temp_data['elec_2008_keep']['state_name'] == 'New York') & (temp_data['elec_2008_keep']['date_local'] == '2008-11-04'),]"
   ]
  },
  {
   "cell_type": "markdown",
   "metadata": {
    "slideshow": {
     "slide_type": "subslide"
    }
   },
   "source": [
    "- What should we do? There are several options. What are the pros and cons of each method?\n",
    "    - 1. Aggregate data\n",
    "    - 2. Reshape data\n",
    "    - 3. Delete some observations\n",
    "    - 4. Do nothing (decide later)"
   ]
  },
  {
   "cell_type": "markdown",
   "metadata": {
    "slideshow": {
     "slide_type": "subslide"
    }
   },
   "source": [
    "- There is no right answer!\n",
    "- Let's take the fourth option for now. Two reasons: \n",
    "    - There is no point of losing rich information in data (regarding 1 and 3). \n",
    "    - There will be many missing values if we reshape them (regarding 2)."
   ]
  },
  {
   "cell_type": "markdown",
   "metadata": {
    "slideshow": {
     "slide_type": "slide"
    }
   },
   "source": [
    "## 5. Treating Other Values\n",
    "- It could often be the case that you need to modify entries in a dataset \"by hand\".\n",
    "    - Example: some numeric values are written in strings.\n",
    "- The bottom line: Keep code for whatever you do for original data if possible."
   ]
  },
  {
   "cell_type": "markdown",
   "metadata": {
    "slideshow": {
     "slide_type": "slide"
    }
   },
   "source": [
    "## 6. Saving Data\n",
    "- You can save data in any format. However, the most preferred one is csv. Why?\n",
    "    - Since csv is just a text file, it can be read in any text editor. Easy to share.\n",
    "    - By contrast, if you do not want to lose information about formatting, macros, etc., it may be better to save it in excel format.\n",
    "- To save data as a csv file, use `mydata.to_csv`.\n",
    "    - Use `mydata.to_excel` for saving in excel format."
   ]
  },
  {
   "cell_type": "code",
   "execution_count": 9,
   "metadata": {
    "slideshow": {
     "slide_type": "-"
    }
   },
   "outputs": [],
   "source": [
    "for year in range(2008,2016,2):\n",
    "    elec_data['elec_'+str(year)+'_keep'].to_csv('data/elec_senate_'+str(year)+'.csv', index=False)\n",
    "    temp_data['elec_'+str(year)+'_keep'].to_csv('data/daily_temp_'+str(year)+'.csv', index=False)"
   ]
  }
 ],
 "metadata": {
  "celltoolbar": "Slideshow",
  "kernelspec": {
   "display_name": "Python 3",
   "language": "python",
   "name": "python3"
  },
  "language_info": {
   "codemirror_mode": {
    "name": "ipython",
    "version": 3
   },
   "file_extension": ".py",
   "mimetype": "text/x-python",
   "name": "python",
   "nbconvert_exporter": "python",
   "pygments_lexer": "ipython3",
   "version": "3.7.1"
  }
 },
 "nbformat": 4,
 "nbformat_minor": 2
}
