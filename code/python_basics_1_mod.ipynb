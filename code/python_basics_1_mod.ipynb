{
 "cells": [
  {
   "cell_type": "markdown",
   "metadata": {
    "slideshow": {
     "slide_type": "slide"
    }
   },
   "source": [
    "# Python Basics\n",
    "By Shuhei Kitamura"
   ]
  },
  {
   "cell_type": "markdown",
   "metadata": {
    "slideshow": {
     "slide_type": "subslide"
    }
   },
   "source": [
    "### Outline<a id='top'></a>\n",
    "1. [Hello World](#sec1)\n",
    "2. [Arithmetic Operation](#sec2)\n",
    "3. [Variables and Objects](#sec3)\n",
    "4. [Types](#sec4)\n",
    "    1. [Basics](#sec4_1)\n",
    "    2. [Lists](#sec4_2)\n",
    "        1. [Making a list](#sec4_2_1)\n",
    "        2. [Accessing items](#sec4_2_2)\n",
    "        3. [Checking items](#sec4_2_3)\n",
    "        4. [Changing items](#sec4_2_4)\n",
    "        5. [Adding items](#sec4_2_5)\n",
    "        6. [Deleting items](#sec4_2_6)\n",
    "    3. [Dictionaries](#sec4_3)\n",
    "        1. [Making a dictionary](#sec4_3_1)\n",
    "        2. [Accessing items](#sec4_3_2)\n",
    "        3. [Checking keys](#sec4_3_3)\n",
    "        4. [Checking values](#sec4_3_4)\n",
    "        5. [Changing and adding items](#sec4_3_5)\n",
    "        6. [Changing keys](#sec4_3_6)\n",
    "        7. [Deleting items](#sec4_3_7)\n",
    "    4. [Tuples](#sec4_4)\n",
    "        1. [Making a tuple](#sec4_4_1)\n",
    "        2. [Accessing and checking items](#sec4_4_2)\n",
    "        3. [Changing, adding, and deleting items](#sec4_4_3)\n",
    "5. [Loops and If Statements](#sec5)\n",
    "6. [Functions](#sec6)\n",
    "7. [Methods](#sec7)\n",
    "8. [Modules and Packages](#sec8)\n",
    "9. [NumPy](#sec9)\n",
    "    1. [Vectorized computation and ufuncs](#sec9_1)\n",
    "    2. [Making an array](#sec9_2)\n",
    "    3. [Type of items in an array](#sec9_3)\n",
    "    4. [Accessing items](#sec9_4)\n",
    "        1. [Masking](#sec9_4_1)\n",
    "        2. [Fancy indexing](#sec9_4_2)\n",
    "    5. [Checking dimension, shape, size, and length of an array](#sec9_5)    \n",
    "    6. [Changing arrays](#sec9_6)\n",
    "        1. [Changing items](#sec9_6_1)\n",
    "        2. [Adding items](#sec9_6_2)\n",
    "        3. [Concatenating arrays](#sec9_6_3)\n",
    "        4. [Deleting items](#sec9_6_4)\n",
    "        5. [Reshaping an array](#sec9_6_5)\n",
    "    7. [Summarizing items](#sec9_7)\n",
    "10. [Pandas](#sec10)\n",
    "    1. [Series](#sec10_1)\n",
    "        1. [Making a series](#sec10_1_1)\n",
    "        2. [Accessing items](#sec10_1_2)    \n",
    "    2. [DataFrame](#sec10_2)\n",
    "        1. [Making a dataframe](#sec10_2_1)\n",
    "        2. [Accessing items](#sec10_2_2)\n",
    "        3. [Checking dimension, shape, size, and length of a dataframe](#sec10_2_3)\n",
    "        4. [Changing and adding items](#sec10_2_4)\n",
    "        5. [Concatenating dataframes](#sec10_2_5)\n",
    "        6. [Deleting items](#sec10_2_6)\n",
    "        7. [Changing column names/indices](#sec10_2_7)\n",
    "        8. [Sorting items](#sec10_2_8)\n",
    "        9. [Transposing a dataframe](#sec10_2_9)\n",
    "        10. [Summarizing items](#sec10_2_10)"
   ]
  },
  {
   "cell_type": "markdown",
   "metadata": {
    "slideshow": {
     "slide_type": "slide"
    }
   },
   "source": [
    "## 1. Hello World<a id='sec1'></a>\n",
    "- Programming is fun. We start the tutorial with a famous example of `\"Hello World\"`.\n",
    "- Type `\"Hello World\"` and execute (Shift + Enter or push \"Run Cells\" button above).\n",
    "- Next, do the same for `print(\"Hello World\")`. This tells Python to print `\"Hello World\"`.\n",
    "- Does `Hello World` (without quotation marks) work?\n",
    "\n",
    "[back to top](#top)"
   ]
  },
  {
   "cell_type": "code",
   "execution_count": null,
   "metadata": {
    "slideshow": {
     "slide_type": "-"
    }
   },
   "outputs": [],
   "source": []
  },
  {
   "cell_type": "markdown",
   "metadata": {
    "slideshow": {
     "slide_type": "subslide"
    }
   },
   "source": [
    "- If you want to write a comment, rather than the code to execute, use `#` mark in front of texts.\n",
    "- Try `print(1 + 2)` with and without `#` mark. Did you get the same result?"
   ]
  },
  {
   "cell_type": "code",
   "execution_count": null,
   "metadata": {
    "slideshow": {
     "slide_type": "-"
    }
   },
   "outputs": [],
   "source": []
  },
  {
   "cell_type": "markdown",
   "metadata": {
    "slideshow": {
     "slide_type": "slide"
    }
   },
   "source": [
    "## 2. Arithmetic Operation<a id='sec2'></a>\n",
    "- Arithmetic operations are possible in Python.\n",
    "- Main operators are `+`, `-`, `*`, and `/`.\n",
    "- Write `1 + 2` and execute. \n",
    "- Next, do the same for `print(1 + 2)`. Any difference?\n",
    "\n",
    "[back to top](#top)"
   ]
  },
  {
   "cell_type": "code",
   "execution_count": null,
   "metadata": {
    "slideshow": {
     "slide_type": "-"
    }
   },
   "outputs": [],
   "source": []
  },
  {
   "cell_type": "markdown",
   "metadata": {
    "slideshow": {
     "slide_type": "subslide"
    }
   },
   "source": [
    "- `**` for (mathematical) power. Power is right associative. \n",
    "- Compare `-2 ** 4` and `(-2) ** 4`.\n",
    "- Compare `3 ** 3 ** 3` and `(3 ** 3) ** 3`."
   ]
  },
  {
   "cell_type": "code",
   "execution_count": null,
   "metadata": {
    "slideshow": {
     "slide_type": "-"
    }
   },
   "outputs": [],
   "source": []
  },
  {
   "cell_type": "markdown",
   "metadata": {
    "slideshow": {
     "slide_type": "subslide"
    }
   },
   "source": [
    "- `%` for modulus (the remainder from the division) and `//` for floor division (integer division).\n",
    "- Calculate `7 % 2`. \n",
    "- Calculate `7 // 2`. Compare it with `7 / 2`."
   ]
  },
  {
   "cell_type": "code",
   "execution_count": null,
   "metadata": {
    "slideshow": {
     "slide_type": "-"
    }
   },
   "outputs": [],
   "source": []
  },
  {
   "cell_type": "markdown",
   "metadata": {
    "slideshow": {
     "slide_type": "subslide"
    }
   },
   "source": [
    "Exercise 1: Compute the following:\n",
    "$$\n",
    "5 \\times \\left( \\frac{-3}{2} \\right)^{2} \n",
    "$$"
   ]
  },
  {
   "cell_type": "code",
   "execution_count": null,
   "metadata": {
    "slideshow": {
     "slide_type": "-"
    }
   },
   "outputs": [],
   "source": []
  },
  {
   "cell_type": "markdown",
   "metadata": {
    "slideshow": {
     "slide_type": "slide"
    }
   },
   "source": [
    "## 3. Variables and Objects<a id='sec3'></a>\n",
    "- You make a variable and assign data to it. The data are called **objects** in Python.\n",
    "    - A (built-in) object has an identity, a type, a value, and methods.\n",
    "- For example, `x = 1` creates a variable with a name `x`, and assigns object `1` to it.\n",
    "- Type `y`. You should get an error. Why?\n",
    "\n",
    "[back to top](#top)"
   ]
  },
  {
   "cell_type": "code",
   "execution_count": null,
   "metadata": {
    "slideshow": {
     "slide_type": "-"
    }
   },
   "outputs": [],
   "source": []
  },
  {
   "cell_type": "markdown",
   "metadata": {
    "slideshow": {
     "slide_type": "subslide"
    }
   },
   "source": [
    "- Once you define a variable, you can use it later in your code. \n",
    "- Write:\n",
    "```python\n",
    "y = 1 + 2\n",
    "```\n",
    "- Then add `3` to `y` and print it."
   ]
  },
  {
   "cell_type": "code",
   "execution_count": null,
   "metadata": {
    "slideshow": {
     "slide_type": "-"
    }
   },
   "outputs": [],
   "source": []
  },
  {
   "cell_type": "markdown",
   "metadata": {
    "slideshow": {
     "slide_type": "subslide"
    }
   },
   "source": [
    "- Tip: You can make more than one variable at once."
   ]
  },
  {
   "cell_type": "code",
   "execution_count": null,
   "metadata": {
    "slideshow": {
     "slide_type": "-"
    }
   },
   "outputs": [],
   "source": [
    "a, b = 1, 2\n",
    "c = d = 1"
   ]
  },
  {
   "cell_type": "markdown",
   "metadata": {
    "slideshow": {
     "slide_type": "subslide"
    }
   },
   "source": [
    "- Tip: Similarly, you can print several values at once.\n",
    "    - This is one of the nice features about Python!"
   ]
  },
  {
   "cell_type": "code",
   "execution_count": null,
   "metadata": {
    "slideshow": {
     "slide_type": "-"
    }
   },
   "outputs": [],
   "source": [
    "x, y = 1, 2\n",
    "print(x, y)\n",
    "print(x); print(y)"
   ]
  },
  {
   "cell_type": "markdown",
   "metadata": {
    "slideshow": {
     "slide_type": "subslide"
    }
   },
   "source": [
    "Exercise 2: Make variables named `x` and `y`, and assign `\"Hello\"` and `\"World\"` to them, respectively. Print them."
   ]
  },
  {
   "cell_type": "code",
   "execution_count": null,
   "metadata": {
    "slideshow": {
     "slide_type": "-"
    }
   },
   "outputs": [],
   "source": []
  },
  {
   "cell_type": "markdown",
   "metadata": {
    "slideshow": {
     "slide_type": "slide"
    }
   },
   "source": [
    "## 4. Types<a id='sec4'></a>\n",
    "- An object has a type. Major types are: **float**, **integer**, **string**, **boolean**, **list**, **tuple**, and **dictionary**.\n",
    "- We will go through them one by one.\n",
    "\n",
    "[back to top](#top)"
   ]
  },
  {
   "cell_type": "markdown",
   "metadata": {
    "slideshow": {
     "slide_type": "subslide"
    }
   },
   "source": [
    "### A. Basics<a id='sec4_1'></a>\n",
    "- Let's start from basic four types: float (or a floating-point number), integer, string, and boolean.\n",
    "    - Numeric types are float, integer, and complex. We will not talk about complex in this class.\n",
    "    - There used to be another type, long, in Python 2.x, which no longer exist in Python 3.x. \n",
    "- You can use `type()` to check the type of an object.\n",
    "- Run the following code. What did you get?\n",
    "\n",
    "[back to top](#top)"
   ]
  },
  {
   "cell_type": "code",
   "execution_count": null,
   "metadata": {
    "slideshow": {
     "slide_type": "-"
    }
   },
   "outputs": [],
   "source": [
    "print(type(1.0))\n",
    "print(type(1)) \n",
    "print(type(\"True\"))\n",
    "print(type(True))"
   ]
  },
  {
   "cell_type": "markdown",
   "metadata": {
    "slideshow": {
     "slide_type": "subslide"
    }
   },
   "source": [
    "- A string is a sequence of characters like `\"Hello\"`.\n",
    "- You define a string using quotes `'...'` or `\"...\"`.\n",
    "    - \"In Python, single-quoted strings and double-quoted strings are the same. This PEP does not make a recommendation for this. Pick a rule and stick to it.\" (See [PEP](https://www.python.org/dev/peps/pep-0008/#string-quotes).)\n",
    "- Tip: If a string includes a quote like `\"This is a \"quote\"\"`, it returns an error. In such a case, write like `'This is a \"quote\"'` instead. That is, start and end a string using single quotes. Try both."
   ]
  },
  {
   "cell_type": "code",
   "execution_count": null,
   "metadata": {
    "slideshow": {
     "slide_type": "-"
    }
   },
   "outputs": [],
   "source": []
  },
  {
   "cell_type": "markdown",
   "metadata": {
    "slideshow": {
     "slide_type": "subslide"
    }
   },
   "source": [
    "- What is a boolean? Check the outcomes of `1 + 2` and `1 + 2 == 3`. Also check their types.\n",
    "    - `==` is a **relational operator** (or a comparison operator), which means \"equal to\" and returns `True` or `False`, i.e., a boolean. (You will learn about relational operators later.)"
   ]
  },
  {
   "cell_type": "code",
   "execution_count": null,
   "metadata": {
    "slideshow": {
     "slide_type": "-"
    }
   },
   "outputs": [],
   "source": []
  },
  {
   "cell_type": "markdown",
   "metadata": {
    "slideshow": {
     "slide_type": "subslide"
    }
   },
   "source": [
    "- There are relationships between booleans and numeric numbers (e.g., float, integer).\n",
    "- `False` (boolean) is `0` (integer) or `0.0` (float).\n",
    "    - `True` is `1` or `1.0`. \n",
    "- Both `0` (integer) and `0.0` (float) are `False` (boolean).\n",
    "    - Both `1` and `1.0` are `True`. \n",
    "- All other objects (e.g., strings) are mostly `True`.\n",
    "- What is the boolean of `0`? What about `\"Hello\"`?"
   ]
  },
  {
   "cell_type": "code",
   "execution_count": null,
   "metadata": {
    "slideshow": {
     "slide_type": "-"
    }
   },
   "outputs": [],
   "source": []
  },
  {
   "cell_type": "markdown",
   "metadata": {
    "slideshow": {
     "slide_type": "subslide"
    }
   },
   "source": [
    "- Tip: Booleans can be used for arithmetic computation. You can also use `+` and `*` for strings.\n",
    "- Try `True + False` and `\"Ha\" * 3`."
   ]
  },
  {
   "cell_type": "code",
   "execution_count": null,
   "metadata": {
    "slideshow": {
     "slide_type": "-"
    }
   },
   "outputs": [],
   "source": []
  },
  {
   "cell_type": "markdown",
   "metadata": {
    "slideshow": {
     "slide_type": "subslide"
    }
   },
   "source": [
    "- ***Important***: However, you cannot include both numeric numbers and strings at once with a `+` operator.\n",
    "- Try:\n",
    "```python\n",
    "print(\"I have \" + 10 + \" bucks.\")\n",
    "```\n",
    "Next, try:\n",
    "```python\n",
    "print(\"I have \" + str(10) + \" bucks.\")  \n",
    "```\n",
    "- Here, `str(10)` converts a numeric number `10` to a string `\"10\"`.\n",
    "- Or use the following code if you like:\n",
    "```python\n",
    "print(\"I have \", 10 ,\" bucks.\")\n",
    "```"
   ]
  },
  {
   "cell_type": "code",
   "execution_count": null,
   "metadata": {
    "slideshow": {
     "slide_type": "-"
    }
   },
   "outputs": [],
   "source": []
  },
  {
   "cell_type": "markdown",
   "metadata": {
    "slideshow": {
     "slide_type": "subslide"
    }
   },
   "source": [
    "- In many cases, it is possible to change the type of an object (e.g., `str(10)`).\n",
    "- To change the type of an object, use, e.g., `float()`, `int()`, `str()`, and `bool()`.\n",
    "- Convert `1` to float. Also check the type.\n",
    "- Next, convert `\"abc\"` to float. Did you get an error?"
   ]
  },
  {
   "cell_type": "code",
   "execution_count": null,
   "metadata": {
    "slideshow": {
     "slide_type": "-"
    }
   },
   "outputs": [],
   "source": []
  },
  {
   "cell_type": "markdown",
   "metadata": {
    "slideshow": {
     "slide_type": "subslide"
    }
   },
   "source": [
    "- There is an object called `None`.\n",
    "    - `None` means non-existence (null).\n",
    "    - The type of `None` is `NoneType`. `None` is `False` (boolean).\n",
    "- There is a similar object `NaN` (`np.nan`) in the NumPy package.\n",
    "    - Missing values in data are often denoted as `NaN`.\n",
    "    - The type of `NaN`  is float. `NaN` is `True` (boolean).\n",
    "- Run the following code."
   ]
  },
  {
   "cell_type": "code",
   "execution_count": null,
   "metadata": {
    "slideshow": {
     "slide_type": "-"
    }
   },
   "outputs": [],
   "source": [
    "print(None)\n",
    "print(type(None))\n",
    "print(bool(None))\n",
    "import numpy as np # import NumPy. you will learn how to import packages/modules later.\n",
    "print(np.nan)\n",
    "print(type(np.nan))\n",
    "print(bool(np.nan))"
   ]
  },
  {
   "cell_type": "markdown",
   "metadata": {
    "slideshow": {
     "slide_type": "subslide"
    }
   },
   "source": [
    "Exercise 3: Check the type of `1 + True`. Is the type different from that of `1.0 + True`?"
   ]
  },
  {
   "cell_type": "code",
   "execution_count": null,
   "metadata": {
    "slideshow": {
     "slide_type": "-"
    }
   },
   "outputs": [],
   "source": []
  },
  {
   "cell_type": "markdown",
   "metadata": {
    "slideshow": {
     "slide_type": "subslide"
    }
   },
   "source": [
    "### B. Lists<a id='sec4_2'></a>\n",
    "- Let's move on to lists, which are a very important type.\n",
    "- A list is made of brackets `[]`.\n",
    "- A list can contain any type of objects including a list.\n",
    "\n",
    "[back to top](#top)"
   ]
  },
  {
   "cell_type": "markdown",
   "metadata": {
    "slideshow": {
     "slide_type": "subslide"
    }
   },
   "source": [
    "**a. Making a list**<a id='sec4_2_1'></a>\n",
    "- You can make a list in the following way.\n",
    "- Print the following lists. Then, check their types. Any difference?\n",
    "\n",
    "[back to top](#top)"
   ]
  },
  {
   "cell_type": "code",
   "execution_count": null,
   "metadata": {
    "slideshow": {
     "slide_type": "-"
    }
   },
   "outputs": [],
   "source": [
    "list1 = [\"tom\", 1.75, \"jerry\", 1.82] \n",
    "list2 = [[\"tom\", 1.75], [\"jerry\", 1.82]]"
   ]
  },
  {
   "cell_type": "markdown",
   "metadata": {
    "slideshow": {
     "slide_type": "subslide"
    }
   },
   "source": [
    "- An empty list can be made in the following way.\n",
    "- Print `list1`. Then, check the type."
   ]
  },
  {
   "cell_type": "code",
   "execution_count": null,
   "metadata": {
    "slideshow": {
     "slide_type": "-"
    }
   },
   "outputs": [],
   "source": [
    "list1 = []"
   ]
  },
  {
   "cell_type": "markdown",
   "metadata": {
    "slideshow": {
     "slide_type": "subslide"
    }
   },
   "source": [
    "- Tip: You can make more than one list at once.\n",
    "- Run the following code."
   ]
  },
  {
   "cell_type": "code",
   "execution_count": null,
   "metadata": {
    "slideshow": {
     "slide_type": "-"
    }
   },
   "outputs": [],
   "source": [
    "list1, list2 = [1, 2], [3, 4]"
   ]
  },
  {
   "cell_type": "markdown",
   "metadata": {
    "slideshow": {
     "slide_type": "subslide"
    }
   },
   "source": [
    "- Tip: `*` operator can be used for making a list.\n",
    "- What is the outcome of `[\"Ha\"] * 4`? What about `[\"Ha\" * 4]`?"
   ]
  },
  {
   "cell_type": "code",
   "execution_count": null,
   "metadata": {
    "slideshow": {
     "slide_type": "-"
    }
   },
   "outputs": [],
   "source": []
  },
  {
   "cell_type": "markdown",
   "metadata": {
    "slideshow": {
     "slide_type": "subslide"
    }
   },
   "source": [
    "- Tip: There are some clever ways to make a list.\n",
    "- Print `list1`. Then, check the type."
   ]
  },
  {
   "cell_type": "code",
   "execution_count": null,
   "metadata": {
    "slideshow": {
     "slide_type": "-"
    }
   },
   "outputs": [],
   "source": [
    "list1 = list(range(10)) # range() is a function that produces integers. you will learn more about functions later."
   ]
  },
  {
   "cell_type": "markdown",
   "metadata": {
    "slideshow": {
     "slide_type": "subslide"
    }
   },
   "source": [
    "**b. Accessing items**<a id='sec4_2_2'></a>\n",
    "- Next, we want to access the first item of `list1` (i.e., `\"tom\"`). How?\n",
    "```python\n",
    "list1 = [\"tom\", 1.75, \"jerry\", 1.82] \n",
    "```\n",
    "\n",
    "[back to top](#top)"
   ]
  },
  {
   "cell_type": "markdown",
   "metadata": {
    "slideshow": {
     "slide_type": "subslide"
    }
   },
   "source": [
    "- To access the first item of `list1`, type `list1[0]`, i.e., an object name + `[0]`.\n",
    "    - Shouldn't it be `[1]`?\n",
    "    - ***Important***: Python uses \"zero-based indexing.\" Indices start from zero, not one!\n",
    "- Access the second item of `list1`."
   ]
  },
  {
   "cell_type": "code",
   "execution_count": null,
   "metadata": {
    "slideshow": {
     "slide_type": "-"
    }
   },
   "outputs": [],
   "source": [
    "list1 = [\"tom\", 1.75, \"jerry\", 1.82]"
   ]
  },
  {
   "cell_type": "markdown",
   "metadata": {
    "slideshow": {
     "slide_type": "subslide"
    }
   },
   "source": [
    "- Next, we want to access `\"tom\"` in `list2`. How?\n",
    "```python\n",
    "list2 = [[\"tom\", 1.75], [\"jerry\", 1.82]]\n",
    "```\n",
    "- Try `list2[0]`. What did you get? Next, try `list2[0][0]`."
   ]
  },
  {
   "cell_type": "code",
   "execution_count": null,
   "metadata": {
    "slideshow": {
     "slide_type": "-"
    }
   },
   "outputs": [],
   "source": [
    "list2 = [[\"tom\", 1.75], [\"jerry\", 1.82]]"
   ]
  },
  {
   "cell_type": "markdown",
   "metadata": {
    "slideshow": {
     "slide_type": "subslide"
    }
   },
   "source": [
    "- You can also use **slicing** to access a subset of a list.\n",
    "- You write like `mylist[start:end]`.\n",
    "    - The rule is `mylist[inclusive:exclusive]`. That is, the end index is not included.\n",
    "    - You do not always need to write `start` or `end`. You can also write, e.g., `mylist[:end]` or `mylist[start:]`. \n",
    "- Access the first three items in `list1` using slicing."
   ]
  },
  {
   "cell_type": "code",
   "execution_count": null,
   "metadata": {
    "slideshow": {
     "slide_type": "-"
    }
   },
   "outputs": [],
   "source": [
    "list1 = [\"tom\", 1.75, \"jerry\", 1.82]"
   ]
  },
  {
   "cell_type": "markdown",
   "metadata": {
    "slideshow": {
     "slide_type": "subslide"
    }
   },
   "source": [
    "- You can also use a negative index, which means the index from the end of a list.\n",
    "- Access `1.75` and `\"jerry\"` in `list1` using a negative index and slicing."
   ]
  },
  {
   "cell_type": "code",
   "execution_count": null,
   "metadata": {
    "slideshow": {
     "slide_type": "-"
    }
   },
   "outputs": [],
   "source": [
    "list1 = [\"tom\", 1.75, \"jerry\", 1.82]"
   ]
  },
  {
   "cell_type": "markdown",
   "metadata": {
    "slideshow": {
     "slide_type": "subslide"
    }
   },
   "source": [
    "- Tip: There is a fanky way of accessing items in a list. Use `mylist[start_index::number]`.\n",
    "    - This `number` indicates how many items to be skipped (e.g., `2` means that 1 item will be skipped).\n",
    "- Try `list1[0::1]`. Then, try `list1[0::2]` and `list1[1::2]`."
   ]
  },
  {
   "cell_type": "code",
   "execution_count": null,
   "metadata": {
    "slideshow": {
     "slide_type": "-"
    }
   },
   "outputs": [],
   "source": [
    "list1 = [\"tom\", 1.75, \"jerry\", 1.82]"
   ]
  },
  {
   "cell_type": "markdown",
   "metadata": {
    "slideshow": {
     "slide_type": "subslide"
    }
   },
   "source": [
    "- You can also access a subset of a string using the same methods.\n",
    "- Access `\"jer\"` in `\"jerry\"`."
   ]
  },
  {
   "cell_type": "code",
   "execution_count": null,
   "metadata": {
    "slideshow": {
     "slide_type": "-"
    }
   },
   "outputs": [],
   "source": []
  },
  {
   "cell_type": "markdown",
   "metadata": {
    "slideshow": {
     "slide_type": "subslide"
    }
   },
   "source": [
    "**c. Checking items**<a id='sec4_2_3'></a>\n",
    "- You can check if a list contains a specific item using `in` like `\"x\" in mylist`.\n",
    "    - This returns `True` or `False`.\n",
    "    - The `in` and `not in` are also called **membership operators**. \n",
    "- Check if `list1` contains `\"jerry\"`.\n",
    "\n",
    "[back to top](#top)"
   ]
  },
  {
   "cell_type": "code",
   "execution_count": null,
   "metadata": {
    "slideshow": {
     "slide_type": "-"
    }
   },
   "outputs": [],
   "source": [
    "list1 = [\"tom\", 1.75, \"jerry\", 1.82]"
   ]
  },
  {
   "cell_type": "markdown",
   "metadata": {
    "slideshow": {
     "slide_type": "subslide"
    }
   },
   "source": [
    "- Similarly, you can check if two items are the same or not by using relational operators (e.g., `==`, `!=`) or **identity operators** (`is`, `is not`).\n",
    "    - You will learn more about such operators later.\n",
    "- You type like `mylist[0] == mylist[1]`.\n",
    "- Check if the first and third items are the same in `list1` using a relational operator."
   ]
  },
  {
   "cell_type": "code",
   "execution_count": null,
   "metadata": {
    "slideshow": {
     "slide_type": "-"
    }
   },
   "outputs": [],
   "source": [
    "list1 = [\"tom\", 1.75, \"jerry\", 1.82]"
   ]
  },
  {
   "cell_type": "markdown",
   "metadata": {
    "slideshow": {
     "slide_type": "subslide"
    }
   },
   "source": [
    "**d. Changing items**<a id='sec4_2_4'></a>\n",
    "- Once you access an item, you can change it.\n",
    "- Before doing so, it is worthwhile to mention the difference between mutable and immutable objects.\n",
    "    - **Immutable objects**: You cannot change an object itself (**float**, **int**, **str**, **bool**, and **tuple**).\n",
    "    - **Mutable objects**: You can change an object itself (**list** and **dict**).\n",
    "    \n",
    "[back to top](#top)"
   ]
  },
  {
   "cell_type": "markdown",
   "metadata": {
    "slideshow": {
     "slide_type": "subslide"
    }
   },
   "source": [
    "- A list is a mutable object. To change an item in a list, type `mylist[index] = new_item`.\n",
    "- Change `\"tom\"` to `\"spike\"` in `list1`. Then, print it."
   ]
  },
  {
   "cell_type": "code",
   "execution_count": null,
   "metadata": {
    "slideshow": {
     "slide_type": "-"
    }
   },
   "outputs": [],
   "source": [
    "list1 = [\"tom\", 1.75, \"jerry\", 1.82]"
   ]
  },
  {
   "cell_type": "markdown",
   "metadata": {
    "slideshow": {
     "slide_type": "subslide"
    }
   },
   "source": [
    "- To see the difference between mutable and immutable objects, try the following:\n",
    "    - Recall: Strings are immutable objects."
   ]
  },
  {
   "cell_type": "code",
   "execution_count": null,
   "metadata": {
    "slideshow": {
     "slide_type": "-"
    }
   },
   "outputs": [],
   "source": [
    "\"tom\"[2] = \"l\""
   ]
  },
  {
   "cell_type": "markdown",
   "metadata": {
    "slideshow": {
     "slide_type": "subslide"
    }
   },
   "source": [
    "- But recall that you can do the following change even for immutable objects.\n",
    "    - Recall: Booleans are immutable objects.\n",
    "- In this case, a new object is assigned, rather than changing the object itself."
   ]
  },
  {
   "cell_type": "code",
   "execution_count": null,
   "metadata": {
    "slideshow": {
     "slide_type": "-"
    }
   },
   "outputs": [],
   "source": [
    "print(float(True))\n",
    "print(id(float(True)), id(True)) # check if float(True) and True have the same identity"
   ]
  },
  {
   "cell_type": "markdown",
   "metadata": {
    "slideshow": {
     "slide_type": "subslide"
    }
   },
   "source": [
    "- ***Important***: For mutable objects, once you declare that two objects are identical, changing a list automatically changes the other.\n",
    "- Print `list1`. What did you find?"
   ]
  },
  {
   "cell_type": "code",
   "execution_count": null,
   "metadata": {
    "slideshow": {
     "slide_type": "-"
    }
   },
   "outputs": [],
   "source": [
    "list1 = [\"a\", \"b\", \"c\"]\n",
    "list2 = list1 # declare that list1 and list2 are identical\n",
    "print(id(list1), id(list2)) # show that two objects have the same identity\n",
    "list2[1] = \"d\" # change only an item in list2"
   ]
  },
  {
   "cell_type": "markdown",
   "metadata": {
    "slideshow": {
     "slide_type": "subslide"
    }
   },
   "source": [
    "- If you want to avoid such an automatic replacement, type instead `mylist2 = mylist1[:]`.\n",
    "- Try the same example, but using this alternative method."
   ]
  },
  {
   "cell_type": "code",
   "execution_count": null,
   "metadata": {
    "slideshow": {
     "slide_type": "-"
    }
   },
   "outputs": [],
   "source": [
    "list1 = [\"a\", \"b\", \"c\"]"
   ]
  },
  {
   "cell_type": "markdown",
   "metadata": {
    "slideshow": {
     "slide_type": "subslide"
    }
   },
   "source": [
    "**e. Adding items**<a id='sec4_2_5'></a>\n",
    "- To add an item to a list, use `mylist.append(item)`.\n",
    "    - This `.append()` is a **method**. You will learn about methods later.\n",
    "- Add `\"spike\"` to `list1`.\n",
    "\n",
    "[back to top](#top)"
   ]
  },
  {
   "cell_type": "code",
   "execution_count": null,
   "metadata": {
    "slideshow": {
     "slide_type": "-"
    }
   },
   "outputs": [],
   "source": [
    "list1 = [\"tom\", 1.75, \"jerry\", 1.82]"
   ]
  },
  {
   "cell_type": "markdown",
   "metadata": {
    "slideshow": {
     "slide_type": "subslide"
    }
   },
   "source": [
    "- Alternatively, you can do the same thing using a `+` operator.\n",
    "- Add `\"spike\"` to `list1` using a `+` operator."
   ]
  },
  {
   "cell_type": "code",
   "execution_count": null,
   "metadata": {
    "slideshow": {
     "slide_type": "-"
    }
   },
   "outputs": [],
   "source": [
    "list1 = [\"tom\", 1.75, \"jerry\", 1.82]"
   ]
  },
  {
   "cell_type": "markdown",
   "metadata": {
    "slideshow": {
     "slide_type": "subslide"
    }
   },
   "source": [
    "**f. Deleting items**<a id='sec4_2_6'></a>\n",
    "- Deleting items from a list is like taking a subset of the list.\n",
    "- Remove `\"tom\"` from `list1` by taking a subset.\n",
    "- Alternatively, you can use `mylist.remove(item)` or `del mylist[index]`. Repeat the same thing using these methods.\n",
    "\n",
    "[back to top](#top)"
   ]
  },
  {
   "cell_type": "code",
   "execution_count": null,
   "metadata": {
    "slideshow": {
     "slide_type": "-"
    }
   },
   "outputs": [],
   "source": [
    "list1 = [\"tom\", 1.75, \"jerry\", 1.82]"
   ]
  },
  {
   "cell_type": "markdown",
   "metadata": {
    "slideshow": {
     "slide_type": "subslide"
    }
   },
   "source": [
    "Exercise 4:\n",
    "1. Make a list of integers from 1 to 20 and name it `list1`. Print it.\n",
    "2. Check the type of the fifth item of `list1`.\n",
    "3. Convert `10` to `\"10\"` and print `list1`."
   ]
  },
  {
   "cell_type": "code",
   "execution_count": null,
   "metadata": {
    "slideshow": {
     "slide_type": "-"
    }
   },
   "outputs": [],
   "source": []
  },
  {
   "cell_type": "markdown",
   "metadata": {
    "slideshow": {
     "slide_type": "subslide"
    }
   },
   "source": [
    "### C. Dictionaries<a id='sec4_3'></a>\n",
    "- The remaining types are dictionaries and tuples.\n",
    "- A dictionary is made of braces `{}`.\n",
    "- A dictionary contains a set of key-value pairs. You can access a value using the associated key.\n",
    "- A dictionary can contain any type of objects including a dictionary.\n",
    "- Keys have to be immutable objects, i.e., floats, integers, strings, booleans, etc.\n",
    "    - For example, a list cannot be a key.\n",
    "- ***Important***: There is no concept of the order or the index for dictionaries!\n",
    "    - Recall: You are able to access items in a list using indices. You cannot do the same thing for dictionaries. There is no index for dictionaries.\n",
    "    \n",
    "[back to top](#top)"
   ]
  },
  {
   "cell_type": "markdown",
   "metadata": {
    "slideshow": {
     "slide_type": "subslide"
    }
   },
   "source": [
    "**a. Making a dictionary**<a id='sec4_3_1'></a>\n",
    "- You can make a dictionary in the following way.\n",
    "- Check the types of these dictionaries. Any difference?\n",
    "\n",
    "[back to top](#top)"
   ]
  },
  {
   "cell_type": "code",
   "execution_count": null,
   "metadata": {
    "slideshow": {
     "slide_type": "-"
    }
   },
   "outputs": [],
   "source": [
    "dict1 = {'tom':1.75, 'jerry':1.82}\n",
    "dict2 = {'tom':{'height':1.75, 'weight':80.0}, 'jerry':{'height':1.82, 'weight':85.0}}"
   ]
  },
  {
   "cell_type": "markdown",
   "metadata": {
    "slideshow": {
     "slide_type": "subslide"
    }
   },
   "source": [
    "**b. Accessing items**<a id='sec4_3_2'></a>\n",
    "- To access an item in a dictionary, use `mydict[key]`.\n",
    "- Access the value of `'tom'` (i.e., `1.75`) in `dict1`.\n",
    "- Access the weight of `'jerry'` in `dict2`. Hint: Use `mydict[key1][key2]`.\n",
    "\n",
    "[back to top](#top)"
   ]
  },
  {
   "cell_type": "code",
   "execution_count": null,
   "metadata": {
    "slideshow": {
     "slide_type": "-"
    }
   },
   "outputs": [],
   "source": [
    "dict1 = {'tom':1.75, 'jerry':1.82}\n",
    "dict2 = {'tom':{'height':1.75, 'weight':80.0}, 'jerry':{'height':1.82, 'weight':85.0}}"
   ]
  },
  {
   "cell_type": "markdown",
   "metadata": {
    "slideshow": {
     "slide_type": "subslide"
    }
   },
   "source": [
    "**c. Checking keys**<a id='sec4_3_3'></a>\n",
    "- You can access all the keys of a dictionary using `mydict.keys()`.\n",
    "- Use `key1 in mydict` to check if `mydict` contains `key1`.\n",
    "- Check all the keys of `dict2`.\n",
    "- Check if `'height'` is included as a key in `dict2` and `dict2['tom']`, respectively.\n",
    "\n",
    "[back to top](#top)"
   ]
  },
  {
   "cell_type": "code",
   "execution_count": null,
   "metadata": {
    "slideshow": {
     "slide_type": "-"
    }
   },
   "outputs": [],
   "source": [
    "dict2 = {'tom':{'height':1.75, 'weight':80.0}, 'jerry':{'height':1.82, 'weight':85.0}}"
   ]
  },
  {
   "cell_type": "markdown",
   "metadata": {
    "slideshow": {
     "slide_type": "subslide"
    }
   },
   "source": [
    "- ***Important***: If the key is not unique, the right most value of those keys shows up.\n",
    "    - Of course, this should not happen in your data! The key should be unique as always.\n",
    "- Run the following code."
   ]
  },
  {
   "cell_type": "code",
   "execution_count": null,
   "metadata": {
    "slideshow": {
     "slide_type": "-"
    }
   },
   "outputs": [],
   "source": [
    "dict1 = {'tom':1.75, 'jerry':1.82, 'tom':1.95}\n",
    "dict1['tom']"
   ]
  },
  {
   "cell_type": "markdown",
   "metadata": {
    "slideshow": {
     "slide_type": "subslide"
    }
   },
   "source": [
    "**d. Checking values**<a id='sec4_3_4'></a>\n",
    "- To check all the values of a dictionary, use `mydict.values()`.\n",
    "- Check if `dict1` contains `1.75`. What about it in `dict2`?\n",
    "\n",
    "[back to top](#top)"
   ]
  },
  {
   "cell_type": "code",
   "execution_count": null,
   "metadata": {
    "slideshow": {
     "slide_type": "-"
    }
   },
   "outputs": [],
   "source": [
    "dict1 = {'tom':1.75, 'jerry':1.82}\n",
    "dict2 = {'tom':{'height':1.75, 'weight':80.0}, 'jerry':{'height':1.82, 'weight':85.0}}"
   ]
  },
  {
   "cell_type": "markdown",
   "metadata": {
    "slideshow": {
     "slide_type": "subslide"
    }
   },
   "source": [
    "**e. Changing and adding items**<a id='sec4_3_5'></a>\n",
    "- Similar to the list, dictionaries are also mutable objects.\n",
    "- You can add a key-value pair to a dictionary using `mydict[key]=value` or `mydict.update({key1:value1, key2:value2, ...})`.\n",
    "- You can also change values in the same way. \n",
    "- Add a `'spike':1.65` pair to `dict1`.\n",
    "- Change `'spike'`'s height to `1.58`.\n",
    "\n",
    "[back to top](#top)"
   ]
  },
  {
   "cell_type": "code",
   "execution_count": null,
   "metadata": {
    "slideshow": {
     "slide_type": "-"
    }
   },
   "outputs": [],
   "source": [
    "dict1 = {'tom':1.75, 'jerry':1.82}"
   ]
  },
  {
   "cell_type": "markdown",
   "metadata": {
    "slideshow": {
     "slide_type": "subslide"
    }
   },
   "source": [
    "**f. Changing keys**<a id='sec4_3_6'></a>\n",
    "- To change a key to another, you can write like `mydict[new_key] = mydict.pop(old_key)`.\n",
    "- Change `'tom'` in `dict1` to `'spike'`. Print it.\n",
    "\n",
    "[back to top](#top)"
   ]
  },
  {
   "cell_type": "code",
   "execution_count": null,
   "metadata": {
    "slideshow": {
     "slide_type": "-"
    }
   },
   "outputs": [],
   "source": [
    "dict1 = {'tom':1.75, 'jerry':1.82}"
   ]
  },
  {
   "cell_type": "markdown",
   "metadata": {
    "slideshow": {
     "slide_type": "subslide"
    }
   },
   "source": [
    "**g. Deleting items**<a id='sec4_3_7'></a>\n",
    "- To delete a key-value pair, you can use `del mydict[key]`.\n",
    "- Delete `'tom'` and its associated value from `dict1`.\n",
    "\n",
    "[back to top](#top)"
   ]
  },
  {
   "cell_type": "code",
   "execution_count": null,
   "metadata": {
    "slideshow": {
     "slide_type": "-"
    }
   },
   "outputs": [],
   "source": [
    "dict1 = {'tom':1.75, 'jerry':1.82}"
   ]
  },
  {
   "cell_type": "markdown",
   "metadata": {
    "slideshow": {
     "slide_type": "subslide"
    }
   },
   "source": [
    "Exercise 5:\n",
    "1. Make a dictionary of `[165, 58]` and `180` whose keys are `'tom'` and `'jerry'`, respectively. Name it `dict1`.\n",
    "2. Replace `180` with `[180, 60]`. Print it."
   ]
  },
  {
   "cell_type": "code",
   "execution_count": null,
   "metadata": {
    "slideshow": {
     "slide_type": "-"
    }
   },
   "outputs": [],
   "source": []
  },
  {
   "cell_type": "markdown",
   "metadata": {
    "slideshow": {
     "slide_type": "subslide"
    }
   },
   "source": [
    "### D. Tuples<a id='sec4_4'></a>\n",
    "- A tuple is made of parentheses `()`.\n",
    "- Similar to the list and the dictionary, tuples can contain a tuple.\n",
    "\n",
    "[back to top](#top)"
   ]
  },
  {
   "cell_type": "markdown",
   "metadata": {
    "slideshow": {
     "slide_type": "subslide"
    }
   },
   "source": [
    "**a. Making a tuple**<a id='sec4_4_1'></a>\n",
    "- You can make a tuple in the following way.\n",
    "- Check the types of these tuples. Any difference?\n",
    "\n",
    "[back to top](#top)"
   ]
  },
  {
   "cell_type": "code",
   "execution_count": null,
   "metadata": {
    "slideshow": {
     "slide_type": "-"
    }
   },
   "outputs": [],
   "source": [
    "tuple1 = (1.0, 2, [\"tom\", \"jerry\"])\n",
    "tuple2 = ((1.0, 2), ([\"tom\", \"jerry\"], True))"
   ]
  },
  {
   "cell_type": "markdown",
   "metadata": {
    "slideshow": {
     "slide_type": "subslide"
    }
   },
   "source": [
    "**b. Accessing and checking items**<a id='sec4_4_2'></a>\n",
    "- Similar to the list:\n",
    "    - To access an item in a tuple, use `mytuple[index]`.\n",
    "    - You can use relational operators and membership operators to check items.\n",
    "- Check if the first and the third items in `tuple1` are the same using a relational operator.\n",
    "\n",
    "[back to top](#top)"
   ]
  },
  {
   "cell_type": "code",
   "execution_count": null,
   "metadata": {
    "slideshow": {
     "slide_type": "-"
    }
   },
   "outputs": [],
   "source": [
    "tuple1 = (1.0, 2, [\"tom\", \"jerry\"])"
   ]
  },
  {
   "cell_type": "markdown",
   "metadata": {
    "slideshow": {
     "slide_type": "subslide"
    }
   },
   "source": [
    "**c. Changing, adding, and deleting items**<a id='sec4_4_3'></a>\n",
    "- A tuple is similar to a list except that ***you cannot change, add, or delete the items***.\n",
    "    - Recall: Tuples are immutable objects, while lists are mutable objects.\n",
    "    - An exception: Add another tuple using `+`.\n",
    "- Try changing `2` to `4` in `tuple1`.\n",
    "\n",
    "[back to top](#top)"
   ]
  },
  {
   "cell_type": "code",
   "execution_count": null,
   "metadata": {
    "slideshow": {
     "slide_type": "-"
    }
   },
   "outputs": [],
   "source": [
    "tuple1 = (1.0, 2, [\"tom\", \"jerry\"])"
   ]
  },
  {
   "cell_type": "markdown",
   "metadata": {
    "slideshow": {
     "slide_type": "subslide"
    }
   },
   "source": [
    "Exercise 6: Change `2` to `4` in `tuple1`. (Hint: Convert the type before changing them.)"
   ]
  },
  {
   "cell_type": "code",
   "execution_count": null,
   "metadata": {
    "slideshow": {
     "slide_type": "-"
    }
   },
   "outputs": [],
   "source": [
    "tuple1 = (1.0, 2, [\"tom\", \"jerry\"])"
   ]
  },
  {
   "cell_type": "markdown",
   "metadata": {
    "slideshow": {
     "slide_type": "slide"
    }
   },
   "source": [
    "## 5. Loops and If Statements<a id='sec5'></a>\n",
    "- Loops allow you to automate some of your processes.\n",
    "- There are `for` loops and `while` loops.\n",
    "    - You often use `range()` in `for` loops.\n",
    "    \n",
    "[back to top](#top)"
   ]
  },
  {
   "cell_type": "markdown",
   "metadata": {
    "slideshow": {
     "slide_type": "subslide"
    }
   },
   "source": [
    "- Use colons and indents to make a loop.\n",
    "    - To insert an indent, press the TAB key.\n",
    "- You can make a loop in the following way:\n",
    "```python\n",
    "for x in range(1,6,2): # use a colon\n",
    "    print(\"Current number is \", x) # insert an indent\n",
    "```\n",
    "- Make a loop that prints integers from 0 to 10."
   ]
  },
  {
   "cell_type": "code",
   "execution_count": null,
   "metadata": {
    "slideshow": {
     "slide_type": "-"
    }
   },
   "outputs": [],
   "source": []
  },
  {
   "cell_type": "markdown",
   "metadata": {
    "slideshow": {
     "slide_type": "subslide"
    }
   },
   "source": [
    "- You can also make a loop over a string, a list, a dictionary, and a tuple.\n",
    "- Run the following code."
   ]
  },
  {
   "cell_type": "code",
   "execution_count": null,
   "metadata": {
    "slideshow": {
     "slide_type": "subslide"
    }
   },
   "outputs": [],
   "source": [
    "print(\"--- loop over a string ---\")\n",
    "str1 = \"abcde\"\n",
    "for x in str1:\n",
    "    print(x)\n",
    "\n",
    "print(\"--- loop over a list ---\")\n",
    "list1 = [\"tom\", 1.75, \"jerry\", 1.82]\n",
    "for x in list1:\n",
    "    print(x)\n",
    "\n",
    "print(\"--- loop over a list of lists (a nested loop) ---\")\n",
    "list_of_lists1 = [[\"tom\", 1.75], [\"jerry\", 1.82]]\n",
    "for list1 in list_of_lists1:\n",
    "    for x in list1:\n",
    "        print(x) \n",
    "\n",
    "print(\"--- loop over a dictionary ---\")        \n",
    "dict1= {'tom':1.75, 'jerry':1.82}\n",
    "for x in dict1:\n",
    "    print(x)\n",
    "    \n",
    "print(\"--- loop over a tuple ---\")        \n",
    "tuple1 = (1, 2, 3)\n",
    "for x in tuple1:\n",
    "    print(x)"
   ]
  },
  {
   "cell_type": "markdown",
   "metadata": {
    "slideshow": {
     "slide_type": "subslide"
    }
   },
   "source": [
    "- You may often append items to a list using a loop."
   ]
  },
  {
   "cell_type": "code",
   "execution_count": null,
   "metadata": {
    "slideshow": {
     "slide_type": "-"
    }
   },
   "outputs": [],
   "source": [
    "list1 = [] # make an empty list\n",
    "for i in range(0, 10):\n",
    "    j = 1 + i\n",
    "    list1.append(j)\n",
    "print(list1)"
   ]
  },
  {
   "cell_type": "markdown",
   "metadata": {
    "slideshow": {
     "slide_type": "subslide"
    }
   },
   "source": [
    "- You can do a specific operation for a subset of the entire loop by using if statements.\n",
    "- To make if statement clauses, you can use `if`, `elif` (means \"else if\"), and `else`.\n",
    "    - You can only use `if` without using `elif` or `else`.\n",
    "    - Similarly, you can use `if` and `else` without using `elif`, and `if` and `elif` without using `else`.\n",
    "- It starts from the top clause, and then go down to the next clause, and so on.    \n",
    "- Use colons and indents for if statement clauses."
   ]
  },
  {
   "cell_type": "code",
   "execution_count": null,
   "metadata": {
    "slideshow": {
     "slide_type": "-"
    }
   },
   "outputs": [],
   "source": [
    "list1 = [-1, 1, 3, 10]\n",
    "for x in list1: # loop over list1\n",
    "    if x < 0:\n",
    "        print(\"if\")\n",
    "    elif x >= 0 and x < 5:\n",
    "        print(\"elif\")        \n",
    "    else:\n",
    "        print(\"else\")"
   ]
  },
  {
   "cell_type": "markdown",
   "metadata": {
    "slideshow": {
     "slide_type": "subslide"
    }
   },
   "source": [
    "- To make if conditions, you can use relational operators (`==`, `!=`, `>`, `<`, `>=`, `<=`), **logical operators** (`and`, `or`, `not`), identity operators (`is`, `is not`), and membership operators (`in`, `not in`)."
   ]
  },
  {
   "cell_type": "code",
   "execution_count": null,
   "metadata": {
    "slideshow": {
     "slide_type": "-"
    }
   },
   "outputs": [],
   "source": [
    "list1 = [\"tom\", 1.75, 3, None]\n",
    "for x in list1:\n",
    "    if x is None:\n",
    "        print(\"None!\")\n",
    "    elif type(x) == float or type(x) == int:\n",
    "        if x >= 0 and x < 2:\n",
    "            print(\"0 <= x < 2\")\n",
    "        else:\n",
    "            print(\"x < 0 or x >= 2\") \n",
    "    else:\n",
    "        print(\"neither None, nor float, nor int\")"
   ]
  },
  {
   "cell_type": "markdown",
   "metadata": {
    "slideshow": {
     "slide_type": "subslide"
    }
   },
   "source": [
    "- ***Important***: The difference between `==` and `is` is that `==` tests for logical equality, while `is` tests for object identity.\n",
    "    - For `None`, you should use `is`. That's the rule.\n",
    "    <!-- see, https://www.python.org/dev/peps/pep-0008/#programming-recommendations -->\n",
    "- Run the following code. Can you see the difference?"
   ]
  },
  {
   "cell_type": "code",
   "execution_count": null,
   "metadata": {
    "slideshow": {
     "slide_type": "-"
    }
   },
   "outputs": [],
   "source": [
    "print(id(True), id(1))\n",
    "print(True is 1, True == 1)\n",
    "\n",
    "x, y = 1, 1 # immutable\n",
    "print(id(x), id(y))\n",
    "print(x is y, x == y)\n",
    "\n",
    "x, y = [1,2], [1,2] # mutable\n",
    "print(id(x), id(y))\n",
    "print(x is y, x == y)\n",
    "\n",
    "x = [1,2]\n",
    "y = x\n",
    "print(id(x), id(y))\n",
    "print(x is y, x == y)"
   ]
  },
  {
   "cell_type": "markdown",
   "metadata": {
    "slideshow": {
     "slide_type": "subslide"
    }
   },
   "source": [
    "- Similarly, `&` and `|` perform bitwise operation, while `and` and `or` do logical operation.\n",
    "    - See e.g. [this page](https://en.wikipedia.org/wiki/Bitwise_operation).\n",
    "- Run the following code. Can you see the difference?"
   ]
  },
  {
   "cell_type": "code",
   "execution_count": null,
   "metadata": {
    "slideshow": {
     "slide_type": "-"
    }
   },
   "outputs": [],
   "source": [
    "print(2 > 1 and 4 > 3)\n",
    "print(3 & 5) # decimal 3 is 0011 while decimal 5 is 0101 in 4-bit. intersection is 0001, which is decimal 1"
   ]
  },
  {
   "cell_type": "markdown",
   "metadata": {
    "slideshow": {
     "slide_type": "subslide"
    }
   },
   "source": [
    "- A loop can be used inside a list (to make a list). This method is called a **list comprehension**."
   ]
  },
  {
   "cell_type": "code",
   "execution_count": null,
   "metadata": {
    "slideshow": {
     "slide_type": "-"
    }
   },
   "outputs": [],
   "source": [
    "list1 = [item for item in range(10)]\n",
    "print(list1)\n",
    "list2 = [x**2 for x in range(10) if x < 5]\n",
    "print(list2)"
   ]
  },
  {
   "cell_type": "markdown",
   "metadata": {
    "slideshow": {
     "slide_type": "subslide"
    }
   },
   "source": [
    "- A `while` loop continues the process until the condition is met.\n",
    "    - For infinite loops, use `while True`.\n",
    "- You may often use counters and **assignment operators** (e.g., `+=`, `-=`) in a `while` loop.\n",
    "- You can make a while loop in the following way."
   ]
  },
  {
   "cell_type": "code",
   "execution_count": null,
   "metadata": {
    "slideshow": {
     "slide_type": "-"
    }
   },
   "outputs": [],
   "source": [
    "i = 0 # set the initial number\n",
    "while i < 10:\n",
    "    i += 1 # add 1 to i. same as i = i + 1\n",
    "    print(i)"
   ]
  },
  {
   "cell_type": "markdown",
   "metadata": {
    "slideshow": {
     "slide_type": "subslide"
    }
   },
   "source": [
    "- You may often use `break` and `continue` in loops.\n",
    "    - `break` means that you will exit from the current loop.\n",
    "    - `continue` means that you will go up to the start of the current loop."
   ]
  },
  {
   "cell_type": "code",
   "execution_count": null,
   "metadata": {
    "slideshow": {
     "slide_type": "-"
    }
   },
   "outputs": [],
   "source": [
    "k = 0\n",
    "while True: # infinite loop\n",
    "    k += 1\n",
    "    if k == 5:\n",
    "        continue # if k == 5, go up to the start of the current loop\n",
    "    elif k > 10:\n",
    "        break # if k > 10, exit from the current loop\n",
    "    print(k)"
   ]
  },
  {
   "cell_type": "markdown",
   "metadata": {
    "slideshow": {
     "slide_type": "subslide"
    }
   },
   "source": [
    "- If you want to skip an error, use `try` and `except`.\n",
    "- Run the following code. You should get an error. Why?"
   ]
  },
  {
   "cell_type": "code",
   "execution_count": null,
   "metadata": {
    "slideshow": {
     "slide_type": "-"
    }
   },
   "outputs": [],
   "source": [
    "list1 = []\n",
    "for i in [1, 2, 0.5, \"abc\"]:\n",
    "    list1.append(float(i))"
   ]
  },
  {
   "cell_type": "markdown",
   "metadata": {
    "slideshow": {
     "slide_type": "subslide"
    }
   },
   "source": [
    "- How about this?\n",
    "    - You can also check all built-in errors [here](https://docs.python.org/3/library/exceptions.html#bltin-exceptions)."
   ]
  },
  {
   "cell_type": "code",
   "execution_count": null,
   "metadata": {
    "slideshow": {
     "slide_type": "-"
    }
   },
   "outputs": [],
   "source": [
    "list1 = []\n",
    "for i in [1, 2, 0.5, \"abc\"]:\n",
    "    try:\n",
    "        list1.append(float(i))\n",
    "    except:\n",
    "        list1.append(float(-999))\n",
    "        print(\"Error in item =\", i)\n",
    "print(list1)"
   ]
  },
  {
   "cell_type": "markdown",
   "metadata": {
    "slideshow": {
     "slide_type": "subslide"
    }
   },
   "source": [
    "Exercise 7:\n",
    "1. Make a loop that prints all the keys of `dict1` one-by-one.\n",
    "2. Replace `-50` to `50` if the key is `'bb'` inside the loop.\n",
    "3. Print `dict1` (outside the loop)."
   ]
  },
  {
   "cell_type": "code",
   "execution_count": null,
   "metadata": {
    "slideshow": {
     "slide_type": "-"
    }
   },
   "outputs": [],
   "source": [
    "dict1 = {'a':{'aa':20, 'ab':40}, 'b':{'ba':30, 'bb':-50}}"
   ]
  },
  {
   "cell_type": "markdown",
   "metadata": {
    "slideshow": {
     "slide_type": "slide"
    }
   },
   "source": [
    "## 6. Functions<a id='sec6'></a>\n",
    "- A function returns outputs given inputs. It also accepts options, if available.\n",
    "- Useful built-in functions include: `print()`, `float()`, `int()`, `str()`, `len()`, `max()`, `min()`, `round()`, `sorted()`, etc. \n",
    "    - (Strictly speaking, operators like `float()`, `int()`, and `str()` are not functions. They are called class constructors.)\n",
    "- Some functions can be used only for specific types.\n",
    "\n",
    "[back to top](#top)"
   ]
  },
  {
   "cell_type": "markdown",
   "metadata": {
    "slideshow": {
     "slide_type": "subslide"
    }
   },
   "source": [
    "- Compute the lengths of `list1`. Hint: `len()`.\n",
    "- Can you also apply the same function for integer `x`? Try it."
   ]
  },
  {
   "cell_type": "code",
   "execution_count": null,
   "metadata": {
    "slideshow": {
     "slide_type": "-"
    }
   },
   "outputs": [],
   "source": [
    "list1 = [\"a\", \"b\"]\n",
    "x = 2"
   ]
  },
  {
   "cell_type": "markdown",
   "metadata": {
    "slideshow": {
     "slide_type": "subslide"
    }
   },
   "source": [
    "- To see a help file, type `?` before or after a function, or use `help()`.\n",
    "- Try `?round`, `round?`, and `help(round)`."
   ]
  },
  {
   "cell_type": "code",
   "execution_count": null,
   "metadata": {
    "slideshow": {
     "slide_type": "-"
    }
   },
   "outputs": [],
   "source": []
  },
  {
   "cell_type": "markdown",
   "metadata": {
    "slideshow": {
     "slide_type": "subslide"
    }
   },
   "source": [
    "- It returns `round(number, ndigits=None)` and an explanation about the function. \n",
    "    - This means that the input is a number and the output is a rounded number. \n",
    "    - `ndigits` is an option by which you can specify a precision in decimal digits.\n",
    "- For example, `round(1.85,1)` returns the closest float with one decimal digit, i.e., 1.9. \n",
    "- What about `round(1.84,1)`? Try it."
   ]
  },
  {
   "cell_type": "code",
   "execution_count": null,
   "metadata": {
    "slideshow": {
     "slide_type": "-"
    }
   },
   "outputs": [],
   "source": []
  },
  {
   "cell_type": "markdown",
   "metadata": {
    "slideshow": {
     "slide_type": "subslide"
    }
   },
   "source": [
    "- You can check the source code using `??`, if available.\n",
    "    - Or use `getsource` in the `inspect` package.\n",
    "    - However, both methods do not work for built-in functions.\n",
    "- Check the source code of `mysq`. Also check the source code of `len`, which is a built-in function."
   ]
  },
  {
   "cell_type": "code",
   "execution_count": null,
   "metadata": {
    "slideshow": {
     "slide_type": "-"
    }
   },
   "outputs": [],
   "source": [
    "def mysq(x):\n",
    "    return x ** 2"
   ]
  },
  {
   "cell_type": "markdown",
   "metadata": {
    "slideshow": {
     "slide_type": "subslide"
    }
   },
   "source": [
    "- You can make a function by yourself using `def`.\n",
    "- Print `mysq(2)` after the following code."
   ]
  },
  {
   "cell_type": "code",
   "execution_count": null,
   "metadata": {
    "slideshow": {
     "slide_type": "-"
    }
   },
   "outputs": [],
   "source": [
    "def mysq(x):\n",
    "    print(\"compute the square of\", x)\n",
    "    return x ** 2"
   ]
  },
  {
   "cell_type": "markdown",
   "metadata": {
    "slideshow": {
     "slide_type": "subslide"
    }
   },
   "source": [
    "- You should always write `return` at the end of the `def` environment to show the output. \n",
    "- What happens if you do not include it? Print `mysq(2)` again using the following example."
   ]
  },
  {
   "cell_type": "code",
   "execution_count": null,
   "metadata": {
    "slideshow": {
     "slide_type": "-"
    }
   },
   "outputs": [],
   "source": [
    "def mysq(x):\n",
    "    print(\"compute the square of\", x)\n",
    "    x ** 2"
   ]
  },
  {
   "cell_type": "markdown",
   "metadata": {
    "slideshow": {
     "slide_type": "subslide"
    }
   },
   "source": [
    "- Inputs and outputs can be more than one.\n",
    "- Print `mysum(1, 2)`.\n",
    "- How can we access each outcome? Recall how you can access items in a tuple."
   ]
  },
  {
   "cell_type": "code",
   "execution_count": null,
   "metadata": {
    "slideshow": {
     "slide_type": "-"
    }
   },
   "outputs": [],
   "source": [
    "def mysum(x, y): # two inputs\n",
    "    print(\"compute the sum of\", x, \"and\", y)\n",
    "    return (x, y, x + y) # three outputs in a tuple"
   ]
  },
  {
   "cell_type": "markdown",
   "metadata": {
    "slideshow": {
     "slide_type": "subslide"
    }
   },
   "source": [
    "- Alternatively, you can make a function using a **lambda function**.\n",
    "- Print `mysum(1, 2)`."
   ]
  },
  {
   "cell_type": "code",
   "execution_count": null,
   "metadata": {
    "slideshow": {
     "slide_type": "-"
    }
   },
   "outputs": [],
   "source": [
    "mysum = lambda x, y: (x, y, x + y)"
   ]
  },
  {
   "cell_type": "markdown",
   "metadata": {
    "slideshow": {
     "slide_type": "subslide"
    }
   },
   "source": [
    "Exercise 8:\n",
    "1. Make a function that prints \"Two items are equal.\" if inputs of a list of length two are the same, and \"Two items are not equal.\" otherwise.\n",
    "2. Test it using `list1`."
   ]
  },
  {
   "cell_type": "code",
   "execution_count": null,
   "metadata": {
    "slideshow": {
     "slide_type": "-"
    }
   },
   "outputs": [],
   "source": [
    "list1 = [1, 1.0]"
   ]
  },
  {
   "cell_type": "markdown",
   "metadata": {
    "slideshow": {
     "slide_type": "slide"
    }
   },
   "source": [
    "## 7. Methods<a id='sec7'></a>\n",
    "- A method is like a function attached to an object. \n",
    "- You write like `object.method()` and it works like a function.\n",
    "- Useful methods include: `index()`, `count()`, `append()`, `remove()`, `reverse()`, `sort()`, `capitalize()`, `upper()`, and `replace()`.\n",
    "- Some methods can be used only for specific types.\n",
    "\n",
    "[back to top](#top)"
   ]
  },
  {
   "cell_type": "markdown",
   "metadata": {
    "slideshow": {
     "slide_type": "subslide"
    }
   },
   "source": [
    "- Find the index of `\"tom\"` in `list1`. Hint: `object.index(item)`.\n",
    "- Reverse the order of `list1`. Hint: `object.reverse()`.\n",
    "- Sort `list2`. Hint: `object.sort()`. Can you also sort `list1` too?"
   ]
  },
  {
   "cell_type": "code",
   "execution_count": null,
   "metadata": {
    "slideshow": {
     "slide_type": "-"
    }
   },
   "outputs": [],
   "source": [
    "list1 = [\"tom\", 1.75, \"jerry\", 1.82]\n",
    "list2 = [1, 5, 4, 3, 2]"
   ]
  },
  {
   "cell_type": "markdown",
   "metadata": {
    "slideshow": {
     "slide_type": "subslide"
    }
   },
   "source": [
    "- You can check all the available methods using `dir(object)`.\n",
    "- Check the available methods for `list1`."
   ]
  },
  {
   "cell_type": "code",
   "execution_count": null,
   "metadata": {
    "slideshow": {
     "slide_type": "-"
    }
   },
   "outputs": [],
   "source": [
    "list1 = [\"tom\", 1.75, \"jerry\", 1.82]"
   ]
  },
  {
   "cell_type": "markdown",
   "metadata": {
    "slideshow": {
     "slide_type": "subslide"
    }
   },
   "source": [
    "- Alternatively, press the TAB key after writing `object.`.\n",
    "- Check the available methods for `\"tom\"`."
   ]
  },
  {
   "cell_type": "code",
   "execution_count": null,
   "metadata": {
    "slideshow": {
     "slide_type": "-"
    }
   },
   "outputs": [],
   "source": [
    "\"tom\"."
   ]
  },
  {
   "cell_type": "markdown",
   "metadata": {
    "slideshow": {
     "slide_type": "subslide"
    }
   },
   "source": [
    "- To see a help file, write `help(object.method)`.\n",
    "    - `?` does not always work.\n",
    "- Try `help(\"tom\".count)`. What about `?\"tom\".count`?"
   ]
  },
  {
   "cell_type": "code",
   "execution_count": null,
   "metadata": {
    "slideshow": {
     "slide_type": "-"
    }
   },
   "outputs": [],
   "source": []
  },
  {
   "cell_type": "markdown",
   "metadata": {
    "slideshow": {
     "slide_type": "slide"
    }
   },
   "source": [
    "## 8. Modules and Packages<a id='sec8'></a>\n",
    "- You can import useful modules and packages using `import`. \n",
    "    - A module can contain functions, classes, etc.\n",
    "    - A package can contain submodules and subpackages.\n",
    "    - There are 2,076,292 releases (as of 2020/09/16) in [PyPI](https://pypi.org/).\n",
    "<!--  2,134,644 packages (as of 2019/09/06), 1,274,332 packages (as of 2018/04/29) -->\n",
    "- A `,` operator can be used to import multiple modules and packages.\n",
    "- If you get an error while importing modules/packages, you should install them using Command Prompt/Terminal. (See Lec 1 slides.)\n",
    "\n",
    "[back to top](#top)"
   ]
  },
  {
   "cell_type": "code",
   "execution_count": null,
   "metadata": {
    "slideshow": {
     "slide_type": "-"
    }
   },
   "outputs": [],
   "source": [
    "import math, numpy # math is a module and NumPy is a package.\n",
    "print(math.radians(45)) # convert degrees to radians\n",
    "print(numpy.radians(45))"
   ]
  },
  {
   "cell_type": "markdown",
   "metadata": {
    "slideshow": {
     "slide_type": "subslide"
    }
   },
   "source": [
    "- Use `import module/package as myname` to define the name of the module/package as `myname`.\n",
    "- Tip: Use a simple and intuitive name."
   ]
  },
  {
   "cell_type": "code",
   "execution_count": null,
   "metadata": {
    "slideshow": {
     "slide_type": "-"
    }
   },
   "outputs": [],
   "source": [
    "import math as m, numpy as np\n",
    "print(m.radians(45))\n",
    "print(np.radians(45))"
   ]
  },
  {
   "cell_type": "markdown",
   "metadata": {
    "slideshow": {
     "slide_type": "subslide"
    }
   },
   "source": [
    "- Alternatively, use\n",
    "    - `from module/package import function` to import a specific function.\n",
    "    - `from package import module` to import a specific module.\n",
    "    - `from module/package import *` to import all entries from a module/package."
   ]
  },
  {
   "cell_type": "markdown",
   "metadata": {
    "slideshow": {
     "slide_type": "subslide"
    }
   },
   "source": [
    "- Tip: The last option with a `*` sign is not always recommended. Try:\n",
    "```python\n",
    "from math import *\n",
    "from numpy import *\n",
    "deg = arange(12.) * 30.\n",
    "print(radians(deg))\n",
    "```\n",
    "vs.\n",
    "```python\n",
    "from numpy import *\n",
    "from math import *\n",
    "deg = arange(12.) * 30.\n",
    "print(radians(deg))\n",
    "```\n",
    "- You will get an error in the second case because `radians` in that case is `math.radians`, which does not accept a NumPy array as an input."
   ]
  },
  {
   "cell_type": "code",
   "execution_count": null,
   "metadata": {
    "slideshow": {
     "slide_type": "-"
    }
   },
   "outputs": [],
   "source": []
  },
  {
   "cell_type": "markdown",
   "metadata": {
    "slideshow": {
     "slide_type": "subslide"
    }
   },
   "source": [
    "- You can make a list of all imported modules using `modules.keys()` in the `sys` package."
   ]
  },
  {
   "cell_type": "code",
   "execution_count": null,
   "metadata": {
    "slideshow": {
     "slide_type": "-"
    }
   },
   "outputs": [],
   "source": [
    "import sys\n",
    "sys.modules.keys()"
   ]
  },
  {
   "cell_type": "markdown",
   "metadata": {
    "slideshow": {
     "slide_type": "subslide"
    }
   },
   "source": [
    "- To check all the entries in a specific package/module, use `dir()`.\n",
    "    - To understand how `dir()` behaves differently with different types of objects, see [this page](https://docs.python.org/3/library/functions.html#dir).\n",
    "- Alternatively, press the TAB key after writing `module.` or `package.`.\n",
    "- Try both for the `math` module."
   ]
  },
  {
   "cell_type": "code",
   "execution_count": null,
   "metadata": {
    "slideshow": {
     "slide_type": "-"
    }
   },
   "outputs": [],
   "source": [
    "import math"
   ]
  },
  {
   "cell_type": "markdown",
   "metadata": {
    "slideshow": {
     "slide_type": "subslide"
    }
   },
   "source": [
    "- To get the documentation of a package, use `?`.\n",
    "    - `help()` does not always work.\n",
    "- Get the documentation of NumPy."
   ]
  },
  {
   "cell_type": "code",
   "execution_count": null,
   "metadata": {
    "slideshow": {
     "slide_type": "-"
    }
   },
   "outputs": [],
   "source": [
    "import numpy as np"
   ]
  },
  {
   "cell_type": "markdown",
   "metadata": {
    "slideshow": {
     "slide_type": "slide"
    }
   },
   "source": [
    "## 9. NumPy<a id='sec9'></a>\n",
    "- NumPy (numeric python) is one of the foundamental packages for numerical computation and data manipulation in Python.\n",
    "- Run the following code to import NumPy.\n",
    "\n",
    "[back to top](#top)"
   ]
  },
  {
   "cell_type": "code",
   "execution_count": null,
   "metadata": {
    "slideshow": {
     "slide_type": "-"
    }
   },
   "outputs": [],
   "source": [
    "import numpy as np"
   ]
  },
  {
   "cell_type": "markdown",
   "metadata": {
    "slideshow": {
     "slide_type": "subslide"
    }
   },
   "source": [
    "### A. Vectorized computation and ufuncs<a id='sec9_1'></a>\n",
    "- A nice thing about NumPy is that you can use a NumPy array, which is the multidimensional container of items.\n",
    "- For example, NumPy arrays allow item-by-item calculation, or **vectorized computation**.\n",
    "    - By contrast, lists do not allow such calculation.\n",
    "- Run the following code. What about `np_weight / np_height ** 2`? \n",
    "\n",
    "[back to top](#top)"
   ]
  },
  {
   "cell_type": "code",
   "execution_count": null,
   "metadata": {
    "slideshow": {
     "slide_type": "-"
    }
   },
   "outputs": [],
   "source": [
    "height = [1.80, 1.76, 1.64]\n",
    "weight = [80, 75, 60]\n",
    "weight / height ** 2\n",
    "np_height = np.array(height) # convert a list to a NumPy array\n",
    "np_weight = np.array(weight)"
   ]
  },
  {
   "cell_type": "markdown",
   "metadata": {
    "slideshow": {
     "slide_type": "subslide"
    }
   },
   "source": [
    "- More generally, NumPy has **ufuncs** (universal functions) that allow item-by-item calculation.\n",
    "- You write like `np.abs(myarray)`, which converts ***all items*** in `myarray` to absolute values.\n",
    "    - Other useful ufuncs include `log()` and `round()`.\n",
    "- Convert all items in `array1` to absolute values."
   ]
  },
  {
   "cell_type": "code",
   "execution_count": null,
   "metadata": {
    "slideshow": {
     "slide_type": "-"
    }
   },
   "outputs": [],
   "source": [
    "array1 = np.array([-1, 2, -5, 1])"
   ]
  },
  {
   "cell_type": "markdown",
   "metadata": {
    "slideshow": {
     "slide_type": "subslide"
    }
   },
   "source": [
    "### B. Making an array<a id='sec9_2'></a>\n",
    "- You can make a NumPy array in the following way.\n",
    "\n",
    "[back to top](#top)"
   ]
  },
  {
   "cell_type": "code",
   "execution_count": null,
   "metadata": {
    "slideshow": {
     "slide_type": "-"
    }
   },
   "outputs": [],
   "source": [
    "array1 = np.array([1, 2, 3]) # start from a list [1, 2, 3]. np.array converts it to a NumPy array"
   ]
  },
  {
   "cell_type": "markdown",
   "metadata": {
    "slideshow": {
     "slide_type": "subslide"
    }
   },
   "source": [
    "- There are some clever ways to make an array."
   ]
  },
  {
   "cell_type": "code",
   "execution_count": null,
   "metadata": {
    "slideshow": {
     "slide_type": "-"
    }
   },
   "outputs": [],
   "source": [
    "array1 = np.array(list(range(10))) # make a list using list() and range(). then convert it to an array\n",
    "array2 = np.zeros(10) # make an array of 10 zeros\n",
    "array3 = np.ones(10) # make an array of 10 ones\n",
    "array4 = np.full((2,3),1.2) # make a 2 x 3 array of 1.2\n",
    "array5 = np.arange(0,10,2) # make numbers from 0 to 10, incremented by 2\n",
    "array6 = np.linspace(0,1,5) # split [0, 1] into 5 evenly spaced samples\n",
    "array7 = np.random.randn(2,2) # make a 2 x 2 array of random values drawn from the standard normal distribution"
   ]
  },
  {
   "cell_type": "markdown",
   "metadata": {
    "slideshow": {
     "slide_type": "subslide"
    }
   },
   "source": [
    "### C. Type of items in an array<a id='sec9_3'></a>\n",
    "- NumPy has more types than Python's built-in types such as `int8` and `float64`.\n",
    "    - See e.g. [this page](https://numpy.org/devdocs/user/basics.types.html).\n",
    "- For a NumPy array, you can explicity set its type, if possible.\n",
    "- Check the type of the third item of `array1`.\n",
    "- Change the third item of `array1` to `\"abc\"` and execute it again. You should get an error. Why?\n",
    "\n",
    "[back to top](#top)"
   ]
  },
  {
   "cell_type": "code",
   "execution_count": null,
   "metadata": {
    "slideshow": {
     "slide_type": "-"
    }
   },
   "outputs": [],
   "source": [
    "array1 = np.array([1, 1.0, \"1\", True], dtype='float64')"
   ]
  },
  {
   "cell_type": "markdown",
   "metadata": {
    "slideshow": {
     "slide_type": "subslide"
    }
   },
   "source": [
    "- An array can contain only one type. ***If there are multiple types, they are converted to a single type!***\n",
    "    - The order of the types: strings > floats > integers > booleans.\n",
    "- Check the type of the first item in each array. Hint: Use `myarray[index]`."
   ]
  },
  {
   "cell_type": "code",
   "execution_count": null,
   "metadata": {
    "slideshow": {
     "slide_type": "-"
    }
   },
   "outputs": [],
   "source": [
    "array1 = np.array([1, 1.0, \"1\", True])\n",
    "array2 = np.array([1, 1.0, True])\n",
    "array3 = np.array([1, True])"
   ]
  },
  {
   "cell_type": "markdown",
   "metadata": {
    "slideshow": {
     "slide_type": "subslide"
    }
   },
   "source": [
    "### D. Accessing items<a id='sec9_4'></a>\n",
    "- To access items in an array, use `myarray[index]`, `myarray[index1][index2]`, etc.\n",
    "    - You can also write like `myarray[index1, index2]`, which is perhaps more common.\n",
    "- You can use slicing as well.\n",
    "    - Use `myarray[:, index]` to select all rows of a specific column and `myarray[index, :]` to select all columns of a specific row.\n",
    "- Access the first row and the second column of `array1`.\n",
    "- Access all the columns of the first row of `array1`.\n",
    "\n",
    "[back to top](#top)"
   ]
  },
  {
   "cell_type": "code",
   "execution_count": null,
   "metadata": {
    "slideshow": {
     "slide_type": "-"
    }
   },
   "outputs": [],
   "source": [
    "array1 = np.array([[1, 2, 3], [4, 5, 6]])"
   ]
  },
  {
   "cell_type": "markdown",
   "metadata": {
    "slideshow": {
     "slide_type": "subslide"
    }
   },
   "source": [
    "**a. Masking**<a id='sec9_4_1'></a>\n",
    "- NumPy arrays allow other ways to select items.\n",
    "- First, to access only items in an array that satisfy a condition (e.g., `myarray > 0`), you can use a **masking** operation.\n",
    "    - The condition is called a **mask**.\n",
    "- You can use relational operators like `==`, `>`, and `!=` for masking.\n",
    "- For example, when you write `myarray > 0`, this returns a boolean array where `True` means that the associated item satisfies the condition `> 0`.\n",
    "- For multiple Boolean evaluations of arrays, you can use `&` and `|`, but cannot use `and` and `or`.\n",
    "    - The former operators (like ufuncs) perform multiple Boolean evaluations, while the latter operators only do a single Boolean evaluation.\n",
    "    - See e.g. [this page](https://jakevdp.github.io/PythonDataScienceHandbook/02.06-boolean-arrays-and-masks.html).\n",
    "    \n",
    "[back to top](#top)"
   ]
  },
  {
   "cell_type": "markdown",
   "metadata": {
    "slideshow": {
     "slide_type": "subslide"
    }
   },
   "source": [
    "- Run the following code."
   ]
  },
  {
   "cell_type": "code",
   "execution_count": null,
   "metadata": {
    "slideshow": {
     "slide_type": "-"
    }
   },
   "outputs": [],
   "source": [
    "array1 = np.array([[1, -1, -5], [2, -4, -3]])\n",
    "print(array1)\n",
    "print(array1 > 0)\n",
    "print((array1 > -3) & (array1 < 2)) # do not forget parentheses!\n",
    "#print((array1 > -3) and (array1 < 2)) # this returns an error"
   ]
  },
  {
   "cell_type": "markdown",
   "metadata": {
    "slideshow": {
     "slide_type": "subslide"
    }
   },
   "source": [
    "- If you apply a mask to an array, you can access only items that satisfy the condition."
   ]
  },
  {
   "cell_type": "code",
   "execution_count": null,
   "metadata": {
    "slideshow": {
     "slide_type": "-"
    }
   },
   "outputs": [],
   "source": [
    "array1 = np.array([[1, -1, -5], [2, -4, -3]])\n",
    "print(array1[(array1 > 0)])\n",
    "print(array1[(array1 > -3) & (array1 < 2)])"
   ]
  },
  {
   "cell_type": "markdown",
   "metadata": {
    "slideshow": {
     "slide_type": "subslide"
    }
   },
   "source": [
    "- Masking can be cleverly used for computation."
   ]
  },
  {
   "cell_type": "code",
   "execution_count": null,
   "metadata": {
    "slideshow": {
     "slide_type": "-"
    }
   },
   "outputs": [],
   "source": [
    "array1 = np.array([[1, -1, -5], [2, -4, -3]])\n",
    "print(np.sum(array1 > 0)) # count the number of positive items \n",
    "print(np.any(array1 > 0)) # check whether any item in array1 is positive\n",
    "print(np.all(array1 > 0)) # check whether all items in array1 are positive"
   ]
  },
  {
   "cell_type": "markdown",
   "metadata": {
    "slideshow": {
     "slide_type": "subslide"
    }
   },
   "source": [
    "**b. Fancy Indexing**<a id='sec9_4_2'></a>\n",
    "- Second, you can apply a list or an array of indices to access items in an array.\n",
    "- This style of selection is called **fancy indexing**.\n",
    "    - Fancy indexing is different from masking in the sense that it is a selection using indices.\n",
    "- You write like `myarray[list/array]`.\n",
    "- Apply `index_list` and `index_array` to `array1`, respectively.\n",
    "\n",
    "[back to top](#top)"
   ]
  },
  {
   "cell_type": "code",
   "execution_count": null,
   "metadata": {
    "slideshow": {
     "slide_type": "-"
    }
   },
   "outputs": [],
   "source": [
    "array1 = np.array(['a', 'b', 'c', 'd'])\n",
    "print(array1)\n",
    "index_list = [0, 3] # a list of indices\n",
    "index_array = np.array([[1, 3], [1, 2]]) # an array of indices"
   ]
  },
  {
   "cell_type": "markdown",
   "metadata": {
    "slideshow": {
     "slide_type": "subslide"
    }
   },
   "source": [
    "### E. Checking dimension, shape, size, and length of an array<a id='sec9_5'></a>\n",
    "- You can check the dimension of an array using `np.ndim(myarray)`, the shape of an array using `np.shape(myarray)`, the size (= the number of items) of an array using `np.size(myarray)`, and the length of an array using `len(myarray)`.\n",
    "    - You can also use `ndim`, `shape`, and `size` as a method like `myarray.ndim`, `myarray.shape`, and `myarray.size`. (They are called attributes to instances.)\n",
    "- Print `array1` and `array2`. Check their dimension, shape, and size.\n",
    "- A two dimensional NumPy array is also called a 2D NumPy array.\n",
    "\n",
    "[back to top](#top)"
   ]
  },
  {
   "cell_type": "code",
   "execution_count": null,
   "metadata": {
    "slideshow": {
     "slide_type": "-"
    }
   },
   "outputs": [],
   "source": [
    "array1 = np.array([[1, 2 ,3], [4, 5, 6]])\n",
    "array2 = np.array([range(i,i + 3) for i in [2, 4, 6]])"
   ]
  },
  {
   "cell_type": "markdown",
   "metadata": {
    "slideshow": {
     "slide_type": "subslide"
    }
   },
   "source": [
    "### F. Changing arrays<a id='sec9_6'></a>\n",
    "**a. Changing items**<a id='sec9_6_1'></a>\n",
    "- Similar to the list, you can change an item of an array using `myarray[index] = new_item`.\n",
    "- Change all `-1`'s to `10` in `array1` using masking. Then print it.\n",
    "\n",
    "[back to top](#top)"
   ]
  },
  {
   "cell_type": "code",
   "execution_count": null,
   "metadata": {
    "slideshow": {
     "slide_type": "-"
    }
   },
   "outputs": [],
   "source": [
    "array1 = np.array([[1, 2, -1], [4, -1, 6]])"
   ]
  },
  {
   "cell_type": "markdown",
   "metadata": {
    "slideshow": {
     "slide_type": "subslide"
    }
   },
   "source": [
    "**b. Adding items**<a id='sec9_6_2'></a>\n",
    "- You can use `np.append()` to add items to an array.\n",
    "    - You write like `np.append(myarray1, [new items], axis=0)`, where `axis` can be `1` (add a column) or `0` (add a row).\n",
    "    - You need to write the correct structure of `[new items]`.\n",
    "- Print `array1`, `array2`, and `array3`.\n",
    "\n",
    "[back to top](#top)"
   ]
  },
  {
   "cell_type": "code",
   "execution_count": null,
   "metadata": {
    "slideshow": {
     "slide_type": "-"
    }
   },
   "outputs": [],
   "source": [
    "array1 = np.array([[1, -1, -5], [2, -4, -3]])\n",
    "array2 = np.append(array1, [[3, 5, 6]], axis=0) # add a row\n",
    "#array2 = np.append(array1, [3, 5, 6], axis=0) # this returns an error\n",
    "array3 = np.append(array1, [[3], [6]], axis=1) # add a column\n",
    "#array3 = np.append(array1, [3, 6], axis=1) # this returns an error"
   ]
  },
  {
   "cell_type": "markdown",
   "metadata": {
    "slideshow": {
     "slide_type": "subslide"
    }
   },
   "source": [
    "**c. Concatenating arrays**<a id='sec9_6_3'></a>\n",
    "- Alternatively, to combine multiple arrays, you can use `np.concatenate()`.\n",
    "    - You write like `np.concatenate([myarray1, myarray2], axis=0)`, where `axis` can be `1` (add a column) or `0` (add a row).\n",
    "    - Other functions: `hstack()` and `vstack()`.\n",
    "- Run the following code. Next, use `np.array()` instead of `np.concatenate()`. Can you see the difference?\n",
    "\n",
    "[back to top](#top)"
   ]
  },
  {
   "cell_type": "code",
   "execution_count": null,
   "metadata": {
    "slideshow": {
     "slide_type": "-"
    }
   },
   "outputs": [],
   "source": [
    "array1 = np.array([[1, 2], [3, 4]])\n",
    "array2 = np.array([[5, 6], [7, 8]])\n",
    "array3 = np.concatenate([array1, array2], axis=0)"
   ]
  },
  {
   "cell_type": "markdown",
   "metadata": {
    "slideshow": {
     "slide_type": "subslide"
    }
   },
   "source": [
    "**d. Deleting items**<a id='sec9_6_4'></a>\n",
    "- Deleting items from an array is like taking a subset of it.\n",
    "- Alternatively, use `np.delete()`.\n",
    "    - You write like `np.delete(myarray, index)`.\n",
    "    - For 2D arrays, write like `np.delete(myarray, index, axis=1)` for deleting columns and `np.delete(myarray, index, axis=0)` for deleting rows.\n",
    "- Delete `3` from `array1`.\n",
    "- Instead, delete the second column of `array1`.\n",
    "\n",
    "[back to top](#top)"
   ]
  },
  {
   "cell_type": "code",
   "execution_count": 134,
   "metadata": {
    "slideshow": {
     "slide_type": "-"
    }
   },
   "outputs": [],
   "source": [
    "array1 = np.array([[1, 2, 3], [4, 5, 6]])"
   ]
  },
  {
   "cell_type": "markdown",
   "metadata": {
    "slideshow": {
     "slide_type": "subslide"
    }
   },
   "source": [
    "**e. Reshaping an array**<a id='sec9_6_5'></a>\n",
    "- You can change the shape of an array (e.g., change a 3 x 1 array to a 1 x 3 array).\n",
    "- To reshape an array, use `object.reshape(#row, #column)`.\n",
    "    - Not `np.reshape()`.\n",
    "- Change `array1` to a 3 x 2 array.\n",
    "\n",
    "[back to top](#top)"
   ]
  },
  {
   "cell_type": "code",
   "execution_count": null,
   "metadata": {
    "slideshow": {
     "slide_type": "-"
    }
   },
   "outputs": [],
   "source": [
    "array1 = np.array([[1, 2, 3], [4, 5, 6]])"
   ]
  },
  {
   "cell_type": "markdown",
   "metadata": {
    "slideshow": {
     "slide_type": "subslide"
    }
   },
   "source": [
    "### G. Summarizing items<a id='sec9_7'></a>\n",
    "- You can easily compute statistics, e.g., min, max, mean, and sum of items in an array.\n",
    "- Useful functions for summarizing items include: `min()`, `max()`, `mean()`, `median()`, `std()`, `sum()`, and `corrcoef()`.\n",
    "- One writes like `np.min(myarray)`.\n",
    "    - One can also write like `myarray.min()` for some operations.\n",
    "- Access the smallest number in `array1`.\n",
    "- Next, access the smallest number of column 2 in `array1`.\n",
    "- Finally, use the `axis=0` or `axis=1` option in the above example. What did you get?\n",
    "\n",
    "[back to top](#top)"
   ]
  },
  {
   "cell_type": "code",
   "execution_count": null,
   "metadata": {
    "slideshow": {
     "slide_type": "-"
    }
   },
   "outputs": [],
   "source": [
    "array1 = np.array([[1, 2, 3], [-1, -2, -3]])"
   ]
  },
  {
   "cell_type": "markdown",
   "metadata": {
    "slideshow": {
     "slide_type": "slide"
    }
   },
   "source": [
    "## 10. Pandas<a id='sec10'></a>\n",
    "- Pandas is a very useful Python package made for handling data.\n",
    "- Since it's built on NumPy, there are some similarities.\n",
    "\n",
    "[back to top](#top)"
   ]
  },
  {
   "cell_type": "code",
   "execution_count": null,
   "metadata": {
    "slideshow": {
     "slide_type": "-"
    }
   },
   "outputs": [],
   "source": [
    "import pandas as pd"
   ]
  },
  {
   "cell_type": "markdown",
   "metadata": {
    "slideshow": {
     "slide_type": "subslide"
    }
   },
   "source": [
    "- Pandas has `Series`, `DataFrame`, and `Index`.\n",
    "    - `Series`: A **one-dimensional array** of indexed data\n",
    "    - `DataFrame`: A **two-dimensional array** with indices (for rows) and column names (for columns)\n",
    "    - `Index`: An index object itself"
   ]
  },
  {
   "cell_type": "markdown",
   "metadata": {
    "slideshow": {
     "slide_type": "subslide"
    }
   },
   "source": [
    "### A. Series<a id='sec10_1'></a>\n",
    "- A Pandas series is like a generalized one-dimensional NumPy array.\n",
    "    - It is generalized in the sense that (a) it preserve types and (b) it can have user-defined indices.\n",
    "- What is the type of the third item in `series1`?\n",
    "\n",
    "[back to top](#top)"
   ]
  },
  {
   "cell_type": "code",
   "execution_count": null,
   "metadata": {
    "slideshow": {
     "slide_type": "-"
    }
   },
   "outputs": [],
   "source": [
    "series1 = pd.Series([1.0, 2, \"3\"], index=['a', 'b', 'c']) # you can define your own indices\n",
    "print(series1)\n",
    "print(series1.values) # print values\n",
    "print(series1.index) # print indices"
   ]
  },
  {
   "cell_type": "markdown",
   "metadata": {
    "slideshow": {
     "slide_type": "subslide"
    }
   },
   "source": [
    "#### a. Making a series<a id='sec10_1_1'></a>\n",
    "- You can make a series from lists, dictionaries, NumPy arrays, etc.\n",
    "- Print `series1` and `series2`.\n",
    "\n",
    "[back to top](#top)"
   ]
  },
  {
   "cell_type": "code",
   "execution_count": 28,
   "metadata": {
    "slideshow": {
     "slide_type": "-"
    }
   },
   "outputs": [],
   "source": [
    "list1 = [1.75, 1.82] # make a series from a list\n",
    "series1 = pd.Series(list1, index=['tom', 'jerry'])\n",
    "dict1 = {'tom':1.75, 'jerry':1.82} # make a series from a dictionary\n",
    "series2 = pd.Series(dict1)"
   ]
  },
  {
   "cell_type": "markdown",
   "metadata": {
    "slideshow": {
     "slide_type": "subslide"
    }
   },
   "source": [
    "#### b. Accessing items<a id='sec10_1_2'></a>\n",
    "- Since a Pandas series is like a NumPy array, you can use masking and fancy indexing to access items.\n",
    "- Moreover, you can use user-defined indices to access items, rather than built-in indices.\n",
    "\n",
    "[back to top](#top)"
   ]
  },
  {
   "cell_type": "code",
   "execution_count": null,
   "metadata": {
    "slideshow": {
     "slide_type": "-"
    }
   },
   "outputs": [],
   "source": [
    "dict1 = {'tom':1.75, 'jerry':1.82, 'spike':1.65}\n",
    "series1 = pd.Series(dict1)\n",
    "print(series1[series1 > 1.8]) # masking\n",
    "print(series1[0:2]) # slicing (using built-in indices)\n",
    "print(series1['tom':'jerry']) # slicing (using user-defined indices)\n",
    "print(series1[[0, 2]]) # fancy indexing (using built-in indices) \n",
    "print(series1[['tom', 'spike']]) # fancy indexing (using user-defined indices)"
   ]
  },
  {
   "cell_type": "markdown",
   "metadata": {
    "slideshow": {
     "slide_type": "subslide"
    }
   },
   "source": [
    "### B. DataFrame<a id='sec10_2'></a>\n",
    "- A Pandas dataframe is like a generalized two-dimensional NumPy array.\n",
    "    - It is generalized in the sense that (a) it preserve types and (b) it can have user-defined indices.\n",
    "- Run the following code. Also, check the type of spike's weight.\n",
    "\n",
    "[back to top](#top)"
   ]
  },
  {
   "cell_type": "code",
   "execution_count": null,
   "metadata": {
    "slideshow": {
     "slide_type": "-"
    }
   },
   "outputs": [],
   "source": [
    "dict1, dict2 = {'tom':1.75, 'jerry':1.82, 'spike':1.65}, {'tom':65, 'jerry':72, 'spike':\"58\"}\n",
    "df1 = pd.DataFrame({'height':dict1, 'weight':dict2}) # height and weight are column names\n",
    "print(df1)\n",
    "print(df1.values) # print values\n",
    "print(df1.index) # print indices\n",
    "print(df1.columns) # print column names"
   ]
  },
  {
   "cell_type": "markdown",
   "metadata": {
    "slideshow": {
     "slide_type": "subslide"
    }
   },
   "source": [
    "#### a. Making a dataframe<a id='sec10_2_1'></a>\n",
    "- You can make a dataframe from lists, dictionaries, NumPy arrays, Pandas series, etc.\n",
    "- Print `df1` and `df2`.\n",
    "\n",
    "[back to top](#top)"
   ]
  },
  {
   "cell_type": "code",
   "execution_count": null,
   "metadata": {
    "slideshow": {
     "slide_type": "-"
    }
   },
   "outputs": [],
   "source": [
    "list1, list2 = [1.75, 65], [1.82, 72] # make a dataframe from lists\n",
    "df1 = pd.DataFrame([list1, list2], index=['tom', 'jerry'], columns=['height', 'weight']) \n",
    "dict1, dict2 = {'tom':1.75, 'jerry':1.82}, {'tom':65, 'jerry':72} # make a dataframe from dictionaries\n",
    "df2 = pd.DataFrame({'height':dict1, 'weight':dict2}) "
   ]
  },
  {
   "cell_type": "markdown",
   "metadata": {
    "slideshow": {
     "slide_type": "subslide"
    }
   },
   "source": [
    "#### b. Accessing items<a id='sec10_2_2'></a>\n",
    "- Since a Pandas dataframe is like a NumPy array, you can use masking and fancy indexing.\n",
    "- Moreover, you can use user-defined indices and column names to access items.\n",
    "- However, slicing and fancy indexing do not always work! Run the following code to check it.\n",
    "\n",
    "[back to top](#top)"
   ]
  },
  {
   "cell_type": "code",
   "execution_count": null,
   "metadata": {
    "slideshow": {
     "slide_type": "-"
    }
   },
   "outputs": [],
   "source": [
    "df1 = pd.DataFrame([[1.75, 65], [1.82, 74], [1.65, 58]], columns=['height', 'weight'], index=['tom', 'jerry', 'spike'])\n",
    "print(df1)\n",
    "print(df1[df1 > 50]) # masking\n",
    "print(df1['tom':'jerry']) # slicing using (user-defined) indices. this works\n",
    "#print(df1['height':'weight']) # slicing using (user-defined) column names. this returns an error\n",
    "#print(df1[['tom', 'spike']]) # fancy indexing using (user-defined) indices. this returns an error\n",
    "print(df1[['height', 'weight']]) # fancy indexing using (user-defined) column names. this works"
   ]
  },
  {
   "cell_type": "markdown",
   "metadata": {
    "slideshow": {
     "slide_type": "subslide"
    }
   },
   "source": [
    "- This is inconvenient. How can we solve the issue?\n",
    "- For dataframes, it is more convenient to use a method `mydf.iloc` (for built-in indices) or `mydf.loc` (for user-defined indices/column names).\n",
    "    - `iloc` and `loc` are called **indexers**.\n",
    "- Run the following code."
   ]
  },
  {
   "cell_type": "code",
   "execution_count": null,
   "metadata": {
    "slideshow": {
     "slide_type": "-"
    }
   },
   "outputs": [],
   "source": [
    "df1 = pd.DataFrame([[1.75, 65], [1.82, 74], [1.65, 58]], columns=['height', 'weight'], index=['tom', 'jerry', 'spike'])\n",
    "print(df1.iloc[1, 1]) # access row 2 column 2 item (using built-in indices and column names)\n",
    "print(df1.loc['jerry', 'weight']) # access row 2 column 2 item (using user-defined indices and column names)\n",
    "print(df1.loc[['tom','spike'], 'height':'weight']) # applying slicing and fancy indexing\n",
    "print(df1.loc[df1['weight'] > 60, ['weight','height']]) # applying masking and fancy indexing"
   ]
  },
  {
   "cell_type": "markdown",
   "metadata": {
    "slideshow": {
     "slide_type": "subslide"
    }
   },
   "source": [
    "- Alternatively, if you want to access items only from one column, you can use `mydf['column']` or `mydf.column` to make a Pandas series before accessing items."
   ]
  },
  {
   "cell_type": "code",
   "execution_count": null,
   "metadata": {
    "slideshow": {
     "slide_type": "-"
    }
   },
   "outputs": [],
   "source": [
    "df1 = pd.DataFrame([[1.75, 65], [1.82, 74], [1.65, 58]], columns=['height', 'weight'], index=['tom', 'jerry', 'spike'])\n",
    "print(df1.height) # or print(df1['height'])\n",
    "print(type(df1.height)) # type is a Pandas series\n",
    "print(df1.height[0:2]) # slicing\n",
    "print(df1.height[[0, 2]]) # fancy indexing"
   ]
  },
  {
   "cell_type": "markdown",
   "metadata": {
    "slideshow": {
     "slide_type": "subslide"
    }
   },
   "source": [
    "- Other useful ways to extract items are `mydf.head()` and `mydf.tail()`."
   ]
  },
  {
   "cell_type": "code",
   "execution_count": null,
   "metadata": {
    "slideshow": {
     "slide_type": "-"
    }
   },
   "outputs": [],
   "source": [
    "df1 = pd.DataFrame([[1.75, 65], [1.82, 74], [1.65, 58]], columns=['height', 'weight'], index=['tom', 'jerry', 'spike'])\n",
    "print(df1.head(2)) # access first two row\n",
    "print(df1.tail(2)) # access last two row"
   ]
  },
  {
   "cell_type": "markdown",
   "metadata": {
    "slideshow": {
     "slide_type": "subslide"
    }
   },
   "source": [
    "#### c. Checking dimension, shape, size, and length of a dataframe<a id='sec10_2_3'></a>\n",
    "- Similar to NumPy, you can use `mydf.ndim`, `mydf.shape`, `mydf.size`, and `len()` for dataframes.\n",
    "    - To check the number of rows, use `len(mydf)` or `len(mydf.index)`. For columns, use `len(mydf.columns)`.\n",
    "- You can also use `mydf.info()` to get more detailed information.\n",
    "- Check the dimension, shape, size, and length of `df1`.\n",
    "- Also, check the detailed information of `df1` using `info()`.\n",
    "\n",
    "[back to top](#top)"
   ]
  },
  {
   "cell_type": "code",
   "execution_count": null,
   "metadata": {
    "slideshow": {
     "slide_type": "-"
    }
   },
   "outputs": [],
   "source": [
    "df1 = pd.DataFrame([[1.75, 65], [1.82, 74], [1.65, 58]], columns=['height', 'weight'], index=['tom', 'jerry', 'spike'])"
   ]
  },
  {
   "cell_type": "markdown",
   "metadata": {
    "slideshow": {
     "slide_type": "subslide"
    }
   },
   "source": [
    "#### d. Changing and adding items<a id='sec10_2_4'></a>\n",
    "- Similar to the list and the array, you can change the items in a dataframe and add a column and/or a row.\n",
    "    - To add a column, you can use `mydf.loc[:, 'column'] = new_item` (or `mydf.iloc[:, column] = new_item`). \n",
    "        - Alternatively, you can use `mydf['column'] = new_item`.\n",
    "    - To add a row, you can use `mydf.loc['index', :] = new_item` (or `mydf.iloc[index, :] = new_item`). \n",
    "        - `mydf.iloc[]` does not always work.\n",
    "\n",
    "[back to top](#top)"
   ]
  },
  {
   "cell_type": "markdown",
   "metadata": {
    "slideshow": {
     "slide_type": "subslide"
    }
   },
   "source": [
    "- Change the weight of jerry to `72` in `df1`. Print it.\n",
    "- Then, add tom and jerry's age using `[58, 75]`. The column name should be `'age'`. Print it.\n",
    "- Then, add spike's height, weight, and age using `[1.65, 58, 62]`. Print it."
   ]
  },
  {
   "cell_type": "code",
   "execution_count": null,
   "metadata": {
    "slideshow": {
     "slide_type": "-"
    }
   },
   "outputs": [],
   "source": [
    "df1 = pd.DataFrame([[1.75, 65], [1.82, 74]], columns=['height', 'weight'], index=['tom', 'jerry'])"
   ]
  },
  {
   "cell_type": "markdown",
   "metadata": {
    "slideshow": {
     "slide_type": "subslide"
    }
   },
   "source": [
    "#### e. Concatenating dataframes<a id='sec10_2_5'></a>\n",
    "- Similar to NumPy's `np.concatenate()`, you can concatenate Pandas dataframes and series using `pd.concat()`.\n",
    "    - You write like `pd.concat([mydf1, mydf2], axis=0)`, where `axis` can be `1` (add a column) or `0` (add a row).\n",
    "    - (Alternatively, to add a row, you can also write like `mydf1.append(mydf2)`. However, Pandas' `mydf.append` is different from NumPy's `np.append` as it does not allow you to add a column. Pandas' `mydf.append` is more like `mylist.append` for lists.)\n",
    "\n",
    "[back to top](#top)"
   ]
  },
  {
   "cell_type": "markdown",
   "metadata": {
    "slideshow": {
     "slide_type": "subslide"
    }
   },
   "source": [
    "- Concatenate `df1` and `df2` vertically. Then, cocatenate `df1` and `df3` horizontally."
   ]
  },
  {
   "cell_type": "code",
   "execution_count": null,
   "metadata": {
    "slideshow": {
     "slide_type": "-"
    }
   },
   "outputs": [],
   "source": [
    "df1 = pd.DataFrame([[1.75, 65], [1.82, 74]], columns=['height', 'weight'], index=['tom', 'jerry'])\n",
    "df2 = pd.DataFrame({'height':1.67, 'weight':58}, index=['spike'])\n",
    "df3 = pd.DataFrame({'tom':75, 'jerry':60}, index=['age']).T # df.T means the transpose of df\n",
    "print(df1); print(df2); print(df3)"
   ]
  },
  {
   "cell_type": "markdown",
   "metadata": {
    "slideshow": {
     "slide_type": "subslide"
    }
   },
   "source": [
    "#### f. Deleting items<a id='sec10_2_6'></a>\n",
    "- Deleting items from a dataframe is like taking a subset.\n",
    "- Alternatively, you can use `mydf.drop()`.\n",
    "    - You write like `mydf.drop('column', axis=1)` for deleting a column and `mydf.drop('index', axis=0)` for deleting a row.\n",
    "    - You need to define a new object to reflect the change.\n",
    "- Delete the `'height'` column in `df1`.\n",
    "- Instead, delete the `'tom'` row in `df1`.\n",
    "\n",
    "[back to top](#top)"
   ]
  },
  {
   "cell_type": "code",
   "execution_count": null,
   "metadata": {
    "slideshow": {
     "slide_type": "-"
    }
   },
   "outputs": [],
   "source": [
    "df1 = pd.DataFrame([[1.75, 65], [1.82, 74]], columns=['height', 'weight'], index=['tom', 'jerry'])"
   ]
  },
  {
   "cell_type": "markdown",
   "metadata": {
    "slideshow": {
     "slide_type": "subslide"
    }
   },
   "source": [
    "#### g. Changing column names/indices<a id='sec10_2_7'></a>\n",
    "- To rename column names/indices, write `mydf.rename(columns={'old1':'new1', ...}, index={'old1':'new1', ...})`.\n",
    "    - You need to define a new object to reflect the change.\n",
    "- Change the column name from `'hheight'` to `'height'` and the index from `'ttom'` to `'tom'` using `df1`.\n",
    "\n",
    "[back to top](#top)"
   ]
  },
  {
   "cell_type": "code",
   "execution_count": null,
   "metadata": {
    "slideshow": {
     "slide_type": "-"
    }
   },
   "outputs": [],
   "source": [
    "df1 = pd.DataFrame([[1.75, 65], [1.82, 74]], columns=['hheight', 'weight'], index=['ttom', 'jerry'])"
   ]
  },
  {
   "cell_type": "markdown",
   "metadata": {
    "slideshow": {
     "slide_type": "subslide"
    }
   },
   "source": [
    "#### h. Sorting items<a id='sec10_2_8'></a>\n",
    "- To sort a dataframe by a row or column, use `mydf.sort_values(by='column name', axis=0)` or `mydf.sort_values(by='index', axis=1)`.\n",
    "    - Available option: `ascending`, etc.\n",
    "    - You can use more than one column name or index (e.g., `by=['column name1', 'column name2']`).\n",
    "- You can also use `mydf.sort_index` to sort by index.\n",
    "    - Available option: `ascending`, etc.\n",
    "- You need to define a new object to reflect the change.\n",
    "\n",
    "[back to top](#top)"
   ]
  },
  {
   "cell_type": "markdown",
   "metadata": {
    "slideshow": {
     "slide_type": "subslide"
    }
   },
   "source": [
    "- Sort the `'height'` column in `df1` in the descending order. Define `df2`. Hint: Use the `ascending=False` option.\n",
    "- Then, sort `df2` in the reversed alphabetical order (from z to a) using the indices."
   ]
  },
  {
   "cell_type": "code",
   "execution_count": null,
   "metadata": {
    "slideshow": {
     "slide_type": "-"
    }
   },
   "outputs": [],
   "source": [
    "df1 = pd.DataFrame([[1.75, 65], [1.82, 74]], columns=['height', 'weight'], index=['tom', 'jerry'])"
   ]
  },
  {
   "cell_type": "markdown",
   "metadata": {
    "slideshow": {
     "slide_type": "subslide"
    }
   },
   "source": [
    "#### i. Transposing a dataframe<a id='sec10_2_9'></a>\n",
    "- To transpose a dataframe, use `mydf.T`.\n",
    "- Transpose `df1`.\n",
    "\n",
    "[back to top](#top)"
   ]
  },
  {
   "cell_type": "code",
   "execution_count": null,
   "metadata": {
    "slideshow": {
     "slide_type": "-"
    }
   },
   "outputs": [],
   "source": [
    "df1 = pd.DataFrame([[1.75, 65], [1.82, 74]], columns=['height', 'weight'], index=['tom', 'jerry'])"
   ]
  },
  {
   "cell_type": "markdown",
   "metadata": {
    "slideshow": {
     "slide_type": "subslide"
    }
   },
   "source": [
    "#### j. Summarizing items<a id='sec10_2_10'></a>\n",
    "- Similar to NumPy, you can summarize items using `min`, `max`, `mean`, `std`, `sum`, etc.\n",
    "    - You write like `mydf.sum()`.\n",
    "    - You can also specify columns or rows using the `axis` option, where `axis=1` means that you apply a method to columns and `axis=0` means that you apply a method to rows.\n",
    "- Compute `df1.sum()`. Then `df1.sum(axis=1)`. What is the difference?\n",
    "\n",
    "[back to top](#top)"
   ]
  },
  {
   "cell_type": "code",
   "execution_count": null,
   "metadata": {
    "slideshow": {
     "slide_type": "-"
    }
   },
   "outputs": [],
   "source": [
    "df1 = pd.DataFrame([[1.75, 65], [1.82, 74], [1.65, 58]], columns=['height', 'weight'], index=['tom', 'jerry', 'spike'])"
   ]
  },
  {
   "cell_type": "markdown",
   "metadata": {
    "slideshow": {
     "slide_type": "subslide"
    }
   },
   "source": [
    "- You can also use `mydf.describe()` to get a summary table.\n",
    "- Get the summary table of `df1`."
   ]
  },
  {
   "cell_type": "code",
   "execution_count": null,
   "metadata": {
    "slideshow": {
     "slide_type": "-"
    }
   },
   "outputs": [],
   "source": [
    "df1 = pd.DataFrame([[1.75, 65], [1.82, 74], [1.65, 58]], columns=['height', 'weight'], index=['tom', 'jerry', 'spike'])"
   ]
  }
 ],
 "metadata": {
  "celltoolbar": "Slideshow",
  "kernelspec": {
   "display_name": "Python 3",
   "language": "python",
   "name": "python3"
  },
  "language_info": {
   "codemirror_mode": {
    "name": "ipython",
    "version": 3
   },
   "file_extension": ".py",
   "mimetype": "text/x-python",
   "name": "python",
   "nbconvert_exporter": "python",
   "pygments_lexer": "ipython3",
   "version": "3.8.3"
  }
 },
 "nbformat": 4,
 "nbformat_minor": 2
}
