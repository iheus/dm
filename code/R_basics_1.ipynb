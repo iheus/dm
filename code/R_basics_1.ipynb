{
 "cells": [
  {
   "cell_type": "markdown",
   "metadata": {
    "slideshow": {
     "slide_type": "slide"
    }
   },
   "source": [
    "# R Basics\n",
    "By Shuhei Kitamura"
   ]
  },
  {
   "cell_type": "markdown",
   "metadata": {
    "slideshow": {
     "slide_type": "subslide"
    }
   },
   "source": [
    "### Outline\n",
    "1. Hello World\n",
    "2. Arithmetic Operation\n",
    "3. Variables and Objects\n",
    "4. Data Types\n",
    "5. Data Structures\n",
    "    - (i) Vectors\n",
    "    - (ii) Matrices and Arrays\n",
    "    - (iii) Data Frames\n",
    "    - (iv) Factors\n",
    "6. Attributes"
   ]
  },
  {
   "cell_type": "markdown",
   "metadata": {
    "slideshow": {
     "slide_type": "slide"
    }
   },
   "source": [
    "## 1. Hello World\n",
    "- Type `\"Hello World\"` and execute (Shift + Enter or push \"Run Cells\" button above).\n",
    "- Next, do the same for `print(\"Hello World\")`."
   ]
  },
  {
   "cell_type": "code",
   "execution_count": null,
   "metadata": {
    "slideshow": {
     "slide_type": "-"
    }
   },
   "outputs": [],
   "source": []
  },
  {
   "cell_type": "markdown",
   "metadata": {
    "slideshow": {
     "slide_type": "subslide"
    }
   },
   "source": [
    "- If you want to write a comment, rather than code to execute, use `#` (like Python).\n",
    "- Write `1 + 2` with and without `#`."
   ]
  },
  {
   "cell_type": "code",
   "execution_count": null,
   "metadata": {
    "slideshow": {
     "slide_type": "-"
    }
   },
   "outputs": [],
   "source": []
  },
  {
   "cell_type": "markdown",
   "metadata": {
    "slideshow": {
     "slide_type": "slide"
    }
   },
   "source": [
    "## 2. Arithmetic Operation\n",
    "- Any arithmetic operation is possible with R.\n",
    "- Main operators are `+`, `-`, `*`, and `/`.\n",
    "    - `^` or `**` for (mathematical) power. Power is right associative (like Python).\n",
    "- Write `-2 ** 4` and execute. "
   ]
  },
  {
   "cell_type": "code",
   "execution_count": null,
   "metadata": {
    "slideshow": {
     "slide_type": "-"
    }
   },
   "outputs": [],
   "source": []
  },
  {
   "cell_type": "markdown",
   "metadata": {
    "slideshow": {
     "slide_type": "subslide"
    }
   },
   "source": [
    "- `%%` for modulus (the remainder from the division) and `%/%` for floor division (integer divide).\n",
    "    - Recall: `%` (modulus) and `//` (floor division) in Python.\n",
    "- Calculate `7 %% 2`.\n",
    "- Calculate `7 %/% 2`."
   ]
  },
  {
   "cell_type": "code",
   "execution_count": null,
   "metadata": {
    "slideshow": {
     "slide_type": "-"
    }
   },
   "outputs": [],
   "source": []
  },
  {
   "cell_type": "markdown",
   "metadata": {
    "slideshow": {
     "slide_type": "slide"
    }
   },
   "source": [
    "## 3. Variables and Objects\n",
    "- You make a variable and assign data to it. The data are also called **objects** in R.\n",
    "- You write `<-` or `->` to define a variable in R. \n",
    "    - You can also use `=` (like Python), but this notation is uncommon.\n",
    "- For example, `x <- 1` creates a variable with a name `x`, and assigns object `1` to that variable.\n",
    "    - (Unlike Python, R does not allow you to directly access the computer's memory.)"
   ]
  },
  {
   "cell_type": "code",
   "execution_count": null,
   "metadata": {
    "slideshow": {
     "slide_type": "-"
    }
   },
   "outputs": [],
   "source": []
  },
  {
   "cell_type": "markdown",
   "metadata": {
    "slideshow": {
     "slide_type": "subslide"
    }
   },
   "source": [
    "- In Jupyter Notebook, you can use `Alt & -` to insert `<-` and spaces. (See Keyboard Shortcuts in the Help tab above.)\n",
    "- You can also use `( <- )` to assign and print at once.\n",
    "- Assign `1 + 2` to variable `x` and print it at the same time."
   ]
  },
  {
   "cell_type": "code",
   "execution_count": null,
   "metadata": {
    "slideshow": {
     "slide_type": "-"
    }
   },
   "outputs": [],
   "source": []
  },
  {
   "cell_type": "markdown",
   "metadata": {
    "slideshow": {
     "slide_type": "slide"
    }
   },
   "source": [
    "## 4. Data Types\n",
    "- Basic data types in R are: **real (double), complex, integer, character,** and **logical**.\n",
    "    - Real is like float in Python.\n",
    "    - For integer, you should put `L` after a value.\n",
    "    - Logical is like boolean in Python, but you should write `TRUE` or `FALSE`, instead of `True` or `False`."
   ]
  },
  {
   "cell_type": "markdown",
   "metadata": {
    "slideshow": {
     "slide_type": "subslide"
    }
   },
   "source": [
    "- To check the type of an object, use `typeof()`.\n",
    "- Alternatively, you could use...\n",
    "    - `mode()`: Mode of an object. **numeric** means **integer** or **double**.\n",
    "    - `storage.mode()`: Storage mode of an object.\n",
    "    - See e.g. [this website](https://stat.ethz.ch/R-manual/R-devel/doc/manual/R-lang.html#Objects) for further explanation.\n",
    "- To check the property of an object that determines how generic functions operate with it, use `class()`.\n",
    "- Check the types of the following objects."
   ]
  },
  {
   "cell_type": "code",
   "execution_count": null,
   "metadata": {
    "slideshow": {
     "slide_type": "subslide"
    }
   },
   "outputs": [],
   "source": [
    "1 # this is not an integer unlike Python. double means real.\n",
    "1L # this is an integer\n",
    "1.0 # .0 is not shown unlike Python\n",
    "1.5\n",
    "\"TRUE\"\n",
    "TRUE\n",
    "matrix(1:4,2)"
   ]
  },
  {
   "cell_type": "markdown",
   "metadata": {
    "slideshow": {
     "slide_type": "subslide"
    }
   },
   "source": [
    "- To change types, use, e.g., `as.double()`, `as.integer()`, `as.character()`, and `as.logical()`.\n",
    "    - You can also use `as.numeric()`.\n",
    "- To check types use, e.g., `is.double()`, `is.integer()`, `is.character()`, and `is.logical()`."
   ]
  },
  {
   "cell_type": "code",
   "execution_count": null,
   "metadata": {
    "slideshow": {
     "slide_type": "-"
    }
   },
   "outputs": [],
   "source": [
    "print(as.character(1.5))\n",
    "print(is.integer(1.5))"
   ]
  },
  {
   "cell_type": "markdown",
   "metadata": {
    "slideshow": {
     "slide_type": "subslide"
    }
   },
   "source": [
    "- `FALSE` is `0` and `0` is `FALSE`. \n",
    "    - `TRUE` is `1` and `1` is `TRUE`.\n",
    "    - The other numerics are also `TRUE`. \n",
    "- However, characters are not `TRUE`. (Recall that strings are `True` in Python.)\n",
    "- Check the logical of `\"Hello\"`."
   ]
  },
  {
   "cell_type": "code",
   "execution_count": null,
   "metadata": {
    "slideshow": {
     "slide_type": "-"
    }
   },
   "outputs": [],
   "source": []
  },
  {
   "cell_type": "markdown",
   "metadata": {
    "slideshow": {
     "slide_type": "subslide"
    }
   },
   "source": [
    "- `NULL` means non-existence and its type is `NULL` (like `None` in Python).\n",
    "- `NaN` (Not a Number) is double (like `NaN` in Python).\n",
    "- `NA` (Not Available) is logical."
   ]
  },
  {
   "cell_type": "code",
   "execution_count": null,
   "metadata": {
    "slideshow": {
     "slide_type": "-"
    }
   },
   "outputs": [],
   "source": []
  },
  {
   "cell_type": "markdown",
   "metadata": {
    "slideshow": {
     "slide_type": "subslide"
    }
   },
   "source": [
    "- You ***cannot*** use `+` and `*` for characters or logical (unlike Python).\n",
    "- Try `\"Ha\" * 4`."
   ]
  },
  {
   "cell_type": "code",
   "execution_count": null,
   "metadata": {
    "slideshow": {
     "slide_type": "-"
    }
   },
   "outputs": [],
   "source": []
  },
  {
   "cell_type": "markdown",
   "metadata": {
    "slideshow": {
     "slide_type": "subslide"
    }
   },
   "source": [
    "- This means that you cannot write like `print(\"Hello\" + str(10) + \"World\")`.\n",
    "- Instead, use `paste()` or `paste0()`.\n",
    "    - What is the difference? Try them."
   ]
  },
  {
   "cell_type": "code",
   "execution_count": null,
   "metadata": {
    "slideshow": {
     "slide_type": "-"
    }
   },
   "outputs": [],
   "source": [
    "print(paste(\"I have\", 10 ,\"bucks.\"))\n",
    "print(paste0(\"I have\", 10 ,\"bucks.\"))"
   ]
  },
  {
   "cell_type": "markdown",
   "metadata": {
    "slideshow": {
     "slide_type": "slide"
    }
   },
   "source": [
    "## 5. Data Structures\n",
    "- R has several data structures. Major ones are **vectors**, **matrices**, **arrays**, **data frames**, and **factors**.\n",
    "    - Recall that matrices are also a type in Python, data frames cannot be used without Pandas, etc. "
   ]
  },
  {
   "cell_type": "markdown",
   "metadata": {
    "slideshow": {
     "slide_type": "subslide"
    }
   },
   "source": [
    "### (i) Vectors\n",
    "### (Atomic) Vectors\n",
    "- A vector `c()` is a one-dimensional array (like `numpy.array` in Python).\n",
    "- A vector can contain any type (like `list` or `numpy.array` in Python).\n",
    "- But a vector itself is not a data type in R."
   ]
  },
  {
   "cell_type": "markdown",
   "metadata": {
    "slideshow": {
     "slide_type": "subslide"
    }
   },
   "source": [
    "**Making vectors**\n",
    "- Make a vector by typing like `c(item1, item2,...)`.\n",
    "    - A vector can contain a vector, and that vector can contain another vector, etc.\n",
    "- You can make an empty vector by typing `c()`."
   ]
  },
  {
   "cell_type": "code",
   "execution_count": null,
   "metadata": {
    "slideshow": {
     "slide_type": "-"
    }
   },
   "outputs": [],
   "source": [
    "print(c(\"a\", 1, TRUE, 2.5))\n",
    "print(c())"
   ]
  },
  {
   "cell_type": "markdown",
   "metadata": {
    "slideshow": {
     "slide_type": "subslide"
    }
   },
   "source": [
    "- There are a few clever ways to make a vector. For example:\n",
    "    - `:`: a vector of integers.\n",
    "    - `double()` and `integer()`: a vector of zeros as real and integer, respectively.\n",
    "        - `numeric()`: a vector of zeros as real.\n",
    "    - `seq()`: a vector of numerics.\n",
    "    - `rep()`: a vector of repeated items."
   ]
  },
  {
   "cell_type": "code",
   "execution_count": null,
   "metadata": {
    "slideshow": {
     "slide_type": "-"
    }
   },
   "outputs": [],
   "source": [
    "print(-1:4)\n",
    "print(double(5))\n",
    "print(seq(-1, 4, by=2))\n",
    "print(rep(\"Ha\", 4)) "
   ]
  },
  {
   "cell_type": "markdown",
   "metadata": {
    "slideshow": {
     "slide_type": "subslide"
    }
   },
   "source": [
    "- `c(,)` can be used in `print()` to show multiple objects at once (like `print(,)` in Python)."
   ]
  },
  {
   "cell_type": "code",
   "execution_count": null,
   "metadata": {
    "slideshow": {
     "slide_type": "-"
    }
   },
   "outputs": [],
   "source": [
    "print(c(c(1, 2), c(3, 4)))"
   ]
  },
  {
   "cell_type": "markdown",
   "metadata": {
    "slideshow": {
     "slide_type": "subslide"
    }
   },
   "source": [
    "**Types and length**\n",
    "- If a vector contains multiple types, the highest one is chosen (like `numpy.array`).\n",
    "   - Types are ordered: character > complex > real > integer > logical > NULL.\n",
    "- Check the type of the following vector."
   ]
  },
  {
   "cell_type": "code",
   "execution_count": 107,
   "metadata": {
    "slideshow": {
     "slide_type": "-"
    }
   },
   "outputs": [],
   "source": [
    "vec1 <- c(\"a\", as.complex(1.0), 1L, TRUE, 2.5, NULL)"
   ]
  },
  {
   "cell_type": "markdown",
   "metadata": {
    "slideshow": {
     "slide_type": "subslide"
    }
   },
   "source": [
    "- To get the length of a vector, use `length()` (like `len()` in Python).\n",
    "    - Why, not `6`?"
   ]
  },
  {
   "cell_type": "code",
   "execution_count": null,
   "metadata": {
    "slideshow": {
     "slide_type": "-"
    }
   },
   "outputs": [],
   "source": [
    "length(c(\"a\", as.complex(1.0), 1L, TRUE, 2.5, NULL))"
   ]
  },
  {
   "cell_type": "markdown",
   "metadata": {
    "slideshow": {
     "slide_type": "subslide"
    }
   },
   "source": [
    "**Getting items**\n",
    "- To get a subset of a vector, use `[]` (like Python). \n",
    "    - R does ***not*** use zero-based indexing. The index starts from one.\n",
    "- You can also use vectors, names, slicing, and relational operators to take a subset of a vector.\n",
    "    - `myvec[inclusive:inclusive]` for slicing.\n",
    "    - You cannot write like `myvec[-1:]` or `myvec[:4]` unlike Python.\n",
    "- A minus sign means exclusion, not the index from the end of a vector (unlike Python)."
   ]
  },
  {
   "cell_type": "code",
   "execution_count": null,
   "metadata": {
    "slideshow": {
     "slide_type": "subslide"
    }
   },
   "outputs": [],
   "source": [
    "vec1 <- c(1, 10, 100, 1000)\n",
    "names(vec1) <- c(\"v1\", \"v2\", \"v3\", \"v4\") # add names if you like. you can also write like c(v1=1, v2=10, v3=100, v4=1000).\n",
    "print(vec1[-1])\n",
    "print(vec1[c(2, 3)])\n",
    "print(vec1[1:3])\n",
    "print(vec1[c(\"v1\", \"v4\")])\n",
    "print(vec1[vec1 > 100])"
   ]
  },
  {
   "cell_type": "markdown",
   "metadata": {
    "slideshow": {
     "slide_type": "subslide"
    }
   },
   "source": [
    "**Checking items**\n",
    "- You can check if an item is in the list using `in` e.g. `\"x\" %in% myvec`, which returns `TRUE` or `FALSE` (like `in` in Python).\n",
    "- Check if `\"spike\"` is in `vec1`."
   ]
  },
  {
   "cell_type": "code",
   "execution_count": 108,
   "metadata": {
    "slideshow": {
     "slide_type": "-"
    }
   },
   "outputs": [],
   "source": [
    "vec1 <- c(\"jerry\", \"tom\", \"spike\")"
   ]
  },
  {
   "cell_type": "markdown",
   "metadata": {
    "slideshow": {
     "slide_type": "subslide"
    }
   },
   "source": [
    "**Adding items**\n",
    "- To add an item to a vector, use `c(myvec, item)` or `append(myvec, item)`.\n",
    "    - The item can be a vector or have other data structure.\n",
    "- Add `\"tyke\"` to `vec1`."
   ]
  },
  {
   "cell_type": "code",
   "execution_count": 109,
   "metadata": {
    "slideshow": {
     "slide_type": "-"
    }
   },
   "outputs": [],
   "source": [
    "vec1 <- c(\"jerry\", \"tom\", \"spike\")"
   ]
  },
  {
   "cell_type": "markdown",
   "metadata": {
    "slideshow": {
     "slide_type": "subslide"
    }
   },
   "source": [
    "**Changing items**\n",
    "- To change an item of a vector use `myvec[index] <- newvalue`.\n",
    "- Change `5` to `10` in `vec1`."
   ]
  },
  {
   "cell_type": "code",
   "execution_count": 110,
   "metadata": {
    "slideshow": {
     "slide_type": "-"
    }
   },
   "outputs": [],
   "source": [
    "vec1 <- c(1, 5, 100, 1000)"
   ]
  },
  {
   "cell_type": "markdown",
   "metadata": {
    "slideshow": {
     "slide_type": "subslide"
    }
   },
   "source": [
    "**Deleting items**\n",
    "- Deleting items of a vector is like taking its subset.\n",
    "- Make a vector `vec2` by removing `1` and `10` from `vec1` using slicing."
   ]
  },
  {
   "cell_type": "code",
   "execution_count": 111,
   "metadata": {
    "slideshow": {
     "slide_type": "-"
    }
   },
   "outputs": [],
   "source": [
    "vec1 <- c(1, 10, 100, 1000)"
   ]
  },
  {
   "cell_type": "markdown",
   "metadata": {
    "slideshow": {
     "slide_type": "subslide"
    }
   },
   "source": [
    "- You can also use operators like `%in%` and `!` to get a subset."
   ]
  },
  {
   "cell_type": "code",
   "execution_count": 112,
   "metadata": {
    "slideshow": {
     "slide_type": "-"
    }
   },
   "outputs": [],
   "source": [
    "vec1 <- c(1, 10, 100, 1000)\n",
    "remove <- c(1, 100)\n",
    "vec1 <- vec1[!vec1 %in% remove]"
   ]
  },
  {
   "cell_type": "markdown",
   "metadata": {
    "slideshow": {
     "slide_type": "subslide"
    }
   },
   "source": [
    "**Exercise (vectors)**\n",
    "- 1. Make a vector of integers from 1 to 5.\n",
    "- 2. Get only odd numbers from the vector using an `%in%` operator."
   ]
  },
  {
   "cell_type": "code",
   "execution_count": null,
   "metadata": {
    "slideshow": {
     "slide_type": "-"
    }
   },
   "outputs": [],
   "source": []
  },
  {
   "cell_type": "markdown",
   "metadata": {
    "slideshow": {
     "slide_type": "subslide"
    }
   },
   "source": [
    "### Lists\n",
    "- A list is also a vector (in a broad sense).\n",
    "    - It can contain any type (like `list` in Python).\n",
    "    - It preserves the types of its entries unlike an (atomic) vector.\n",
    "- The type of a list is list.\n",
    "- You can make a list using `list()`.\n",
    "- Check the type and length of `list1`. What is the type of `\"vec\"` in `list1`?"
   ]
  },
  {
   "cell_type": "code",
   "execution_count": 6,
   "metadata": {
    "slideshow": {
     "slide_type": "-"
    }
   },
   "outputs": [],
   "source": [
    "vec1 <- c(1, 2)\n",
    "mat1 <- matrix(1:4, nrow=2, ncol=2)\n",
    "df1 <- mtcars\n",
    "list1 <- list(vec=vec1, mat=mat1, df=df1) "
   ]
  },
  {
   "cell_type": "markdown",
   "metadata": {
    "slideshow": {
     "slide_type": "subslide"
    }
   },
   "source": [
    "**Getting items**\n",
    "- To get an item of a list, use `[[]]` or ` $ `.\n",
    "    - Check the difference between `list1[1]` and `list1[[1]]`in the below example. Hint: Check their types.\n",
    "        - Alternatively, you can write like `list1[\"name\"]` and `list1[[\"name\"]]` if names are given.\n",
    "    - Next, get the fourth element of `mat1`, i.e., `4`. Hint: `mylist[[index1]][index2]`."
   ]
  },
  {
   "cell_type": "code",
   "execution_count": 10,
   "metadata": {
    "slideshow": {
     "slide_type": "subslide"
    }
   },
   "outputs": [],
   "source": [
    "vec1 <- c(1, 2)\n",
    "mat1 <- matrix(1:4, nrow=2, ncol=2)\n",
    "df1 <- mtcars\n",
    "list1 <- list(vec=vec1, mat=mat1, df=df1)"
   ]
  },
  {
   "cell_type": "markdown",
   "metadata": {
    "slideshow": {
     "slide_type": "subslide"
    }
   },
   "source": [
    "**Checking, adding, changing, and deleting items**\n",
    "- The methods for checking, adding, changing, and deleting items for lists are similar to those for vectors, except that you need to use `[[]]` to select an item.\n",
    "- Assignment 3 asks you to do such exercises."
   ]
  },
  {
   "cell_type": "markdown",
   "metadata": {
    "slideshow": {
     "slide_type": "subslide"
    }
   },
   "source": [
    "**Exercise (lists)**\n",
    "- 1. Make a list of `c(\"a\", \"b\")` and `c(3, 4, 5)` and name it `list1`.\n",
    "- 2. Add names `\"chr\"` and `\"real\"` to `list1` (or you can already add names in 1)."
   ]
  },
  {
   "cell_type": "code",
   "execution_count": null,
   "metadata": {
    "slideshow": {
     "slide_type": "-"
    }
   },
   "outputs": [],
   "source": []
  },
  {
   "cell_type": "markdown",
   "metadata": {
    "slideshow": {
     "slide_type": "subslide"
    }
   },
   "source": [
    "### (ii) Matrices and Arrays\n",
    "- Matrices and arrays are built-in data structures in R (unlike Python).\n",
    "    - A matrix is a two-dimensional array (like `numpy.ndarray` in Python).\n",
    "    - An array is a multi-dimensional array (like `numpy.ndarray` in Python).\n",
    "- The type of a matrix or an array is determined by its entries.\n",
    "- You can make a matrix and an array using `matrix()` and `array()`, respectively.\n",
    "- Check the types of the following objects. Try `typeof()` and `class()`."
   ]
  },
  {
   "cell_type": "code",
   "execution_count": 115,
   "metadata": {
    "slideshow": {
     "slide_type": "subslide"
    }
   },
   "outputs": [],
   "source": [
    "mat1 <- matrix(c(1, 2, \"3\", 4L), nrow=2, ncol=2) # 2 by 2 matrix\n",
    "colnames(mat1) <- c(\"v1\", \"v2\") # add column names if you like\n",
    "rownames(mat1) <- c(\"a\", \"b\") # add row names if you like\n",
    "array1 <- array(1:12, dim=c(2, 3, 2)) # 2 by 3 by 2 array"
   ]
  },
  {
   "cell_type": "markdown",
   "metadata": {
    "slideshow": {
     "slide_type": "subslide"
    }
   },
   "source": [
    "#### Getting items\n",
    "- To get an item, use `[]`. You can use either names or indices.\n",
    "- To slice data, use `mymat[inclusive:inclusive]`.\n",
    "    - To get columns, use `mymat[, inclusive:inclusive]`.\n",
    "    - To get rows, use `mymat[inclusive:inclusive, ]`"
   ]
  },
  {
   "cell_type": "code",
   "execution_count": null,
   "metadata": {
    "slideshow": {
     "slide_type": "subslide"
    }
   },
   "outputs": [],
   "source": [
    "mat1 <- matrix(c(1, 2, \"3\", 4L, 5, 6), nrow=3, ncol=3) \n",
    "colnames(mat1) <- c(\"v1\", \"v2\", \"v3\") \n",
    "rownames(mat1) <- c(\"a\", \"b\", \"c\") \n",
    "print(mat1[1:2]) \n",
    "# columns \n",
    "print(mat1[, 1:2])  # In Python, mat1.iloc[:, 0:2]\n",
    "print(mat1[, 'v1'])  # In Python, mat1.loc[:, 'v1'] \n",
    "# rows\n",
    "print(mat1[1:2, ])  # In Python, mat1.iloc[0:2, :]\n",
    "print(mat1[\"a\", ])  # In Python, mat1.loc['a', :]"
   ]
  },
  {
   "cell_type": "markdown",
   "metadata": {
    "slideshow": {
     "slide_type": "subslide"
    }
   },
   "source": [
    "**Checking and changing items**\n",
    "- The methods for such operations for matrices and arrays are very similar to those for vectors. A difference is that the indices can be multi-dimensional (e.g., `mymat[1, 2]`, or `mymat[rowname, colname]` if names are given).\n",
    "- Change `\"3\"` to `3L` in `mat1`."
   ]
  },
  {
   "cell_type": "code",
   "execution_count": 47,
   "metadata": {
    "slideshow": {
     "slide_type": "-"
    }
   },
   "outputs": [],
   "source": [
    "mat1 <- matrix(c(1, 2, \"3\", 4L), nrow=2, ncol=2) \n",
    "colnames(mat1) <- c(\"v1\", \"v2\") \n",
    "rownames(mat1) <- c(\"a\", \"b\") "
   ]
  },
  {
   "cell_type": "markdown",
   "metadata": {
    "slideshow": {
     "slide_type": "subslide"
    }
   },
   "source": [
    "**Adding items**\n",
    "- Similar to vectors, you can use e.g. `matrix(c(mymat, new_item), nrow=.., ncol=..)` to add items.\n",
    "- Alternative options are `rbind()` and `cbind()`.\n",
    "    - `rbind()` adds new items to rows from the bottom.\n",
    "    - `cbind()` adds new items to columns from the right.\n",
    "- In both cases, you have to be careful about the length of new items.\n",
    "- Add `c(1, 2)` to `mat1`. How about `c(1, 2, 3)`?"
   ]
  },
  {
   "cell_type": "code",
   "execution_count": 12,
   "metadata": {
    "slideshow": {
     "slide_type": "-"
    }
   },
   "outputs": [],
   "source": [
    "mat1 <- matrix(c(1, 2, \"3\", 4L), nrow=2, ncol=2) "
   ]
  },
  {
   "cell_type": "markdown",
   "metadata": {
    "slideshow": {
     "slide_type": "subslide"
    }
   },
   "source": [
    "**Deleting items**\n",
    "- Deleting items is like taking a subset.\n",
    "- Delete the first row of `mat1`."
   ]
  },
  {
   "cell_type": "code",
   "execution_count": 73,
   "metadata": {
    "slideshow": {
     "slide_type": "-"
    }
   },
   "outputs": [],
   "source": [
    "mat1 <- matrix(1:4, nrow=2, ncol=2) "
   ]
  },
  {
   "cell_type": "markdown",
   "metadata": {
    "slideshow": {
     "slide_type": "subslide"
    }
   },
   "source": [
    "**Item-by-item calculation**\n",
    "- For item-by-item calculation of matrices, use `+`, `-`, `*`, and `/`.\n",
    "- Take the item-by-item summation of `mat1` and `mat2`."
   ]
  },
  {
   "cell_type": "code",
   "execution_count": 14,
   "metadata": {
    "slideshow": {
     "slide_type": "-"
    }
   },
   "outputs": [],
   "source": [
    "mat1 <- matrix(c(1, 2, 3, 4), nrow=2, ncol=2) \n",
    "mat2 <- matrix(c(5, 6, 7, 8), nrow=2, ncol=2)"
   ]
  },
  {
   "cell_type": "markdown",
   "metadata": {
    "slideshow": {
     "slide_type": "subslide"
    }
   },
   "source": [
    "**Transposing a matrix**\n",
    "- To transpose a matrix, use `t()`.\n",
    "- Transpose `mat1`."
   ]
  },
  {
   "cell_type": "code",
   "execution_count": 10,
   "metadata": {
    "slideshow": {
     "slide_type": "-"
    }
   },
   "outputs": [],
   "source": [
    "mat1 <- matrix(1:6, nrow=3, ncol=2) "
   ]
  },
  {
   "cell_type": "markdown",
   "metadata": {
    "slideshow": {
     "slide_type": "subslide"
    }
   },
   "source": [
    "#### Sorting items\n",
    "- To sort items, use `order()` (like `sort_values` in Python)."
   ]
  },
  {
   "cell_type": "code",
   "execution_count": null,
   "metadata": {
    "slideshow": {
     "slide_type": "-"
    }
   },
   "outputs": [],
   "source": [
    "mat1 <- matrix(c(1, 3, 5, 6, 6, 9, 2, 7, 4), nrow=3, ncol=3) \n",
    "colnames(mat1) <- c(\"v1\", \"v2\", \"v3\") \n",
    "print(mat1[order(mat1[,\"v2\"], mat1[,\"v3\"]), ]) # ascending\n",
    "print(mat1[order(-mat1[,\"v2\"], -mat1[,\"v3\"]), ]) # descending "
   ]
  },
  {
   "cell_type": "markdown",
   "metadata": {
    "slideshow": {
     "slide_type": "subslide"
    }
   },
   "source": [
    "**Exercise (matrices and arrays)**\n",
    "- 1. Make a 3-by-4 matrix of real numbers from -9 to 2 and name it `mat1`.\n",
    "- 2. Sort the rows of `mat1` in a descending order using the second column and define a new matrix `mat2`.\n",
    "- 3. Muliply `mat1` by `mat2`."
   ]
  },
  {
   "cell_type": "code",
   "execution_count": null,
   "metadata": {
    "slideshow": {
     "slide_type": "-"
    }
   },
   "outputs": [],
   "source": []
  },
  {
   "cell_type": "markdown",
   "metadata": {
    "slideshow": {
     "slide_type": "subslide"
    }
   },
   "source": [
    "### (iii) Data Frames\n",
    "- Data frames are similar to `pandas.DataFrame` in Python.\n",
    "- Data frames are also like R's matrices, but preserve the types of their entries.\n",
    "- Data frames are also like R's lists, but cannot include items with different lengths.\n",
    "- You will often work with data frames when you handle data.\n",
    "- To make a data frame, use `data.frame()`.\n",
    "- Check the types of `df1` and `df1[3]`, and `df1[[3]]`. Try `typeof()` and `class()`."
   ]
  },
  {
   "cell_type": "code",
   "execution_count": null,
   "metadata": {
    "slideshow": {
     "slide_type": "subslide"
    }
   },
   "outputs": [],
   "source": [
    "col1 <- c(\"tom\", \"jerry\", \"tom\", \"jerry\")\n",
    "col2 <- c(1999L, 2000L, 1999L ,2000L)\n",
    "col3 <- c(NaN, 0.2, 0.4, 0.1)\n",
    "col4 <- c(TRUE, FALSE, FALSE, TRUE)\n",
    "df1 <- data.frame(name=col1, year=col2, varA=col3, varB=col4, stringsAsFactors=FALSE) # name, year, etc. are column names\n",
    "print(rownames(df1))\n",
    "print(rownames(df1) <- c(\"a\", \"b\", \"c\", \"d\")) # add row names if you like"
   ]
  },
  {
   "cell_type": "markdown",
   "metadata": {
    "slideshow": {
     "slide_type": "subslide"
    }
   },
   "source": [
    "#### Checking structure, shape, and lengths\n",
    "- To get the structure of a data frame including the types of its entries, use `str()` (like `.info` in Python).\n",
    "- To get dimensions, use `dim()` (like `.shape` in Python).\n",
    "- To get the number of rows and columns, use `nrow()` and `ncol()`, respectively.\n",
    "    - Alternatively, you can also use `length()` and `lengths()`."
   ]
  },
  {
   "cell_type": "code",
   "execution_count": 17,
   "metadata": {
    "slideshow": {
     "slide_type": "subslide"
    }
   },
   "outputs": [],
   "source": [
    "#print(mtcars) # mtcars is built-in data\n",
    "print(str(mtcars)) \n",
    "print(dim(mtcars))\n",
    "print(nrow(mtcars)) \n",
    "print(ncol(mtcars))\n",
    "print(length(mtcars))\n",
    "print(lengths(mtcars))"
   ]
  },
  {
   "cell_type": "markdown",
   "metadata": {
    "slideshow": {
     "slide_type": "subslide"
    }
   },
   "source": [
    "#### Summarizing data\n",
    "- To get a summary statistics of data, use `summary()` (like `describe()` in Python)."
   ]
  },
  {
   "cell_type": "code",
   "execution_count": null,
   "metadata": {
    "slideshow": {
     "slide_type": "-"
    }
   },
   "outputs": [],
   "source": [
    "print(summary(mtcars))"
   ]
  },
  {
   "cell_type": "markdown",
   "metadata": {
    "slideshow": {
     "slide_type": "subslide"
    }
   },
   "source": [
    "**Getting, checking, adding, changing, and deleting items**\n",
    "- The methods for such operations for data frames are very similar to those for matrices.\n",
    "- To access each items, use `mydf[]` or `mydf[[]]`.\n",
    "    - It may be more common to use `mydf[]` because it preserves the `data.frame` structure.\n",
    "    - You can also write like `mydf$column_name`, which is equivalent to `mydf[[column_name]]`, to get a column.\n",
    "- Get `\"name\"` column using `df1[\"name\"]`, `df1[[\"name\"]]`, and `df1$name`."
   ]
  },
  {
   "cell_type": "code",
   "execution_count": 23,
   "metadata": {
    "slideshow": {
     "slide_type": "subslide"
    }
   },
   "outputs": [],
   "source": [
    "col1 <- c(\"tom\", \"jerry\", \"tom\", \"jerry\")\n",
    "col2 <- c(1999L, 2000L, 1999L ,2000L)\n",
    "col3 <- c(NaN, 0.2, 0.4, 0.1)\n",
    "col4 <- c(TRUE, FALSE, FALSE, TRUE)\n",
    "df1 <- data.frame(name=col1, time=col2, varA=col3, varB=col4, stringsAsFactors=FALSE) "
   ]
  },
  {
   "cell_type": "markdown",
   "metadata": {
    "slideshow": {
     "slide_type": "subslide"
    }
   },
   "source": [
    "**Item-by-item calculation, transposing a data frame, and sorting items**\n",
    "- The methods for such operations are very similar to those for matrices."
   ]
  },
  {
   "cell_type": "markdown",
   "metadata": {
    "slideshow": {
     "slide_type": "subslide"
    }
   },
   "source": [
    "**Exercise (data frames)**\n",
    "- 1. Make a data frame `df1` using `c(\"mickey\", \"minnie\", \"pooh\")`, `c(175, 181, 162)`, and `c(78, 82, 64)`.\n",
    "- 2. Add names `\"name\"`, `\"height\"`, and `\"weight\"` to `df1` (or you can already add names in 1).\n",
    "- 3. See what happens to the type of the `\"name\"` column if you add `\"stringsAsFactors=FALSE\"` in 1."
   ]
  },
  {
   "cell_type": "code",
   "execution_count": null,
   "metadata": {
    "slideshow": {
     "slide_type": "subslide"
    }
   },
   "outputs": [],
   "source": []
  },
  {
   "cell_type": "markdown",
   "metadata": {
    "slideshow": {
     "slide_type": "subslide"
    }
   },
   "source": [
    "### (iv) Factors\n",
    "- A factor is like an integer vector with labels.\n",
    "- Common estimation functions such as `lm()` and `glm()` often use factors.\n",
    "- A factor has a levels attribute.\n",
    "- Check the type and summary of `fac1`. Try both `typeof()` and `class()`."
   ]
  },
  {
   "cell_type": "code",
   "execution_count": 1,
   "metadata": {
    "slideshow": {
     "slide_type": "-"
    }
   },
   "outputs": [],
   "source": [
    "fac1 <- factor(c(\"tom\", \"jerry\", \"spike\", \"tom\", \"jerry\", \"tom\"))"
   ]
  },
  {
   "cell_type": "markdown",
   "metadata": {
    "slideshow": {
     "slide_type": "slide"
    }
   },
   "source": [
    "## 6. Attributes\n",
    "- All objects except `NULL` can have some attributes.\n",
    "    - For example, names are attributes.\n",
    "- To check the attributes of an object, use `attributes()`.\n",
    "- Check the attributes of `vec1` and `fac1`."
   ]
  },
  {
   "cell_type": "code",
   "execution_count": null,
   "metadata": {
    "slideshow": {
     "slide_type": "-"
    }
   },
   "outputs": [],
   "source": [
    "vec1 <- c(1, 10, 100, 1000)\n",
    "names(vec1) <- c(\"v1\", \"v2\", \"v3\", \"v4\")\n",
    "fac1 <- factor(c(\"tom\", \"jerry\", \"spike\"))"
   ]
  },
  {
   "cell_type": "code",
   "execution_count": null,
   "metadata": {},
   "outputs": [],
   "source": []
  }
 ],
 "metadata": {
  "celltoolbar": "Slideshow",
  "kernelspec": {
   "display_name": "R",
   "language": "R",
   "name": "ir"
  },
  "language_info": {
   "codemirror_mode": "r",
   "file_extension": ".r",
   "mimetype": "text/x-r-source",
   "name": "R",
   "pygments_lexer": "r",
   "version": "3.6.2"
  }
 },
 "nbformat": 4,
 "nbformat_minor": 2
}
