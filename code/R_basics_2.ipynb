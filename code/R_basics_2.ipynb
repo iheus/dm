{
 "cells": [
  {
   "cell_type": "markdown",
   "metadata": {
    "slideshow": {
     "slide_type": "slide"
    }
   },
   "source": [
    "### Outline\n",
    "7. If Statements\n",
    "8. Loops"
   ]
  },
  {
   "cell_type": "markdown",
   "metadata": {
    "slideshow": {
     "slide_type": "slide"
    }
   },
   "source": [
    "## 5. If Statements\n",
    "- R uses `{}` for if statements. Also, the condition has to be included in `()`. "
   ]
  },
  {
   "cell_type": "code",
   "execution_count": null,
   "metadata": {
    "slideshow": {
     "slide_type": "-"
    }
   },
   "outputs": [],
   "source": [
    "inp <- \"Hello\"\n",
    "if (inp == \"Hello\") {\n",
    "    print(\"World!\")\n",
    "}"
   ]
  },
  {
   "cell_type": "markdown",
   "metadata": {
    "slideshow": {
     "slide_type": "subslide"
    }
   },
   "source": [
    "- `else` and `else if` can be used (like `else` and `elif` in Python).\n",
    "    - `else` and `else if` should come next to `}`."
   ]
  },
  {
   "cell_type": "code",
   "execution_count": null,
   "metadata": {
    "slideshow": {
     "slide_type": "-"
    }
   },
   "outputs": [],
   "source": [
    "inp <- \"Hello\"\n",
    "if (inp == \"Hell\") {\n",
    "    print(\"No.\")\n",
    "} else if (inp == \"He\") {\n",
    "    print(\"No.\")\n",
    "} else print(\"World!\")"
   ]
  },
  {
   "cell_type": "markdown",
   "metadata": {
    "slideshow": {
     "slide_type": "subslide"
    }
   },
   "source": [
    "- You can write the above if statement in a single line."
   ]
  },
  {
   "cell_type": "code",
   "execution_count": null,
   "metadata": {
    "slideshow": {
     "slide_type": "-"
    }
   },
   "outputs": [],
   "source": [
    "inp <- \"Hello\"\n",
    "if (inp == \"Hell\") print(\"No.\") else if (inp == \"He\") print(\"No.\") else print(\"World!\")"
   ]
  },
  {
   "cell_type": "markdown",
   "metadata": {
    "slideshow": {
     "slide_type": "subslide"
    }
   },
   "source": [
    "- Relational operators include: `==`, `!=`, `>`, `<`, `>=`, and `<=`."
   ]
  },
  {
   "cell_type": "code",
   "execution_count": null,
   "metadata": {
    "slideshow": {
     "slide_type": "-"
    }
   },
   "outputs": [],
   "source": [
    "i <- 1\n",
    "if (i < 2) {\n",
    "    print(\"input is less than 2.\")    \n",
    "} else {\n",
    "    print(\"input is 2 or larger.\")    \n",
    "}"
   ]
  },
  {
   "cell_type": "markdown",
   "metadata": {
    "slideshow": {
     "slide_type": "subslide"
    }
   },
   "source": [
    "- You can also combine them with `&&`, `||` and `%in%` (like `&`, `|`, and `in` in Python). \n",
    "    - R does not allow `and`, `or`, `is`, or `not` unlike Python."
   ]
  },
  {
   "cell_type": "code",
   "execution_count": null,
   "metadata": {
    "slideshow": {
     "slide_type": "-"
    }
   },
   "outputs": [],
   "source": [
    "vec1 <- c(\"tom\", 1.75, \"jerry\", 1.82)\n",
    "if (\"tom\" %in% vec1 && \"jerry\" %in% vec1) {\n",
    "    print(\"tom and jerry in input.\")\n",
    "} else {\n",
    "    print(\"tom and jerry not in input.\")    \n",
    "}"
   ]
  },
  {
   "cell_type": "markdown",
   "metadata": {
    "slideshow": {
     "slide_type": "subslide"
    }
   },
   "source": [
    "**Exercise (if statements)**\n",
    "- 1. Make a if statement that prints \"Two items are equal.\" if two inputs of a vector are the same, and \"Two items are not equal.\" otherwise, using `list1`."
   ]
  },
  {
   "cell_type": "code",
   "execution_count": 4,
   "metadata": {
    "slideshow": {
     "slide_type": "subslide"
    }
   },
   "outputs": [],
   "source": [
    "list1 <- list(1, 1L)"
   ]
  },
  {
   "cell_type": "markdown",
   "metadata": {
    "slideshow": {
     "slide_type": "slide"
    }
   },
   "source": [
    "## 6. Loops\n",
    "- You can use `for`, `while`, and `repeat` for loops."
   ]
  },
  {
   "cell_type": "code",
   "execution_count": null,
   "metadata": {
    "slideshow": {
     "slide_type": "subslide"
    }
   },
   "outputs": [],
   "source": [
    "print(\"--- loop from 1 to 5 ---\")\n",
    "for (item in 1:5) {\n",
    "    print(paste(\"Current number is\", item), sep=',')\n",
    "}\n",
    "\n",
    "print(\"--- loop from 1 to 5 by an increment of 2 ---\")\n",
    "for (item in seq(1, 5, by=2)) {\n",
    "    print(paste(\"Current number is\", item), sep=',')\n",
    "}"
   ]
  },
  {
   "cell_type": "markdown",
   "metadata": {
    "slideshow": {
     "slide_type": "subslide"
    }
   },
   "source": [
    "- You can also make a loop over a vector."
   ]
  },
  {
   "cell_type": "code",
   "execution_count": null,
   "metadata": {
    "slideshow": {
     "slide_type": "-"
    }
   },
   "outputs": [],
   "source": [
    "for (item in c(\"minnie\", \"mickey\", \"pooh\")) {\n",
    "    print(paste(\"My favorite character is\", item), sep=',')\n",
    "}"
   ]
  },
  {
   "cell_type": "markdown",
   "metadata": {
    "slideshow": {
     "slide_type": "subslide"
    }
   },
   "source": [
    "- You can also write a loop in a single line."
   ]
  },
  {
   "cell_type": "code",
   "execution_count": null,
   "metadata": {
    "slideshow": {
     "slide_type": "-"
    }
   },
   "outputs": [],
   "source": [
    "for (item in c(\"minnie\", \"mickey\", \"pooh\")) print(paste(\"My favorite character is\", item), sep=',')"
   ]
  },
  {
   "cell_type": "markdown",
   "metadata": {
    "slideshow": {
     "slide_type": "subslide"
    }
   },
   "source": [
    "- To append items for a vector, a matrix, etc., you may often write like:"
   ]
  },
  {
   "cell_type": "code",
   "execution_count": null,
   "metadata": {
    "slideshow": {
     "slide_type": "-"
    }
   },
   "outputs": [],
   "source": [
    "vec1 <- c()\n",
    "for (i in 1:10) {\n",
    "    vec1[i] <- as.character(i)\n",
    "}\n",
    "print(vec1)"
   ]
  },
  {
   "cell_type": "markdown",
   "metadata": {
    "slideshow": {
     "slide_type": "subslide"
    }
   },
   "source": [
    "- To replace items using a loop, you could write:"
   ]
  },
  {
   "cell_type": "code",
   "execution_count": null,
   "metadata": {
    "slideshow": {
     "slide_type": "-"
    }
   },
   "outputs": [],
   "source": [
    "vec1 <- c(\"a\", \"b\", \"c\")\n",
    "i <- 1\n",
    "for (x in vec1) {\n",
    "  if (x != \"b\") vec1[i] <- \"b\"\n",
    "  i <- i + 1\n",
    "}\n",
    "print(vec1)"
   ]
  },
  {
   "cell_type": "markdown",
   "metadata": {
    "slideshow": {
     "slide_type": "subslide"
    }
   },
   "source": [
    "- But the following code is much simpler. Bottom line: Do not use a loop unless necessary."
   ]
  },
  {
   "cell_type": "code",
   "execution_count": null,
   "metadata": {
    "slideshow": {
     "slide_type": "-"
    }
   },
   "outputs": [],
   "source": [
    "vec1 <- c(\"a\", \"b\", \"c\")\n",
    "vec1[vec1 != \"b\"] <- \"b\"\n",
    "print(vec1)"
   ]
  },
  {
   "cell_type": "markdown",
   "metadata": {
    "slideshow": {
     "slide_type": "subslide"
    }
   },
   "source": [
    "- `while` loops use counters."
   ]
  },
  {
   "cell_type": "code",
   "execution_count": null,
   "metadata": {
    "slideshow": {
     "slide_type": "-"
    }
   },
   "outputs": [],
   "source": [
    "cnt <- 0\n",
    "while (cnt < 10) {\n",
    "    cnt <- cnt + 1\n",
    "    print(cnt)    \n",
    "}"
   ]
  },
  {
   "cell_type": "markdown",
   "metadata": {
    "slideshow": {
     "slide_type": "subslide"
    }
   },
   "source": [
    "- For infinite loops, use `repeat` (like `while True` in Python).\n",
    "- You may often use `break` and `next` in a `while` loop.\n",
    "    - `break` means that you will exit the current loop (like `break` in Python).\n",
    "    - `next` means that you will go back to the start of the current loop (like `continue` in Python)."
   ]
  },
  {
   "cell_type": "code",
   "execution_count": null,
   "metadata": {
    "slideshow": {
     "slide_type": "subslide"
    }
   },
   "outputs": [],
   "source": [
    "print(\"--- a loop till 10 except 5 ---\")\n",
    "cnt <- 0\n",
    "repeat {\n",
    "    cnt <- cnt + 1\n",
    "    if (cnt == 5) {\n",
    "        next\n",
    "    } else if (cnt > 10) {\n",
    "        break        \n",
    "    }\n",
    "    print(cnt)    \n",
    "}"
   ]
  },
  {
   "cell_type": "markdown",
   "metadata": {
    "slideshow": {
     "slide_type": "subslide"
    }
   },
   "source": [
    "- If you want to skip an error, you may use `tryCatch()`.\n",
    "    - You will learn how to make a function later."
   ]
  },
  {
   "cell_type": "code",
   "execution_count": null,
   "metadata": {
    "scrolled": true,
    "slideshow": {
     "slide_type": "-"
    }
   },
   "outputs": [],
   "source": [
    "func1 <- function(x) {\n",
    "    y <- tryCatch(log(x),\n",
    "          warning = function(w) {print(paste(\"Error: Negative Argument (Return log(-inp))\", x)); log(-x)},\n",
    "          error = function(e) {print(paste(\"Error: Non-numeric Argument\", x)); NaN})\n",
    "    return(y)\n",
    "}\n",
    "\n",
    "list1 <- list(1L, -2, \"abc\", 1.5, TRUE)\n",
    "for (input in list1) {\n",
    "    print(paste(\"Robust log of\", input, \"=\", func1(input)))\n",
    "}"
   ]
  },
  {
   "cell_type": "markdown",
   "metadata": {
    "slideshow": {
     "slide_type": "subslide"
    }
   },
   "source": [
    "**Exercise (loops)**\n",
    "- 1. Make a loop that prints all items in `df1` one-by-one.\n",
    "- 2. Rewrite the loop so that it only prints integers."
   ]
  },
  {
   "cell_type": "code",
   "execution_count": null,
   "metadata": {
    "slideshow": {
     "slide_type": "subslide"
    }
   },
   "outputs": [],
   "source": []
  }
 ],
 "metadata": {
  "celltoolbar": "Slideshow",
  "kernelspec": {
   "display_name": "R",
   "language": "R",
   "name": "ir"
  },
  "language_info": {
   "codemirror_mode": "r",
   "file_extension": ".r",
   "mimetype": "text/x-r-source",
   "name": "R",
   "pygments_lexer": "r",
   "version": "3.6.2"
  }
 },
 "nbformat": 4,
 "nbformat_minor": 2
}
