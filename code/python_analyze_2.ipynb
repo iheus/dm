{
 "cells": [
  {
   "cell_type": "markdown",
   "metadata": {
    "slideshow": {
     "slide_type": "slide"
    }
   },
   "source": [
    "### Outline\n",
    "2. Analyzing Data\n",
    "    - Summary Tables\n",
    "    - Figures\n",
    "    - Regression Tables"
   ]
  },
  {
   "cell_type": "code",
   "execution_count": 1,
   "metadata": {
    "slideshow": {
     "slide_type": "subslide"
    }
   },
   "outputs": [],
   "source": [
    "import os\n",
    "import pandas as pd\n",
    "import numpy as np\n",
    "import seaborn as sns\n",
    "import matplotlib.pyplot as plt\n",
    "import statsmodels.api as sm\n",
    "from statsmodels.iolib.summary2 import summary_col\n",
    "import statsmodels.formula.api as smf\n",
    "plt.style.use('seaborn-white') # set a plot style\n",
    "np.random.seed(123456789) # set a seed"
   ]
  },
  {
   "cell_type": "code",
   "execution_count": 2,
   "metadata": {},
   "outputs": [],
   "source": [
    "pd.options.display.max_rows = 200 # set # of rows to display \n",
    "pd.options.display.max_columns = 100 # set # of columns to display "
   ]
  },
  {
   "cell_type": "code",
   "execution_count": 3,
   "metadata": {
    "slideshow": {
     "slide_type": "-"
    }
   },
   "outputs": [],
   "source": [
    "os.chdir('...') # set the working directory"
   ]
  },
  {
   "cell_type": "code",
   "execution_count": 4,
   "metadata": {
    "slideshow": {
     "slide_type": "-"
    }
   },
   "outputs": [],
   "source": [
    "data = pd.read_csv('data/data_use.csv') # import data\n",
    "data = data.sort_values(by=['state_short', 'elec_year']) # sort data\n",
    "#print(data.dtypes)"
   ]
  },
  {
   "cell_type": "markdown",
   "metadata": {
    "slideshow": {
     "slide_type": "slide"
    }
   },
   "source": [
    "### Summary Tables\n",
    "- Any empirical paper has a summary table.\n",
    "- Summary tables are very important because people often see the tables to understand the distributions of variables.\n",
    "- To make a summary table, use `agg`.\n",
    "- You can produce an output in several format. However, I suggest LaTeX format.\n",
    "    - The reason: You will import the file later when you write a paper.\n",
    "- For the moment, we produce files with the `txt` file extension.\n",
    "    - If you already have TeX in your computer, change the file extension from `txt` to `tex`."
   ]
  },
  {
   "cell_type": "code",
   "execution_count": 8,
   "metadata": {
    "slideshow": {
     "slide_type": "subslide"
    }
   },
   "outputs": [],
   "source": [
    "data1 = data.loc[:, ['gelec_dem', 'gelec_rep', 'gelec_oth', 'gelec_total', 'rep_share', 'dem_share', 'elec_year', 'temp_mean', 'temp_max_max', 'temp_max_mean']]\n",
    "data1.agg(['mean', 'std', 'min', 'max', 'count']).T.to_latex(\"sum_stat.txt\", float_format=\"%.2f\")"
   ]
  },
  {
   "cell_type": "markdown",
   "metadata": {
    "slideshow": {
     "slide_type": "slide"
    }
   },
   "source": [
    "### Figures\n",
    "- Good papers always have figures that summarize the results well.\n",
    "    - You should not write a paper only with tables.\n",
    "- A very useful package for plotting figures is `matplotlib`.\n",
    "- There are several types: histograms, density plots, scatter plots, bar plots, line plots...\n",
    "    - Each type has different purposes.\n",
    "- Regarding the format, I suggest either `png` or `jpg`."
   ]
  },
  {
   "cell_type": "markdown",
   "metadata": {
    "slideshow": {
     "slide_type": "subslide"
    }
   },
   "source": [
    "#### - Histograms\n",
    "- Histograms are often used to show the distributions of your data.\n",
    "- Use `hist` to plot a histogram. There are several options:\n",
    "    - `bins`: # of bins\n",
    "    - `align`: alignment\n",
    "    - `range`: domain\n",
    "    - `alpha`: transparency\n",
    "    - `color`: color\n",
    "    - `label`: label"
   ]
  },
  {
   "cell_type": "code",
   "execution_count": null,
   "metadata": {
    "slideshow": {
     "slide_type": "subslide"
    }
   },
   "outputs": [],
   "source": [
    "plt.hist(data['rep_share'][data['rep_share'].notna()], bins=20, align='mid', range=(0,1), alpha=0.3, color='r', label='rep')\n",
    "plt.hist(data['dem_share'][data['dem_share'].notna()], bins=20, align='mid', range=(0,1), alpha=0.3, color='b', label='dem')\n",
    "plt.title('Vote share, 2008-2014') # add title\n",
    "plt.legend(loc='best') # add legend\n",
    "plt.savefig('hist_rep_share.png', dpi=100) # save file\n",
    "plt.show() # plot"
   ]
  },
  {
   "cell_type": "markdown",
   "metadata": {
    "slideshow": {
     "slide_type": "subslide"
    }
   },
   "source": [
    "#### - Density Plots\n",
    "- Density plots are a variation of histograms.\n",
    "    - For density plots, you employ some method to smooth the distribution.\n",
    "- It is not affected by, e.g., how you choose bins."
   ]
  },
  {
   "cell_type": "code",
   "execution_count": null,
   "metadata": {
    "slideshow": {
     "slide_type": "-"
    }
   },
   "outputs": [],
   "source": [
    "rdm = pd.Series(np.random.randn(1000)) # generate random values\n",
    "plt.hist(rdm, bins=100, alpha=0.3, color='b', density=True) # plot a histogram\n",
    "# rdm.hist(bins=100, alpha=0.3, color='b', density=True) # alternative\n",
    "rdm.plot.kde(style='k--') # plot a kernel density"
   ]
  },
  {
   "cell_type": "markdown",
   "metadata": {
    "slideshow": {
     "slide_type": "subslide"
    }
   },
   "source": [
    "#### - Bar Plots\n",
    "- Bar plots are often used to compare statistics (e.g., mean) for different groups."
   ]
  },
  {
   "cell_type": "code",
   "execution_count": null,
   "metadata": {
    "slideshow": {
     "slide_type": "-"
    }
   },
   "outputs": [],
   "source": [
    "dic1 = {'tom':1.75, 'jerry':1.82, 'spike':1.65, 'tyke':1.4}\n",
    "dic2 = {'tom':1, 'jerry':1, 'spike':0, 'tyke':0}\n",
    "data1 = pd.DataFrame({'height': dic1, 'treatment': dic2})\n",
    "print(data1)\n",
    "plt.bar('treatment', 'height', linewidth=0, data=data1)\n",
    "plt.xticks([0,1]); plt.xlabel(\"treatment\"); plt.ylabel(\"average height\")"
   ]
  },
  {
   "cell_type": "markdown",
   "metadata": {
    "slideshow": {
     "slide_type": "subslide"
    }
   },
   "source": [
    "#### - Scatter Plots\n",
    "- Scatter plots are often used to show a relationship between two samples."
   ]
  },
  {
   "cell_type": "code",
   "execution_count": null,
   "metadata": {
    "slideshow": {
     "slide_type": "-"
    }
   },
   "outputs": [],
   "source": [
    "plt.scatter(y=data['rep_share'], x=data['temp_max_mean'])\n",
    "plt.ylabel(\"Republican vote share\"); plt.xlabel(\"Mean temperature\")"
   ]
  },
  {
   "cell_type": "markdown",
   "metadata": {
    "slideshow": {
     "slide_type": "subslide"
    }
   },
   "source": [
    "#### - Line Plots\n",
    "- Line plots are often used to show time trends."
   ]
  },
  {
   "cell_type": "code",
   "execution_count": null,
   "metadata": {
    "slideshow": {
     "slide_type": "-"
    }
   },
   "outputs": [],
   "source": [
    "plt.plot(np.random.randn(1000).cumsum(), color='b', label='one') \n",
    "plt.plot(np.random.randn(1000).cumsum(), color='r', label='two')\n",
    "plt.plot(np.random.randn(1000).cumsum(), color='y', label='three')\n",
    "plt.legend(loc='best')"
   ]
  },
  {
   "cell_type": "markdown",
   "metadata": {
    "slideshow": {
     "slide_type": "subslide"
    }
   },
   "source": [
    "- Another useful package to plot figures is `seaborn`.\n",
    "- A [cheat sheet](https://www.datacamp.com/community/blog/seaborn-cheat-sheet-python) is also available."
   ]
  },
  {
   "cell_type": "code",
   "execution_count": null,
   "metadata": {
    "slideshow": {
     "slide_type": "subslide"
    }
   },
   "outputs": [],
   "source": [
    "titanic = sns.load_dataset('titanic') # import titanic data\n",
    "#print(titanic)\n",
    "sns.barplot(x='sex', y='survived', data=titanic) # bar plot. also add \"hue='class'\" option"
   ]
  },
  {
   "cell_type": "code",
   "execution_count": null,
   "metadata": {
    "slideshow": {
     "slide_type": "subslide"
    }
   },
   "outputs": [],
   "source": [
    "sns.distplot(data['rep_share'][data['rep_share'].notna()], bins=20) # histogram with a density plot (set \"kde=False\" if you do not want a density plot)"
   ]
  },
  {
   "cell_type": "code",
   "execution_count": null,
   "metadata": {
    "slideshow": {
     "slide_type": "subslide"
    }
   },
   "outputs": [],
   "source": [
    "g = sns.lmplot(x='temp_max_mean', y='rep_share', data=data) # scatter plot with a regression line\n",
    "g.set_axis_labels(\"Mean temperature\", \"Republican vote share\").set(xlim=(5, 90), xticks=[10,20,30,40,50,60,70,80])"
   ]
  },
  {
   "cell_type": "markdown",
   "metadata": {
    "slideshow": {
     "slide_type": "slide"
    }
   },
   "source": [
    "### Regression Tables\n",
    "- Empirical papers have regression tables.\n",
    "- The `statsmodels` package is useful for making regression tables.\n",
    "    - To run a regression, use `smf` or `sm`.\n",
    "    - To produce a table of the regression results, use `summary_col`.\n",
    "- How can you interpret the regression results?"
   ]
  },
  {
   "cell_type": "code",
   "execution_count": null,
   "metadata": {
    "slideshow": {
     "slide_type": "subslide"
    }
   },
   "outputs": [],
   "source": [
    "data1 = data.dropna(subset=['rep_share', 'ln_temp_max_mean']) # remove missing values\n",
    "reg1 = smf.ols('rep_share ~ ln_temp_max_max', data=data1).fit() # OLS\n",
    "reg2 = smf.ols('rep_share ~ ln_temp_max_max + C(state_short) + C(elec_year)', data=data1).fit() # FE\n",
    "reg3 = smf.ols('rep_share ~ ln_temp_max_max + C(state_short) + C(elec_year)', data=data1).fit(cov_type='cluster', cov_kwds={'groups':data1['state_short']}) # FE + clustering\n",
    "\n",
    "results_table = summary_col(results=[reg1, reg2, reg3],\n",
    "                            float_format='%0.3f',\n",
    "                            stars=True,\n",
    "                            model_names=['OLS', 'FE', 'FE+cluster'],\n",
    "                            info_dict={'R-squared' : lambda x: \"{:.3f}\".format(x.rsquared),\n",
    "                                       'Observations' : lambda x: \"{0:d}\".format(int(x.nobs))},\n",
    "                            regressor_order=['ln_temp_max_max'],\n",
    "                            drop_omitted=True) # summarize results\n",
    "\n",
    "results_table.add_title(\"Table 1: Correlation between Election Day temperature and Senate Republican vote share\") # add title\n",
    "\n",
    "print(results_table)\n",
    "\n",
    "file = open('estimates.txt','w') # open a file\n",
    "file.write(results_table.as_latex()) # save the table\n",
    "file.close() # close the file"
   ]
  }
 ],
 "metadata": {
  "celltoolbar": "Slideshow",
  "kernelspec": {
   "display_name": "Python 3",
   "language": "python",
   "name": "python3"
  },
  "language_info": {
   "codemirror_mode": {
    "name": "ipython",
    "version": 3
   },
   "file_extension": ".py",
   "mimetype": "text/x-python",
   "name": "python",
   "nbconvert_exporter": "python",
   "pygments_lexer": "ipython3",
   "version": "3.7.1"
  }
 },
 "nbformat": 4,
 "nbformat_minor": 4
}
