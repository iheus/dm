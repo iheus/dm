{
 "cells": [
  {
   "cell_type": "markdown",
   "metadata": {
    "slideshow": {
     "slide_type": "slide"
    }
   },
   "source": [
    "### Outline\n",
    "5. If Statements\n",
    "6. Loops"
   ]
  },
  {
   "cell_type": "markdown",
   "metadata": {
    "slideshow": {
     "slide_type": "slide"
    }
   },
   "source": [
    "## 5. If Statements\n",
    "- Python uses colons and indents for if statements.\n",
    "- Press Tab to insert an indent."
   ]
  },
  {
   "cell_type": "code",
   "execution_count": null,
   "metadata": {
    "slideshow": {
     "slide_type": "-"
    }
   },
   "outputs": [],
   "source": [
    "inp = \"Hello\"\n",
    "if inp == \"Hello\":\n",
    "    print(\"World!\") # indent + block"
   ]
  },
  {
   "cell_type": "markdown",
   "metadata": {
    "slideshow": {
     "slide_type": "subslide"
    }
   },
   "source": [
    "- `if` can be combined with `else`."
   ]
  },
  {
   "cell_type": "code",
   "execution_count": null,
   "metadata": {
    "slideshow": {
     "slide_type": "-"
    }
   },
   "outputs": [],
   "source": [
    "inp = \"Hello\"\n",
    "if inp == \"He\":\n",
    "    print(\"No.\")\n",
    "else:\n",
    "    if inp == \"Hell\":\n",
    "        print(\"No.\")\n",
    "    else:\n",
    "        print(\"World!\")"
   ]
  },
  {
   "cell_type": "markdown",
   "metadata": {
    "slideshow": {
     "slide_type": "subslide"
    }
   },
   "source": [
    "- The above example can be simplified by using `elif` (else if)."
   ]
  },
  {
   "cell_type": "code",
   "execution_count": null,
   "metadata": {
    "slideshow": {
     "slide_type": "-"
    }
   },
   "outputs": [],
   "source": [
    "inp = \"Hello\"\n",
    "if inp == \"He\":\n",
    "    print(\"No.\")\n",
    "elif inp == \"Hell\":\n",
    "    print(\"No.\")\n",
    "else:\n",
    "    print(\"World!\")"
   ]
  },
  {
   "cell_type": "markdown",
   "metadata": {
    "slideshow": {
     "slide_type": "subslide"
    }
   },
   "source": [
    "- Relational operators include: `==`, `!=`, `>`, `<`, `>=`, and `<=`."
   ]
  },
  {
   "cell_type": "code",
   "execution_count": null,
   "metadata": {
    "slideshow": {
     "slide_type": "-"
    }
   },
   "outputs": [],
   "source": [
    "inp = 1\n",
    "if inp < 2:\n",
    "    print('inp is less than 2.')\n",
    "else:\n",
    "    print('inp is 2 or larger.')"
   ]
  },
  {
   "cell_type": "markdown",
   "metadata": {
    "slideshow": {
     "slide_type": "subslide"
    }
   },
   "source": [
    "- You can also use `and`, `or`, `not`, and `in`.\n",
    "    - `and` may be replaced by `&`, while `or` may be replaced by `|`.\n",
    "    - For NumPy, you should use `&` and `|`. Otherwise, you might get an error."
   ]
  },
  {
   "cell_type": "code",
   "execution_count": null,
   "metadata": {
    "slideshow": {
     "slide_type": "-"
    }
   },
   "outputs": [],
   "source": [
    "list1 = ['tom', 1.75, 'jerry', 1.82]\n",
    "if 'tom' and 'jerry' in list1:\n",
    "    print('tom and jerry in list1.')\n",
    "else:\n",
    "    print('tom and jerry not in list1.')"
   ]
  },
  {
   "cell_type": "markdown",
   "metadata": {
    "slideshow": {
     "slide_type": "subslide"
    }
   },
   "source": [
    "- The difference between `==` and `is` is that `==` tests for logical equality, while `is` tests for object identity.\n",
    "- For `None`, you should use `is`. That's the rule.\n",
    "<!-- see, https://www.python.org/dev/peps/pep-0008/#programming-recommendations -->"
   ]
  },
  {
   "cell_type": "code",
   "execution_count": null,
   "metadata": {
    "slideshow": {
     "slide_type": "-"
    }
   },
   "outputs": [],
   "source": [
    "print(id(True), id(1))\n",
    "print(True is 1, True == 1)\n",
    "\n",
    "x, y = 1, 1 # immutable\n",
    "print(id(x), id(y))\n",
    "print(x is y, x == y)\n",
    "\n",
    "x, y = [1,2], [1,2] # mutable\n",
    "print(id(x), id(y))\n",
    "print(x is y, x == y)\n",
    "\n",
    "x = [1,2]\n",
    "y = x\n",
    "print(id(x), id(y))\n",
    "print(x is y, x == y)"
   ]
  },
  {
   "cell_type": "markdown",
   "metadata": {
    "slideshow": {
     "slide_type": "subslide"
    }
   },
   "source": [
    "**Exercise (if statements)**\n",
    "- 1. Make a if statement that prints \"Two items are equal.\" if two inputs of a list are the same, and \"Two items are not equal.\" otherwise, using `list1`."
   ]
  },
  {
   "cell_type": "code",
   "execution_count": 1,
   "metadata": {
    "slideshow": {
     "slide_type": "-"
    }
   },
   "outputs": [],
   "source": [
    "list1 = [1, 1.0]"
   ]
  },
  {
   "cell_type": "markdown",
   "metadata": {
    "slideshow": {
     "slide_type": "slide"
    }
   },
   "source": [
    "## 6. Loops\n",
    "- You can use `for` and `while` for loops.\n",
    "- `for` loops are often combined with `range()`."
   ]
  },
  {
   "cell_type": "code",
   "execution_count": null,
   "metadata": {
    "slideshow": {
     "slide_type": "subslide"
    }
   },
   "outputs": [],
   "source": [
    "print(\"--- loop to 5 ---\")\n",
    "for item in range(6):\n",
    "    print(\"Current number is \", item)\n",
    "\n",
    "print(\"--- loop from 1 to 5 ---\")\n",
    "for item in range(1,6):\n",
    "    print(\"Current number is \", item)\n",
    "    \n",
    "print(\"--- loop from 1 to 5 by an increment of 2 ---\")\n",
    "for item in range(1,6,2):\n",
    "    print(\"Current number is \", item)"
   ]
  },
  {
   "cell_type": "markdown",
   "metadata": {
    "slideshow": {
     "slide_type": "subslide"
    }
   },
   "source": [
    "- You can also make a loop over a string, a list, a dictionary, and a tuple."
   ]
  },
  {
   "cell_type": "code",
   "execution_count": null,
   "metadata": {
    "slideshow": {
     "slide_type": "subslide"
    }
   },
   "outputs": [],
   "source": [
    "print(\"--- loop over a string ---\")\n",
    "str1 = \"abcde\"\n",
    "for x in str1:\n",
    "    print(x)\n",
    "\n",
    "print(\"--- loop over a list ---\")\n",
    "list1 = ['tom', 1.75, 'jerry', 1.82]\n",
    "for x in list1:\n",
    "    print(x)\n",
    "\n",
    "print(\"--- loop over a list of lists ---\")\n",
    "list_of_lists1 = [['tom', 1.75], ['jerry', 1.82]]\n",
    "for list1 in list_of_lists1:\n",
    "    for x in list1:\n",
    "        print(x) \n",
    "\n",
    "print(\"--- loop over a dictionary ---\")        \n",
    "dic1= {'tom':1.75, 'jerry':1.82}\n",
    "for x in dic1:\n",
    "    print(x)\n",
    "    \n",
    "print(\"--- loop over a tuple ---\")        \n",
    "tuple1 = (1, 2, 3)\n",
    "for x in tuple1:\n",
    "    print(x)"
   ]
  },
  {
   "cell_type": "markdown",
   "metadata": {
    "slideshow": {
     "slide_type": "subslide"
    }
   },
   "source": [
    "- A loop can be used inside a list. The method is called a **list comprehension**."
   ]
  },
  {
   "cell_type": "code",
   "execution_count": null,
   "metadata": {
    "slideshow": {
     "slide_type": "-"
    }
   },
   "outputs": [],
   "source": [
    "list1 = [item for item in range(10)]\n",
    "print(list1)\n",
    "list2 = [item for item in range(10) if item >= 5]\n",
    "print(list2)"
   ]
  },
  {
   "cell_type": "markdown",
   "metadata": {
    "slideshow": {
     "slide_type": "subslide"
    }
   },
   "source": [
    "- To append items to a list, use `append()` in a loop.\n",
    "    - You will often use this kind of loops."
   ]
  },
  {
   "cell_type": "code",
   "execution_count": null,
   "metadata": {
    "slideshow": {
     "slide_type": "-"
    }
   },
   "outputs": [],
   "source": [
    "list1 = []\n",
    "for i in range(0,10):\n",
    "    j = 1 + i\n",
    "    list1.append(j)\n",
    "print(list1)"
   ]
  },
  {
   "cell_type": "markdown",
   "metadata": {
    "slideshow": {
     "slide_type": "subslide"
    }
   },
   "source": [
    "- There is a way to replace items using a loop.\n",
    "    - However, doing it with a list comprehension is much better. Assignment 1 will ask you to do so."
   ]
  },
  {
   "cell_type": "code",
   "execution_count": null,
   "metadata": {
    "slideshow": {
     "slide_type": "-"
    }
   },
   "outputs": [],
   "source": [
    "list1 = ['a', 'b', 'c']\n",
    "for i, j in enumerate(list1):\n",
    "    if j != 'b':\n",
    "        list1[i] = 'b'\n",
    "print(list1)"
   ]
  },
  {
   "cell_type": "markdown",
   "metadata": {
    "slideshow": {
     "slide_type": "subslide"
    }
   },
   "source": [
    "- A `while` loop often uses a counter."
   ]
  },
  {
   "cell_type": "code",
   "execution_count": null,
   "metadata": {
    "slideshow": {
     "slide_type": "-"
    }
   },
   "outputs": [],
   "source": [
    "cnt = 0\n",
    "while cnt < 10:\n",
    "    cnt += 1 # add 1 to cnt. cnt = cnt + 1 gives the same result.\n",
    "    print(cnt)"
   ]
  },
  {
   "cell_type": "markdown",
   "metadata": {
    "slideshow": {
     "slide_type": "subslide"
    }
   },
   "source": [
    "- For infinite loops, use `while True`.\n",
    "- You may often use `break` and `continue` in a `while` loop.\n",
    "    - `break` means that you will exit from the current loop.\n",
    "    - `continue` means that you will go back to the start of the current loop."
   ]
  },
  {
   "cell_type": "code",
   "execution_count": null,
   "metadata": {
    "slideshow": {
     "slide_type": "-"
    }
   },
   "outputs": [],
   "source": [
    "print(\"--- a loop till 10 except 5 ---\")\n",
    "cnt = 0\n",
    "while True:\n",
    "    cnt += 1\n",
    "    if cnt == 5:\n",
    "        continue\n",
    "    elif cnt > 10:\n",
    "        break\n",
    "    print(cnt)"
   ]
  },
  {
   "cell_type": "markdown",
   "metadata": {
    "slideshow": {
     "slide_type": "subslide"
    }
   },
   "source": [
    "- If you want to skip any error, use `try` and `except`.\n",
    "- The following code should return an error. Try it."
   ]
  },
  {
   "cell_type": "code",
   "execution_count": null,
   "metadata": {
    "slideshow": {
     "slide_type": "-"
    }
   },
   "outputs": [],
   "source": [
    "list1 = []\n",
    "for i in [1, 2, 0.5, \"abc\"]:\n",
    "    list1.append(float(i))"
   ]
  },
  {
   "cell_type": "markdown",
   "metadata": {
    "slideshow": {
     "slide_type": "subslide"
    }
   },
   "source": [
    "- How about this?\n",
    "- You can also check all built-in errors [here](https://docs.python.org/3/library/exceptions.html#bltin-exceptions)"
   ]
  },
  {
   "cell_type": "code",
   "execution_count": null,
   "metadata": {
    "slideshow": {
     "slide_type": "-"
    }
   },
   "outputs": [],
   "source": [
    "list1 = []\n",
    "for i in [1, 2, 0.5, \"abc\"]:\n",
    "    try:\n",
    "        list1.append(float(i))\n",
    "    except:\n",
    "        list1.append(float(-999))\n",
    "        print(\"Error in item =\", i)\n",
    "print(list1)"
   ]
  },
  {
   "cell_type": "markdown",
   "metadata": {
    "slideshow": {
     "slide_type": "subslide"
    }
   },
   "source": [
    "**Exercise (loops)**\n",
    "- 1. Make a loop that prints all keys of `dict1` one-by-one."
   ]
  },
  {
   "cell_type": "code",
   "execution_count": 4,
   "metadata": {
    "slideshow": {
     "slide_type": "-"
    }
   },
   "outputs": [],
   "source": [
    "dict1 = {'a':{'aa':20, 'ab':40}, 'b':{'ba':30, 'bb':50}}"
   ]
  },
  {
   "cell_type": "code",
   "execution_count": null,
   "metadata": {},
   "outputs": [],
   "source": []
  }
 ],
 "metadata": {
  "celltoolbar": "Slideshow",
  "kernelspec": {
   "display_name": "Python 3",
   "language": "python",
   "name": "python3"
  },
  "language_info": {
   "codemirror_mode": {
    "name": "ipython",
    "version": 3
   },
   "file_extension": ".py",
   "mimetype": "text/x-python",
   "name": "python",
   "nbconvert_exporter": "python",
   "pygments_lexer": "ipython3",
   "version": "3.7.1"
  }
 },
 "nbformat": 4,
 "nbformat_minor": 2
}
