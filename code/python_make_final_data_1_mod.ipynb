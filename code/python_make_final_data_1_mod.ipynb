{
 "cells": [
  {
   "cell_type": "markdown",
   "metadata": {
    "slideshow": {
     "slide_type": "slide"
    }
   },
   "source": [
    "# Making Final Data using Python\n",
    "By Shuhei Kitamura"
   ]
  },
  {
   "cell_type": "markdown",
   "metadata": {
    "slideshow": {
     "slide_type": "slide"
    }
   },
   "source": [
    "- We already have cleaned data. The next step is to make the final data for analysis.\n",
    "- In this exercise, we will put eight files together. How?\n",
    "    1. Append US Senate election data\n",
    "    2. Append daily temperature data\n",
    "    3. Merge them\n",
    "- Our goal is to make the final data that have a panel structure."
   ]
  },
  {
   "cell_type": "markdown",
   "metadata": {
    "slideshow": {
     "slide_type": "slide"
    }
   },
   "source": [
    "### Outline<a id='top'></a>\n",
    "1. [Importing Data](#sec1)\n",
    "2. [Combining Data](#sec2)\n",
    "3. [Reshaping Data](#sec3)  \n",
    "4. [Making Variables](#sec4)\n",
    "5. [Saving Data](#sec5)"
   ]
  },
  {
   "cell_type": "code",
   "execution_count": null,
   "metadata": {
    "slideshow": {
     "slide_type": "subslide"
    }
   },
   "outputs": [],
   "source": [
    "# import packages and modules\n",
    "import os\n",
    "import pandas as pd\n",
    "import numpy as np"
   ]
  },
  {
   "cell_type": "code",
   "execution_count": null,
   "metadata": {
    "slideshow": {
     "slide_type": "-"
    }
   },
   "outputs": [],
   "source": [
    "# set the display options (not necessary)\n",
    "pd.options.display.max_rows = 200 # set the max number of rows to display \n",
    "pd.options.display.max_columns = 100 # set the max number of columns to display "
   ]
  },
  {
   "cell_type": "code",
   "execution_count": null,
   "metadata": {
    "slideshow": {
     "slide_type": "-"
    }
   },
   "outputs": [],
   "source": [
    "# set the working directory (if necessary)\n",
    "# os.chdir('...') # replace '...' with the location of the working directory"
   ]
  },
  {
   "cell_type": "markdown",
   "metadata": {
    "slideshow": {
     "slide_type": "subslide"
    }
   },
   "source": [
    "## 1. Importing Data<a id='sec1'></a>\n",
    "- Import data as usual. Recall that all files are saved in csv format.\n",
    "\n",
    "[back to top](#top)"
   ]
  },
  {
   "cell_type": "code",
   "execution_count": null,
   "metadata": {
    "slideshow": {
     "slide_type": "-"
    }
   },
   "outputs": [],
   "source": [
    "elec_data = {}\n",
    "temp_data = {}\n",
    "for year in range(2008,2016,2):\n",
    "    elec_data[str(year)] = pd.read_csv('us_senate_'+str(year)+'.csv')\n",
    "    temp_data[str(year)] = pd.read_csv('us_daily_temp_'+str(year)+'.csv')    "
   ]
  },
  {
   "cell_type": "markdown",
   "metadata": {
    "slideshow": {
     "slide_type": "slide"
    }
   },
   "source": [
    "## 2. Combining Data<a id='sec2'></a>\n",
    "### Appending\n",
    "- Recall that we have used `pd.concat` to combine Pandas objects.\n",
    "    - `pd.concat` can be used for both appending (`axis=0`) and merging (`axis=1`) data.\n",
    "    - `object.append` and `pd.merge` are also available. We will use `pd.merge` later.\n",
    "- Run the following code to append `df1` and `df2` using `pd.concat`.\n",
    "\n",
    "[back to top](#top)"
   ]
  },
  {
   "cell_type": "code",
   "execution_count": null,
   "metadata": {
    "slideshow": {
     "slide_type": "subslide"
    }
   },
   "outputs": [],
   "source": [
    "df1 = pd.DataFrame(np.random.rand(3,3), columns=['var1', 'var2', 'var3'], index=['a', 'b', 'c'])\n",
    "df2 = pd.DataFrame(np.random.rand(3,3), columns=['var1', 'var2', 'var3'], index=['a', 'b', 'c'])\n",
    "print(df1); print(df2)\n",
    "print(pd.concat([df1, df2], axis=0)); print(pd.concat([df1, df2], axis=0, ignore_index=True))\n",
    "print(pd.concat([df1, df2], axis=1))"
   ]
  },
  {
   "cell_type": "markdown",
   "metadata": {
    "slideshow": {
     "slide_type": "subslide"
    }
   },
   "source": [
    "- What happens if some columns (rows) are missing in one of the datasets when appending (merging) them?\n",
    "- If you want to keep them, use `join='outer'` option, otherwise use `join='inner'` option.\n",
    "    - If you get a warning message by adding the `'outer'` option, add the `sort=False` option."
   ]
  },
  {
   "cell_type": "code",
   "execution_count": null,
   "metadata": {
    "slideshow": {
     "slide_type": "-"
    }
   },
   "outputs": [],
   "source": [
    "df1 = pd.DataFrame(np.random.rand(2,2), columns=['var1', 'var2'], index=['a', 'b'])\n",
    "df2 = pd.DataFrame(np.random.rand(3,3), columns=['var1', 'var2', 'var3'], index=['a', 'b', 'c'])\n",
    "print(df1); print(df2)\n",
    "print(pd.concat([df1, df2], axis=0, ignore_index=True, join='inner'))\n",
    "print(pd.concat([df1, df2], axis=0, ignore_index=True, join='outer', sort=False))"
   ]
  },
  {
   "cell_type": "markdown",
   "metadata": {
    "slideshow": {
     "slide_type": "subslide"
    }
   },
   "source": [
    "- Let's combine all years for election data and temperature data, respectively.\n",
    "- Wait... but temperature data are already very long (> 250,000 observations).\n",
    "- Let's reduce the sizes of the datasets before appending them.\n",
    "    - Why didn't we do it when we cleaned data?"
   ]
  },
  {
   "cell_type": "markdown",
   "metadata": {
    "slideshow": {
     "slide_type": "subslide"
    }
   },
   "source": [
    "### Group aggregation\n",
    "- Our goal is to keep a single observation for each state and year. \n",
    "- How? There are several strategies.\n",
    "    - Compute mean/max/min/std, etc. (e.g., mean temperature for California in 2008, etc.)\n",
    "    - Keep some of the observations\n",
    "    - Reshape data\n",
    "- I suggest the following procedure:\n",
    "    1. Keep the Election Day temperature\n",
    "    2. Take the mean of `'arithmetic_mean'` (daily average temperature) and the max and mean of `'1st_max_value'` (daily max temperature).\n",
    "- Do they make sense to you?"
   ]
  },
  {
   "cell_type": "markdown",
   "metadata": {
    "slideshow": {
     "slide_type": "subslide"
    }
   },
   "source": [
    "- Let's keep the Election Day temperature for each year.\n",
    "    - Election Day: November 4th, 2008, November 2nd, 2010, November 6th, 2012, November 8th, 2014"
   ]
  },
  {
   "cell_type": "code",
   "execution_count": null,
   "metadata": {
    "slideshow": {
     "slide_type": "-"
    }
   },
   "outputs": [],
   "source": [
    "temp_data['2008'] = temp_data['2008'].loc[temp_data['2008']['date_local'] == '2008-11-04', ]\n",
    "temp_data['2010'] = temp_data['2010'].loc[temp_data['2010']['date_local'] == '2010-11-02', ]\n",
    "temp_data['2012'] = temp_data['2012'].loc[temp_data['2012']['date_local'] == '2012-11-06', ]\n",
    "temp_data['2014'] = temp_data['2014'].loc[temp_data['2014']['date_local'] == '2014-11-08', ]"
   ]
  },
  {
   "cell_type": "markdown",
   "metadata": {
    "slideshow": {
     "slide_type": "subslide"
    }
   },
   "source": [
    "- Next, let's aggregate values. A powerful method for aggregation is `object.groupby()`.\n",
    "    - The level of aggregation is specified in `.groupby()`.\n",
    "    - Then, apply `object.agg(new_name=(column, func))` in which `func` is the function you want to apply for `column`, and `new_name` is the name of a new variable.\n",
    "    - Finally, add `object.reset_index()` to reset the indices."
   ]
  },
  {
   "cell_type": "code",
   "execution_count": null,
   "metadata": {
    "slideshow": {
     "slide_type": "-"
    }
   },
   "outputs": [],
   "source": [
    "for year in range(2008,2016,2):\n",
    "    temp_data[str(year)+'_agg'] = temp_data[str(year)].groupby('state_name').agg(temp_mean=('arithmetic_mean', np.mean), temp_max_max=('1st_max_value', np.max), temp_max_mean=('1st_max_value', np.mean)).reset_index()\n",
    "    temp_data[str(year)+'_agg']['elec_year'] = np.int64(year) # add a year variable"
   ]
  },
  {
   "cell_type": "markdown",
   "metadata": {
    "slideshow": {
     "slide_type": "subslide"
    }
   },
   "source": [
    "- Finally, it's time to append all the data."
   ]
  },
  {
   "cell_type": "code",
   "execution_count": null,
   "metadata": {
    "slideshow": {
     "slide_type": "-"
    }
   },
   "outputs": [],
   "source": [
    "elec_all = elec_data['2008']\n",
    "temp_all = temp_data['2008_agg']\n",
    "for year in range(2010,2016,2):\n",
    "    elec_all = pd.concat([elec_all, elec_data[str(year)]], axis=0, ignore_index=True)\n",
    "    temp_all = pd.concat([temp_all, temp_data[str(year)+'_agg']], axis=0, ignore_index=True)"
   ]
  },
  {
   "cell_type": "markdown",
   "metadata": {
    "slideshow": {
     "slide_type": "subslide"
    }
   },
   "source": [
    "### Merging\n",
    "- Merging means that you combine data horizontally.\n",
    "- To merge Pandas objects, use `pd.merge`.\n",
    "    - You can choose from inner join, outer join, right join, and left join. \n",
    "    - Use the id for `on` (e.g. `on=id`).\n",
    "    - You can also use `pd.concat` but `pd.merge` seems to be more flexible and intuitive.\n",
    "- Run the following code to merge `df1` and `df2`."
   ]
  },
  {
   "cell_type": "code",
   "execution_count": null,
   "metadata": {
    "slideshow": {
     "slide_type": "-"
    }
   },
   "outputs": [],
   "source": [
    "df1 = pd.DataFrame([[\"tom\", 9], [\"jerry\", 12]], columns=['name', 'educ'], index=['a', 'b'])\n",
    "df2 = pd.DataFrame([[\"tom\", 185, 70], [\"jerry\", 170, 62], [\"spike\", 165, 60]], columns=['name', 'height', 'weight'], index=['a', 'b', 'c'])\n",
    "print(df1); print(df2)\n",
    "print(pd.merge(df1, df2, on='name')) # inner join (intersection). name is the id\n",
    "print(pd.merge(df1, df2, on='name', how='outer')) # outer join (union)\n",
    "print(pd.merge(df1, df2, on='name', how='right'))  # right join (keep right data)\n",
    "print(pd.merge(df1, df2, on='name', how='left')) # left join (keep left data)"
   ]
  },
  {
   "cell_type": "markdown",
   "metadata": {
    "slideshow": {
     "slide_type": "subslide"
    }
   },
   "source": [
    "- Id names can be different."
   ]
  },
  {
   "cell_type": "code",
   "execution_count": null,
   "metadata": {},
   "outputs": [],
   "source": [
    "df1 = pd.DataFrame([[\"tom\", 9], [\"jerry\", 12]], columns=['name1', 'educ'], index=['a', 'b'])\n",
    "df2 = pd.DataFrame([[\"tom\", 185, 70], [\"jerry\", 170, 62], [\"spike\", 165, 60]], columns=['name2', 'height', 'weight'], index=['a', 'b', 'c'])\n",
    "print(df1); print(df2)\n",
    "print(pd.merge(df1, df2, left_on='name1', right_on='name2', how='outer')) "
   ]
  },
  {
   "cell_type": "markdown",
   "metadata": {
    "slideshow": {
     "slide_type": "subslide"
    }
   },
   "source": [
    "- You can use more than one id."
   ]
  },
  {
   "cell_type": "code",
   "execution_count": null,
   "metadata": {
    "slideshow": {
     "slide_type": "-"
    }
   },
   "outputs": [],
   "source": [
    "df1 = pd.DataFrame([[\"tom\", 2000, 9], [\"jerry\", 2000, 12]], columns=['name', 'year', 'educ'], index=['a', 'b'])\n",
    "df2 = pd.DataFrame([[\"tom\", 2000, 185, 70], [\"jerry\", 2000, 170, 62], [\"tom\", 2001, 187, 75], [\"jerry\", 2001, 171, 63]], columns=['name', 'year', 'height', 'weight'], index=['a', 'b', 'c', 'd'])\n",
    "print(df1); print(df2)\n",
    "print(pd.merge(df1, df2, on=['name', 'year'], how='outer'))"
   ]
  },
  {
   "cell_type": "markdown",
   "metadata": {
    "slideshow": {
     "slide_type": "subslide"
    }
   },
   "source": [
    "- What happens if two datasets have the same column name with different values?"
   ]
  },
  {
   "cell_type": "code",
   "execution_count": null,
   "metadata": {
    "slideshow": {
     "slide_type": "-"
    }
   },
   "outputs": [],
   "source": [
    "df1 = pd.DataFrame([[\"tom\", 185], [\"jerry\", 170]], columns=['name', 'height'], index=['a', 'b'])\n",
    "df2 = pd.DataFrame([[\"tom\", 185, 70], [\"jerry\", 172, 62]], columns=['name', 'height', 'weight'], index=['a', 'b'])\n",
    "print(df1); print(df2)\n",
    "print(pd.merge(df1, df2, on='name'))"
   ]
  },
  {
   "cell_type": "markdown",
   "metadata": {
    "slideshow": {
     "slide_type": "subslide"
    }
   },
   "source": [
    "- Let's merge election and temperature data.\n",
    "- Before doing so:\n",
    "    - Check which variable is an id. (There can be more than one id.)\n",
    "    - Check that the ids are unique in at least one of the data.\n",
    "- Which variables are ids in election and temperature data?"
   ]
  },
  {
   "cell_type": "markdown",
   "metadata": {
    "slideshow": {
     "slide_type": "subslide"
    }
   },
   "source": [
    "- Check that state names and election years look fine before merging.\n",
    "- Run the following code."
   ]
  },
  {
   "cell_type": "code",
   "execution_count": null,
   "metadata": {
    "slideshow": {
     "slide_type": "-"
    }
   },
   "outputs": [],
   "source": [
    "print(elec_all['state_long'].unique()); print(elec_all['elec_year'].unique())\n",
    "print(temp_all['state_name'].unique()); print(temp_all['elec_year'].unique())"
   ]
  },
  {
   "cell_type": "markdown",
   "metadata": {
    "slideshow": {
     "slide_type": "subslide"
    }
   },
   "source": [
    "- Alas, some strings in `elec_all` contain strange spaces.\n",
    "- We have to remove it. Otherwise, we will not be able to merge data properly.\n",
    "- There are several ways to remove spaces. However, in this case, it's unwise to use `object.str.strip()` or `object.str.replace(\" \",\"\")`, which removes all spaces in a given string.\n",
    "- Let's remove the right-side spaces using `object.str.rstrip()`.\n",
    "    - To remove the left-side spaces, use `object.str.lstrip()`."
   ]
  },
  {
   "cell_type": "code",
   "execution_count": null,
   "metadata": {
    "slideshow": {
     "slide_type": "-"
    }
   },
   "outputs": [],
   "source": [
    "elec_all['state_long'] = elec_all['state_long'].str.rstrip() "
   ]
  },
  {
   "cell_type": "markdown",
   "metadata": {
    "slideshow": {
     "slide_type": "subslide"
    }
   },
   "source": [
    "- What about now?"
   ]
  },
  {
   "cell_type": "code",
   "execution_count": null,
   "metadata": {
    "slideshow": {
     "slide_type": "-"
    }
   },
   "outputs": [],
   "source": [
    "print(elec_all['state_long'].unique()); print(elec_all['elec_year'].unique())\n",
    "print(temp_all['state_name'].unique()); print(temp_all['elec_year'].unique())"
   ]
  },
  {
   "cell_type": "markdown",
   "metadata": {
    "slideshow": {
     "slide_type": "subslide"
    }
   },
   "source": [
    "- Finally, check that each corresponding ids share the same type."
   ]
  },
  {
   "cell_type": "code",
   "execution_count": null,
   "metadata": {
    "slideshow": {
     "slide_type": "-"
    }
   },
   "outputs": [],
   "source": [
    "print(type(elec_all['state_long'][0])); print(type(temp_all['state_name'][0]))\n",
    "print(type(elec_all['elec_year'][0])); print(type(temp_all['elec_year'][0]))"
   ]
  },
  {
   "cell_type": "markdown",
   "metadata": {
    "slideshow": {
     "slide_type": "subslide"
    }
   },
   "source": [
    "- Now, let's merge the two datasets."
   ]
  },
  {
   "cell_type": "code",
   "execution_count": null,
   "metadata": {
    "slideshow": {
     "slide_type": "-"
    }
   },
   "outputs": [],
   "source": [
    "data_use = pd.merge(elec_all, temp_all, left_on=['state_long', 'elec_year'], right_on=['state_name', 'elec_year'], how='outer')"
   ]
  },
  {
   "cell_type": "markdown",
   "metadata": {
    "slideshow": {
     "slide_type": "subslide"
    }
   },
   "source": [
    "- Print `data_use`, which should be in the long format. You will often use this type of data structure in the panel data analysis."
   ]
  },
  {
   "cell_type": "code",
   "execution_count": null,
   "metadata": {
    "slideshow": {
     "slide_type": "-"
    }
   },
   "outputs": [],
   "source": []
  },
  {
   "cell_type": "markdown",
   "metadata": {
    "slideshow": {
     "slide_type": "slide"
    }
   },
   "source": [
    "## 3. Reshaping Data<a id='sec3'></a>\n",
    "- If necessary, you can also reshape data. In that case, use `object.pivot`.\n",
    "    - In our case, we don't need to reshape the data.\n",
    "    \n",
    "[back to top](#top)"
   ]
  },
  {
   "cell_type": "code",
   "execution_count": null,
   "metadata": {
    "slideshow": {
     "slide_type": "-"
    }
   },
   "outputs": [],
   "source": [
    "data_use_to_reshape = data_use.loc[data_use['state_long'].notna(),]\n",
    "data1 = data_use_to_reshape.pivot(index='state_long', columns='elec_year') # reshape to a wide format\n",
    "data2 = data1.stack() # back to a long format\n",
    "data3 = data2.unstack() # back to a wide format"
   ]
  },
  {
   "cell_type": "markdown",
   "metadata": {
    "slideshow": {
     "slide_type": "slide"
    }
   },
   "source": [
    "## 4. Making Variables<a id='sec4'></a>\n",
    "- You may need more variables for analysis. For example:\n",
    "    - Logarithm\n",
    "    - Total, mean, min, max...\n",
    "    - Share, ratio...\n",
    "- Let's make \n",
    "    - Vote share of Republican and Democratic candicates\n",
    "    - Natural logarithm of temperature\n",
    "        \n",
    "[back to top](#top)"
   ]
  },
  {
   "cell_type": "code",
   "execution_count": null,
   "metadata": {
    "slideshow": {
     "slide_type": "subslide"
    }
   },
   "outputs": [],
   "source": [
    "# make vote shares\n",
    "data_use['gelec_total'] = data_use[['gelec_dem', 'gelec_rep', 'gelec_oth']].sum(axis=1) # total vote\n",
    "data_use['rep_share'] = data_use['gelec_rep'] / data_use['gelec_total'] # republican vote share\n",
    "data_use['dem_share'] = data_use['gelec_dem'] / data_use['gelec_total'] # democrat vote share\n",
    "\n",
    "# take natural logs\n",
    "data_use['ln_temp_mean'] = np.log(data_use['temp_mean'])\n",
    "data_use['ln_temp_max_max'] = np.log(data_use['temp_max_max'])\n",
    "data_use['ln_temp_max_mean'] = np.log(data_use['temp_max_mean'])"
   ]
  },
  {
   "cell_type": "markdown",
   "metadata": {
    "slideshow": {
     "slide_type": "slide"
    }
   },
   "source": [
    "## 5. Saving Data<a id='sec5'></a>\n",
    "        \n",
    "[back to top](#top)"
   ]
  },
  {
   "cell_type": "code",
   "execution_count": null,
   "metadata": {
    "slideshow": {
     "slide_type": "-"
    }
   },
   "outputs": [],
   "source": [
    "data_use.to_csv('data_use.csv', index=False)"
   ]
  }
 ],
 "metadata": {
  "celltoolbar": "Slideshow",
  "kernelspec": {
   "display_name": "Python 3",
   "language": "python",
   "name": "python3"
  },
  "language_info": {
   "codemirror_mode": {
    "name": "ipython",
    "version": 3
   },
   "file_extension": ".py",
   "mimetype": "text/x-python",
   "name": "python",
   "nbconvert_exporter": "python",
   "pygments_lexer": "ipython3",
   "version": "3.8.3"
  }
 },
 "nbformat": 4,
 "nbformat_minor": 2
}
