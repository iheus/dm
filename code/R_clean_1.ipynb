{
 "cells": [
  {
   "cell_type": "markdown",
   "metadata": {
    "slideshow": {
     "slide_type": "slide"
    }
   },
   "source": [
    "# Cleaning Data using R\n",
    "By Shuhei Kitamura"
   ]
  },
  {
   "cell_type": "markdown",
   "metadata": {
    "slideshow": {
     "slide_type": "slide"
    }
   },
   "source": [
    "### Outline\n",
    "Research Question: Is there any relationship between Election-Day temperature and electoral outcomes?\n",
    "\n",
    "Let's clean two types of datasets (Senate [election results](https://transition.fec.gov/pubrec/electionresults.shtml) and [daily temperature](https://aqs.epa.gov/aqsweb/airdata/download_files.html)).\n",
    "\n",
    "1. Importing Data\n",
    "2. Treating Missing Values\n",
    "3. Keeping Columns\n",
    "4. Keeping Rows\n",
    "5. Treating Other Values\n",
    "6. Saving Data"
   ]
  },
  {
   "cell_type": "code",
   "execution_count": 12,
   "metadata": {
    "slideshow": {
     "slide_type": "subslide"
    }
   },
   "outputs": [],
   "source": [
    "library(readxl) #install.packages('readxl',repos='http://cran.us.r-project.org')"
   ]
  },
  {
   "cell_type": "code",
   "execution_count": 13,
   "metadata": {
    "slideshow": {
     "slide_type": "-"
    }
   },
   "outputs": [],
   "source": [
    "options(repr.matrix.max.rows=200, repr.matrix.max.cols=100) # set # of rows and columns to display "
   ]
  },
  {
   "cell_type": "code",
   "execution_count": 14,
   "metadata": {
    "slideshow": {
     "slide_type": "-"
    }
   },
   "outputs": [],
   "source": [
    "setwd('...') # set the working directory "
   ]
  },
  {
   "cell_type": "markdown",
   "metadata": {
    "slideshow": {
     "slide_type": "slide"
    }
   },
   "source": [
    "## 1. Importing Data\n",
    "- For csv files, use `read.table()`.\n",
    "    - Be sure to include `sep=','`.\n",
    "    - By adding `header=TRUE`, R recognizes that the first row is column names. \n",
    "    - By adding `stringsAsFactors=FALSE`, R does not change characters to factors.\n",
    "- For tsv files, use `read.table()`.\n",
    "- For excel files, use `read_excel()` in `readxl` package.\n",
    "    - Alternatively, use `read.xlsx()` in `xlsx` package or `readWorksheetFromFile()` in `XLConnect` package. Both packages seem to require 64-bit Java for Windows users.\n",
    "- Alternatively, you could use `fread` in `data.table` package for large csv or tsv data.\n",
    "- Datasets\n",
    "    - `elec_senate.xlsx`: US Senate general election results 2008-2014\n",
    "    - `daily_TEMP_XXXX.csv`: US temperature 2008-2014"
   ]
  },
  {
   "cell_type": "code",
   "execution_count": 16,
   "metadata": {
    "slideshow": {
     "slide_type": "subslide"
    }
   },
   "outputs": [],
   "source": [
    "elec_data <- list()\n",
    "temp_data <- list()\n",
    "for (year in seq(2008,2014,by=2)) {\n",
    "    elec_data[[paste0('elec_',year)]] <- as.data.frame(read_excel('data/elec_senate.xlsx', sheet=as.character(year)))\n",
    "    temp_data[[paste0('elec_',year)]] <- as.data.frame(read.table(paste0('data/daily_TEMP_', year, '.csv'), header=TRUE, sep=',', stringsAsFactors=FALSE))     \n",
    "}"
   ]
  },
  {
   "cell_type": "markdown",
   "metadata": {
    "slideshow": {
     "slide_type": "subslide"
    }
   },
   "source": [
    "### Checking column names and data entries\n",
    "- What is the type of `elec_data` and `elec_data[['elec_2008']]`?\n",
    "    - What happens if you use `elec_data['elec_2008']` instead?\n",
    "- Print the list of column names in `elec_data[['elec_2008']]`.\n",
    "- To see some samples of the data, use `head(,#)` or `tail(,#)`, where `#` means the number of rows. \n",
    "- What is the type of each column?"
   ]
  },
  {
   "cell_type": "code",
   "execution_count": null,
   "metadata": {
    "slideshow": {
     "slide_type": "subslide"
    }
   },
   "outputs": [],
   "source": []
  },
  {
   "cell_type": "markdown",
   "metadata": {
    "slideshow": {
     "slide_type": "subslide"
    }
   },
   "source": [
    "### Checking the key\n",
    "- Next, check whether data have a unique and non-missing key.\n",
    "- Does `elec_data[['elec_2008']]` have such a key?\n",
    "    - To check the uniqueness, use `any(duplicated(mydata$column))`.\n",
    "    - To check the non-missingness, use `any(is.na(mydata$column))`.\n",
    "- Do the same thing for the remaining years and temperature data later."
   ]
  },
  {
   "cell_type": "code",
   "execution_count": null,
   "metadata": {
    "slideshow": {
     "slide_type": "-"
    }
   },
   "outputs": [],
   "source": []
  },
  {
   "cell_type": "markdown",
   "metadata": {
    "slideshow": {
     "slide_type": "slide"
    }
   },
   "source": [
    "## 2. Treating Missing Values\n",
    "- Print `elec_data[['elec_2008']]`. Why some values are missing?\n",
    "- There are several strategies to handle missing data:\n",
    "    - 1. Use a mask\n",
    "    - 2. Replace it with a sentinel value (e.g., -999)\n",
    "    - 3. Do nothing (decide later)"
   ]
  },
  {
   "cell_type": "code",
   "execution_count": null,
   "metadata": {
    "slideshow": {
     "slide_type": "subslide"
    }
   },
   "outputs": [],
   "source": [
    "elec_data[['elec_2008']]"
   ]
  },
  {
   "cell_type": "markdown",
   "metadata": {
    "slideshow": {
     "slide_type": "subslide"
    }
   },
   "source": [
    "### What are the missing values in R? \n",
    "- There are three types.\n",
    "    - `NULL`: Non existence.\n",
    "    - `NaN` (Not a Number): A missing numerical value (double).\n",
    "    - `NA` (Not Available): A missing value (logical).\n",
    "    - (`Inf` is an infinite number.)\n",
    "- Print vectors in the below example.\n",
    "- What happens if you aggregate all items in each vector?\n",
    "    - Try `sum()` and `sum( , na.rm=TRUE)`."
   ]
  },
  {
   "cell_type": "code",
   "execution_count": 40,
   "metadata": {
    "slideshow": {
     "slide_type": "subslide"
    }
   },
   "outputs": [],
   "source": [
    "vec1 <- c(1, 2, 3, NA)\n",
    "vec2 <- c(1, 2, 3, NaN)\n",
    "vec3 <- c(1, 2, 3, NULL)\n",
    "vec4 <- c(1, 2, 3, Inf)"
   ]
  },
  {
   "cell_type": "markdown",
   "metadata": {
    "slideshow": {
     "slide_type": "subslide"
    }
   },
   "source": [
    "### Handling Missing Values\n",
    "- Useful methods\n",
    "    - Checking: `is.na()` and `!is.na()`.\n",
    "- Also, you may combine them with `any()`.\n",
    "- Replace missing values with zero in `vec1` or `df1`.\n",
    "    - Use `myvec[is.na(myvec)] <- 0`.\n",
    "    - Use `mydf[is.na(mydf)] <- 0`.\n",
    "- Drop missing values in `vec1` or `df1`.\n",
    "    - Use `myvec <- myvec[!is.na(myvec)]`.\n",
    "    - Use `mydf <- mydf[!is.na(mydf)]`."
   ]
  },
  {
   "cell_type": "code",
   "execution_count": 52,
   "metadata": {
    "slideshow": {
     "slide_type": "subslide"
    }
   },
   "outputs": [],
   "source": [
    "vec1 <- c(1.0, NaN, 3.0, NA, NULL)\n",
    "df1 <- as.data.frame(matrix(c(1.0, NA, 3.0, NA, 5.0, NaN, 7.0, 8.0, NaN, NaN, NaN, NaN, NA, NA, NA, NA), ncol=4))"
   ]
  },
  {
   "cell_type": "markdown",
   "metadata": {
    "slideshow": {
     "slide_type": "subslide"
    }
   },
   "source": [
    "- To drop columns whose rows are all missing, use `colSums`.\n",
    "- To drop rows whose rows are all missing, use `rowSums`."
   ]
  },
  {
   "cell_type": "code",
   "execution_count": null,
   "metadata": {
    "slideshow": {
     "slide_type": "-"
    }
   },
   "outputs": [],
   "source": [
    "df1 <- as.data.frame(matrix(c(1.0, NA, 3.0, NA, 5.0, NaN, 7.0, 8.0, NaN, NaN, NaN, NaN, NA, NA, NA, NA), ncol=4))\n",
    "print(df1)\n",
    "print(colSums(is.na(df1)))\n",
    "print(rowSums(is.na(df1)))\n",
    "df2 <- df1[,colSums(is.na(df1)) != nrow(df1)]\n",
    "df3 <- df1[rowSums(is.na(df1)) != ncol(df1),]"
   ]
  },
  {
   "cell_type": "markdown",
   "metadata": {
    "slideshow": {
     "slide_type": "slide"
    }
   },
   "source": [
    "## 3. Keeping Columns\n",
    "- Data may contain some redundant columns that will never be used in analysis. We will drop such columns to reduce the data size.\n",
    "- Possible candidates:\n",
    "    1. A column whose values are all missing\n",
    "    2. A column whose information is not important\n",
    "- You should be very careful about deciding which columns to keep/drop.\n",
    "    - You may not use those columns in the current project but may use them in another project.\n",
    "- Let's check `elec_data[['elec_2008']]`."
   ]
  },
  {
   "cell_type": "code",
   "execution_count": null,
   "metadata": {
    "slideshow": {
     "slide_type": "subslide"
    }
   },
   "outputs": [],
   "source": [
    "elec_data[['elec_2008']]"
   ]
  },
  {
   "cell_type": "markdown",
   "metadata": {
    "slideshow": {
     "slide_type": "subslide"
    }
   },
   "source": [
    "- All columns look good. What about `temp_data`?"
   ]
  },
  {
   "cell_type": "code",
   "execution_count": null,
   "metadata": {
    "slideshow": {
     "slide_type": "-"
    }
   },
   "outputs": [],
   "source": [
    "head(temp_data[['elec_2008']])\n",
    "unique(temp_data[['elec_2008']]['Parameter.Name'])"
   ]
  },
  {
   "cell_type": "markdown",
   "metadata": {
    "slideshow": {
     "slide_type": "subslide"
    }
   },
   "source": [
    "- Let's drop `Parameter.Name`, `Sample.Duration`, `Pollutant.Standard`, `Units.of.Measure`, and `AQI`.\n",
    "- First of all, let's drop columns that are all missing."
   ]
  },
  {
   "cell_type": "code",
   "execution_count": 17,
   "metadata": {
    "slideshow": {
     "slide_type": "-"
    }
   },
   "outputs": [],
   "source": [
    "for (year in seq(2008,2014,by=2)) {\n",
    "    temp_data[[paste0('elec_', year, '_keep')]] <- temp_data[[paste0('elec_', year)]][, colSums(is.na(temp_data[[paste0('elec_',year)]])) != nrow(temp_data[[paste0('elec_',year)]])]    \n",
    "}"
   ]
  },
  {
   "cell_type": "markdown",
   "metadata": {
    "slideshow": {
     "slide_type": "subslide"
    }
   },
   "source": [
    "- Next, drop remaining columns."
   ]
  },
  {
   "cell_type": "code",
   "execution_count": 18,
   "metadata": {
    "slideshow": {
     "slide_type": "-"
    }
   },
   "outputs": [],
   "source": [
    "for (year in seq(2008,2014,by=2)) {\n",
    "    temp_data[[paste0('elec_',year, '_keep')]] <- temp_data[[paste0('elec_', year, '_keep')]][, !names(temp_data[[paste0('elec_', year, '_keep')]]) %in% c('Parameter.Name', 'Sample.Duration', 'Units.of.Measure')]\n",
    "}"
   ]
  },
  {
   "cell_type": "markdown",
   "metadata": {
    "slideshow": {
     "slide_type": "subslide"
    }
   },
   "source": [
    "### Changing Column Names\n",
    "- Once we have all columns we need, it is time to modify column names. \n",
    "- If column names are very long, use uppercase, have space(s), or written in any other non-generic format, we need to change them.\n",
    "- To simplify the process, we just replace periods with underscores and change uppercase to lowercase.\n",
    "    - You could use `gsub` and `tolower`.\n",
    "    - Some column names may still be too long."
   ]
  },
  {
   "cell_type": "code",
   "execution_count": null,
   "metadata": {
    "slideshow": {
     "slide_type": "subslide"
    }
   },
   "outputs": [],
   "source": [
    "colnames(temp_data[['elec_2008_keep']])\n",
    "for (year in seq(2008,2014,by=2)) {\n",
    "    names(temp_data[[paste0('elec_',year, '_keep')]]) <- gsub(\"\\\\.\", \"_\", names(temp_data[[paste0('elec_',year, '_keep')]]))\n",
    "    names(temp_data[[paste0('elec_',year, '_keep')]]) <- tolower(names(temp_data[[paste0('elec_',year, '_keep')]]))\n",
    "}\n",
    "colnames(temp_data[['elec_2008_keep']])"
   ]
  },
  {
   "cell_type": "markdown",
   "metadata": {
    "slideshow": {
     "slide_type": "slide"
    }
   },
   "source": [
    "## 4. Keeping Rows\n",
    "- Since columns are all good by now, we move on to rows.\n",
    "- We need to decide how much rows to keep in the final data.\n",
    "- Things to consider:\n",
    "    - Should we keep rows that are all missing?\n",
    "    - If there are multiple entries per unit of observation, should we keep all of them?"
   ]
  },
  {
   "cell_type": "markdown",
   "metadata": {
    "slideshow": {
     "slide_type": "subslide"
    }
   },
   "source": [
    "- First, let's look at `elec_data[['elec_2008']]` again. Recall that all election results are missing for some rows."
   ]
  },
  {
   "cell_type": "code",
   "execution_count": null,
   "metadata": {
    "slideshow": {
     "slide_type": "-"
    }
   },
   "outputs": [],
   "source": [
    "elec_data[['elec_2008']]"
   ]
  },
  {
   "cell_type": "markdown",
   "metadata": {
    "slideshow": {
     "slide_type": "subslide"
    }
   },
   "source": [
    "- Let's drop such rows."
   ]
  },
  {
   "cell_type": "code",
   "execution_count": null,
   "metadata": {
    "slideshow": {
     "slide_type": "-"
    }
   },
   "outputs": [],
   "source": [
    "for (year in seq(2008,2014,by=2)) {\n",
    "    elec_data[[paste0('elec_', year, '_keep')]] <- elec_data[[paste0('elec_', year)]][rowSums(is.na(elec_data[[paste0('elec_', year)]][c('gelec_dem', 'gelec_rep', 'gelec_oth')])) != ncol(elec_data[[paste0('elec_', year)]][c('gelec_dem', 'gelec_rep', 'gelec_oth')]), ]\n",
    "}\n",
    "elec_data[['elec_2008_keep']]"
   ]
  },
  {
   "cell_type": "markdown",
   "metadata": {
    "slideshow": {
     "slide_type": "subslide"
    }
   },
   "source": [
    "- Next, print `date_local` column in `temp_data[['elec_2008']]` for New York.\n",
    "    - Should we drop all dates that are not needed for the analysis? Election Days are:\n",
    "        - November 4th, 2008, November 2nd, 2010, November 6th, 2012, November 8th, 2014"
   ]
  },
  {
   "cell_type": "code",
   "execution_count": null,
   "metadata": {
    "slideshow": {
     "slide_type": "-"
    }
   },
   "outputs": [],
   "source": [
    "temp_data[['elec_2008_keep']][temp_data[['elec_2008_keep']]['state_name'] == 'New York','date_local']"
   ]
  },
  {
   "cell_type": "markdown",
   "metadata": {
    "slideshow": {
     "slide_type": "subslide"
    }
   },
   "source": [
    "- I suggest we keep all dates. \n",
    "    - The reason: We may use daily temperature on non-Election days as well.\n",
    "- Next, print `temp_data[['elec_2008_keep']]` for New York and `2008-11-04`, i.e., Election Day.\n",
    "    - Are there multiple entries? Why so?"
   ]
  },
  {
   "cell_type": "code",
   "execution_count": null,
   "metadata": {
    "slideshow": {
     "slide_type": "subslide"
    }
   },
   "outputs": [],
   "source": [
    "temp_data[['elec_2008_keep']][(temp_data[['elec_2008_keep']]['state_name'] == 'New York') & (temp_data[['elec_2008_keep']]['date_local'] == '2008-11-04'),]"
   ]
  },
  {
   "cell_type": "markdown",
   "metadata": {
    "slideshow": {
     "slide_type": "subslide"
    }
   },
   "source": [
    "- What should we do? There are several options. What are the pros and cons of each method?\n",
    "    - 1. Aggregate data\n",
    "    - 2. Reshape data\n",
    "    - 3. Drop some observations\n",
    "    - 4. Do nothing (decide later)"
   ]
  },
  {
   "cell_type": "markdown",
   "metadata": {
    "slideshow": {
     "slide_type": "subslide"
    }
   },
   "source": [
    "- There is no right answer!\n",
    "- Let's take the fourth option for now. Two reasons: \n",
    "    - There is no point for losing rich information in the data (regarding 1 and 3). \n",
    "    - There will be many missing values if we reshape them (regarding 2)."
   ]
  },
  {
   "cell_type": "markdown",
   "metadata": {
    "slideshow": {
     "slide_type": "slide"
    }
   },
   "source": [
    "## 5. Treating Other Values\n",
    "- It could often be the case that you need to modify entries in a dataset \"by hand\".\n",
    "    - Example: some numeric values are written in strings.\n",
    "- The bottom line: It is better to keep code for whatever you do for original data, if possible."
   ]
  },
  {
   "cell_type": "markdown",
   "metadata": {
    "slideshow": {
     "slide_type": "slide"
    }
   },
   "source": [
    "## 6. Saving Data\n",
    "- You can save data in any format. However, the most preferred one is csv. Why?\n",
    "    - Since csv is just a text file, you can read it in any text editor. Easy to share.\n",
    "    - By contrast, if you do not want to lose information about formatting, macros, etc., it may be better to save it in excel format.\n",
    "- To save data as a csv file, use `write.table()`.\n",
    "    - `sep=\",\"` option should be added for csv files.\n",
    "    - `na=\"\"` means that missing values will be produced as blank cells.\n",
    "    - `row.names=FALSE` means that row names will not be written as a character vector of row names.\n",
    "- Use `write.xlsx()` in `readxl` package to save in excel format."
   ]
  },
  {
   "cell_type": "code",
   "execution_count": 21,
   "metadata": {
    "slideshow": {
     "slide_type": "subslide"
    }
   },
   "outputs": [],
   "source": [
    "for (year in seq(2008,2014,by=2)) {\n",
    "    write.table(elec_data[[paste0('elec_', year, '_keep')]], file=paste0('data/elec_senate_R_', year, '.csv'), sep=\",\", na=\"\", row.names=FALSE)\n",
    "    write.table(temp_data[[paste0('elec_', year, '_keep')]], file=paste0('data/daily_temp_R_', year, '.csv'), sep=\",\", na=\"\", row.names=FALSE)   \n",
    "}"
   ]
  }
 ],
 "metadata": {
  "celltoolbar": "Slideshow",
  "kernelspec": {
   "display_name": "R",
   "language": "R",
   "name": "ir"
  },
  "language_info": {
   "codemirror_mode": "r",
   "file_extension": ".r",
   "mimetype": "text/x-r-source",
   "name": "R",
   "pygments_lexer": "r",
   "version": "3.6.2"
  }
 },
 "nbformat": 4,
 "nbformat_minor": 2
}
