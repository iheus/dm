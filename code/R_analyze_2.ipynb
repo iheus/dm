{
 "cells": [
  {
   "cell_type": "markdown",
   "metadata": {
    "slideshow": {
     "slide_type": "slide"
    }
   },
   "source": [
    "### Outline\n",
    "2. Analyzing Data\n",
    "    - Summary Tables\n",
    "    - Figures\n",
    "    - Regression Tables"
   ]
  },
  {
   "cell_type": "code",
   "execution_count": 21,
   "metadata": {
    "slideshow": {
     "slide_type": "subslide"
    }
   },
   "outputs": [],
   "source": [
    "library(dplyr)\n",
    "library(stargazer) \n",
    "library(ggplot2)\n",
    "library(lfe) \n",
    "# install.packages(\"lfe\", repos='http://cran.us.r-project.org')"
   ]
  },
  {
   "cell_type": "code",
   "execution_count": 22,
   "metadata": {
    "slideshow": {
     "slide_type": "-"
    }
   },
   "outputs": [],
   "source": [
    "options(repr.matrix.max.rows=200, repr.matrix.max.cols=100) # set # of rows and columns to display \n",
    "options(repr.plot.width=4, repr.plot.height=4) # set figure size"
   ]
  },
  {
   "cell_type": "code",
   "execution_count": 23,
   "metadata": {
    "slideshow": {
     "slide_type": "-"
    }
   },
   "outputs": [],
   "source": [
    "setwd('...') # set the working directory"
   ]
  },
  {
   "cell_type": "code",
   "execution_count": 24,
   "metadata": {
    "slideshow": {
     "slide_type": "-"
    }
   },
   "outputs": [],
   "source": [
    "data <- as.data.frame(read.table('data/data_use_R.csv', sep=\",\", header = TRUE, stringsAsFactors=FALSE))"
   ]
  },
  {
   "cell_type": "markdown",
   "metadata": {
    "slideshow": {
     "slide_type": "slide"
    }
   },
   "source": [
    "### Summary Tables\n",
    "- Any empirical paper has a summary table.\n",
    "- Summary tables are very important because people often see the tables to understand the distributions of variables.\n",
    "- To make a summary table, use `stargazer` in `stargazer` package.\n",
    "- You can produce an output in any format. However, I suggest LaTeX format.\n",
    "    - The reason: You will import the file later when you write a paper.\n",
    "- For the moment, we produce files with the `txt` file extension.\n",
    "    - If you already have TeX in your computer, change the file extension from `txt` to `tex`."
   ]
  },
  {
   "cell_type": "code",
   "execution_count": null,
   "metadata": {
    "slideshow": {
     "slide_type": "subslide"
    }
   },
   "outputs": [],
   "source": [
    "stargazer(data[,c('gelec_dem', 'gelec_rep', 'gelec_oth', 'gelec_total', 'rep_share', 'dem_share', 'elec_year', 'temp_mean', 'temp_max_max', 'temp_max_mean')], \n",
    "          out=\"sum_stat_R.txt\", digits=2, header=FALSE, float=FALSE, summary.stat = c('mean','sd','min','max','n'))"
   ]
  },
  {
   "cell_type": "markdown",
   "metadata": {
    "slideshow": {
     "slide_type": "slide"
    }
   },
   "source": [
    "### Figures\n",
    "- Good papers always have figures that summarize the results well.\n",
    "    - You should not write a paper only with tables.\n",
    "- A very useful package for plotting figures is `ggplot2`.\n",
    "    - A [cheat sheet](https://github.com/rstudio/cheatsheets/blob/master/data-visualization-2.1.pdf) is available.  \n",
    "- There are several types of figures: histograms, density plots, scatter plots, bar plots, line plots...\n",
    "    - Each type has different purposes.\n",
    "- Regarding the format, I suggest either `png` or `jpg`."
   ]
  },
  {
   "cell_type": "markdown",
   "metadata": {
    "slideshow": {
     "slide_type": "subslide"
    }
   },
   "source": [
    "#### - Histograms\n",
    "- Histograms are often used to show the distributions of your data."
   ]
  },
  {
   "cell_type": "code",
   "execution_count": null,
   "metadata": {
    "slideshow": {
     "slide_type": "subslide"
    }
   },
   "outputs": [],
   "source": [
    "ggplot(data) + \n",
    "    geom_histogram(aes(x=dem_share), bins=20, alpha=0.3, fill='blue', na.rm=TRUE)  +\n",
    "    geom_histogram(aes(x=rep_share), bins=20, alpha=0.3, fill='red', na.rm=TRUE)  +\n",
    "    labs(title=\"Vote share, 2008-2014\", x=\"\") +\n",
    "    theme(\n",
    "        panel.background = element_rect(fill=NA),\n",
    "        panel.border = element_rect(fill=NA, color='grey75'),\n",
    "        axis.ticks = element_line(color='grey85'),\n",
    "        #panel.grid.major = element_line(color = \"grey95\", size = 0.25),\n",
    "        #panel.grid.minor = element_line(color = \"grey95\", size = 0.25),\n",
    "        legend.position = 'none',\n",
    "        plot.title = element_text(hjust=0.5, size=9),\n",
    "        axis.title = element_text(size=9),\n",
    "        axis.text = element_text(size=9)\n",
    "    )\n",
    "ggsave('hist_rep_share_R.png', width=4, height=4)"
   ]
  },
  {
   "cell_type": "markdown",
   "metadata": {
    "slideshow": {
     "slide_type": "subslide"
    }
   },
   "source": [
    "#### - Density Plots\n",
    "- Density plots are a variation of histograms.\n",
    "    - For density plots, you employ some method to smooth the distribution.\n",
    "- It is not affected by, e.g., how you choose bins."
   ]
  },
  {
   "cell_type": "code",
   "execution_count": null,
   "metadata": {
    "slideshow": {
     "slide_type": "subslide"
    }
   },
   "outputs": [],
   "source": [
    "data1 <- data.frame(value=rnorm(1000,0,1))\n",
    "ggplot(data1, aes(x=value)) +\n",
    "    geom_histogram(bins=100, alpha=0.3, aes(y=..density..)) +\n",
    "    stat_density(geom=\"line\", color='red') +\n",
    "    labs(title=\"Title\", x=\"\", y=\"\") +\n",
    "    theme(\n",
    "        panel.background = element_rect(fill=NA),\n",
    "        panel.border = element_rect(fill=NA, color='grey75'),\n",
    "        axis.ticks = element_line(color='grey85'),\n",
    "        legend.position = 'none',\n",
    "        plot.title = element_text(hjust=0.5, size=9),\n",
    "        axis.title = element_text(size=9),\n",
    "        axis.text = element_text(size=9)\n",
    "    )"
   ]
  },
  {
   "cell_type": "markdown",
   "metadata": {
    "slideshow": {
     "slide_type": "subslide"
    }
   },
   "source": [
    "#### - Bar Plots\n",
    "- Bar plots are often used to compare statistics (e.g., mean) for different groups."
   ]
  },
  {
   "cell_type": "code",
   "execution_count": null,
   "metadata": {
    "slideshow": {
     "slide_type": "subslide"
    }
   },
   "outputs": [],
   "source": [
    "data1 <- data.frame(\n",
    "    name = c('tom', 'jerry', 'spike', 'tyke'),\n",
    "    height = c(1.75, 1.82, 1.65, 1.4),\n",
    "    treatment = c(1, 1, 0, 0))\n",
    "\n",
    "ggplot(data1, aes(x=treatment, y=height, fill=factor(treatment))) + \n",
    "    stat_summary(fun.y=mean, geom='bar', alpha=0.3) +\n",
    "    scale_fill_manual(values=c('red', 'blue')) +\n",
    "    scale_x_continuous(breaks=c(0,1)) +\n",
    "    labs(title=\"\", x=\"treatment\", y=\"average height\") +\n",
    "    theme(\n",
    "        panel.background = element_rect(fill=NA),\n",
    "        panel.border = element_rect(fill=NA, color='grey75'),\n",
    "        axis.ticks = element_line(color='grey85'),\n",
    "        legend.position = 'none',\n",
    "        plot.title = element_text(hjust=0.5, size=9),\n",
    "        axis.title = element_text(size=9),\n",
    "        axis.text = element_text(size=9)\n",
    "    )"
   ]
  },
  {
   "cell_type": "markdown",
   "metadata": {
    "slideshow": {
     "slide_type": "subslide"
    }
   },
   "source": [
    "#### - Scatter Plots\n",
    "- Scatter plots are often used to show a relationship between two samples."
   ]
  },
  {
   "cell_type": "code",
   "execution_count": null,
   "metadata": {
    "slideshow": {
     "slide_type": "subslide"
    }
   },
   "outputs": [],
   "source": [
    "ggplot(data, aes(x=temp_max_max, y=rep_share)) +\n",
    "    geom_point(color='blue', na.rm=TRUE) +\n",
    "    labs(title=\"\",x=\"Mean temperature\",y=\"Republican vote share\") +\n",
    "    theme(\n",
    "        panel.background = element_rect(fill = NA),\n",
    "        panel.border = element_rect(fill = NA, color = \"grey75\"),\n",
    "        axis.ticks = element_line(color = \"grey85\"),\n",
    "        legend.position = \"none\",\n",
    "        plot.title = element_text(hjust = 0.5, size=9),\n",
    "        axis.title = element_text(size=9),\n",
    "        axis.text = element_text(size=9)\n",
    "    )"
   ]
  },
  {
   "cell_type": "markdown",
   "metadata": {
    "slideshow": {
     "slide_type": "subslide"
    }
   },
   "source": [
    "#### - Line Plots\n",
    "- Line plots are often used to show time trends."
   ]
  },
  {
   "cell_type": "code",
   "execution_count": null,
   "metadata": {
    "slideshow": {
     "slide_type": "subslide"
    }
   },
   "outputs": [],
   "source": [
    "set.seed(123456789) # set seeds\n",
    "n <- 1000\n",
    "data1 <- data.frame(\n",
    "    sample = 1:n,\n",
    "    group=rep(c(\"one\", \"two\", \"three\"), each=n),\n",
    "    value=c(cumsum(rnorm(n,0,1)), cumsum(rnorm(n,0,1)), cumsum(rnorm(n,0,1))))\n",
    "\n",
    "ggplot(data1, aes(x=sample, y=value)) +\n",
    "    geom_line(aes(colour=group)) +\n",
    "    labs(title=\"Title\", x=\"\", y=\"\") +\n",
    "    scale_color_manual(name=\"\", values=c(\"blue\",\"red\",\"yellow\")) +\n",
    "    theme(\n",
    "        panel.background = element_rect(fill=NA),\n",
    "        panel.border = element_rect(fill=NA, color=\"grey75\"),\n",
    "        axis.ticks = element_line(color=\"grey85\"),\n",
    "        legend.position = \"bottom\",\n",
    "        legend.key = element_blank(),\n",
    "        legend.text = element_text(size=8),\n",
    "        plot.title = element_text(hjust=0.5, size=9),\n",
    "        axis.title = element_text(size=9),\n",
    "        axis.text = element_text(size=9)\n",
    "    )"
   ]
  },
  {
   "cell_type": "markdown",
   "metadata": {
    "slideshow": {
     "slide_type": "slide"
    }
   },
   "source": [
    "### Regression Tables\n",
    "- Empirical papers always have regression tables.\n",
    "- To run a regression, use, e.g., `lm` or `felm` in `lfe` package.\n",
    "- To produce a table of the regression results, use `stargazer` in `stargazer` package.\n",
    "    - If you want to produce the result in tex format, use `type=latex` and replace `.txt` with `.tex`.\n",
    "- How can you interpret the regression results?"
   ]
  },
  {
   "cell_type": "code",
   "execution_count": null,
   "metadata": {
    "slideshow": {
     "slide_type": "subslide"
    }
   },
   "outputs": [],
   "source": [
    "reg1 <- lm(rep_share ~ ln_temp_max_max, data=data)\n",
    "reg2 <- felm(rep_share ~ ln_temp_max_max | state_short + elec_year, data=data)\n",
    "reg3 <- felm(rep_share ~ ln_temp_max_max | state_short + elec_year | 0 | state_short, data=data)\n",
    "\n",
    "stargazer(reg1, reg2, reg3, \n",
    "          title=\"Table 1: Correlation between Election Day temperature and Senate Republican vote share\", \n",
    "          column.labels = c(\"OLS\", \"FE\", \"FE+cluster\"), \n",
    "          keep='ln_temp_max_max',\n",
    "          model.names=FALSE, \n",
    "          type='text', header=FALSE, out=\"estimates_R.txt\")"
   ]
  }
 ],
 "metadata": {
  "celltoolbar": "Slideshow",
  "kernelspec": {
   "display_name": "R",
   "language": "R",
   "name": "ir"
  },
  "language_info": {
   "codemirror_mode": "r",
   "file_extension": ".r",
   "mimetype": "text/x-r-source",
   "name": "R",
   "pygments_lexer": "r",
   "version": "3.6.2"
  }
 },
 "nbformat": 4,
 "nbformat_minor": 2
}
