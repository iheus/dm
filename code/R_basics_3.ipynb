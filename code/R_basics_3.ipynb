{
 "cells": [
  {
   "cell_type": "markdown",
   "metadata": {
    "slideshow": {
     "slide_type": "slide"
    }
   },
   "source": [
    "### Outline\n",
    "- 9. Functions\n",
    "- 10. Packages"
   ]
  },
  {
   "cell_type": "markdown",
   "metadata": {
    "slideshow": {
     "slide_type": "slide"
    }
   },
   "source": [
    "## 9. Functions\n",
    "- You have already used some of the functions such as `print()`, `paste()`, and `summary()`.\n",
    "    - `builtins()` shows the list of built-in functions.\n",
    "- You can get a help document using `?` or `help()` (like Python).\n",
    "- Some functions can only be used for specific type(s)."
   ]
  },
  {
   "cell_type": "code",
   "execution_count": 1,
   "metadata": {
    "slideshow": {
     "slide_type": "-"
    }
   },
   "outputs": [],
   "source": [
    "?print"
   ]
  },
  {
   "cell_type": "markdown",
   "metadata": {
    "slideshow": {
     "slide_type": "subslide"
    }
   },
   "source": [
    "- To check the source code of a function, use `getAnywhere()`."
   ]
  },
  {
   "cell_type": "code",
   "execution_count": 3,
   "metadata": {
    "slideshow": {
     "slide_type": "-"
    }
   },
   "outputs": [],
   "source": [
    "getAnywhere(summary.default) "
   ]
  },
  {
   "cell_type": "markdown",
   "metadata": {
    "slideshow": {
     "slide_type": "subslide"
    }
   },
   "source": [
    "- You can make your own function."
   ]
  },
  {
   "cell_type": "code",
   "execution_count": 10,
   "metadata": {
    "slideshow": {
     "slide_type": "-"
    }
   },
   "outputs": [],
   "source": [
    "mysum <- function(x, y) {\n",
    "    z <- x + y\n",
    "    return(c(x, y, z))\n",
    "}"
   ]
  },
  {
   "cell_type": "markdown",
   "metadata": {
    "slideshow": {
     "slide_type": "subslide"
    }
   },
   "source": [
    "**Exercise (functions)**\n",
    "- 1. Make a if statement that prints \"Two items are equal.\" if two inputs of a vector are the same, and \"Two items are not equal.\" otherwise.\n",
    "- 2. Test the function using `list1`."
   ]
  },
  {
   "cell_type": "code",
   "execution_count": null,
   "metadata": {
    "slideshow": {
     "slide_type": "-"
    }
   },
   "outputs": [],
   "source": [
    "list1 <- list(1, 1L)"
   ]
  },
  {
   "cell_type": "markdown",
   "metadata": {
    "slideshow": {
     "slide_type": "slide"
    }
   },
   "source": [
    "## 10. Packages\n",
    "- Similar to Python, R has many packages.\n",
    "- There are 15,355 packages (as of 2020/01/08) in  [CRAN](https://cran.r-project.org/).\n",
    "- To install a package, use `install.packages()`. You can use `c()` to install multiple packages.\n",
    "    - You always need quotation marks!\n",
    "    - It is recommended to install packages in R itself, not in Jupyter Notebook.\n",
    "- Installed packages can be loaded using `library()`."
   ]
  },
  {
   "cell_type": "code",
   "execution_count": 6,
   "metadata": {
    "slideshow": {
     "slide_type": "-"
    }
   },
   "outputs": [],
   "source": [
    "# install.packages(c('ggplot2'), repos='http://cran.us.r-project.org')\n",
    "library(ggplot2)"
   ]
  },
  {
   "cell_type": "markdown",
   "metadata": {
    "slideshow": {
     "slide_type": "subslide"
    }
   },
   "source": [
    "- To check available functions in a package, use `lsf.str()` or `ls()`."
   ]
  },
  {
   "cell_type": "code",
   "execution_count": null,
   "metadata": {
    "slideshow": {
     "slide_type": "-"
    }
   },
   "outputs": [],
   "source": [
    "lsf.str(\"package:ggplot2\")\n",
    "#ls(\"package:ggplot2\")"
   ]
  },
  {
   "cell_type": "markdown",
   "metadata": {
    "slideshow": {
     "slide_type": "subslide"
    }
   },
   "source": [
    "- You can see the list of loaded packages using `(.packages())`.\n",
    "- You can unload packages using `detach()`."
   ]
  },
  {
   "cell_type": "code",
   "execution_count": null,
   "metadata": {
    "slideshow": {
     "slide_type": "-"
    }
   },
   "outputs": [],
   "source": [
    "(.packages())\n",
    "detach(package:ggplot2)\n",
    "(.packages())"
   ]
  },
  {
   "cell_type": "markdown",
   "metadata": {
    "slideshow": {
     "slide_type": "subslide"
    }
   },
   "source": [
    " - Once imported, you can use a function without referring to a package."
   ]
  },
  {
   "cell_type": "code",
   "execution_count": null,
   "metadata": {
    "slideshow": {
     "slide_type": "-"
    }
   },
   "outputs": [],
   "source": [
    "library(ggplot2)\n",
    "ggplot(diamonds, aes(x=carat, y=price, color=cut)) + \n",
    "    geom_point() + \n",
    "    labs(title=\"Diamond\", x=\"Carat\", y=\"Price\", colour=\"Quality of Cut\") "
   ]
  }
 ],
 "metadata": {
  "celltoolbar": "Slideshow",
  "kernelspec": {
   "display_name": "R",
   "language": "R",
   "name": "ir"
  },
  "language_info": {
   "codemirror_mode": "r",
   "file_extension": ".r",
   "mimetype": "text/x-r-source",
   "name": "R",
   "pygments_lexer": "r",
   "version": "3.6.2"
  }
 },
 "nbformat": 4,
 "nbformat_minor": 2
}
