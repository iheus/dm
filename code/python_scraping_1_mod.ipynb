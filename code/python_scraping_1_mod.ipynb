{
 "cells": [
  {
   "cell_type": "markdown",
   "metadata": {
    "slideshow": {
     "slide_type": "slide"
    }
   },
   "source": [
    "# Web Scraping using Python\n",
    "By Shuhei Kitamura"
   ]
  },
  {
   "cell_type": "markdown",
   "metadata": {
    "slideshow": {
     "slide_type": "slide"
    }
   },
   "source": [
    "- Many data are available online.\n",
    "    - Even if many online sources do not look like data at a glance, they can be nice data if you have an idea to use them.\n",
    "- You can automatically download data using Python.\n",
    "- For example, go to BBC News [https://www.bbc.com/news](https://www.bbc.com/news).\n",
    "- Right click (for Win users) at any point of the screen and choose \"Inspect Element\".\n",
    "    - This shows the source code of the page.\n",
    "- What you will do is to scrape the information of the page using its source code"
   ]
  },
  {
   "cell_type": "markdown",
   "metadata": {
    "slideshow": {
     "slide_type": "slide"
    }
   },
   "source": [
    "### Outline<a id='top'></a>\n",
    "1. [Website Basics](#sec1)\n",
    "2. [Web Scraping](#sec2)\n",
    "    1. [No API + No additional operations](#sec2_1)\n",
    "    2. [No API + Additional operations](#sec2_2)\n",
    "    3. [API](#sec2_3)"
   ]
  },
  {
   "cell_type": "markdown",
   "metadata": {
    "slideshow": {
     "slide_type": "slide"
    }
   },
   "source": [
    "## 1. Website Basics<a id='sec1'></a>\n",
    "- A web page is often made of the following three core technologies.\n",
    "    - HTML (HyperText Markup Language) for structure\n",
    "    - CSS (Cascading Style Sheets) for style\n",
    "    - JavaScript ($\\neq$ Java) for interactive web pages\n",
    "    \n",
    "[back to top](#top)"
   ]
  },
  {
   "cell_type": "markdown",
   "metadata": {
    "slideshow": {
     "slide_type": "subslide"
    }
   },
   "source": [
    "#### HTML\n",
    "- HTML defines the structure of a web page.\n",
    "- A web page is made of many HTML tags. Typical tags are:\n",
    "    - `<html></html>`: Define a page\n",
    "    - `<head></head>`: Container for all the head elements\n",
    "        - `<title></title>`: Title\n",
    "    - `<h1></h1>`, `<h2></h2>`...: Headers\n",
    "    - `<body></body>`: Document's body\n",
    "        - `<div></div>`: A section\n",
    "        - `<p></p>`: A paragraph\n",
    "    - `<br>`: line break\n",
    "    - `<b></b>`: bold\n",
    "- For other tags, see, e.g., [this page](https://www.w3schools.com/html/default.asp).\n",
    "- HTML elements in `<body></body>` are categorized as block and inline elements.\n",
    "    - Block elements: `<div>`, `<h1>`, etc.\n",
    "    - Inline elements: `<br>`, `<b>`, etc."
   ]
  },
  {
   "cell_type": "markdown",
   "metadata": {
    "slideshow": {
     "slide_type": "subslide"
    }
   },
   "source": [
    "#### HTML Example:\n",
    "```html\n",
    "<!DOCTYPE html>\n",
    "<html>\n",
    "    <head>\n",
    "        <title>Christmas songs</title>\n",
    "    </head>\n",
    "    <h1>Christmas songs</h1>\n",
    "    <body>\n",
    "        <div>\n",
    "            <p class=\"title\"><b>Jingle Bells</b></p>\n",
    "            <p class=\"lyrics\">Jingle bells, jingle bells, jingle all the way.\n",
    "                <a href=\"https://encrypted-tbn0.gstatic.com/images?q=tbn%3AANd9GcQCBU3bFIE3cd-v4mNvJJOyuU5EQzGZ5NGiW6jZcZPaiOaMuO3l\" id=\"link1\">Santa Claus</a>\n",
    "            </p>\n",
    "        </div>\n",
    "    </body>\n",
    "</html>\n",
    "```"
   ]
  },
  {
   "cell_type": "markdown",
   "metadata": {
    "slideshow": {
     "slide_type": "subslide"
    }
   },
   "source": [
    "#### CSS\n",
    "- CSS defines the style of a web page.\n",
    "- Typical CSS properties are:\n",
    "    - `background-color`: Background color\n",
    "    - `color`: Color of texts \n",
    "    - `font-family`: Font\n",
    "    - `font-size`: Font size\n",
    "- See, e.g., [this page](https://www.w3schools.com/css/default.asp)."
   ]
  },
  {
   "cell_type": "markdown",
   "metadata": {
    "slideshow": {
     "slide_type": "subslide"
    }
   },
   "source": [
    "#### HTML + CSS Example:\n",
    "```html\n",
    "<!DOCTYPE html>\n",
    "<html>\n",
    "    <head>\n",
    "    <title>Christmas songs</title>\n",
    "    <style>\n",
    "    body {\n",
    "        background-color: green;\n",
    "    }\n",
    "\n",
    "    h1 {\n",
    "        color: red;\n",
    "        text-align: center;\n",
    "        font-family: Comic Sans MS;\n",
    "    }\n",
    "\n",
    "    p {\n",
    "        font-family: Comic Sans MS;\n",
    "        font-size: medium;\n",
    "    }\n",
    "    </style>\n",
    "    </head>\n",
    "    <h1>Christmas songs</h1>\n",
    "    <body>\n",
    "        <div>\n",
    "            <p class=\"title\"><b>Jingle Bells</b></p>\n",
    "            <p class=\"lyrics\">Jingle bells, jingle bells, jingle all the way.\n",
    "                <a href=\"https://encrypted-tbn0.gstatic.com/images?q=tbn%3AANd9GcQCBU3bFIE3cd-v4mNvJJOyuU5EQzGZ5NGiW6jZcZPaiOaMuO3l\" id=\"link1\">Santa Claus</a>\n",
    "            </p>\n",
    "        </div>\n",
    "    </body>\n",
    "</html>\n",
    "```"
   ]
  },
  {
   "cell_type": "markdown",
   "metadata": {
    "slideshow": {
     "slide_type": "subslide"
    }
   },
   "source": [
    "#### JavaScript\n",
    "- JavaScript makes the page more interactive.\n",
    "- See, e.g., [this page](https://www.w3schools.com/js/default.asp)."
   ]
  },
  {
   "cell_type": "markdown",
   "metadata": {
    "slideshow": {
     "slide_type": "subslide"
    }
   },
   "source": [
    "#### HTML + CSS + JavaScript Example:\n",
    "```html\n",
    "<!DOCTYPE html>\n",
    "<html>\n",
    "    <head>\n",
    "    <title>Christmas songs</title>\n",
    "    <style>\n",
    "    body {\n",
    "        background-color: green;\n",
    "    }\n",
    "\n",
    "    h1 {\n",
    "        color: red;\n",
    "        text-align: center;\n",
    "        font-family: Comic Sans MS;\n",
    "    }\n",
    "\n",
    "    p {\n",
    "        font-family: Comic Sans MS;\n",
    "        font-size: medium;\n",
    "    }\n",
    "    </style>\n",
    "    </head>\n",
    "    <h1>Christmas songs</h1>\n",
    "    <body>\n",
    "        <div>\n",
    "            <p class=\"title\"><b>Jingle Bells</b></p>\n",
    "            <p class=\"lyrics\">Jingle bells, jingle bells, jingle all the way.\n",
    "                <a href=\"https://encrypted-tbn0.gstatic.com/images?q=tbn%3AANd9GcQCBU3bFIE3cd-v4mNvJJOyuU5EQzGZ5NGiW6jZcZPaiOaMuO3l\" id=\"link1\">Santa Claus</a>\n",
    "            </p>\n",
    "\t        <button type=\"button\"\n",
    "\t\t\tonclick=\"document.getElementById('time').innerHTML = Date()\">\n",
    "\t\t\tClick here to check the date and time</button>\n",
    "            <p id=\"time\"></p>\n",
    "        </div>\n",
    "    </body>\n",
    "</html>\n",
    "```"
   ]
  },
  {
   "cell_type": "markdown",
   "metadata": {
    "slideshow": {
     "slide_type": "slide"
    }
   },
   "source": [
    "## 2. Web Scraping<a id='sec2'></a>\n",
    "- There are several ways to scrape data from the web.\n",
    "    1. Using Web API (Application Programming Interface)\n",
    "    2. Without using API\n",
    "        - (a) Additional operations are needed\n",
    "            - E.g., writing a password, clicking a button...\n",
    "        - (b) Additional operations are not needed\n",
    "- The following modules/packages are often used for web scraping:\n",
    "    - `BeautifulSoup4` + `requests`\n",
    "    - `Selenium`\n",
    "            \n",
    "[back to top](#top)    "
   ]
  },
  {
   "cell_type": "markdown",
   "metadata": {
    "slideshow": {
     "slide_type": "subslide"
    }
   },
   "source": [
    "###  A. No API + No additional operations<a id='sec2_1'></a>\n",
    "- Your task: Get a table of GDP per capita (PPP adjusted) and country names from a Wikipedia page.\n",
    "- Go to [https://en.wikipedia.org/wiki/List_of_countries_by_GDP_(PPP)_per_capita](https://en.wikipedia.org/wiki/List_of_countries_by_GDP_(PPP)_per_capita).\n",
    "            \n",
    "[back to top](#top)"
   ]
  },
  {
   "cell_type": "code",
   "execution_count": null,
   "metadata": {
    "slideshow": {
     "slide_type": "-"
    }
   },
   "outputs": [],
   "source": [
    "import re\n",
    "import pandas as pd\n",
    "import requests\n",
    "from bs4 import BeautifulSoup"
   ]
  },
  {
   "cell_type": "markdown",
   "metadata": {
    "slideshow": {
     "slide_type": "subslide"
    }
   },
   "source": [
    "- First, get the URL using `requests`.\n",
    "- Then, get the source code using `BeautifulSoup`. \n",
    "- `BeautifulSoup` has four parser libraries but you may often use `\"lxml\"`.\n",
    "    - Other parsers: `\"html.parser\"`, `\"xml\"`, and `\"html5lib\"` (see [https://www.crummy.com/software/BeautifulSoup/bs4/doc/](https://www.crummy.com/software/BeautifulSoup/bs4/doc/))."
   ]
  },
  {
   "cell_type": "code",
   "execution_count": null,
   "metadata": {
    "slideshow": {
     "slide_type": "-"
    }
   },
   "outputs": [],
   "source": [
    "response = requests.get('https://en.wikipedia.org/wiki/List_of_countries_by_GDP_(PPP)_per_capita')\n",
    "soup = BeautifulSoup(response.content, 'lxml')\n",
    "#print(soup.prettify())"
   ]
  },
  {
   "cell_type": "markdown",
   "metadata": {
    "slideshow": {
     "slide_type": "subslide"
    }
   },
   "source": [
    "- Next, access a relevant table whose `'class'` is `'wikitable sortable'`.\n",
    "    - `'table'` tag is for a table (see, e.g., [this page](https://www.w3schools.com/html/html_tables.asp)).\n",
    "    - `'class'` is used to define a name of a group. A similar option is `'id'`. The same `'class'` can be used several times, while an `'id'` can be used only once in a page."
   ]
  },
  {
   "cell_type": "code",
   "execution_count": null,
   "metadata": {
    "slideshow": {
     "slide_type": "-"
    }
   },
   "outputs": [],
   "source": [
    "wiki_table = soup.find_all('table', {'class':'wikitable sortable'}) # tables whose class is 'wikitable sortable'\n",
    "print(wiki_table[0])\n",
    "#print(wiki_table[0].text)"
   ]
  },
  {
   "cell_type": "markdown",
   "metadata": {
    "slideshow": {
     "slide_type": "subslide"
    }
   },
   "source": [
    "- Next, make a list of country names.\n",
    "- To do so, we first find all blocks that contain links (because the blocks also have country names).\n",
    "    - `'a'` means an anchar for a link."
   ]
  },
  {
   "cell_type": "code",
   "execution_count": null,
   "metadata": {
    "slideshow": {
     "slide_type": "-"
    }
   },
   "outputs": [],
   "source": [
    "links = wiki_table[0].find_all('a') # or use `select`, which is a css selector\n",
    "#links = wiki_table[0].find_all('a', text=re.compile(\"J\")) # get all links where the country name contains \"J\"\n",
    "print(len(links)); print(links) \n",
    "#import pprint as pp # print data in a pretty way\n",
    "#pp.pprint(links)"
   ]
  },
  {
   "cell_type": "markdown",
   "metadata": {
    "slideshow": {
     "slide_type": "subslide"
    }
   },
   "source": [
    "- Save the country names as a list using `'title'`."
   ]
  },
  {
   "cell_type": "code",
   "execution_count": null,
   "metadata": {
    "slideshow": {
     "slide_type": "-"
    }
   },
   "outputs": [],
   "source": [
    "name = [] # make a list\n",
    "for link in links:\n",
    "    name.append(link.get('title'))\n",
    "print(name)"
   ]
  },
  {
   "cell_type": "markdown",
   "metadata": {
    "slideshow": {
     "slide_type": "subslide"
    }
   },
   "source": [
    "- Let's make a list of GDP per capita (PPP).\n",
    "- To do so, find all `'td'`'s that contain `'\\n'`.\n",
    "    - HTML: `'td'` is an item in a table.\n",
    "    - `'\\n'` means line break.\n",
    "- Note: If your computer's default language is not Japanese, you may see a backward slash instead of a yen mark. That's fine."
   ]
  },
  {
   "cell_type": "code",
   "execution_count": null,
   "metadata": {
    "slideshow": {
     "slide_type": "-"
    }
   },
   "outputs": [],
   "source": [
    "tds = wiki_table[0].find_all('td')\n",
    "#print(tds)\n",
    "print([item.text for item in tds if re.search('\\n', item.text)])\n",
    "gdppc = [item.text.strip() for item in tds if re.search('\\n', item.text)] # remove '\\n'\n",
    "print(gdppc)"
   ]
  },
  {
   "cell_type": "markdown",
   "metadata": {
    "slideshow": {
     "slide_type": "subslide"
    }
   },
   "source": [
    "- Finally, combine two lists and make data."
   ]
  },
  {
   "cell_type": "code",
   "execution_count": null,
   "metadata": {
    "slideshow": {
     "slide_type": "-"
    }
   },
   "outputs": [],
   "source": [
    "data = pd.DataFrame({'name':name, 'gdppc':gdppc})"
   ]
  },
  {
   "cell_type": "markdown",
   "metadata": {
    "slideshow": {
     "slide_type": "subslide"
    }
   },
   "source": [
    "- Print `data`."
   ]
  },
  {
   "cell_type": "code",
   "execution_count": null,
   "metadata": {
    "slideshow": {
     "slide_type": "-"
    }
   },
   "outputs": [],
   "source": []
  },
  {
   "cell_type": "markdown",
   "metadata": {
    "slideshow": {
     "slide_type": "subslide"
    }
   },
   "source": [
    "### B. No API + Additional operations<a id='sec2_2'></a>\n",
    "- In some cases, you may also need to write a search keyword or password and/or press a button before reaching the page that you want to scrape.\n",
    "- An easy way to automate the entire process is to use the `selenium` package.\n",
    "- To use the package, you need to download a driver for Firefox or Google Chrome or change a setting for Safari.\n",
    "    - [Firefox](https://github.com/mozilla/geckodriver/releases)\n",
    "    - [Google Chrome](https://sites.google.com/a/chromium.org/chromedriver/downloads)\n",
    "    - [Safari](https://developer.apple.com/documentation/webkit/testing_with_webdriver_in_safari)\n",
    "- Notes:\n",
    "    - To check the version of your browser, click \"Help\" and then \"About Firefox/Google Chrome\".\n",
    "    - Once you download a driver, you need to unzip it.\n",
    "    - For Mac users using a driver: If you get an error while using a driver, change the system setting so that Mac can access the driver (see, e.g. https://qiita.com/apukasukabian/items/77832dd42e85ab7aa568 (in Japanese)).   \n",
    "- The following example will use Google Chrome.\n",
    "            \n",
    "[back to top](#top)"
   ]
  },
  {
   "cell_type": "markdown",
   "metadata": {
    "slideshow": {
     "slide_type": "subslide"
    }
   },
   "source": [
    "- Your task: Download \"Adjusted net national income per capita (constant 2010 US$)\" from the World Bank's database.\n",
    "- Go to [https://databank.worldbank.org/source/world-development-indicators](https://databank.worldbank.org/source/world-development-indicators)."
   ]
  },
  {
   "cell_type": "code",
   "execution_count": null,
   "metadata": {
    "slideshow": {
     "slide_type": "-"
    }
   },
   "outputs": [],
   "source": [
    "import numpy as np\n",
    "import pandas as pd\n",
    "from selenium import webdriver\n",
    "from selenium.webdriver.common.keys import Keys\n",
    "from selenium.webdriver.support.ui import WebDriverWait\n",
    "from selenium.webdriver.support import expected_conditions as EC\n",
    "from selenium.webdriver.common.by import By\n",
    "import time as t"
   ]
  },
  {
   "cell_type": "markdown",
   "metadata": {
    "slideshow": {
     "slide_type": "subslide"
    }
   },
   "source": [
    "- Set the location of a driver and open a web page using the driver."
   ]
  },
  {
   "cell_type": "code",
   "execution_count": null,
   "metadata": {
    "slideshow": {
     "slide_type": "-"
    }
   },
   "outputs": [],
   "source": [
    "driver = webdriver.Chrome('C:/Users/shu/Desktop/chromedriver') # set the path to the driver. launch a web browser.\n",
    "driver.get('https://databank.worldbank.org/source/world-development-indicators') # open a page\n",
    "t.sleep(10) # wait 10 seconds (this can be any duration). alternatively, use driver.implicitly_wait()"
   ]
  },
  {
   "cell_type": "markdown",
   "metadata": {
    "slideshow": {
     "slide_type": "subslide"
    }
   },
   "source": [
    "- A useful way of selecting an item in a web page is to use XPath (XML Path Language).\n",
    "- To get an XPath of an item:\n",
    "    - Right click (for Win users) on that item, select \"Inspect Element\" to access the source code of the page.\n",
    "    - Right click (for Win users) on the relevant section of the source code, click \"Copy\", and then \"Copy XPath\" or \"Copy full XPath\".\n",
    "    - The following example uses \"full XPath\"."
   ]
  },
  {
   "cell_type": "markdown",
   "metadata": {
    "slideshow": {
     "slide_type": "subslide"
    }
   },
   "source": [
    "- First, select all countries by clicking a single button."
   ]
  },
  {
   "cell_type": "code",
   "execution_count": null,
   "metadata": {
    "slideshow": {
     "slide_type": "-"
    }
   },
   "outputs": [],
   "source": [
    "path_part = '/html/body/form/div[8]/div[2]/div[1]/div[3]/div[2]/div[1]/div'\n",
    "driver.find_element_by_xpath(path_part+'/div[2]/div[3]/div/div[2]/div/div/div/div/div[1]/div[3]/div[1]/div[1]/div/a[1]/span[1]').click()\n",
    "t.sleep(5)\n",
    "# alternatively, use WebDriverWait(driver, 30).until(EC.element_to_be_clickable((By.XPATH, path_part+'/div[2]/div[3]/div/div[2]/div/div/div/div/div[1]/div[3]/div[1]/div[1]/div/a[1]/span[1]'))).click()"
   ]
  },
  {
   "cell_type": "markdown",
   "metadata": {
    "slideshow": {
     "slide_type": "subslide"
    }
   },
   "source": [
    "- Click \"Series\" tab."
   ]
  },
  {
   "cell_type": "code",
   "execution_count": null,
   "metadata": {
    "slideshow": {
     "slide_type": "-"
    }
   },
   "outputs": [],
   "source": [
    "driver.find_element_by_xpath(path_part+'/div[3]/div[1]/h4/a').click()\n",
    "t.sleep(5) "
   ]
  },
  {
   "cell_type": "markdown",
   "metadata": {
    "slideshow": {
     "slide_type": "subslide"
    }
   },
   "source": [
    "- Write \"income\" and search."
   ]
  },
  {
   "cell_type": "code",
   "execution_count": null,
   "metadata": {
    "slideshow": {
     "slide_type": "-"
    }
   },
   "outputs": [],
   "source": [
    "driver.find_element_by_xpath(path_part+'/div[3]/div[3]/div/div[2]/div/div/div/div/div[1]/div[3]/div[1]/div[2]/div[3]/input').clear() \n",
    "driver.find_element_by_xpath(path_part+'/div[3]/div[3]/div/div[2]/div/div/div/div/div[1]/div[3]/div[1]/div[2]/div[3]/input').send_keys(\"income\")\n",
    "driver.find_element_by_xpath(path_part+'/div[3]/div[3]/div/div[2]/div/div/div/div/div[1]/div[3]/div[1]/div[2]/div[3]/a/span').click()\n",
    "t.sleep(5)\n",
    "# alternatively, use WebDriverWait(driver, 30).until(EC.visibility_of_element_located((By.XPATH, path_part+'/div[3]/div[3]/div/div[2]/div/div/div/div/div[1]/div[3]/div[1]/div[2]/div[3]/input'))).clear()"
   ]
  },
  {
   "cell_type": "markdown",
   "metadata": {
    "slideshow": {
     "slide_type": "subslide"
    }
   },
   "source": [
    "- Check mark a relevant file."
   ]
  },
  {
   "cell_type": "code",
   "execution_count": null,
   "metadata": {
    "slideshow": {
     "slide_type": "-"
    }
   },
   "outputs": [],
   "source": [
    "driver.find_element_by_xpath(path_part+'/div[3]/div[3]/div/div[2]/div/div/div/div/div[1]/div[5]/ul[1]/li[5]/input').click()\n",
    "t.sleep(5)\n",
    "# alternatively, use WebDriverWait(driver, 30).until(EC.element_to_be_clickable((By.XPATH, path_part+'/div[3]/div[3]/div/div[2]/div/div/div/div/div[1]/div[5]/ul[1]/li[5]/input'))).click()"
   ]
  },
  {
   "cell_type": "markdown",
   "metadata": {
    "slideshow": {
     "slide_type": "subslide"
    }
   },
   "source": [
    "- Click \"Time\" tab."
   ]
  },
  {
   "cell_type": "code",
   "execution_count": null,
   "metadata": {
    "slideshow": {
     "slide_type": "-"
    }
   },
   "outputs": [],
   "source": [
    "driver.find_element_by_xpath(path_part+'/div[4]/div[1]/h4/a').click()\n",
    "t.sleep(5)"
   ]
  },
  {
   "cell_type": "markdown",
   "metadata": {
    "slideshow": {
     "slide_type": "subslide"
    }
   },
   "source": [
    "- Select all years."
   ]
  },
  {
   "cell_type": "code",
   "execution_count": null,
   "metadata": {
    "slideshow": {
     "slide_type": "-"
    }
   },
   "outputs": [],
   "source": [
    "driver.find_element_by_xpath(path_part+'/div[4]/div[3]/div/div/div/div/div/div/div[2]/div[3]/div[1]/div[1]/div/a[1]/span[1]').click()\n",
    "t.sleep(10)\n",
    "# alternatively, use WebDriverWait(driver, 30).until(EC.element_to_be_clickable((By.XPATH, path_part+'/div[4]/div[3]/div/div/div/div/div/div/div[2]/div[3]/div[1]/div[1]/div/a[1]/span[1]'))).click()"
   ]
  },
  {
   "cell_type": "markdown",
   "metadata": {
    "slideshow": {
     "slide_type": "subslide"
    }
   },
   "source": [
    "- Click \"Apply Changes\"."
   ]
  },
  {
   "cell_type": "code",
   "execution_count": null,
   "metadata": {
    "slideshow": {
     "slide_type": "-"
    }
   },
   "outputs": [],
   "source": [
    "driver.find_element_by_xpath('/html/body/form/div[8]/div[2]/div[3]/div[7]/div[1]/div[3]/div/a').click()\n",
    "t.sleep(10) "
   ]
  },
  {
   "cell_type": "markdown",
   "metadata": {
    "slideshow": {
     "slide_type": "subslide"
    }
   },
   "source": [
    "- Click \"Download options\"."
   ]
  },
  {
   "cell_type": "code",
   "execution_count": null,
   "metadata": {
    "slideshow": {
     "slide_type": "-"
    }
   },
   "outputs": [],
   "source": [
    "driver.find_element_by_xpath('/html/body/form/div[7]/div[3]/div/ul/li[5]/a').click()\n",
    "t.sleep(10)\n",
    "# alternatively, use WebDriverWait(driver, 30).until(EC.element_to_be_clickable((By.XPATH, '/html/body/form/div[7]/div[3]/div/ul/li[5]/a'))).click()"
   ]
  },
  {
   "cell_type": "markdown",
   "metadata": {
    "slideshow": {
     "slide_type": "subslide"
    }
   },
   "source": [
    "- Choose \"CSV\" format.\n",
    "- Then, download will automatically start."
   ]
  },
  {
   "cell_type": "code",
   "execution_count": null,
   "metadata": {
    "slideshow": {
     "slide_type": "-"
    }
   },
   "outputs": [],
   "source": [
    "driver.find_element_by_xpath('/html/body/form/div[7]/div[3]/div/ul/li[5]/ul/li[2]/a').click()\n",
    "# alternatively, use WebDriverWait(driver, 30).until(EC.element_to_be_clickable((By.XPATH, '/html/body/form/div[7]/div[3]/div/ul/li[5]/ul/li[2]/a'))).click()"
   ]
  },
  {
   "cell_type": "markdown",
   "metadata": {
    "slideshow": {
     "slide_type": "subslide"
    }
   },
   "source": [
    "### 3. API<a id='sec2_3'></a>\n",
    "- Some websites offer an API that accepts your request and returns the data you are looking for.\n",
    "    - Examples: Twitter, Google Maps, weather forecast.\n",
    "    - You should use an API if available (much faster, avoid imposing a high load on a server).\n",
    "- For example, World Bank offers several APIs.\n",
    "- To use the WB's APIs, use the `world_bank_data` package.\n",
    "    - Alternatively, use the `wbdata` package.\n",
    "            \n",
    "[back to top](#top)    "
   ]
  },
  {
   "cell_type": "code",
   "execution_count": null,
   "metadata": {
    "slideshow": {
     "slide_type": "-"
    }
   },
   "outputs": [],
   "source": [
    "import re\n",
    "import world_bank_data as wb\n",
    "import matplotlib.pyplot as plt"
   ]
  },
  {
   "cell_type": "markdown",
   "metadata": {
    "slideshow": {
     "slide_type": "subslide"
    }
   },
   "source": [
    "- First, get the information on all available data."
   ]
  },
  {
   "cell_type": "code",
   "execution_count": null,
   "metadata": {
    "slideshow": {
     "slide_type": "-"
    }
   },
   "outputs": [],
   "source": [
    "wb.get_sources() \n",
    "#wb.get_countries() # get all countries"
   ]
  },
  {
   "cell_type": "markdown",
   "metadata": {
    "slideshow": {
     "slide_type": "subslide"
    }
   },
   "source": [
    "- Select \"World Development Indicators\"."
   ]
  },
  {
   "cell_type": "code",
   "execution_count": null,
   "metadata": {
    "slideshow": {
     "slide_type": "-"
    }
   },
   "outputs": [],
   "source": [
    "wdi = wb.get_indicators(source=2) # select world development indicators\n",
    "print(type(wdi))\n",
    "print(wdi)"
   ]
  },
  {
   "cell_type": "markdown",
   "metadata": {
    "slideshow": {
     "slide_type": "subslide"
    }
   },
   "source": [
    "- Keep time-series data \"Adjusted net national income per capita\" for Japan, the United Kingdom, and the United States.\n",
    "    - `'NY.ADJ.NNTY.PC.KD'` means \"Adjusted net national income per capita (constant 2010 USD)\"."
   ]
  },
  {
   "cell_type": "code",
   "execution_count": null,
   "metadata": {
    "slideshow": {
     "slide_type": "-"
    }
   },
   "outputs": [],
   "source": [
    "df_wdi = wb.get_series('NY.ADJ.NNTY.PC.KD', country=['GB', 'JP', 'US'], simplify_index=True).to_frame() # to_frame() converts serieses to a dataframe\n",
    "print(df_wdi)"
   ]
  },
  {
   "cell_type": "markdown",
   "metadata": {
    "slideshow": {
     "slide_type": "subslide"
    }
   },
   "source": [
    "- Finally, plot the data."
   ]
  },
  {
   "cell_type": "code",
   "execution_count": null,
   "metadata": {
    "slideshow": {
     "slide_type": "-"
    }
   },
   "outputs": [],
   "source": [
    "df_wdi_unstack = df_wdi.unstack(level=0) # unstack data for plot\n",
    "print(df_wdi_unstack)\n",
    "df_wdi_unstack.plot()\n",
    "plt.legend(loc='best')\n",
    "plt.show()"
   ]
  }
 ],
 "metadata": {
  "celltoolbar": "Slideshow",
  "kernelspec": {
   "display_name": "Python 3",
   "language": "python",
   "name": "python3"
  },
  "language_info": {
   "codemirror_mode": {
    "name": "ipython",
    "version": 3
   },
   "file_extension": ".py",
   "mimetype": "text/x-python",
   "name": "python",
   "nbconvert_exporter": "python",
   "pygments_lexer": "ipython3",
   "version": "3.8.3"
  }
 },
 "nbformat": 4,
 "nbformat_minor": 2
}
